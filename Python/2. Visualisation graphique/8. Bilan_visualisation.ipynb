{
 "cells": [
  {
   "cell_type": "markdown",
   "metadata": {},
   "source": [
    "# Matplotlib\n",
    "\n",
    "Tutoriel sur [matplotlib](https://matplotlib.org/)."
   ]
  },
  {
   "cell_type": "markdown",
   "metadata": {},
   "source": [
    "Les librairies de visualisation en python se sont beaucoup développées.\n",
    "\n",
    "La référence reste [matplotlib](http://matplotlib.org/), et la plupart sont pensées pour être intégrées à ses objets (c'est par exemple le cas de [seaborn](https://stanford.edu/~mwaskom/software/seaborn/introduction.html), [mpld3](http://mpld3.github.io/), [plotly](https://plot.ly/) et [bokeh](http://bokeh.pydata.org/en/latest/)). Il est donc utile de commencer par se familiariser avec matplotlib."
   ]
  },
  {
   "cell_type": "markdown",
   "metadata": {},
   "source": [
    "Pour reprendre les termes de ses développeurs : _\"matplotlib is a python 2D plotting library which produces publication quality figures in a variety of hardcopy formats and interactive environments across platforms. matplotlib can be used in python scripts, the python and ipython shell (ala MatLab or mathematica), web application servers, and six graphical user interface toolkits.\"_\n",
    "\n",
    "\n",
    "La structure sous-jacente de matplotlib est très générale et personnalisable (gestion de l'interface utilisateur, possibilité d'intégration dans des applications web, etc.). Heureusement, il n'est pas nécessaire de maîtriser l'ensemble de ces méthodes pour produire un graphe (il existe pas moins de 2840 pages de [documentation](http://matplotlib.org/Matplotlib.pdf)). Pour générer des graphes et les modifier, il suffit de passer par l'interface [pyplot](). \n",
    "\n",
    "L'interface pyplot est inspirée de celle de MATLAB. Ceux qui la connaissent s'y retrouveront rapidement. \n",
    "\n",
    "Pour résumer : \n",
    "- matplotlib - accès \"low level\" à la librairie de visualisation. Utile si vous souhaitez créer votre propre librairie de visualisation python ou faire des choses très custom.\n",
    "- matplotlib.pyplot - interface proche de celle de Matplab pour produire vos graphes\n",
    "- pylab - matplotlib.pyplot + numpy"
   ]
  },
  {
   "cell_type": "markdown",
   "metadata": {},
   "source": [
    "La structure des objets décrits par l'API est très hiérarchique, comme illustré par ce schéma :\n",
    "- \"Figure\" contient l'ensemble de la représentation visuelle. C'est par exemple grâce à cette méta-structure que l'on peut facilement ajouter un titre à une représentation qui contiendrait plusieurs graphes ;\n",
    "- \"Axes\" (ou \"Subplots\") décrit l'ensemble contenant un ou pusieurs graphes (correspond à l'objet subplot et aux méthodes add_subplot)\n",
    "- \"Axis\" correspond aux axes d'un graphique (ou instance de subplot) donné. "
   ]
  },
  {
   "cell_type": "markdown",
   "metadata": {},
   "source": [
    "<img src=\"http://matplotlib.org/_images/fig_map.png\" />"
   ]
  },
  {
   "cell_type": "markdown",
   "metadata": {},
   "source": [
    "Une dernière remarque d'ordre général : [pyplot est une machine à état](https://en.wikipedia.org/wiki/Matplotlib).\n",
    "Cela implique que les méthodes pour tracer un graphe ou éditer un label s'appliquent par défaut au dernier état en cours (dernière instance de subplot ou dernière instance d'axe par exemple). \n",
    "\n",
    "Conséquence : il faut concevoir ses codes comme une séquence d'instructions (par exemple, il ne faut pas séparer les instructions qui se rapportent au même graphique dans deux cellules différentes du Notebook)."
   ]
  },
  {
   "cell_type": "markdown",
   "metadata": {},
   "source": [
    "### Figures et Subplots "
   ]
  },
  {
   "cell_type": "code",
   "execution_count": null,
   "metadata": {},
   "outputs": [],
   "source": [
    "from matplotlib import pyplot as plt\n",
    "plt.figure(figsize=(10,8))\n",
    "plt.subplot(111) # Méthode subplot : pour définir les graphiques appartenant à l'objet figure, ici 1 X 1, indice 1\n",
    "#plt.subplot(1,1,1) fonctionne aussi\n",
    "#attention, il est nécessaire de conserver toutes les instructions d'un même graphique dans le même bloc \n",
    "#pas besoin de plt.show() dans un notebook, sinon c'est nécessaire"
   ]
  },
  {
   "cell_type": "markdown",
   "metadata": {},
   "source": [
    "Un graphique (très) simple avec l'instruction plot."
   ]
  },
  {
   "cell_type": "code",
   "execution_count": null,
   "metadata": {},
   "outputs": [],
   "source": [
    "from numpy import random\n",
    "import numpy as np\n",
    "import pandas as p\n",
    "\n",
    "plt.figure(figsize=(10,8))\n",
    "plt.subplot(111)\n",
    "plt.plot([random.random_sample(1) for i in range(5)])\n",
    "#Il est possible de passer des listes, des arrays de numpy, des Series et des Dataframes de pandas\n",
    "plt.plot(np.array([random.random_sample(1) for i in range(5)]))\n",
    "plt.plot(p.DataFrame(np.array([random.random_sample(1) for i in range(5)])))\n",
    "#pour afficher plusieurs courbes, il suffit de cumuler les instructions plt.plot\n",
    "#plt.show()"
   ]
  },
  {
   "cell_type": "markdown",
   "metadata": {},
   "source": [
    "Pour faire plusieurs sous graphes, il suffit de modifier les valeurs des paramètres de l'objet subplot."
   ]
  },
  {
   "cell_type": "code",
   "execution_count": null,
   "metadata": {},
   "outputs": [],
   "source": [
    "fig = plt.figure(figsize=(15,10))\n",
    "ax1 = fig.add_subplot(2,2,1) #modifie l'objet fig et créé une nouvelle instance de subplot, appelée ax1\n",
    "#vous verrez souvent la convention ax comme instance de subplot : c'est parce que l'on parle aussi d'objet \"Axe\"\n",
    "#à ne pas confondre avec l'objet \"Axis\"\n",
    "ax2 = fig.add_subplot(2,2,2)\n",
    "ax3 = fig.add_subplot(2,2,3)"
   ]
  },
  {
   "cell_type": "markdown",
   "metadata": {},
   "source": [
    "Si aucune instance d'axes n'est précisée, la méthode plot est appliquée à la dernière instance créée."
   ]
  },
  {
   "cell_type": "code",
   "execution_count": null,
   "metadata": {},
   "outputs": [],
   "source": [
    "from numpy.random import randn\n",
    "\n",
    "fig = plt.figure(figsize=(10,8))\n",
    "ax1 = fig.add_subplot(2,2,1)\n",
    "ax2 = fig.add_subplot(2,2,2)\n",
    "ax3 = fig.add_subplot(2,2,3)\n",
    "plt.plot(randn(50).cumsum(),'k--')\n",
    "# plt.show()"
   ]
  },
  {
   "cell_type": "code",
   "execution_count": null,
   "metadata": {},
   "outputs": [],
   "source": [
    "from numpy.random import randn\n",
    "\n",
    "fig = plt.figure(figsize=(15,10))\n",
    "ax1 = fig.add_subplot(2,2,1)\n",
    "ax2 = fig.add_subplot(2,2,2)\n",
    "ax3 = fig.add_subplot(2,2,3)\n",
    "\n",
    "# On peut compléter les instances de sous graphiques par leur contenu.\n",
    "# Au passage, quelques autres exemples de graphes\n",
    "ax1.hist(randn(100),bins=20,color='k',alpha=0.3)\n",
    "ax2.scatter(np.arange(30),np.arange(30)+3*randn(30))\n",
    "ax3.plot(randn(50).cumsum(),'k--')"
   ]
  },
  {
   "cell_type": "markdown",
   "metadata": {},
   "source": [
    "Pour explorer l'ensemble des catégories de graphiques possibles : [Gallery](http://matplotlib.org/gallery.html). Les plus utiles pour l'analyse de données : [scatter](http://matplotlib.org/examples/lines_bars_and_markers/scatter_with_legend.html), [scatterhist](http://matplotlib.org/examples/axes_grid/scatter_hist.html), [barchart](http://matplotlib.org/examples/pylab_examples/barchart_demo.html), [stackplot](http://matplotlib.org/examples/pylab_examples/stackplot_demo.html), [histogram](http://matplotlib.org/examples/statistics/histogram_demo_features.html), [cumulative distribution function](http://matplotlib.org/examples/statistics/histogram_demo_cumulative.html), [boxplot](http://matplotlib.org/examples/statistics/boxplot_vs_violin_demo.html), , [radarchart](http://matplotlib.org/examples/api/radar_chart.html)."
   ]
  },
  {
   "cell_type": "markdown",
   "metadata": {},
   "source": [
    "### Ajuster les espaces entre les graphes"
   ]
  },
  {
   "cell_type": "code",
   "execution_count": null,
   "metadata": {},
   "outputs": [],
   "source": [
    "fig,axes = plt.subplots(2,2,sharex=True,sharey=True)\n",
    "# Sharex et sharey portent bien leurs noms : si True, ils indiquent que les sous-graphiques\n",
    "# ont des axes paramétrés de la même manière\n",
    "for i in range(2):\n",
    "    for j in range(2):\n",
    "        axes[i,j].hist(randn(500),bins=50,color='k',alpha=0.5)\n",
    "# L'objet \"axes\" est un 2darray, simple à indicer et parcourir avec une boucle\n",
    "print(type(axes))\n",
    "\n",
    "# N'h'ésitez pas à faire varier les paramètres qui vous posent question. Par exemple, à quoi sert alpha ?\n",
    "plt.subplots_adjust(wspace=0,hspace=0)\n",
    "# Cette dernière méthode permet de supprimer les espaces entres les sous graphes."
   ]
  },
  {
   "cell_type": "markdown",
   "metadata": {},
   "source": [
    "Pas d'autres choix que de paramétrer à la main pour corriger les chiffres qui se superposent."
   ]
  },
  {
   "cell_type": "markdown",
   "metadata": {},
   "source": [
    "### Couleurs, Marqueurs et styles de ligne"
   ]
  },
  {
   "cell_type": "markdown",
   "metadata": {},
   "source": [
    "MatplotLib offre la possibilité d'adopter deux types d'écriture : chaîne de caractère condensée ou paramétrage explicite via un système clé-valeur."
   ]
  },
  {
   "cell_type": "code",
   "execution_count": null,
   "metadata": {},
   "outputs": [],
   "source": [
    "from numpy.random import randn\n",
    "\n",
    "fig = plt.figure(figsize=(8,6))\n",
    "ax1 = fig.add_subplot(111)\n",
    "ax1.plot(randn(50).cumsum(),color='g',marker='o',linestyle='dashed')\n",
    "# plt.show()"
   ]
  },
  {
   "cell_type": "code",
   "execution_count": null,
   "metadata": {},
   "outputs": [],
   "source": [
    "from numpy.random import randn\n",
    "\n",
    "fig = plt.figure(figsize=(8,6))\n",
    "ax1 = fig.add_subplot(111)\n",
    "ax1.plot(randn(50).cumsum(),'og--') #l'ordre des paramètres n'importe pas"
   ]
  },
  {
   "cell_type": "markdown",
   "metadata": {},
   "source": [
    "Plus de détails dans la documentation sur l'API de matplotlib pour paramétrer la\n",
    "<a href=\"http://matplotlib.org/api/colors_api.html\">\n",
    "couleur\n",
    "</a>\n",
    ", les\n",
    "<a href=\"http://matplotlib.org/api/markers_api.html\">\n",
    "markers\n",
    "</a>\n",
    ", et le\n",
    "<a href=\"http://matplotlib.org/api/lines_api.html#matplotlib.lines.Line2D.set_linestyle\">\n",
    "style des lignes\n",
    "</a>\n",
    ". MatplotLib est compatible avec plusieurs standards de couleur :\n",
    "- sous forme d'une lettre : 'b' = blue (bleu), 'g' = green (vert), 'r' = red (rouge), 'c' = cyan (cyan), 'm' = magenta (magenta), 'y' = yellow (jaune), 'k' = black (noir), 'w' = white (blanc).\n",
    "- sous forme d'un nombre entre 0 et 1 entre quotes qui indique le niveau de gris : par exemple '0.70' ('1' = blanc, '0' = noir).\n",
    "- sous forme d'un nom : par exemple 'red'.\n",
    "- sous forme html avec les niveaux respectifs de rouge (R), vert (G) et bleu (B) : '#ffee00'. Voici un site pratique pour récupérer une couleur en [RGB hexadécimal](http://www.proftnj.com/RGB3.htm). \n",
    "- sous forme d'un triplet de valeurs entre 0 et 1 avec les niveaux de R, G et B : (0.2, 0.9, 0.1)."
   ]
  },
  {
   "cell_type": "code",
   "execution_count": null,
   "metadata": {},
   "outputs": [],
   "source": [
    "from numpy.random import randn\n",
    "\n",
    "fig = plt.figure(figsize=(8,6))\n",
    "ax1 = fig.add_subplot(1,1,1)\n",
    "#avec la norme RGB\n",
    "ax1.plot(randn(50).cumsum(),color='#D0BBFF',marker='o',linestyle='-.')\n",
    "ax1.plot(randn(50).cumsum(),color=(0.8156862745098039, 0.7333333333333333, 1.0),marker='o',linestyle='-.')"
   ]
  },
  {
   "cell_type": "markdown",
   "metadata": {},
   "source": [
    "### Ticks labels et legendes "
   ]
  },
  {
   "cell_type": "markdown",
   "metadata": {},
   "source": [
    "3 méthodes clés : \n",
    "- xlim() : pour délimiter l'étendue des valeurs de l'axe\n",
    "- xticks() : pour passer les graduations sur l'axe\n",
    "- xticklabels() : pour passer les labels\n",
    "\n",
    "Pour l'axe des ordonnées c'est ylim, yticks, yticklabels.\n",
    "\n",
    "Pour récupérer les valeurs fixées : \n",
    "- plt.xlim() ou plt.get_xlim()\n",
    "- plt.xticks() ou plt.get_xticks()\n",
    "- plt.xticklabels() ou plt.get_xticklabels()\n",
    "    \n",
    "Pour fixer ces valeurs :\n",
    "- plt.xlim([start,end]) ou plt.set_xlim([start,end])\n",
    "- plt.xticks(my_ticks_list) ou plt.get_xticks(my_ticks_list)\n",
    "- plt.xticklabels(my_labels_list) ou plt.get_xticklabels(my_labels_list)\n",
    "\n",
    "Si vous voulez customiser les axes de plusieurs sous graphiques, passez par une [instance de axis](http://matplotlib.org/users/artists.html) et non subplot."
   ]
  },
  {
   "cell_type": "code",
   "execution_count": null,
   "metadata": {},
   "outputs": [],
   "source": [
    "from numpy.random import randn\n",
    "\n",
    "fig = plt.figure(figsize=(8,6))\n",
    "ax1 = fig.add_subplot(1,1,1)\n",
    "\n",
    "serie1=randn(50).cumsum()\n",
    "serie2=randn(50).cumsum()\n",
    "serie3=randn(50).cumsum()\n",
    "ax1.plot(serie1,color='#33CCFF',marker='o',linestyle='-.',label='un')\n",
    "ax1.plot(serie2,color='#FF33CC',marker='o',linestyle='-.',label='deux')\n",
    "ax1.plot(serie3,color='#FFCC99',marker='o',linestyle='-.',label='trois')\n",
    "\n",
    "#sur le graphe précédent, pour raccourcir le range\n",
    "ax1.set_xlim([0,21])\n",
    "ax1.set_ylim([-20,20])\n",
    "#faire un ticks avec un pas de 2 (au lieu de 5)\n",
    "ax1.set_xticks(range(0,21,2))\n",
    "#changer le label sur la graduation\n",
    "ax1.set_xticklabels([\"j +\" + str(l) for l in range(0,21,2)])\n",
    "ax1.set_xlabel('Durée après le traitement')\n",
    "\n",
    "ax1.legend(loc='best')\n",
    "#permet de choisir l'endroit le plus vide"
   ]
  },
  {
   "cell_type": "markdown",
   "metadata": {},
   "source": [
    "### Inclusion d'annotation et de texte, titre et libellé des axes "
   ]
  },
  {
   "cell_type": "code",
   "execution_count": null,
   "metadata": {},
   "outputs": [],
   "source": [
    "from numpy.random import randn\n",
    "\n",
    "fig = plt.figure(figsize=(8,6))\n",
    "ax1 = fig.add_subplot(1,1,1)\n",
    "ax1.plot(serie1,color='#33CCFF',marker='o',linestyle='-.',label='un')\n",
    "ax1.plot(serie2,color='#FF33CC',marker='o',linestyle='-.',label='deux')\n",
    "ax1.plot(serie3,color='#FFCC99',marker='o',linestyle='-.',label='trois')\n",
    "\n",
    "ax1.set_xlim([0,21])\n",
    "ax1.set_ylim([-20,20])\n",
    "ax1.set_xticks(range(0,21,2))\n",
    "ax1.set_xticklabels([\"j +\" + str(l) for l in range(0,21,2)])\n",
    "ax1.set_xlabel('Durée après le traitement')\n",
    "\n",
    "ax1.annotate(\"You're here\", xy=(7, 7), #point de départ de la flèche\n",
    "             xytext=(10, 10),          #position du texte\n",
    "            arrowprops=dict(facecolor='#000000', shrink=0.10),\n",
    "            )\n",
    "\n",
    "ax1.legend(loc='best')\n",
    "\n",
    "plt.xlabel(\"Libellé de l'axe des abscisses\")\n",
    "plt.ylabel(\"Libellé de l'axe des ordonnées\")\n",
    "plt.title(\"Une idée de titre ?\")\n",
    "plt.text(5, -10, r'$\\mu=100,\\ \\sigma=15$')\n",
    "\n",
    "plt.show()"
   ]
  },
  {
   "cell_type": "markdown",
   "metadata": {},
   "source": [
    "### matplotlib et le style"
   ]
  },
  {
   "cell_type": "markdown",
   "metadata": {},
   "source": [
    "Il est possible de définir son propre style. Cette possibilité est intéressante si vous faîtes régulièrement les mêmes graphes et voulez définir des templates (plutôt que de copier/coller toujours les mêmes lignes de code). Tout est décrit dans [style_sheets](http://matplotlib.org/users/style_sheets.html)."
   ]
  },
  {
   "cell_type": "code",
   "execution_count": null,
   "metadata": {},
   "outputs": [],
   "source": [
    "from numpy.random import randn\n",
    "\n",
    "#pour que la définition du style soit seulement dans cette cellule notebook\n",
    "with plt.style.context('ggplot'):\n",
    "    fig = plt.figure(figsize=(8,6))\n",
    "    ax1 = fig.add_subplot(1,1,1)\n",
    "    ax1.plot(serie1,color='#33CCFF',marker='o',linestyle='-.',label='un')\n",
    "    ax1.plot(serie2,color='#FF33CC',marker='o',linestyle='-.',label='deux')\n",
    "    ax1.plot(serie3,color='#FFCC99',marker='o',linestyle='-.',label='trois')\n",
    "\n",
    "    ax1.set_xlim([0,21])\n",
    "    ax1.set_ylim([-20,20])\n",
    "    ax1.set_xticks(range(0,21,2))\n",
    "    ax1.set_xticklabels([\"j +\" + str(l) for l in range(0,21,2)])\n",
    "    ax1.set_xlabel('Durée après le traitement')\n",
    "\n",
    "    ax1.annotate(\"You're here\", xy=(7, 7), #point de départ de la flèche\n",
    "                 xytext=(10, 10),          #position du texte\n",
    "                arrowprops=dict(facecolor='#000000', shrink=0.10),\n",
    "                )\n",
    "\n",
    "    ax1.legend(loc='best')\n",
    "\n",
    "    plt.xlabel(\"Libellé de l'axe des abscisses\")\n",
    "    plt.ylabel(\"Libellé de l'axe des ordonnées\")\n",
    "    plt.title(\"Une idée de titre ?\")\n",
    "    plt.text(5, -10, r'$\\mu=100,\\ \\sigma=15$')\n",
    "\n",
    "    #plt.show()"
   ]
  },
  {
   "cell_type": "code",
   "execution_count": null,
   "metadata": {},
   "outputs": [],
   "source": [
    "import numpy as np\n",
    "import matplotlib.pyplot as plt\n",
    "\n",
    "print(\"De nombreux autres styles sont disponibles, pick up your choice! \", plt.style.available)\n",
    "with plt.style.context('dark_background'):\n",
    "    plt.plot(serie1, 'r-o')\n",
    "\n",
    "# plt.show()"
   ]
  },
  {
   "cell_type": "markdown",
   "metadata": {},
   "source": [
    "Comme suggéré dans le nom des styles disponibles dans matplotlib, la librairie seaborn, qui est une sorte de surcouche de matplotlib, est un moyen très pratique d'accéder à des styles pensés et adaptés pour la mise en valeur de pattern dans les données.\n",
    "\n",
    "Voici quelques exemples, toujours sur la même série de données. Je vous invite également à explorer les [palettes de couleurs](https://stanford.edu/~mwaskom/software/seaborn/tutorial/color_palettes.html)."
   ]
  },
  {
   "cell_type": "code",
   "execution_count": null,
   "metadata": {},
   "outputs": [],
   "source": [
    "#on peut remarquer que le style ggplot est resté. \n",
    "import seaborn as sns\n",
    "\n",
    "#5 styles disponibles\n",
    "#sns.set_style(\"whitegrid\")\n",
    "#sns.set_style(\"darkgrid\")\n",
    "#sns.set_style(\"white\")\n",
    "#sns.set_style(\"dark\")\n",
    "#sns.set_style(\"ticks\")\n",
    "\n",
    "#si vous voulez définir un style temporairement\n",
    "with sns.axes_style(\"ticks\"):\n",
    "    fig = plt.figure(figsize=(8,6))\n",
    "    ax1 = fig.add_subplot(1,1,1)\n",
    "    plt.plot(serie1)"
   ]
  },
  {
   "cell_type": "markdown",
   "metadata": {},
   "source": [
    "En dehors du style et des couleurs, Seaborn a mis l'accent sur :\n",
    "- les graphes de distribution ([univariés](https://stanford.edu/~mwaskom/software/seaborn/examples/distplot_options.html#distplot-options) / [bivariés](https://stanford.edu/~mwaskom/software/seaborn/examples/joint_kde.html#joint-kde)). Particulièrement utiles et pratiques : les [pairwiseplot](https://stanford.edu/~mwaskom/software/seaborn/tutorial/distributions.html#visualizing-pairwise-relationships-in-a-dataset)\n",
    "- les graphes de [régression](https://stanford.edu/~mwaskom/software/seaborn/tutorial/regression.html)\n",
    "- les graphes de [variables catégorielles](https://stanford.edu/~mwaskom/software/seaborn/tutorial/categorical.html)\n",
    "- les [heatmap](https://stanford.edu/~mwaskom/software/seaborn/examples/heatmap_annotation.html) sur les matrices de données\n",
    "\n",
    "Seaborn ce sont des graphes pensés pour l'analyse de données et la présentation de rapports à des collègues ou clients. C'est peut-être un peu moins customisable que matplotlib mais vous avez le temps avant de vous sentir limités dans les possibilités."
   ]
  },
  {
   "cell_type": "markdown",
   "metadata": {},
   "source": [
    "# Matplotlib et pandas, interactions avec seaborn"
   ]
  },
  {
   "cell_type": "markdown",
   "metadata": {},
   "source": [
    "Comme vu précédemment, matplotlib permet de manipuler et de représenter sous forme de graphes toutes sortes d'objets : listes, arrays numpy, Series et DataFrame pandas. Inversement, pandas a prévu des méthodes qui intègrent les objets matplotlib les plus utiles pour le tracé de graphiques. Nous allons tester un peu l'intégration [pandas/matplotlib](http://pandas.pydata.org/pandas-docs/stable/visualization.html). D'une amanière générale, tout un [écosystème](http://pandas.pydata.org/pandas-docs/stable/ecosystem.html#ecosystem-visualization) de visualisation s'est développé autour de pandas. Nous allons tester les différentes librairies évoquées.\n",
    "\n",
    "Télécharger les données disponible sur le site de l'INSEE [Naissances, décès et mariages de 1998 à 2013](https://www.insee.fr/fr/statistiques/2407910?sommaire=2117120#titre-bloc-3). On veut les données des mariages, des naissances et des décès pour l'année 2012."
   ]
  },
  {
   "cell_type": "code",
   "execution_count": null,
   "metadata": {},
   "outputs": [],
   "source": [
    "#### Cette cellule permet d'aller télécharger les données sur le site de l'Insee\n",
    "#### puis et de déziper les fichiers ainsi téléchargés\n",
    "import urllib.request\n",
    "import zipfile\n",
    "\n",
    "def download_and_save(name, root_url):\n",
    "    response = urllib.request.urlopen(root_url+name)\n",
    "    with open(\"Tables_bilan/\"+name, \"wb\") as outfile:\n",
    "        outfile.write(response.read())\n",
    "\n",
    "def unzip(name):\n",
    "    with zipfile.ZipFile(name, \"r\") as z:\n",
    "        z.extractall(\"Tables_bilan/\")\n",
    "\n",
    "filenames = [\"etatcivil2012_mar2012_dbase.zip\", \n",
    "             \"etatcivil2012_nais2012_dbase.zip\",\n",
    "             \"etatcivil2012_dec2012_dbase.zip\"]\n",
    "\n",
    "root_url = {'etatcivil2012_mar2012_dbase.zip' :'https://www.insee.fr/fr/statistiques/fichier/2407916/',\n",
    "            'etatcivil2012_nais2012_dbase.zip':'https://www.insee.fr/fr/statistiques/fichier/2407910/',\n",
    "            'etatcivil2012_dec2012_dbase.zip':'https://www.insee.fr/fr/statistiques/fichier/2407913/'}\n",
    "\n",
    "for filename in filenames:\n",
    "    download_and_save(filename, root_url[filename])\n",
    "    unzip(\"Tables_bilan/\"+filename)\n",
    "    print(\"Download of {}: DONE!\".format(filename))"
   ]
  },
  {
   "cell_type": "markdown",
   "metadata": {},
   "source": [
    "Il faut avant toute chose installer le module [dbfread](https://dbfread.readthedocs.io/en/latest/) si ce n'est pas fait car on en a besoin pour lire les tables téléchargées. Pour cela vous pouvez lancer la commande _conda install dbfread_."
   ]
  },
  {
   "cell_type": "code",
   "execution_count": null,
   "metadata": {
    "scrolled": true
   },
   "outputs": [],
   "source": [
    "import pandas as pd\n",
    "from dbfread import DBF\n",
    "\n",
    "def dBase2df(dbase_filename):\n",
    "    table = DBF(dbase_filename, load=True, encoding=\"cp437\")\n",
    "    return pd.DataFrame(table.records)\n",
    "\n",
    "df = dBase2df(\"Tables_bilan/mar2012.dbf\")\n",
    "\n",
    "df.shape, df.columns"
   ]
  },
  {
   "cell_type": "markdown",
   "metadata": {},
   "source": [
    "Dictionnaire des variables."
   ]
  },
  {
   "cell_type": "code",
   "execution_count": null,
   "metadata": {},
   "outputs": [],
   "source": [
    "vardf = dBase2df(\"Tables_bilan/varlist_mariages.dbf\")\n",
    "vardf"
   ]
  },
  {
   "cell_type": "markdown",
   "metadata": {},
   "source": [
    "Représentez l'age des femmes en fonction de celui des hommes au moment du mariage."
   ]
  },
  {
   "cell_type": "code",
   "execution_count": null,
   "metadata": {},
   "outputs": [],
   "source": [
    "#Calcul de l'age (au moment du mariage)\n",
    "df.head()"
   ]
  },
  {
   "cell_type": "code",
   "execution_count": null,
   "metadata": {},
   "outputs": [],
   "source": [
    "#conversion des années en entiers\n",
    "for c in ['AMAR','ANAISF','ANAISH']:\n",
    "    df[c]=df[c].apply(lambda x: int(x))\n",
    "\n",
    "#calcul de l'age\n",
    "df['AGEF'] = df['AMAR'] - df['ANAISF']\n",
    "df['AGEH'] = df['AMAR'] - df['ANAISH']"
   ]
  },
  {
   "cell_type": "markdown",
   "metadata": {},
   "source": [
    "Le module pandas a prévu un [wrapper](http://pandas.pydata.org/pandas-docs/stable/visualization.html) matplotlib"
   ]
  },
  {
   "cell_type": "code",
   "execution_count": null,
   "metadata": {},
   "outputs": [],
   "source": [
    "#version pandas : df.plot()\n",
    "\n",
    "#deux possibilités : l'option kind dans df.plot()\n",
    "df.plot(x='AGEH',y='AGEF',kind='scatter')\n",
    "\n",
    "#ou la méthode scatter()\n",
    "#df.plot.scatter(x='AGEH',y='AGEF')\n",
    "\n",
    "#ensemble des graphiques disponibles dans la méthode plot de pandas : df.plot.<TAB>"
   ]
  },
  {
   "cell_type": "code",
   "execution_count": null,
   "metadata": {},
   "outputs": [],
   "source": [
    "#version matplotlib\n",
    "\n",
    "from matplotlib import pyplot as plt\n",
    "\n",
    "plt.style.use('seaborn-whitegrid')\n",
    "fig = plt.figure(figsize=(8.5,5))\n",
    "ax = fig.add_subplot(1,1,1)\n",
    "ax.scatter(df['AGEH'],df['AGEF'], color=\"blue\", edgecolors='white')\n",
    "plt.xlabel('AGEH')\n",
    "plt.ylabel('AGEH')"
   ]
  },
  {
   "cell_type": "code",
   "execution_count": null,
   "metadata": {},
   "outputs": [],
   "source": [
    "#Si vous voulez les deux graphes en 1, il suffit de reprendre la structure de matplotlib \n",
    "#(notamment l'objet subplot) et de voir comment il peut etre appelé dans \n",
    "#chaque méthode de tracé (df.plot de pandas et sns.plot de searborn)\n",
    "\n",
    "from matplotlib import pyplot as plt\n",
    "\n",
    "plt.style.use('seaborn-whitegrid')\n",
    "fig = plt.figure(figsize=(14,5))\n",
    "\n",
    "ax1 = fig.add_subplot(1,2,1)\n",
    "ax2 = fig.add_subplot(1,2,2)\n",
    "\n",
    "ax1.scatter(df['AGEH'],df['AGEF'], color=\"#3333FF\", edgecolors='#FFFFFF')\n",
    "df.plot(x='AGEH',y='AGEF',kind='scatter',ax=ax2)\n",
    "\n",
    "plt.xlabel('AGEH')\n",
    "plt.ylabel('AGEH')"
   ]
  },
  {
   "cell_type": "markdown",
   "metadata": {},
   "source": [
    "### Exercice 1 : analyser l'âge des hommes en fonction de l'âge des femmes "
   ]
  },
  {
   "cell_type": "code",
   "execution_count": null,
   "metadata": {},
   "outputs": [],
   "source": []
  },
  {
   "cell_type": "markdown",
   "metadata": {},
   "source": [
    "### Exercice 2 : représentez la répartition de la différence d'âge de couples mariés"
   ]
  },
  {
   "cell_type": "code",
   "execution_count": null,
   "metadata": {},
   "outputs": [],
   "source": []
  },
  {
   "cell_type": "markdown",
   "metadata": {},
   "source": [
    "### Exercice 3 : analyser le nombre de mariages par département "
   ]
  },
  {
   "cell_type": "code",
   "execution_count": null,
   "metadata": {},
   "outputs": [],
   "source": []
  },
  {
   "cell_type": "markdown",
   "metadata": {},
   "source": [
    "### Exercice 4 : répartition du nombre de mariages par jour de la semaine"
   ]
  },
  {
   "cell_type": "code",
   "execution_count": null,
   "metadata": {},
   "outputs": [],
   "source": []
  },
  {
   "cell_type": "markdown",
   "metadata": {},
   "source": [
    "---\n",
    "# Aller plus loin\n",
    "---"
   ]
  },
  {
   "cell_type": "markdown",
   "metadata": {},
   "source": [
    "## Graphes interactifs : bokeh"
   ]
  },
  {
   "cell_type": "markdown",
   "metadata": {},
   "source": [
    "Pour faire simple, il est possible d'introduire du JavaScript dans l'application web locale créée par jupyter. C'est ce que fait D3.js. Les librairies interactives comme [bokeh](http://bokeh.pydata.org/en/latest/) ou [altair](https://altair-viz.github.io/) ont associé le design de [matplotlib](https://matplotlib.org/) avec des librairies javascript comme [vega-lite](https://vega.github.io/vega-lite/). L'exemple suivant utilise [bokeh](http://bokeh.pydata.org/en/latest/)."
   ]
  },
  {
   "cell_type": "code",
   "execution_count": null,
   "metadata": {},
   "outputs": [],
   "source": [
    "from bokeh.plotting import figure, show, output_notebook\n",
    "output_notebook()\n",
    "\n",
    "fig = figure()\n",
    "\n",
    "sample = df.sample(500)\n",
    "\n",
    "fig.scatter(sample['AGEH'],sample['AGEF'])\n",
    "fig.xaxis.axis_label = 'AGEH'\n",
    "fig.yaxis.axis_label = 'AGEH'\n",
    "show(fig)"
   ]
  },
  {
   "cell_type": "markdown",
   "metadata": {},
   "source": [
    "La page [callbacks](https://bokeh.pydata.org/en/latest/docs/user_guide/interaction/callbacks.html) montre comment utiliser les interactions utilisateurs. Seul inconvénient, il faut connaître le javascript."
   ]
  },
  {
   "cell_type": "code",
   "execution_count": null,
   "metadata": {},
   "outputs": [],
   "source": [
    "from bokeh.plotting import figure, output_file, show\n",
    "from bokeh.models import ColumnDataSource, HoverTool, CustomJS\n",
    "\n",
    "\n",
    "# define some points and a little graph between them\n",
    "x = [2, 3, 5, 6, 8, 7]\n",
    "y = [6, 4, 3, 8, 7, 5]\n",
    "links = {\n",
    "    0: [1, 2],\n",
    "    1: [0, 3, 4],\n",
    "    2: [0, 5],\n",
    "    3: [1, 4],\n",
    "    4: [1, 3],\n",
    "    5: [2, 3, 4]\n",
    "}\n",
    "\n",
    "p = figure(plot_width=400, plot_height=400, tools=\"\", toolbar_location=None, title='Hover over points')\n",
    "\n",
    "source = ColumnDataSource({'x0': [], 'y0': [], 'x1': [], 'y1': []})\n",
    "sr = p.segment(x0='x0', y0='y0', x1='x1', y1='y1', color='olive', alpha=0.6, line_width=3, source=source, )\n",
    "cr = p.circle(x, y, color='olive', size=30, alpha=0.4, hover_color='olive', hover_alpha=1.0)\n",
    "\n",
    "# Add a hover tool, that sets the link data for a hovered circle\n",
    "code = \"\"\"\n",
    "var links = %s;\n",
    "var data = {'x0': [], 'y0': [], 'x1': [], 'y1': []};\n",
    "var cdata = circle.data;\n",
    "var indices = cb_data.index['1d'].indices;\n",
    "for (i=0; i < indices.length; i++) {\n",
    "    ind0 = indices[i]\n",
    "    for (j=0; j < links[ind0].length; j++) {\n",
    "        ind1 = links[ind0][j];\n",
    "        data['x0'].push(cdata.x[ind0]);\n",
    "        data['y0'].push(cdata.y[ind0]);\n",
    "        data['x1'].push(cdata.x[ind1]);\n",
    "        data['y1'].push(cdata.y[ind1]);\n",
    "    }\n",
    "}\n",
    "segment.data = data;\n",
    "\"\"\" % links\n",
    "\n",
    "callback = CustomJS(args={'circle': cr.data_source, 'segment': sr.data_source}, code=code)\n",
    "p.add_tools(HoverTool(tooltips=None, callback=callback, renderers=[cr]))\n",
    "\n",
    "show(p)"
   ]
  },
  {
   "cell_type": "markdown",
   "metadata": {},
   "source": [
    "## Graphes interactifs : chart-studio et plotly"
   ]
  },
  {
   "cell_type": "markdown",
   "metadata": {},
   "source": [
    "Il faut installer les packages plotly et chart-studio. Pour ça vous pouvez lancer la commande :  \n",
    "_conda install -c plotly chart-studio_"
   ]
  },
  {
   "cell_type": "code",
   "execution_count": null,
   "metadata": {},
   "outputs": [],
   "source": [
    "import chart_studio\n",
    "# il faut créer un username et récupérer la API key sur https://chart-studio.plot.ly/\n",
    "chart_studio.tools.set_credentials_file(username='elka', api_key='jZNGNNeDQ1GzcAx8beHe')"
   ]
  },
  {
   "cell_type": "code",
   "execution_count": null,
   "metadata": {},
   "outputs": [],
   "source": [
    "import pandas as pd\n",
    "import numpy as np\n",
    "\n",
    "#création d'un dataframe de test pour chart-studio\n",
    "indx = ['a', 'b', 'c', 'd', 'e', 'f', 'g', 'h', 'i', 'j']\n",
    "value1 = [0,1,2,3,4,5,6,7,8,9]\n",
    "value2 = [1,5,2,3,7,5,1,8,9,1]\n",
    "\n",
    "df = {'indx': indx, 'value1': value1, 'value2': value2}\n",
    "df = pd.DataFrame(df)\n",
    "df['rate1'] = df.value1 / 100\n",
    "df['rate2'] = df.value2 / 100\n",
    "df = df.set_index('indx')\n",
    "df.head()"
   ]
  },
  {
   "cell_type": "code",
   "execution_count": null,
   "metadata": {},
   "outputs": [],
   "source": [
    "import chart_studio\n",
    "import chart_studio.plotly as py\n",
    "import plotly.graph_objs as go\n",
    "\n",
    "# BARS\n",
    "trace1 = go.Bar(\n",
    "    x = df.index,\n",
    "    y = df.value1,\n",
    "    name='Value1',                          # Bar legend\n",
    "    #orientation = 'h',                     # Uncomment to have horizontal bars\n",
    "    marker = dict(                          # Colors\n",
    "        color = 'rgba(237, 74, 51, 0.6)',\n",
    "        line = dict(\n",
    "            color = 'rgba(237, 74, 51, 0.6)',\n",
    "            width = 3)\n",
    "    ))\n",
    "\n",
    "trace2 = go.Bar(\n",
    "    x = df.index,\n",
    "    y = df.value2,\n",
    "    name='Value 2',\n",
    "    #orientation = 'h',                      \n",
    "    marker = dict(\n",
    "        color = 'rgba(0, 74, 240, 0.4)',\n",
    "        line = dict(\n",
    "            color = 'rgba(0, 74, 240, 0.4)',\n",
    "            width = 3)\n",
    "    ))\n",
    "\n",
    "\n",
    "# SCATTER\n",
    "trace3 = go.Scatter(\n",
    "    x = df.index,\n",
    "    y = df.rate1, \n",
    "    name='Rate',                            \n",
    "    yaxis='y2',                             # Define 2 axis\n",
    "    marker = dict(                          # Colors\n",
    "        color = 'rgba(187, 0, 0, 1)',\n",
    "    ))\n",
    "\n",
    "trace4 = go.Scatter(\n",
    "    x = df.index,\n",
    "    y = df.rate2,\n",
    "    name='Rate2',\n",
    "    yaxis='y2',                             # To have a 2nd axis\n",
    "    marker = dict(                          # Colors\n",
    "        color = 'rgba(0, 74, 240, 0.4)',\n",
    "    ))\n",
    "\n",
    "data = [trace2, trace1, trace3, trace4]\n",
    "\n",
    "layout = go.Layout(\n",
    "    title='Stack bars and scatter',\n",
    "    barmode ='stack',                          # Take value 'stack' or 'group'\n",
    "    xaxis=dict(\n",
    "        autorange=True,\n",
    "        showgrid=False,\n",
    "        zeroline=False,\n",
    "        showline=True,\n",
    "        ticks='',\n",
    "        showticklabels=True\n",
    "    ),\n",
    "    yaxis=dict(                                # Params 1st axis\n",
    "        autorange=True,\n",
    "        showgrid=False,\n",
    "        zeroline=False,\n",
    "        showline=True,\n",
    "        ticks='',\n",
    "        showticklabels=True\n",
    "    ), \n",
    "    yaxis2=dict(                               # Params 2nd axis\n",
    "        overlaying='y',\n",
    "        autorange=True,\n",
    "        showgrid=False,\n",
    "        zeroline=False,\n",
    "        showline=True,\n",
    "        ticks='',\n",
    "        side='right'\n",
    "    ))\n",
    "\n",
    "fig = go.Figure(data=data, layout=layout)\n",
    "py.iplot(fig, filename='marker-h-bar')"
   ]
  },
  {
   "cell_type": "code",
   "execution_count": null,
   "metadata": {},
   "outputs": [],
   "source": [
    "trace5 = go.Scatter(\n",
    "    x = ['h', 'h'],\n",
    "    y = [0,0.09],                        \n",
    "    yaxis='y2',                             # Define 2 axis\n",
    "    showlegend = False,                     # Hiding legend for this trace\n",
    "    marker = dict(                          # Colors\n",
    "        color = 'rgba(46, 138, 24, 1)',\n",
    "    )\n",
    ")\n",
    "\n",
    "from plotly.subplots import make_subplots\n",
    "\n",
    "fig = make_subplots(rows=1, cols=2)\n",
    "\n",
    "# 1st subplot\n",
    "fig.append_trace(trace1, 1, 1)\n",
    "fig.append_trace(trace2, 1, 1)\n",
    "\n",
    "# 2nd subplot\n",
    "fig.append_trace(trace3, 1, 2)\n",
    "fig.append_trace(trace4, 1, 2)\n",
    "fig.append_trace(trace5, 1, 2)              # Vertical line here\n",
    "\n",
    "\n",
    "fig['layout'].update(height=600, width=1000, title='Two in One & Vertical line')\n",
    "py.iplot(fig, filename='make-subplots')"
   ]
  },
  {
   "cell_type": "markdown",
   "metadata": {},
   "source": [
    "## Exercice : utiliser plotly, ou tout autre librairie javascript, pour représenter les informations suivantes : âge moyen, différence d'âge moyenne au moment du mariage et nombre de mariages par département"
   ]
  },
  {
   "cell_type": "code",
   "execution_count": null,
   "metadata": {},
   "outputs": [],
   "source": []
  }
 ],
 "metadata": {
  "anaconda-cloud": {},
  "kernelspec": {
   "display_name": "Python 3",
   "language": "python",
   "name": "python3"
  },
  "language_info": {
   "codemirror_mode": {
    "name": "ipython",
    "version": 3
   },
   "file_extension": ".py",
   "mimetype": "text/x-python",
   "name": "python",
   "nbconvert_exporter": "python",
   "pygments_lexer": "ipython3",
   "version": "3.8.12"
  }
 },
 "nbformat": 4,
 "nbformat_minor": 4
}
