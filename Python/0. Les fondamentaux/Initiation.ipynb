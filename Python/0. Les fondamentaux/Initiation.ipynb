{
 "cells": [
  {
   "cell_type": "markdown",
   "metadata": {},
   "source": [
    "Initiation à ```python```\n",
    "============"
   ]
  },
  {
   "cell_type": "markdown",
   "metadata": {},
   "source": [
    "Sommaire:\n",
    "--------\n",
    "Introduction au langage:\n",
    "- Avantages de python\n",
    "- Racourcis Jupyter\n",
    "- Les types numériques\n",
    "- Les chaînes de caractères\n",
    "- Les bouléens et conditions\n",
    "- Les boucles\n",
    "- Les fonctions\n",
    "- Les listes\n",
    "- Les dictionaires"
   ]
  },
  {
   "cell_type": "markdown",
   "metadata": {},
   "source": [
    "Avantages de ```python```\n",
    "-------------------------\n",
    "* Langage lisible et simple de prise en main\n",
    "* Très utilisé (Youtube est développé en ```python```) avec une communauté active\n",
    "* Open Source\n",
    "* Multi OS\n",
    "* Nombreux packages allant du machine learning au dévelopement web"
   ]
  },
  {
   "cell_type": "markdown",
   "metadata": {},
   "source": [
    "Jupyter\n",
    "--------\n",
    "\n",
    "Jupyter est un service Web permettant de faire des notebooks. Ces notebooks facilitent le développement intéractif et sont de bons outils d'exploration données entre autres.\n",
    "\n",
    "Quelques raccourcis utiles pour l'utilisation de jupyter\n",
    "\n",
    "En mode navigation:\n",
    "* ```Shift + Enter``` : Lancer une cellule \n",
    "* ```Enter``` : Passer en mode édition\n",
    "* ```M``` : Passer la cellule en mode Markdown\n",
    "* ```Y``` : Passer la cellule en mode code\n",
    "* ```A``` : Insérer une cellule Au-dessus (Above)\n",
    "* ```B``` : Insérer une cellule en Bas (Below)\n",
    "* ```O``` : Permet de fermer la sortie d'une cellule, utile quand celui-ci prend trop de place par exemple\n",
    "\n",
    "En mode édition: \n",
    "* ```Shift + Enter``` : Lancer une cellule \n",
    "* ```Esc``` : Retour au mode de navigation entre les cellules\n",
    "* ```Shift``` : Autocomplétion\n",
    "* ```Shift+Tab``` : Documentation/aide de la fonction ou méthode utilisée. Premier ```Tab``` résumé de la documentation, deuxième ```Tab``` documentation complète\n",
    "* ```Alt+flèche``` : Aller au début ou en fin de ligne"
   ]
  },
  {
   "cell_type": "markdown",
   "metadata": {},
   "source": [
    "*N'hésitez pas à modifier le code pour voir ce qu'il se passe*\n",
    "------------------\n",
    "Les types numériques\n",
    "-------"
   ]
  },
  {
   "cell_type": "code",
   "execution_count": null,
   "metadata": {},
   "outputs": [],
   "source": [
    "# On va commencer par assigner une variable\n",
    "a = 1"
   ]
  },
  {
   "cell_type": "code",
   "execution_count": null,
   "metadata": {},
   "outputs": [],
   "source": [
    "# Il suffit de la réindiquer pour voir sa valeur\n",
    "a"
   ]
  },
  {
   "cell_type": "code",
   "execution_count": null,
   "metadata": {},
   "outputs": [],
   "source": [
    "# Une variable peut être réassignée\n",
    "a = 4\n",
    "a"
   ]
  },
  {
   "cell_type": "code",
   "execution_count": null,
   "metadata": {},
   "outputs": [],
   "source": [
    "# De différentes manières\n",
    "a = a + 1 + 1 + 1 + \\\n",
    "1 + 1\n",
    "# Le \\ permet de revenir à la ligne\n",
    "a"
   ]
  },
  {
   "cell_type": "code",
   "execution_count": null,
   "metadata": {},
   "outputs": [],
   "source": [
    "a += 2 * 2 # * pour la multiplication\n",
    "a"
   ]
  },
  {
   "cell_type": "code",
   "execution_count": null,
   "metadata": {},
   "outputs": [],
   "source": [
    "b = 5 ** 2 # ** pour la puissance\n",
    "a = b\n",
    "b"
   ]
  },
  {
   "cell_type": "code",
   "execution_count": null,
   "metadata": {},
   "outputs": [],
   "source": [
    "# il est possible de faire de la multi assignation\n",
    "a, b, c = 1, 5, 10\n",
    "\n",
    "# print() permet d'imprimer dans la console\n",
    "print(c)"
   ]
  },
  {
   "cell_type": "code",
   "execution_count": null,
   "metadata": {},
   "outputs": [],
   "source": [
    "# En plus des integer (int) il y a les float disponibles dans python\n",
    "pi = 3.14\n",
    "pi"
   ]
  },
  {
   "cell_type": "code",
   "execution_count": null,
   "metadata": {
    "scrolled": true
   },
   "outputs": [],
   "source": [
    "# On peut retrouver le type de variable grâce à type()\n",
    "type(a)"
   ]
  },
  {
   "cell_type": "code",
   "execution_count": null,
   "metadata": {},
   "outputs": [],
   "source": [
    "type(pi)"
   ]
  },
  {
   "cell_type": "markdown",
   "metadata": {},
   "source": [
    "Exo 1\n",
    "------\n",
    "Assigner la variable ```preums``` à 125 et ```deuz``` à 15 puis mettre la division dans une troisième variable du nom de votre choix. Imprimer cette variable."
   ]
  },
  {
   "cell_type": "code",
   "execution_count": null,
   "metadata": {},
   "outputs": [],
   "source": []
  },
  {
   "cell_type": "markdown",
   "metadata": {},
   "source": [
    "Les chaînes de caractères\n",
    "----"
   ]
  },
  {
   "cell_type": "code",
   "execution_count": null,
   "metadata": {},
   "outputs": [],
   "source": [
    "# Il y a aussi les string qui sont des chaînes de caractères\n",
    "ma_chaine = 'Bonjour tout le monde !'\n",
    "print(f'Ma première chaîne est : {ma_chaine}')"
   ]
  },
  {
   "cell_type": "code",
   "execution_count": null,
   "metadata": {},
   "outputs": [],
   "source": [
    "# Plusieurs possibilités pour les chaînes de caractères:\n",
    "simple_cote = 'Les simples cotes marchent.'\n",
    "double_cote = \"Les doubles aussi avec la possiblité de mettre les simples 'Comme ceci'.\"\n",
    "triple_double_cote= \"\"\"Les triples sont utiles pour le passage à la ligne\n",
    "dans une même chaîne.\"\"\"\n",
    "echapement = 'L\\'échapement permet d\\'avoir des caractères spéciaux dans une chaîne de caractères.'\n",
    "\n",
    "print(simple_cote)\n",
    "print(double_cote)\n",
    "print(triple_double_cote)\n",
    "print(echapement)\n",
    "print('Le type des chaînes de caractères est:',type(simple_cote))"
   ]
  },
  {
   "cell_type": "code",
   "execution_count": null,
   "metadata": {},
   "outputs": [],
   "source": [
    "# Les string sont des séquences de caractères\n",
    "concatenation = 'On peut donc les' + ' concaténer'\n",
    "multi = 'voire les ' + 'multiplier, ' * 3 + '...'\n",
    "\n",
    "print(concatenation)\n",
    "print(multi)"
   ]
  },
  {
   "cell_type": "code",
   "execution_count": null,
   "metadata": {},
   "outputs": [],
   "source": [
    "# il est possible de faire du formatage de string en utilisant f\" mon string avec {ma_variable}\"\n",
    "je_formate = f\"La variable 'a' a pour valeur {a}\"\n",
    "tu_formates = f\"On peut mettre des strings comme par exemple: {je_formate}\"\n",
    "\n",
    "print(je_formate)\n",
    "print(tu_formates)"
   ]
  },
  {
   "cell_type": "code",
   "execution_count": null,
   "metadata": {},
   "outputs": [],
   "source": [
    "# Les string sont considérés comme des séquences de caractères. \n",
    "# On peut faire de l'extraction d'éléments en utilisant les crochets mon_string[mon_element]\n",
    "# Les éléments commencent à l'indice 0 dans python.\n",
    "\n",
    "mon_string = \"bonjour, appuyer sans cesse sur shift+enter m'épuise\"\n",
    "mon_string[1]"
   ]
  },
  {
   "cell_type": "code",
   "execution_count": null,
   "metadata": {},
   "outputs": [],
   "source": [
    "# On peut récupérer des éléments en commencant par la fin en utilisant l'opérateur -\n",
    "# Par exemple le dernier élément est à l'indice -1\n",
    "\n",
    "mon_string[-1]"
   ]
  },
  {
   "cell_type": "code",
   "execution_count": null,
   "metadata": {},
   "outputs": [],
   "source": [
    "mon_string[-5]"
   ]
  },
  {
   "cell_type": "code",
   "execution_count": null,
   "metadata": {},
   "outputs": [],
   "source": [
    "# Il est possible de récupérer plusieurs élements d'une séquence en utilisant l'opérateur :\n",
    "# Ce concept est appeler \"slicing\"\n",
    "\n",
    "mon_string[2:5]"
   ]
  },
  {
   "cell_type": "code",
   "execution_count": null,
   "metadata": {},
   "outputs": [],
   "source": [
    "# len(mon_string) va permettre de connaître la taille d'un string\n",
    "\n",
    "len(mon_string)"
   ]
  },
  {
   "cell_type": "code",
   "execution_count": null,
   "metadata": {},
   "outputs": [],
   "source": [
    "# On peut récupérer l'ensemble des éléments jusqu'à la fin en utilisant la longueur du string\n",
    "\n",
    "mon_string[42:len(mon_string)]"
   ]
  },
  {
   "cell_type": "code",
   "execution_count": null,
   "metadata": {},
   "outputs": [],
   "source": [
    "# En ne mettant pas d'indice avant ou après le : permet de récupérer l'ensemble des éléments avant ou après l'indice\n",
    "\n",
    "mon_string[42:]"
   ]
  },
  {
   "cell_type": "code",
   "execution_count": null,
   "metadata": {},
   "outputs": [],
   "source": [
    "mon_string[:7]"
   ]
  },
  {
   "cell_type": "code",
   "execution_count": null,
   "metadata": {},
   "outputs": [],
   "source": [
    "# On peut utiliser les indices négatifs pour faire des combinaisons équivalentes\n",
    "\n",
    "mon_string[:-45]"
   ]
  },
  {
   "cell_type": "code",
   "execution_count": null,
   "metadata": {},
   "outputs": [],
   "source": [
    "# Dans les cas impossibles le string retourné est vide\n",
    "\n",
    "mon_string[25:2]"
   ]
  },
  {
   "cell_type": "code",
   "execution_count": null,
   "metadata": {
    "scrolled": true
   },
   "outputs": [],
   "source": [
    "# Il n'est pas possible de modifier un élément d'un string, ceux-ci sont immutables\n",
    "\n",
    "mon_string[0] = 'B'"
   ]
  },
  {
   "cell_type": "code",
   "execution_count": null,
   "metadata": {},
   "outputs": [],
   "source": [
    "# Pour faire un équivalent il faut réassigner mon_string\n",
    "\n",
    "mon_string = 'B' + mon_string[1:]\n",
    "mon_string"
   ]
  },
  {
   "cell_type": "markdown",
   "metadata": {},
   "source": [
    "Exo 2\n",
    "---------\n",
    "Créer un string de votre choix, remplacer les 8ième et 9ième éléments par \"42\" en utilisant le slicing avec l'opérateur ```\":\"``` et la concaténation. Imprimer ce string."
   ]
  },
  {
   "cell_type": "code",
   "execution_count": null,
   "metadata": {},
   "outputs": [],
   "source": []
  },
  {
   "cell_type": "markdown",
   "metadata": {},
   "source": [
    "Bouléens et conditions\n",
    "---------------------"
   ]
  },
  {
   "cell_type": "code",
   "execution_count": null,
   "metadata": {
    "collapsed": true,
    "jupyter": {
     "outputs_hidden": true
    }
   },
   "outputs": [],
   "source": [
    "# pour finir les booléens\n",
    "par_exemple = True\n",
    "ou_pas = False"
   ]
  },
  {
   "cell_type": "code",
   "execution_count": null,
   "metadata": {
    "collapsed": true,
    "jupyter": {
     "outputs_hidden": true
    }
   },
   "outputs": [],
   "source": [
    "# Il y a plusieurs opérateurs pour les conditions\n",
    "a > 0"
   ]
  },
  {
   "cell_type": "code",
   "execution_count": null,
   "metadata": {},
   "outputs": [],
   "source": [
    "a >= 31"
   ]
  },
  {
   "cell_type": "code",
   "execution_count": null,
   "metadata": {},
   "outputs": [],
   "source": [
    "# Egalité\n",
    "a == 15"
   ]
  },
  {
   "cell_type": "code",
   "execution_count": null,
   "metadata": {},
   "outputs": [],
   "source": [
    "# On peut enchaîner les conditions avec des opérateurs and et or respectivement\n",
    "print(\"a = \" + str(a)) # pour concaténer un int avec un string il faut le cast en string en utilisant str()\n",
    "print(a == 12 or a >= 0)\n",
    "print(a == 12 and a >= 0)"
   ]
  },
  {
   "cell_type": "code",
   "execution_count": null,
   "metadata": {},
   "outputs": [],
   "source": [
    "# Les opérateurs & et | nécéssitent des parenthèses pour la séparation des conditions\n",
    "print((a == 12) | (a >= 0))\n",
    "print((a == 12) & (a >= 0))"
   ]
  },
  {
   "cell_type": "code",
   "execution_count": null,
   "metadata": {},
   "outputs": [],
   "source": [
    "# opérateur \"in\" qui permet de voir si un élément est présent dans une séquence, ici un string\n",
    "print('b' in 'bonjour je suis là')"
   ]
  },
  {
   "cell_type": "markdown",
   "metadata": {},
   "source": [
    "Les conditions\n",
    "--------\n",
    "\n",
    "Synthaxe:\n",
    "\n",
    "```python\n",
    "if condition:\n",
    "    code_a_executer()\n",
    "elif autre_condition:\n",
    "    un_autre_code_a_executer()\n",
    "else:\n",
    "    pour_le_reste()\n",
    "```\n",
    "\n",
    "Attention à l'indentation!"
   ]
  },
  {
   "cell_type": "code",
   "execution_count": null,
   "metadata": {},
   "outputs": [],
   "source": [
    "a = 14 * 14\n",
    "b = 15 * 13\n",
    "\n",
    "if a > b:\n",
    "    print(f\"a qui vaut {a} est bien supérieur à b qui vaut {b}\")\n",
    "    print('autre chose')\n",
    "else:\n",
    "    print(\"ou pas\")"
   ]
  },
  {
   "cell_type": "code",
   "execution_count": null,
   "metadata": {},
   "outputs": [],
   "source": [
    "# Une mauvaise indentation ne donnera pas le résultat attendu voire des erreurs\n",
    "if a > b:\n",
    "    print(f\"a qui vaut {a} est bien supérieur à b qui vaut {b}\")\n",
    "else:\n",
    "print(\"ou pas\")"
   ]
  },
  {
   "cell_type": "code",
   "execution_count": null,
   "metadata": {},
   "outputs": [],
   "source": [
    "# Il est possible de mettre une opération if en une seule ligne mais pour plus de lisibilité on préférera utiliser l'indentation\n",
    "ce_nest_pas_super_lisible = 42\n",
    "if ce_nest_pas_super_lisible<50: ce_nest_pas_super_lisible = ce_nest_pas_super_lisible * 1000; print(ce_nest_pas_super_lisible)"
   ]
  },
  {
   "cell_type": "code",
   "execution_count": null,
   "metadata": {},
   "outputs": [],
   "source": [
    "# les elif permettent d'avoir plusieurs conditions qui se suivent\n",
    "variable = 50\n",
    "phrase = \"La DREES c'est cool\"\n",
    "\n",
    "if variable > 100:\n",
    "    variable -= 50\n",
    "    print(f\"Voici ma variable -50: {variable}\")\n",
    "elif variable == 50:\n",
    "    variable = 42\n",
    "    print(f\"Je préfère le nombre {variable}\")\n",
    "else:\n",
    "    print(phrase)"
   ]
  },
  {
   "cell_type": "markdown",
   "metadata": {},
   "source": [
    "Exo 3\n",
    "----------\n",
    "\n",
    "Vérifier que la longueur de ```mon_string``` est bien supérieure à 42, sinon réassigner la variable ```mon_string``` à \"Tant pis\" et imprimer ```mon_string```. Tester avec plusieurs valeurs pour ```mon_string```"
   ]
  },
  {
   "cell_type": "code",
   "execution_count": null,
   "metadata": {},
   "outputs": [],
   "source": []
  },
  {
   "cell_type": "markdown",
   "metadata": {},
   "source": [
    "Les boucles\n",
    "----------\n",
    "Il existe deux types de boucle sous python.\n",
    "\n",
    "Boucle ```while```:\n",
    "\n",
    "```python\n",
    "while condition:\n",
    "    ici_le_code_a_executer()\n",
    "```\n",
    "Les boucles ```while``` vont exécuter le code indenté tant que la condition reste vraie. Attention: les boucles infinies sont courantes avec ces boucles\n",
    "\n",
    "Boucle ```for```:\n",
    "\n",
    "```python\n",
    "for mon_element in une_sequence:\n",
    "    ici_mon_code(mon_element)\n",
    "```\n",
    "\n",
    "Les boucles ```for``` itèrent sur chaque élément d'une séquence. Cet élément est ensuite à disposition dans le code indenté.\n",
    "\n",
    "Il est possible d'interrompre l'exécution d'une cellule en utilisant le bouton avec l'icône stop dans la barre en haut de l'écran"
   ]
  },
  {
   "cell_type": "code",
   "execution_count": null,
   "metadata": {
    "scrolled": true
   },
   "outputs": [],
   "source": [
    "# Il va falloir interompre cette boucle au plus vite. Il faut cliquer sur le carré stop/\"interrupt kernel\" dans la barre \"outils\"\n",
    "import time\n",
    "\n",
    "subliminal = \"\"\n",
    "while True:\n",
    "    time.sleep(1)\n",
    "    subliminal += \"DREES\"\n",
    "    print(subliminal)"
   ]
  },
  {
   "cell_type": "code",
   "execution_count": null,
   "metadata": {},
   "outputs": [],
   "source": [
    "# Voici un exemple de boucle while.\n",
    "indice = 0\n",
    "while indice < 12:\n",
    "    print(mon_string[indice])\n",
    "    indice += 1"
   ]
  },
  {
   "cell_type": "code",
   "execution_count": null,
   "metadata": {
    "scrolled": true
   },
   "outputs": [],
   "source": [
    "# Voici l'équivalent en boucle for\n",
    "# Pour rappel les strings se comportent comme des séquences de caractères\n",
    "for element in mon_string[:12]:\n",
    "    print(element)\n",
    "    \n",
    "# Pour mieux comprendre ce qu'il se passe vous pouvez imprimer mon_string[:12]"
   ]
  },
  {
   "cell_type": "code",
   "execution_count": null,
   "metadata": {},
   "outputs": [],
   "source": [
    "# exemple de comptage d'élement dans un string\n",
    "ceci_est_un_test = \"Ceci est un test\"\n",
    "resultat = 0\n",
    "for el in ceci_est_un_test:\n",
    "    resultat += 1\n",
    "    \n",
    "print(resultat)\n",
    "print(len(ceci_est_un_test))"
   ]
  },
  {
   "cell_type": "code",
   "execution_count": null,
   "metadata": {},
   "outputs": [],
   "source": [
    "# il est possible de combiner les boucles et conditions\n",
    "nombre_do = 0\n",
    "for element in mon_string:\n",
    "    if element == 'o':\n",
    "        nombre_do += 1\n",
    "\n",
    "print(f\"dans mon_string il y a {nombre_do} os\")\n",
    "print(mon_string)"
   ]
  },
  {
   "cell_type": "code",
   "execution_count": null,
   "metadata": {
    "scrolled": true
   },
   "outputs": [],
   "source": [
    "# il est possible d'utiliser les mots clés break et continue pour interrompre des boucles. \n",
    "# Leur utilisation porte à confusion et peut compliquer le code inutilement dans un premier temps\n",
    "# évitez de les utiliser.\n",
    "\n",
    "for element in mon_string:\n",
    "    print(element)\n",
    "    if element == ',':\n",
    "        break"
   ]
  },
  {
   "cell_type": "markdown",
   "metadata": {},
   "source": [
    "Exo 4\n",
    "-------\n",
    "Compter le nombre de voyelles dans ```mon_string```. \n",
    "\n",
    "Indice: Plus haut on avait vu une condition qui permettait de voir si une lettre était présente dans un string."
   ]
  },
  {
   "cell_type": "code",
   "execution_count": null,
   "metadata": {},
   "outputs": [],
   "source": []
  },
  {
   "cell_type": "markdown",
   "metadata": {},
   "source": [
    "Les fonctions\n",
    "----------------"
   ]
  },
  {
   "cell_type": "markdown",
   "metadata": {},
   "source": [
    "Dans ```python``` il est possible de mettre en place des fonctions pour automatiser certaines tâches par exemple. on utilise pour cela le mot clef ```def```\n",
    "\n",
    "```python\n",
    "def ma_fonction(parametre_1, parametre_2):\n",
    "    je_fais_ce_que_je_veux()\n",
    "    return ici_ce_que_je_veux_retourner\n",
    "```\n",
    "\n",
    "Les fonctions peuvent prendre des paramètres. Ceux-ci peuvent avoir des valeurs par défaut. Elles peuvent aussi renvoyer des résultats via ```return```.\n"
   ]
  },
  {
   "cell_type": "code",
   "execution_count": null,
   "metadata": {},
   "outputs": [],
   "source": [
    "# un cas simple\n",
    "def imprimer_42():\n",
    "    print(42)"
   ]
  },
  {
   "cell_type": "code",
   "execution_count": null,
   "metadata": {},
   "outputs": [],
   "source": [
    "# On peut appeler ensuite notre nouvelle méthode comme ci-suit\n",
    "imprimer_42()"
   ]
  },
  {
   "cell_type": "code",
   "execution_count": null,
   "metadata": {},
   "outputs": [],
   "source": [
    "# Il est possible d'avoir des paramètres dans une fonction\n",
    "def imprimer_42_avec_parametre(param):\n",
    "    print(f\"Je n'aime pas trop {param}, je préfère 42\")"
   ]
  },
  {
   "cell_type": "code",
   "execution_count": null,
   "metadata": {},
   "outputs": [],
   "source": [
    "imprimer_42_avec_parametre(14)"
   ]
  },
  {
   "cell_type": "code",
   "execution_count": null,
   "metadata": {},
   "outputs": [],
   "source": [
    "# Une fonction peut retourner une variable\n",
    "def compter_les_voyelles(un_string):\n",
    "    nombre_voyelles = 0\n",
    "    for element in un_string:\n",
    "        if element in 'aeiouy':\n",
    "            nombre_voyelles += 1\n",
    "    return nombre_voyelles"
   ]
  },
  {
   "cell_type": "code",
   "execution_count": null,
   "metadata": {},
   "outputs": [],
   "source": [
    "compter_les_voyelles(\"Bonjour\")"
   ]
  },
  {
   "cell_type": "code",
   "execution_count": null,
   "metadata": {},
   "outputs": [],
   "source": [
    "# Le résultat de tout à l'heure\n",
    "mon_string = \"bonjour, appuyer sans cesse sur shift+enter m'épuise\"\n",
    "compter_les_voyelles(mon_string)"
   ]
  },
  {
   "cell_type": "code",
   "execution_count": null,
   "metadata": {},
   "outputs": [],
   "source": [
    "# Il est possible de donner des valeurs par défaut à certains paramètres\n",
    "def multiplier_par_42_ou_pas(premier_int, deuxieme_int=42):\n",
    "    return premier_int*deuxieme_int"
   ]
  },
  {
   "cell_type": "code",
   "execution_count": null,
   "metadata": {},
   "outputs": [],
   "source": [
    "multiplier_par_42_ou_pas(42)"
   ]
  },
  {
   "cell_type": "code",
   "execution_count": null,
   "metadata": {},
   "outputs": [],
   "source": [
    "# Il est possible de modifier les deux paramètres en indiquant le bon nombre de paramètres\n",
    "\n",
    "multiplier_par_42_ou_pas(3,4)"
   ]
  },
  {
   "cell_type": "code",
   "execution_count": null,
   "metadata": {},
   "outputs": [],
   "source": [
    "# Il est possible d'expliciter les paramètres avec un =\n",
    "\n",
    "multiplier_par_42_ou_pas(12, deuxieme_int=3)"
   ]
  },
  {
   "cell_type": "markdown",
   "metadata": {},
   "source": [
    "Exo 5\n",
    "----------\n",
    "Créer une fonction ```python_c_est_la_vie``` qui prend en paramètre un string ```le_string``` et un chiffre ```n``` par défaut à 5. La fonction va imprimer chaque nième élément du string. \n",
    "\n",
    "Indice: l'opérateur ```\"%\"``` permet d'obtenir le reste de la division euclidienne."
   ]
  },
  {
   "cell_type": "code",
   "execution_count": null,
   "metadata": {},
   "outputs": [],
   "source": []
  },
  {
   "cell_type": "markdown",
   "metadata": {},
   "source": [
    "Les imports\n",
    "-----------"
   ]
  },
  {
   "cell_type": "markdown",
   "metadata": {},
   "source": [
    "Un package que l'on peut traduire par module est une bibliothèque de méthodes ou de classes que l'on peut récupérer dans son code pour l'utiliser. Il existe énormément de packages en python permettant de faire du scraping ou de l'interrogation de base de données voire de la construction de site web. Plus tard dans le notebook, certains packages vont être présentés.\n",
    "\n",
    "Il est possible d'importer un package comme ceci:\n",
    "```python\n",
    "import mon_package\n",
    "```\n",
    "\n",
    "Plusieurs façons d'importer des packages sont possibles."
   ]
  },
  {
   "cell_type": "code",
   "execution_count": null,
   "metadata": {},
   "outputs": [],
   "source": [
    "# on va commencer par importer le package \"math\" qui a un ensemble de fonctions comme par exemple sqrt\n",
    "import math"
   ]
  },
  {
   "cell_type": "code",
   "execution_count": null,
   "metadata": {},
   "outputs": [],
   "source": [
    "# On doit indiquer le module avant la fonction\n",
    "math.sqrt(42)"
   ]
  },
  {
   "cell_type": "code",
   "execution_count": null,
   "metadata": {},
   "outputs": [],
   "source": [
    "# Il est possible de renommer un package pour en faciliter l'utilisation\n",
    "import math as mt"
   ]
  },
  {
   "cell_type": "code",
   "execution_count": null,
   "metadata": {},
   "outputs": [],
   "source": [
    "mt.sqrt(42)"
   ]
  },
  {
   "cell_type": "code",
   "execution_count": null,
   "metadata": {},
   "outputs": [],
   "source": [
    "# On peut aussi importer uniquemet certaines fonctions ou ensemble de fonctions qui nous intéressent\n",
    "# et les utiliser directement ensuite\n",
    "from math import sqrt\n",
    "sqrt(42)"
   ]
  },
  {
   "cell_type": "code",
   "execution_count": null,
   "metadata": {},
   "outputs": [],
   "source": [
    "# Il est possible de récupérer une aide sur une méthode via help(...) ou ... ?\n",
    "help(math.sqrt)"
   ]
  },
  {
   "cell_type": "markdown",
   "metadata": {},
   "source": [
    "En usage avancé de python il est possible de construire ses propres modules."
   ]
  },
  {
   "cell_type": "markdown",
   "metadata": {},
   "source": [
    "Les listes\n",
    "--------------"
   ]
  },
  {
   "cell_type": "markdown",
   "metadata": {},
   "source": [
    "Les listes sont des objets qui peuvent contenir d'autres objets dans un ordre précis. Comme les string ce sont des séquences mais au lieu de caractères ce sont des objets. On peut ainsi y mettre une succession de chiffres, des strings, d'autres listes, ou tout à la fois. Les listes sont définies par des crochets ```[]``` dans python. Comme les string on peut récupérer leurs éléments par indice voire par \"slicing\"."
   ]
  },
  {
   "cell_type": "code",
   "execution_count": null,
   "metadata": {},
   "outputs": [],
   "source": [
    "# On peut initier une liste vide comme ceci\n",
    "ma_premiere_liste = []\n",
    "ma_premiere_liste"
   ]
  },
  {
   "cell_type": "code",
   "execution_count": null,
   "metadata": {},
   "outputs": [],
   "source": [
    "# les listes sont du type list\n",
    "type(ma_premiere_liste)"
   ]
  },
  {
   "cell_type": "code",
   "execution_count": null,
   "metadata": {},
   "outputs": [],
   "source": [
    "# On peut définir directement une liste avec l'ensemble de ses éléments\n",
    "ma_deuxieme_liste = [0,1,2,3,4,5,6,7]\n",
    "ma_deuxieme_liste"
   ]
  },
  {
   "cell_type": "code",
   "execution_count": null,
   "metadata": {},
   "outputs": [],
   "source": [
    "# les objets à l'intérieur d'une liste n'ont pas besoin d'être du même type\n",
    "ma_troisieme_liste = [\"DREES\", 178, \"10-18 place des 5 martyrs du lycée buffon\", 4.7]\n",
    "ma_troisieme_liste"
   ]
  },
  {
   "cell_type": "code",
   "execution_count": null,
   "metadata": {},
   "outputs": [],
   "source": [
    "# Comme dans les string ont peut récupérer les éléments de la liste via leur indice ou par slicing\n",
    "ma_deuxieme_liste[2]"
   ]
  },
  {
   "cell_type": "code",
   "execution_count": null,
   "metadata": {},
   "outputs": [],
   "source": [
    "ma_deuxieme_liste[2:-2]"
   ]
  },
  {
   "cell_type": "code",
   "execution_count": null,
   "metadata": {},
   "outputs": [],
   "source": [
    "# Contrairement aux strings les listes sont mutables, on peut modifier les éléments de la liste, en ajouter, en supprimer\n",
    "ma_deuxieme_liste[0] = 42\n",
    "ma_deuxieme_liste"
   ]
  },
  {
   "cell_type": "code",
   "execution_count": null,
   "metadata": {},
   "outputs": [],
   "source": [
    "# la méthode .append(élément) permet d'ajouter des élements en fin de liste\n",
    "ma_deuxieme_liste.append(42)\n",
    "# A noter que contrairement au string on a pas besoin de réassigner la variable ma_deuxieme_liste à ma_deuxieme_liste.append(42)\n",
    "# ma_deuxieme_liste est modifiée directement"
   ]
  },
  {
   "cell_type": "code",
   "execution_count": null,
   "metadata": {},
   "outputs": [],
   "source": [
    "ma_deuxieme_liste"
   ]
  },
  {
   "cell_type": "code",
   "execution_count": null,
   "metadata": {},
   "outputs": [],
   "source": [
    "# .insert(indice, élément) permet d'ajouter un élément à l'indice désiré\n",
    "ma_deuxieme_liste.insert(5, 'jpp')\n",
    "ma_deuxieme_liste"
   ]
  },
  {
   "cell_type": "code",
   "execution_count": null,
   "metadata": {},
   "outputs": [],
   "source": [
    "# on peut supprimer des éléments soit par indice avec del\n",
    "del ma_deuxieme_liste[0] # suppresion du premier élément\n",
    "ma_deuxieme_liste"
   ]
  },
  {
   "cell_type": "code",
   "execution_count": null,
   "metadata": {},
   "outputs": [],
   "source": [
    "# ou la méthode .pop(indice)\n",
    "ma_deuxieme_liste.pop(0)\n",
    "ma_deuxieme_liste"
   ]
  },
  {
   "cell_type": "code",
   "execution_count": null,
   "metadata": {},
   "outputs": [],
   "source": [
    "# soit par valeur avec .remove(élément)\n",
    "ma_deuxieme_liste.remove(42)\n",
    "ma_deuxieme_liste.remove('jpp')\n",
    "ma_deuxieme_liste"
   ]
  },
  {
   "cell_type": "code",
   "execution_count": null,
   "metadata": {},
   "outputs": [],
   "source": [
    "# Attention .remove ne supprime que le premier élément de la liste avec la valeur que l'on veut remove\n",
    "des_uns = [1,1,1,1]\n",
    "des_uns.remove(1)\n",
    "des_uns"
   ]
  },
  {
   "cell_type": "code",
   "execution_count": null,
   "metadata": {},
   "outputs": [],
   "source": [
    "# Comme les string on peut concaténer ou multiplier des listes\n",
    "ma_deuxieme_liste + ma_troisieme_liste"
   ]
  },
  {
   "cell_type": "code",
   "execution_count": null,
   "metadata": {},
   "outputs": [],
   "source": [
    "ma_deuxieme_liste * 2"
   ]
  },
  {
   "cell_type": "code",
   "execution_count": null,
   "metadata": {},
   "outputs": [],
   "source": [
    "# .extend(list) permet de faire l'équivalent d'un += pour une liste\n",
    "ma_deuxieme_liste"
   ]
  },
  {
   "cell_type": "code",
   "execution_count": null,
   "metadata": {},
   "outputs": [],
   "source": [
    "ma_deuxieme_liste.extend(ma_troisieme_liste)\n",
    "ma_deuxieme_liste"
   ]
  },
  {
   "cell_type": "code",
   "execution_count": null,
   "metadata": {},
   "outputs": [],
   "source": [
    "# On peut parcourir les éléments d'une liste par une boucle for comme on l'a vu dans le cas des strings\n",
    "for element in ma_deuxieme_liste:\n",
    "    print(element)"
   ]
  },
  {
   "cell_type": "code",
   "execution_count": null,
   "metadata": {},
   "outputs": [],
   "source": [
    "while len(ma_deuxieme_liste)>1:\n",
    "    ma_deuxieme_liste.pop() # par défaut pop supprime le dernier élément\n",
    "    print(ma_deuxieme_liste)"
   ]
  },
  {
   "cell_type": "code",
   "execution_count": null,
   "metadata": {},
   "outputs": [],
   "source": [
    "# la méthode enumerate peut être utile pour récupérer à la fois un élément d'une liste mais aussi son indice\n",
    "for double in enumerate(ma_troisieme_liste):\n",
    "    print(double)"
   ]
  },
  {
   "cell_type": "code",
   "execution_count": null,
   "metadata": {},
   "outputs": [],
   "source": [
    "# on peut récupérer ces deux variables proprement comme ceci :\n",
    "for indice, element in enumerate(ma_troisieme_liste):\n",
    "    print(f\"Indice: {indice}, élément: {element}\")"
   ]
  },
  {
   "cell_type": "code",
   "execution_count": null,
   "metadata": {
    "scrolled": true
   },
   "outputs": [],
   "source": [
    "# Il est possible de faire des modifications de liste ou filtrage de liste via \n",
    "# des compréhensions de listes. La synthaxe se fait entre []\n",
    "# Ci-suit un exemple pour faire deux fois la même chose via une boucle ou une compréhension de liste\n",
    "liste_origine = [1,2,3,4,5,6,7,8]\n",
    "resultat = []\n",
    "for element in liste_origine:\n",
    "    resultat.append(element * element) # on crée une liste dont les élément sont le carré de liste_origine\n",
    "\n",
    "resultat_cl = [element * element for element in liste_origine]\n",
    "\n",
    "print(f\"resultat: {resultat}\")\n",
    "print(f\"resultat_cl: {resultat_cl}\")"
   ]
  },
  {
   "cell_type": "code",
   "execution_count": null,
   "metadata": {},
   "outputs": [],
   "source": [
    "# Il est possible de faire du filtrage aussi\n",
    "resultat = []\n",
    "for element in liste_origine:\n",
    "    if element%2==0: #Si l'élément est pair on l'ajoute à la liste  \n",
    "        resultat.append(element)\n",
    "\n",
    "resultat_cl = [element for element in liste_origine if element%2 == 0]\n",
    "\n",
    "print(f\"resultat: {resultat}\")\n",
    "print(f\"resultat_cl: {resultat_cl}\")"
   ]
  },
  {
   "cell_type": "markdown",
   "metadata": {},
   "source": [
    "Exo 6\n",
    "-------"
   ]
  },
  {
   "cell_type": "markdown",
   "metadata": {},
   "source": [
    "À partir de la liste ```poprock``` ajouter les années d'activité qui suivent la virgule dans une liste ```annees_actives```. Imprimer chaque élément de ```annees_actives```. \n",
    "\n",
    "_Indice_: Plusieurs manières de le faire, une bonne idée est d'utiliser la méthode ```.split()``` des strings. Pour voir la doc: ```help(str.split)```"
   ]
  },
  {
   "cell_type": "code",
   "execution_count": null,
   "metadata": {},
   "outputs": [],
   "source": [
    "poprock = [\"The Beatles, 1960-1970\", \n",
    "           \"The Rolling Stones, depuis 1962\", \n",
    "           \"Pink Floyd, 1965-1995\", \n",
    "           \"Led Zeppelin, 1968-1980\",\n",
    "           \"The Who, 1964-1983\",\n",
    "           \"Queen, depuis 1971\",\n",
    "           \"Depeche Mode, depuis 1980\", \n",
    "           \"Radiohead, depuis 1985\", \n",
    "           \"The Smiths, 1982-1987\",\n",
    "           \"The Libertines, 1997-2004\", \n",
    "           \"Arctic Monkeys, 2002-2014\"]"
   ]
  },
  {
   "cell_type": "code",
   "execution_count": null,
   "metadata": {},
   "outputs": [],
   "source": []
  },
  {
   "cell_type": "markdown",
   "metadata": {},
   "source": [
    "Les dictionaires\n",
    "-----------------"
   ]
  },
  {
   "cell_type": "markdown",
   "metadata": {},
   "source": [
    "Les dictionaires sont comme les listes des objets contenant d'autres objets. À la différence des listes il n'y a pas d'ordre. Les données dans un dictionaire sont dans un format clé-valeur. Une clé va permettre de retrouver une valeur qui peut être de plusieurs types. Les crochets ```{}``` permettent de définir des dictionaires."
   ]
  },
  {
   "cell_type": "code",
   "execution_count": null,
   "metadata": {},
   "outputs": [],
   "source": [
    "# on peut initialiser un dictionaire comme ci-suit\n",
    "mon_premier_dict = {}"
   ]
  },
  {
   "cell_type": "code",
   "execution_count": null,
   "metadata": {},
   "outputs": [],
   "source": [
    "# On peut ajouter des éléments au dictionaire\n",
    "mon_premier_dict[\"mon prénom\"] = \"Bob\"\n",
    "mon_premier_dict[\"mot de passe\"] = \"*******\"\n",
    "mon_premier_dict"
   ]
  },
  {
   "cell_type": "code",
   "execution_count": null,
   "metadata": {},
   "outputs": [],
   "source": [
    "# en modifiant la valeur à une clé on perd la version précédente\n",
    "mon_premier_dict[\"mot de passe\"] = \"1234\"\n",
    "mon_premier_dict"
   ]
  },
  {
   "cell_type": "code",
   "execution_count": null,
   "metadata": {},
   "outputs": [],
   "source": [
    "# On peut récupérer un élément du dictionaire via une clé\n",
    "mon_premier_dict[\"mon prénom\"]"
   ]
  },
  {
   "cell_type": "code",
   "execution_count": null,
   "metadata": {},
   "outputs": [],
   "source": [
    "# on peut initialiser directement un dictionaire via les {}\n",
    "mon_deuxieme_dict = {\n",
    "    \"prenom\": \"Charles\",\n",
    "    \"nom\": \"V\",\n",
    "    \"ville\": \"Paris\",\n",
    "    \"cp\": 75018,\n",
    "    \"nombre de vaches\": 3.14,\n",
    "    \"mois\": \"Novembre\"\n",
    "}\n",
    "mon_deuxieme_dict"
   ]
  },
  {
   "cell_type": "code",
   "execution_count": null,
   "metadata": {},
   "outputs": [],
   "source": [
    "# Comme une liste on peu supprimer une valeur via del ou .pop(clé)\n",
    "mon_deuxieme_dict.pop(\"prenom\")"
   ]
  },
  {
   "cell_type": "code",
   "execution_count": null,
   "metadata": {},
   "outputs": [],
   "source": [
    "# A noter que pop renvoie la valeur qui vient d'être supprimée\n",
    "mon_deuxieme_dict"
   ]
  },
  {
   "cell_type": "code",
   "execution_count": null,
   "metadata": {},
   "outputs": [],
   "source": [
    "# On peut parcourir une liste grâce à la boucle for. A noter que les dictionaire n'ont pas de structure ordonnée\n",
    "for cle in mon_deuxieme_dict:\n",
    "    print(cle)"
   ]
  },
  {
   "cell_type": "code",
   "execution_count": null,
   "metadata": {},
   "outputs": [],
   "source": [
    "# Par défaut en parcourant un dictionaire, on obtient les clés, un équivalent:\n",
    "for cle in mon_deuxieme_dict.keys():\n",
    "    print(cle)\n"
   ]
  },
  {
   "cell_type": "code",
   "execution_count": null,
   "metadata": {},
   "outputs": [],
   "source": [
    "# pour le parcours des valeurs\n",
    "for valeur in mon_deuxieme_dict.values():\n",
    "    print(valeur)"
   ]
  },
  {
   "cell_type": "code",
   "execution_count": null,
   "metadata": {},
   "outputs": [],
   "source": [
    "# et les deux d'un coup via items()\n",
    "for cle, valeur in mon_deuxieme_dict.items():\n",
    "    print (f\"la clé: {cle} | la valeur: {valeur}\")"
   ]
  },
  {
   "cell_type": "markdown",
   "metadata": {},
   "source": [
    "Exo 7\n",
    "-------------\n",
    "A partir de la liste ```poprock``` créer un dictionaire contenant en clé le nom du groupe et en valeur les dates d'activité. Imprimer chaque élément de ce dictionaire."
   ]
  },
  {
   "cell_type": "code",
   "execution_count": null,
   "metadata": {},
   "outputs": [],
   "source": []
  }
 ],
 "metadata": {
  "kernelspec": {
   "display_name": "Python 3",
   "language": "python",
   "name": "python3"
  },
  "language_info": {
   "codemirror_mode": {
    "name": "ipython",
    "version": 3
   },
   "file_extension": ".py",
   "mimetype": "text/x-python",
   "name": "python",
   "nbconvert_exporter": "python",
   "pygments_lexer": "ipython3",
   "version": "3.8.11"
  }
 },
 "nbformat": 4,
 "nbformat_minor": 4
}
