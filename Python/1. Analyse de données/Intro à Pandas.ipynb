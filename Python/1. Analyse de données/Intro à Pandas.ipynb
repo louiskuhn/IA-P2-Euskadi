{
 "cells": [
  {
   "cell_type": "markdown",
   "metadata": {},
   "source": [
    "# Introduction à la libraire Pandas"
   ]
  },
  {
   "cell_type": "markdown",
   "metadata": {},
   "source": [
    "DataFrame : structure de données équivalente à un numpy.array avec des fonctionnalités en plus"
   ]
  },
  {
   "cell_type": "markdown",
   "metadata": {},
   "source": [
    "Avantages de Pandas :\n",
    " - pas de restriction à un seul type de données\n",
    " - gestion des NaN simplifié\n",
    " - extraction de valeurs et de sous-ensembles facile"
   ]
  },
  {
   "cell_type": "markdown",
   "metadata": {},
   "source": [
    "## Généralités"
   ]
  },
  {
   "cell_type": "code",
   "execution_count": 1,
   "metadata": {},
   "outputs": [],
   "source": [
    "import pandas as pd"
   ]
  },
  {
   "cell_type": "code",
   "execution_count": 2,
   "metadata": {},
   "outputs": [
    {
     "data": {
      "text/html": [
       "<div>\n",
       "<style scoped>\n",
       "    .dataframe tbody tr th:only-of-type {\n",
       "        vertical-align: middle;\n",
       "    }\n",
       "\n",
       "    .dataframe tbody tr th {\n",
       "        vertical-align: top;\n",
       "    }\n",
       "\n",
       "    .dataframe thead th {\n",
       "        text-align: right;\n",
       "    }\n",
       "</style>\n",
       "<table border=\"1\" class=\"dataframe\">\n",
       "  <thead>\n",
       "    <tr style=\"text-align: right;\">\n",
       "      <th></th>\n",
       "      <th>NDB_No</th>\n",
       "      <th>Shrt_Desc</th>\n",
       "      <th>Water_(g)</th>\n",
       "      <th>Energ_Kcal</th>\n",
       "      <th>Protein_(g)</th>\n",
       "      <th>Lipid_Tot_(g)</th>\n",
       "      <th>Ash_(g)</th>\n",
       "      <th>Carbohydrt_(g)</th>\n",
       "      <th>Fiber_TD_(g)</th>\n",
       "      <th>Sugar_Tot_(g)</th>\n",
       "      <th>...</th>\n",
       "      <th>Vit_A_IU</th>\n",
       "      <th>Vit_A_RAE</th>\n",
       "      <th>Vit_E_(mg)</th>\n",
       "      <th>Vit_D_mcg</th>\n",
       "      <th>Vit_D_IU</th>\n",
       "      <th>Vit_K_(mcg)</th>\n",
       "      <th>FA_Sat_(g)</th>\n",
       "      <th>FA_Mono_(g)</th>\n",
       "      <th>FA_Poly_(g)</th>\n",
       "      <th>Cholestrl_(mg)</th>\n",
       "    </tr>\n",
       "  </thead>\n",
       "  <tbody>\n",
       "    <tr>\n",
       "      <th>0</th>\n",
       "      <td>1001</td>\n",
       "      <td>BUTTER WITH SALT</td>\n",
       "      <td>15.87</td>\n",
       "      <td>717</td>\n",
       "      <td>0.85</td>\n",
       "      <td>81.11</td>\n",
       "      <td>2.11</td>\n",
       "      <td>0.06</td>\n",
       "      <td>0.0</td>\n",
       "      <td>0.06</td>\n",
       "      <td>...</td>\n",
       "      <td>2499.0</td>\n",
       "      <td>684.0</td>\n",
       "      <td>2.32</td>\n",
       "      <td>1.5</td>\n",
       "      <td>60.0</td>\n",
       "      <td>7.0</td>\n",
       "      <td>51.368</td>\n",
       "      <td>21.021</td>\n",
       "      <td>3.043</td>\n",
       "      <td>215.0</td>\n",
       "    </tr>\n",
       "    <tr>\n",
       "      <th>1</th>\n",
       "      <td>1002</td>\n",
       "      <td>BUTTER WHIPPED WITH SALT</td>\n",
       "      <td>15.87</td>\n",
       "      <td>717</td>\n",
       "      <td>0.85</td>\n",
       "      <td>81.11</td>\n",
       "      <td>2.11</td>\n",
       "      <td>0.06</td>\n",
       "      <td>0.0</td>\n",
       "      <td>0.06</td>\n",
       "      <td>...</td>\n",
       "      <td>2499.0</td>\n",
       "      <td>684.0</td>\n",
       "      <td>2.32</td>\n",
       "      <td>1.5</td>\n",
       "      <td>60.0</td>\n",
       "      <td>7.0</td>\n",
       "      <td>50.489</td>\n",
       "      <td>23.426</td>\n",
       "      <td>3.012</td>\n",
       "      <td>219.0</td>\n",
       "    </tr>\n",
       "    <tr>\n",
       "      <th>2</th>\n",
       "      <td>1003</td>\n",
       "      <td>BUTTER OIL ANHYDROUS</td>\n",
       "      <td>0.24</td>\n",
       "      <td>876</td>\n",
       "      <td>0.28</td>\n",
       "      <td>99.48</td>\n",
       "      <td>0.00</td>\n",
       "      <td>0.00</td>\n",
       "      <td>0.0</td>\n",
       "      <td>0.00</td>\n",
       "      <td>...</td>\n",
       "      <td>3069.0</td>\n",
       "      <td>840.0</td>\n",
       "      <td>2.80</td>\n",
       "      <td>1.8</td>\n",
       "      <td>73.0</td>\n",
       "      <td>8.6</td>\n",
       "      <td>61.924</td>\n",
       "      <td>28.732</td>\n",
       "      <td>3.694</td>\n",
       "      <td>256.0</td>\n",
       "    </tr>\n",
       "    <tr>\n",
       "      <th>3</th>\n",
       "      <td>1004</td>\n",
       "      <td>CHEESE BLUE</td>\n",
       "      <td>42.41</td>\n",
       "      <td>353</td>\n",
       "      <td>21.40</td>\n",
       "      <td>28.74</td>\n",
       "      <td>5.11</td>\n",
       "      <td>2.34</td>\n",
       "      <td>0.0</td>\n",
       "      <td>0.50</td>\n",
       "      <td>...</td>\n",
       "      <td>721.0</td>\n",
       "      <td>198.0</td>\n",
       "      <td>0.25</td>\n",
       "      <td>0.5</td>\n",
       "      <td>21.0</td>\n",
       "      <td>2.4</td>\n",
       "      <td>18.669</td>\n",
       "      <td>7.778</td>\n",
       "      <td>0.800</td>\n",
       "      <td>75.0</td>\n",
       "    </tr>\n",
       "    <tr>\n",
       "      <th>4</th>\n",
       "      <td>1005</td>\n",
       "      <td>CHEESE BRICK</td>\n",
       "      <td>41.11</td>\n",
       "      <td>371</td>\n",
       "      <td>23.24</td>\n",
       "      <td>29.68</td>\n",
       "      <td>3.18</td>\n",
       "      <td>2.79</td>\n",
       "      <td>0.0</td>\n",
       "      <td>0.51</td>\n",
       "      <td>...</td>\n",
       "      <td>1080.0</td>\n",
       "      <td>292.0</td>\n",
       "      <td>0.26</td>\n",
       "      <td>0.5</td>\n",
       "      <td>22.0</td>\n",
       "      <td>2.5</td>\n",
       "      <td>18.764</td>\n",
       "      <td>8.598</td>\n",
       "      <td>0.784</td>\n",
       "      <td>94.0</td>\n",
       "    </tr>\n",
       "  </tbody>\n",
       "</table>\n",
       "<p>5 rows × 36 columns</p>\n",
       "</div>"
      ],
      "text/plain": [
       "   NDB_No                 Shrt_Desc  Water_(g)  Energ_Kcal  Protein_(g)  \\\n",
       "0    1001          BUTTER WITH SALT      15.87         717         0.85   \n",
       "1    1002  BUTTER WHIPPED WITH SALT      15.87         717         0.85   \n",
       "2    1003      BUTTER OIL ANHYDROUS       0.24         876         0.28   \n",
       "3    1004               CHEESE BLUE      42.41         353        21.40   \n",
       "4    1005              CHEESE BRICK      41.11         371        23.24   \n",
       "\n",
       "   Lipid_Tot_(g)  Ash_(g)  Carbohydrt_(g)  Fiber_TD_(g)  Sugar_Tot_(g)  ...  \\\n",
       "0          81.11     2.11            0.06           0.0           0.06  ...   \n",
       "1          81.11     2.11            0.06           0.0           0.06  ...   \n",
       "2          99.48     0.00            0.00           0.0           0.00  ...   \n",
       "3          28.74     5.11            2.34           0.0           0.50  ...   \n",
       "4          29.68     3.18            2.79           0.0           0.51  ...   \n",
       "\n",
       "   Vit_A_IU  Vit_A_RAE  Vit_E_(mg)  Vit_D_mcg  Vit_D_IU  Vit_K_(mcg)  \\\n",
       "0    2499.0      684.0        2.32        1.5      60.0          7.0   \n",
       "1    2499.0      684.0        2.32        1.5      60.0          7.0   \n",
       "2    3069.0      840.0        2.80        1.8      73.0          8.6   \n",
       "3     721.0      198.0        0.25        0.5      21.0          2.4   \n",
       "4    1080.0      292.0        0.26        0.5      22.0          2.5   \n",
       "\n",
       "   FA_Sat_(g)  FA_Mono_(g)  FA_Poly_(g)  Cholestrl_(mg)  \n",
       "0      51.368       21.021        3.043           215.0  \n",
       "1      50.489       23.426        3.012           219.0  \n",
       "2      61.924       28.732        3.694           256.0  \n",
       "3      18.669        7.778        0.800            75.0  \n",
       "4      18.764        8.598        0.784            94.0  \n",
       "\n",
       "[5 rows x 36 columns]"
      ]
     },
     "execution_count": 2,
     "metadata": {},
     "output_type": "execute_result"
    }
   ],
   "source": [
    "### Lecture d'un fichier csv\n",
    "data = pd.read_csv('Data/food-info.csv')\n",
    "type(data)\n",
    "data.head()"
   ]
  },
  {
   "cell_type": "code",
   "execution_count": null,
   "metadata": {},
   "outputs": [],
   "source": [
    "### Affichage des données\n",
    "data.head()\n",
    "data.head(3)\n",
    "data.tail()\n",
    "data.tail(7)"
   ]
  },
  {
   "cell_type": "code",
   "execution_count": null,
   "metadata": {},
   "outputs": [],
   "source": [
    "### Attributs columns et shape\n",
    "print(data.shape,'\\n',data.columns)"
   ]
  },
  {
   "cell_type": "code",
   "execution_count": null,
   "metadata": {},
   "outputs": [],
   "source": [
    "### type des données avec dtypes :\n",
    "#object (pour les string ou les variables ayant différents types)\n",
    "#int, float, datetime, bool\n",
    "print(data.dtypes)"
   ]
  },
  {
   "cell_type": "markdown",
   "metadata": {},
   "source": [
    "## Sélection de ligne.s et de colonne.s"
   ]
  },
  {
   "cell_type": "code",
   "execution_count": null,
   "metadata": {},
   "outputs": [],
   "source": [
    "type(data.iloc[0])"
   ]
  },
  {
   "cell_type": "code",
   "execution_count": null,
   "metadata": {},
   "outputs": [],
   "source": [
    "### sélection d'une seule ligne\n",
    "data.iloc[0]"
   ]
  },
  {
   "cell_type": "code",
   "execution_count": null,
   "metadata": {},
   "outputs": [],
   "source": [
    "### sélection de plusieurs lignes\n",
    "data.iloc[3:6]"
   ]
  },
  {
   "cell_type": "code",
   "execution_count": null,
   "metadata": {},
   "outputs": [],
   "source": [
    "data.iloc[3:6,:]"
   ]
  },
  {
   "cell_type": "code",
   "execution_count": null,
   "metadata": {},
   "outputs": [],
   "source": [
    "data.iloc[[2,10,5], :]"
   ]
  },
  {
   "cell_type": "code",
   "execution_count": null,
   "metadata": {},
   "outputs": [],
   "source": [
    "data.iloc[list(range(2,5))+list(range(9,11))]"
   ]
  },
  {
   "cell_type": "code",
   "execution_count": null,
   "metadata": {},
   "outputs": [],
   "source": [
    "### sélection d'une colonne\n",
    "data['NDB_No']"
   ]
  },
  {
   "cell_type": "code",
   "execution_count": null,
   "metadata": {},
   "outputs": [],
   "source": [
    "data.NDB_No"
   ]
  },
  {
   "cell_type": "code",
   "execution_count": null,
   "metadata": {},
   "outputs": [],
   "source": [
    "### sélection d'une colonne avec .loc\n",
    "data.loc[:, \"NDB_No\"]"
   ]
  },
  {
   "cell_type": "code",
   "execution_count": null,
   "metadata": {},
   "outputs": [],
   "source": [
    "### sélection d'une colonne avec .iloc[]\n",
    "data.iloc[:,0]"
   ]
  },
  {
   "cell_type": "code",
   "execution_count": null,
   "metadata": {},
   "outputs": [],
   "source": [
    "### sélection de plusieurs colonnes\n",
    "data[[\"Zinc_(mg)\",\"NDB_No\"]].head()"
   ]
  },
  {
   "cell_type": "code",
   "execution_count": null,
   "metadata": {},
   "outputs": [],
   "source": [
    "### sélection de plusieurs colonnes avec loc\n",
    "data.loc[1:6,[\"NDB_No\",\"Calcium_(mg)\",\"Energ_Kcal\"]].head()"
   ]
  },
  {
   "cell_type": "code",
   "execution_count": null,
   "metadata": {},
   "outputs": [],
   "source": [
    "### sélection de plusieurs colonnes avec iloc\n",
    "data.iloc[:,[10,0,3]+list(range(2,5))].head()"
   ]
  },
  {
   "cell_type": "markdown",
   "metadata": {},
   "source": [
    "### Exo : afficher les 3 premières lignes des colonnes utilisant comme unité de mesure les grammes"
   ]
  },
  {
   "cell_type": "markdown",
   "metadata": {},
   "source": [
    "En regardant les noms des colonnes, on constate qu'elles sont identifiables via le suffixe \"(g)\". Il y a plus qu'à...\n",
    "\n",
    "Deux solutions possibles mais il y en a d'autres. **Surtout, essayez d'abord par vous-même !**"
   ]
  },
  {
   "cell_type": "markdown",
   "metadata": {},
   "source": [
    "## Manipulation de données avec Pandas"
   ]
  },
  {
   "cell_type": "markdown",
   "metadata": {},
   "source": [
    "### Transformation d'une colonne"
   ]
  },
  {
   "cell_type": "markdown",
   "metadata": {},
   "source": [
    "On peut facilement transformer une colonne en ajoutant, enlevant, multipliant ou divisant une toutes les lignes par une même valeur. Deux exemples ci-dessous pour convertir des valeurs des milligrammes vers les grammes et inversement."
   ]
  },
  {
   "cell_type": "code",
   "execution_count": null,
   "metadata": {},
   "outputs": [],
   "source": [
    "### Pour convertir des mg en g\n",
    "iron_g = data[\"Iron_(mg)\"]/1000\n",
    "\n",
    "### Pour convertir des g en mg\n",
    "protein_mg = data[\"Protein_(g)\"]*1000\n",
    "\n",
    "print(iron_g,protein_mg)"
   ]
  },
  {
   "cell_type": "markdown",
   "metadata": {},
   "source": [
    "### Création et suppression d'une colonne"
   ]
  },
  {
   "cell_type": "markdown",
   "metadata": {},
   "source": [
    "Pour créer une nouvelle colonne, il suffit d'affecter un objet Series à un nouveau de colonne dans le dataframe. Si on affecte à un nom de colonne déjà existant, on remplace l'ensemble des valeurs par la nouvelle série."
   ]
  },
  {
   "cell_type": "code",
   "execution_count": null,
   "metadata": {},
   "outputs": [],
   "source": [
    "### La nouvelle colonne est créée à la fin du dataframe\n",
    "data[\"Iron_(g)\"] = data[\"Iron_(mg)\"]/1000\n",
    "data.head(1)"
   ]
  },
  {
   "cell_type": "markdown",
   "metadata": {},
   "source": [
    "Pour supprimer une colonne, on peut utiliser del ou drop"
   ]
  },
  {
   "cell_type": "code",
   "execution_count": null,
   "metadata": {},
   "outputs": [],
   "source": [
    "### Avec del\n",
    "del data[\"Iron_(g)\"]\n",
    "data.head(1)"
   ]
  },
  {
   "cell_type": "code",
   "execution_count": null,
   "metadata": {},
   "outputs": [],
   "source": [
    "### Avec drop\n",
    "data[\"Iron_(g)\"] = data[\"Iron_(mg)\"]/1000 # on recréé la variable à supprimer\n",
    "data.drop([\"Iron_(g)\"], axis='columns', inplace=True)\n",
    "data.head(1)\n",
    "\n",
    "# ATTENTION à l'option inplace, qui remplace directement le dataframe par le dataframe sans les colonnes à supprimer...\n",
    "# par précaution et par défaut inplace = FALSE et la méthode drop retourne un nouveau dataframe"
   ]
  },
  {
   "cell_type": "markdown",
   "metadata": {},
   "source": [
    "### Opérations entre colonnes"
   ]
  },
  {
   "cell_type": "code",
   "execution_count": null,
   "metadata": {},
   "outputs": [],
   "source": [
    "### Pour ajouter les quantités de fer et de calcium contenues dans un aliment\n",
    "fer_calcium = data[\"Iron_(mg)\"] + data[\"Calcium_(mg)\"]\n",
    "fer_calcium.head()"
   ]
  },
  {
   "cell_type": "code",
   "execution_count": null,
   "metadata": {},
   "outputs": [],
   "source": [
    "### On peut multiplier (ou diviser) des colonnes\n",
    "water_energy = data[\"Water_(g)\"]*data[\"Energ_Kcal\"]\n",
    "water_energy[:5]"
   ]
  },
  {
   "cell_type": "markdown",
   "metadata": {},
   "source": [
    "### Trier un dataframe"
   ]
  },
  {
   "cell_type": "code",
   "execution_count": null,
   "metadata": {
    "scrolled": false
   },
   "outputs": [],
   "source": [
    "### on utilise la méthode sort_values()\n",
    "data.sort_values(\"Protein_(g)\")\n",
    "# Pensez à bien regarder la documentation et notamment l'existence des paramètres inplace= et ascending="
   ]
  },
  {
   "cell_type": "code",
   "execution_count": null,
   "metadata": {
    "scrolled": true
   },
   "outputs": [],
   "source": [
    "help(data.sort_values)"
   ]
  },
  {
   "cell_type": "markdown",
   "metadata": {},
   "source": [
    "### Exo : un judoka de haut niveau voudrait adapter son alimentation à son programme d'entraînement et vous demande de déterminer les aliments à la fois riches en protéine et faibles en lipides. Son entraîneur vous contacte ensuite pour vous préciser que le plus important est qu'il y ait un maximum de protéine !"
   ]
  },
  {
   "cell_type": "markdown",
   "metadata": {},
   "source": [
    "Pour faire cet exercice, voici quelques indications. Vous pouvez tout à fait faire sans mais si vous ne savez pas par où commencer, ces quelques lignes vous aideront sûrement.\n",
    "\n",
    "Comme on souhaite regarder coinjointement les quantités de protéines et de lipides, le plus simple est de calculer un score faisant intervenir les variables Protein_(g) et Lipid_Tot_(g). L'idée de ce score est que plus il sera élevé, plus l'aliment répondra à nos critères (bcp de protéines/peu de lipides).\n",
    "\n",
    "Vous calculerez donc un score sous la forme __*Score = a * Protéine + b * Lipide* où a et b sont des constantes qu'il faudra fixer__ (arbitrairement certes mais en justifiant le choix quand même !).\n",
    "\n",
    "Les questions que vous devez vous poser :\n",
    " - Tout d'abord, quel doivent être les signes de a et de b pour répondre à notre problématique ?\n",
    " - Quel coefficient doit être le plus grand en valeur absolue ?\n",
    " - Ensuite, quelles sont les min et max des variables Protein_(g) et Lipid_Tot_(g) ?\n",
    " - Par conséquent, comment gérer le fait que ces deux variables n'évoluent pas du tout sur la même échelle ?\n",
    "\n",
    "À vous de jouer ! Essayez dans un premier temps de ne pas regarder la solution proposée ci dessous..."
   ]
  },
  {
   "cell_type": "markdown",
   "metadata": {},
   "source": [
    "## Traitement des valeurs manquantes "
   ]
  },
  {
   "cell_type": "markdown",
   "metadata": {},
   "source": [
    "### Les données"
   ]
  },
  {
   "cell_type": "code",
   "execution_count": null,
   "metadata": {},
   "outputs": [],
   "source": [
    "titanic = pd.read_csv(\"Data/titanic-survival.csv\")\n",
    "titanic.drop(index=[1309], axis='index', inplace=True)\n",
    "#titanic = titanic.iloc[:-1,:]\n",
    "titanic.tail()"
   ]
  },
  {
   "cell_type": "code",
   "execution_count": null,
   "metadata": {},
   "outputs": [],
   "source": [
    "### La méthode describe() renvoie quelques statistiques du dataframe par variable\n",
    "titanic.describe()"
   ]
  },
  {
   "cell_type": "markdown",
   "metadata": {},
   "source": [
    "### Identifier les manquants"
   ]
  },
  {
   "cell_type": "code",
   "execution_count": null,
   "metadata": {},
   "outputs": [],
   "source": [
    "### la méthode isnull()\n",
    "titanic[\"age\"].isnull()"
   ]
  },
  {
   "cell_type": "markdown",
   "metadata": {},
   "source": [
    "Comment récupérer le nombre de valeurs manquantes ?"
   ]
  },
  {
   "cell_type": "code",
   "execution_count": null,
   "metadata": {},
   "outputs": [],
   "source": [
    "### Nombre de valeurs manquantes : exemples de solutions\n",
    "tot_nan1 = len(titanic.loc[titanic[\"age\"].isnull(),\"age\"])\n",
    "tot_nan2 = titanic[\"age\"].isnull().sum()\n",
    "\n",
    "print(tot_nan1, tot_nan2)"
   ]
  },
  {
   "cell_type": "code",
   "execution_count": null,
   "metadata": {},
   "outputs": [],
   "source": [
    "titanic.isnull().head()"
   ]
  },
  {
   "cell_type": "markdown",
   "metadata": {},
   "source": [
    "### Problème avec les valeurs manquantes : calcul de la moyenne"
   ]
  },
  {
   "cell_type": "code",
   "execution_count": null,
   "metadata": {},
   "outputs": [],
   "source": [
    "### Calcul de l'âge moyen sans build-in function\n",
    "age_mean =  sum(titanic[\"age\"])/len(titanic[\"age\"])\n",
    "age_mean"
   ]
  },
  {
   "cell_type": "code",
   "execution_count": null,
   "metadata": {},
   "outputs": [],
   "source": [
    "age_mean_wo_null = sum(titanic.loc[~titanic[\"age\"].isnull(),\"age\"])/len(titanic.loc[~titanic[\"age\"].isnull(),\"age\"])\n",
    "age_mean_wo_null"
   ]
  },
  {
   "cell_type": "code",
   "execution_count": null,
   "metadata": {},
   "outputs": [],
   "source": [
    "### Une méthode bien plus simple : la fonction build-in Series.mean()\n",
    "titanic[\"age\"].mean()"
   ]
  },
  {
   "cell_type": "code",
   "execution_count": null,
   "metadata": {},
   "outputs": [],
   "source": [
    "titanic[\"fare\"].mean()"
   ]
  },
  {
   "cell_type": "markdown",
   "metadata": {},
   "source": [
    "### Exo : calculer le tarif moyen par classe. Retourner les résultats sous forme d'un dictionnaire"
   ]
  },
  {
   "cell_type": "markdown",
   "metadata": {},
   "source": [
    "### Supprimer des valeurs manquantes"
   ]
  },
  {
   "cell_type": "code",
   "execution_count": null,
   "metadata": {},
   "outputs": [],
   "source": [
    "### La méthode .dropna()\n",
    "titanic.dropna(axis = 1)"
   ]
  },
  {
   "cell_type": "code",
   "execution_count": null,
   "metadata": {},
   "outputs": [],
   "source": [
    "titanic.dropna(axis = 0)"
   ]
  },
  {
   "cell_type": "code",
   "execution_count": null,
   "metadata": {},
   "outputs": [],
   "source": [
    "titanic.dropna(axis = 0, subset = [\"boat\"])"
   ]
  },
  {
   "cell_type": "code",
   "execution_count": null,
   "metadata": {},
   "outputs": [],
   "source": [
    "### Pour ne conserver uniquement les lignes pour lesquelles l'âge et le sexe sont renseignés\n",
    "titanic.dropna(axis = 0, subset = [\"age\",\"sex\"])"
   ]
  },
  {
   "cell_type": "code",
   "execution_count": null,
   "metadata": {},
   "outputs": [],
   "source": [
    "### On peut vérifier avec l'attribut shape\n",
    "titanic.dropna(axis = 0, subset = [\"age\",\"sex\"]).shape"
   ]
  },
  {
   "cell_type": "markdown",
   "metadata": {},
   "source": [
    "## Les pivots de tables"
   ]
  },
  {
   "cell_type": "markdown",
   "metadata": {},
   "source": [
    "Pour ceux qui connaissent, c'est l'équivalent des \"tableaux croisés dynamiques\" sur Excel."
   ]
  },
  {
   "cell_type": "code",
   "execution_count": null,
   "metadata": {},
   "outputs": [],
   "source": [
    "### Méthode DataFrame.pivot_table() : regardez la doc !!\n",
    "titanic.pivot_table(index = \"pclass\", values = \"fare\")"
   ]
  },
  {
   "cell_type": "code",
   "execution_count": null,
   "metadata": {},
   "outputs": [],
   "source": [
    "titanic.pivot_table(index = \"pclass\", values = \"fare\", aggfunc = sum)"
   ]
  },
  {
   "cell_type": "code",
   "execution_count": null,
   "metadata": {},
   "outputs": [],
   "source": [
    "titanic.pivot_table(index = \"pclass\", values = [\"age\",\"fare\",\"survived\"])"
   ]
  },
  {
   "cell_type": "code",
   "execution_count": null,
   "metadata": {},
   "outputs": [],
   "source": [
    "import numpy as np\n",
    "titanic.pivot_table(index=[\"pclass\",\"embarked\"], values = [\"fare\", \"survived\"], aggfunc = [np.mean,sum])"
   ]
  },
  {
   "cell_type": "markdown",
   "metadata": {},
   "source": [
    "## Tri et réindexation"
   ]
  },
  {
   "cell_type": "code",
   "execution_count": null,
   "metadata": {},
   "outputs": [],
   "source": [
    "new_titanic = titanic.sort_values(\"age\", ascending=False)\n",
    "new_titanic.head(10)"
   ]
  },
  {
   "cell_type": "markdown",
   "metadata": {},
   "source": [
    "Nous avons déjà introduit les méthodes loc et iloc sans nous y arrêter vraiment. C'est l'occasion de le faire maintenant.\n",
    "\n",
    "Quelles différences entre les deux méthodes ? Regardez ce que donnent new_titanic.loc[9,:] et new_titanic.iloc[9,:] pour y voir plus clair..."
   ]
  },
  {
   "cell_type": "code",
   "execution_count": null,
   "metadata": {},
   "outputs": [],
   "source": [
    "new_titanic.loc[9,:]"
   ]
  },
  {
   "cell_type": "code",
   "execution_count": null,
   "metadata": {},
   "outputs": [],
   "source": [
    "new_titanic.iloc[9,:]"
   ]
  },
  {
   "cell_type": "markdown",
   "metadata": {},
   "source": [
    "On voit donc l'intérêt de réindexer les lignes d'un nouveau dataframe construit à partir d'un dataframe existant puisqu'en effet les indices de ligne ne correspondent plus aux numéros des lignes...\n"
   ]
  },
  {
   "cell_type": "code",
   "execution_count": null,
   "metadata": {},
   "outputs": [],
   "source": [
    "### méthode .reset_index()\n",
    "new_titanic.reset_index()\n",
    "### voir l'option drop pour ne pas avoir une nouvelle colonne avec l'ancien indice"
   ]
  },
  {
   "cell_type": "code",
   "execution_count": null,
   "metadata": {},
   "outputs": [],
   "source": [
    "# pour changer l'index par un autre index que les numéros de ligne on utilise .set_index()\n",
    "new_titanic.set_index(\"name\",inplace=True)\n",
    "new_titanic.loc[\"Svensson, Mr. Johan\"]"
   ]
  },
  {
   "cell_type": "markdown",
   "metadata": {},
   "source": [
    "## Appliquer une fonction sur un DataFrame"
   ]
  },
  {
   "cell_type": "code",
   "execution_count": null,
   "metadata": {},
   "outputs": [],
   "source": [
    "### méthode .apply()"
   ]
  },
  {
   "cell_type": "code",
   "execution_count": null,
   "metadata": {},
   "outputs": [],
   "source": [
    "### on définit une fonction qui retourne le 100ème élement d'une colonne\n",
    "def obs100(col):\n",
    "    return col[99]"
   ]
  },
  {
   "cell_type": "code",
   "execution_count": null,
   "metadata": {},
   "outputs": [],
   "source": [
    "### On applique cette fonction au dataframe\n",
    "titanic.apply(obs100, axis=0)"
   ]
  },
  {
   "cell_type": "markdown",
   "metadata": {},
   "source": [
    "Essayez maintenant la même chose avec __axis = 1__. Que se passe-t-il ? Pourquoi ?"
   ]
  },
  {
   "cell_type": "code",
   "execution_count": null,
   "metadata": {},
   "outputs": [],
   "source": [
    "### on définit une nouvelle fonction\n",
    "def from_france(row):\n",
    "    if row[\"embarked\"] == \"C\":\n",
    "        return \"départ de France\"\n",
    "    else:\n",
    "        return \"parti d'ailleurs\"\n",
    "    \n",
    "row = titanic.loc[150]\n",
    "from_france(row)\n",
    "\n",
    "# titanic[\"parti_de_France\"] = titanic.apply(from_france, axis=1)\n",
    "# titanic.head(10)"
   ]
  },
  {
   "cell_type": "markdown",
   "metadata": {},
   "source": [
    "### Exo : utiliser la méthode apply pour déterminer le nombre de valeurs manquantes dans chaque colonne"
   ]
  },
  {
   "cell_type": "markdown",
   "metadata": {},
   "source": [
    "Une indication : il faut d'abord définir une fonction"
   ]
  },
  {
   "cell_type": "markdown",
   "metadata": {},
   "source": [
    "### Exo : utiliser la méthode apply pour créer une nouvelle variable age_label dans le dataframe contenant 'minor' si la personne a moins de 18 ans, 'adult' si son age est supérieur ou égal à 18 ans et 'unknown' sinon "
   ]
  },
  {
   "cell_type": "markdown",
   "metadata": {},
   "source": [
    "Indications : Procéder par étape ! On définira d'abord une fonction, qu'on appliquera au dataframe et on stockera le résultat dans une nouvelle colonne"
   ]
  },
  {
   "cell_type": "code",
   "execution_count": null,
   "metadata": {},
   "outputs": [],
   "source": [
    "titanic[['age','age_label']].head()"
   ]
  },
  {
   "cell_type": "markdown",
   "metadata": {},
   "source": [
    "### Exo : calculer le pourcentage de survie par groupe d'âge (majeur/mineur)"
   ]
  },
  {
   "cell_type": "markdown",
   "metadata": {},
   "source": [
    "Indication : l'exercice précédent a quasiment fait tout le boulot..."
   ]
  },
  {
   "cell_type": "code",
   "execution_count": null,
   "metadata": {},
   "outputs": [],
   "source": []
  }
 ],
 "metadata": {
  "kernelspec": {
   "display_name": "Python 3",
   "language": "python",
   "name": "python3"
  },
  "language_info": {
   "codemirror_mode": {
    "name": "ipython",
    "version": 3
   },
   "file_extension": ".py",
   "mimetype": "text/x-python",
   "name": "python",
   "nbconvert_exporter": "python",
   "pygments_lexer": "ipython3",
   "version": "3.8.3"
  }
 },
 "nbformat": 4,
 "nbformat_minor": 2
}
