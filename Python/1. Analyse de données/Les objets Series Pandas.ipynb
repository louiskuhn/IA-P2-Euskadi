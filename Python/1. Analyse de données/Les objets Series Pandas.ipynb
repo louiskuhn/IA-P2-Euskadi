{
 "cells": [
  {
   "cell_type": "markdown",
   "metadata": {},
   "source": [
    "# Les objets Series Pandas"
   ]
  },
  {
   "cell_type": "markdown",
   "metadata": {},
   "source": [
    "Les 3 types d'objets Pandas :\n",
    "- les Series\n",
    "- les DataFrames\n",
    "- les Panels (ensemble de DataFrames)"
   ]
  },
  {
   "cell_type": "markdown",
   "metadata": {},
   "source": [
    "Les types de données dans un objet Series :\n",
    "- float\n",
    "- int\n",
    "- bool\n",
    "- datetime64\n",
    "- timedelta\n",
    "- category\n",
    "- object"
   ]
  },
  {
   "cell_type": "code",
   "execution_count": null,
   "metadata": {},
   "outputs": [],
   "source": [
    "import pandas as pd\n",
    "\n",
    "fandango = pd.read_csv('Data/fandango-score-comparison.csv')\n",
    "fandango.head(2)"
   ]
  },
  {
   "cell_type": "markdown",
   "metadata": {},
   "source": [
    "## Indexage avec des entiers"
   ]
  },
  {
   "cell_type": "markdown",
   "metadata": {},
   "source": [
    "- Sélectionner la colonne \"FILM\" et assigner la à la variable series_film puis afficher les 5 premières valeurs.\n",
    "- Faire de même avec la colonne \"RottenTomatoes\" et assigner la à la variable series_rt puis afficher les 5 premières valeurs."
   ]
  },
  {
   "cell_type": "code",
   "execution_count": null,
   "metadata": {},
   "outputs": [],
   "source": [
    "series_film = fandango['FILM']\n",
    "series_film[0:5]"
   ]
  },
  {
   "cell_type": "code",
   "execution_count": null,
   "metadata": {},
   "outputs": [],
   "source": [
    "series_film.values"
   ]
  },
  {
   "cell_type": "code",
   "execution_count": null,
   "metadata": {},
   "outputs": [],
   "source": [
    "series_rt = fandango['RottenTomatoes']\n",
    "series_rt.head()"
   ]
  },
  {
   "cell_type": "code",
   "execution_count": null,
   "metadata": {},
   "outputs": [],
   "source": [
    "series_rt.values"
   ]
  },
  {
   "cell_type": "markdown",
   "metadata": {},
   "source": [
    "## Personnaliser son indexage"
   ]
  },
  {
   "cell_type": "markdown",
   "metadata": {},
   "source": [
    "- Créer un objet Series qu'on nommera series_perso qui aura un index de chaines de caractères et contiendra toutes les notes RottenTomatoes.\n",
    ">- Attention de bien utiliser des listes de valeurs pour nos 2 paramètres de la méthode Series()\n",
    ">- Ne pas oublier d'importer l'objet Series depuis pandas"
   ]
  },
  {
   "cell_type": "markdown",
   "metadata": {},
   "source": [
    "## Réindexer un objet Series"
   ]
  },
  {
   "cell_type": "markdown",
   "metadata": {},
   "source": [
    "Réindexer l'objet series_perso en créant un nouvel objet Series series_by_index avec la méthode .reindex() pour obtenir une série triée par __ordre alphabétique des noms des films__"
   ]
  },
  {
   "cell_type": "markdown",
   "metadata": {},
   "source": [
    "## Trier un objet Series"
   ]
  },
  {
   "cell_type": "markdown",
   "metadata": {},
   "source": [
    "La méthode reindex() vue à l'instant est un peu \"tirée par les cheveux\" pour un tri par ordre un alphabétique car il existe des méthodes sort_index() et sort_values().\n",
    "\n",
    "Trier la Series series_perso par index en utilisant la méthode sort_index() puis par valeurs avec sort_values()"
   ]
  },
  {
   "cell_type": "markdown",
   "metadata": {},
   "source": [
    "## Transformation de colonnes"
   ]
  },
  {
   "cell_type": "markdown",
   "metadata": {},
   "source": [
    "Pandas étant basé sur la libraire Numpy les fonctions Numpy sont disponibles pour effectuer des opérations sur les objets Series :\n",
    "- Importer la libraire Numpy\n",
    "- Tester un certain nombre de fonctions Numpy sur series_perso : notamment normaliser la Series series_perso (échelle de notes de 0 à 100) pour obtenir une échelle de notes de 0 à 5 en assignant le nouvel objet Series à la variable series_normalized\n",
    "\n",
    "__&Agrave; noter__ : si les opérations numpy sur des array retournent un array (ou une valeur unique par exemple \"np.max\"), lorsqu'on les utilise sur un objet Series, on obtient bien un objet Series en sortie"
   ]
  },
  {
   "cell_type": "markdown",
   "metadata": {},
   "source": [
    "## Comparer et filtrer"
   ]
  },
  {
   "cell_type": "markdown",
   "metadata": {},
   "source": [
    "Créer une fonction prenant 2 paramètres entiers (la borne supérieure et la borne inférieure) et qui retourne uniquement les films dont la note est comprise entre ces 2 entiers"
   ]
  },
  {
   "cell_type": "markdown",
   "metadata": {},
   "source": [
    "## Alignement des données"
   ]
  },
  {
   "cell_type": "markdown",
   "metadata": {},
   "source": [
    "Il s'agit du principe majeur de pandas.  \n",
    "Les objets Series s'alignent avec les indexes et les DataFrames avec les indexes et les colonnes.  \n",
    "Les Series préservent implicitement le lien entre les intitulés d'indexes et les valeurs à travers les différentes opérations et transformations. Pour les Dataframes, pandas préserve aussi le lien.  \n",
    "Ce principe permet d'uiliser pandas pour travailler avec des données et offre l'avantage comme évoqué précédemment d'utiliser numpy avec (opérations mathématiques classiques)."
   ]
  },
  {
   "cell_type": "markdown",
   "metadata": {},
   "source": [
    "Calculer la moyenne des notes des critiques et des utilisateurs de la plateforme RottenTomatoes.  \n",
    "Indications :\n",
    "- Créer les Series rt_critics (et rt_users) ayant pour valeurs les notes RottenTomatoes des critiques (des users) et comme index le nom des films\n",
    "- Utiliser des opérations mathématiques pour retourner dans un nouvel objet Series rt_mean la moyenne des notes des critiques et des utilisateurs pour chaque film"
   ]
  }
 ],
 "metadata": {
  "kernelspec": {
   "display_name": "Python 3",
   "language": "python",
   "name": "python3"
  },
  "language_info": {
   "codemirror_mode": {
    "name": "ipython",
    "version": 3
   },
   "file_extension": ".py",
   "mimetype": "text/x-python",
   "name": "python",
   "nbconvert_exporter": "python",
   "pygments_lexer": "ipython3",
   "version": "3.8.5"
  }
 },
 "nbformat": 4,
 "nbformat_minor": 2
}
