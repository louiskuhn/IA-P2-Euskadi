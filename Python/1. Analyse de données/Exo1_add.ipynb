{
 "cells": [
  {
   "cell_type": "markdown",
   "metadata": {},
   "source": [
    "# Exercice : analyse de données"
   ]
  },
  {
   "cell_type": "markdown",
   "metadata": {},
   "source": [
    "## Import des données"
   ]
  },
  {
   "cell_type": "markdown",
   "metadata": {},
   "source": [
    "- Importer les 2 jeux de données all-ages.csv et recent-grads.csv  \n",
    "- Afficher les infos importantes de ces deux jeux de données  \n",
    "- Repérez les valeurs manquantes et supprimez-les  "
   ]
  },
  {
   "cell_type": "markdown",
   "metadata": {},
   "source": [
    "## Calculer le nombre d'étudiants par catégorie de Major (Major_category) dans chaque dataset"
   ]
  },
  {
   "cell_type": "markdown",
   "metadata": {},
   "source": [
    "#### Contraintes:\n",
    "- Définir une fonction permettant ce calcul et prenant commme paramètre un dataframe. Quel est l'intérêt d'une telle solution ?\n",
    "- Le refaire d'une seconde manière avec une méthode déjà vue et permettant d'obtenir des tableaux croisés à partir d'un dataframe...\n",
    "- Stocker les résultats dans 2 dictionnaires."
   ]
  },
  {
   "cell_type": "markdown",
   "metadata": {},
   "source": [
    "## Taux de jobs à faible salaire"
   ]
  },
  {
   "cell_type": "markdown",
   "metadata": {},
   "source": [
    "Utiliser les colonnes \"Low_wage_jobs\" et \"Total\" pour calculer la proportion de jeunes diplômés (donc recent_grads) qui ont du accepter des jobs à faible salaire. Interprétez ce résultat !"
   ]
  },
  {
   "cell_type": "markdown",
   "metadata": {},
   "source": [
    "## Comparer les données : déterminer le nombre de Major pour lesquelles les jeunes diplômés ont un taux de chômage plus faible qu'en population générale"
   ]
  },
  {
   "cell_type": "markdown",
   "metadata": {},
   "source": [
    "Indications :\n",
    "- Créer un compteur\n",
    "- Utiliser une boucle for pour parcourir toutes les majors.\n",
    ">- Comparer les valeurs pour la colonne \"Unemployment_rate\" pour voir lequel des 2 DataFrames possèdent la valeur la plus basse\n",
    ">- Incrémenter le compteur si la valeur pour Unemployment_rate est plus petite dans le dataframe recent_grads que dans le dataframe all_ages\n",
    "- Afficher le résultat du compteur.\n",
    "- On pourra aussi éventuellement stocker dans une liste les majors concernées"
   ]
  }
 ],
 "metadata": {
  "kernelspec": {
   "display_name": "Python 3",
   "language": "python",
   "name": "python3"
  },
  "language_info": {
   "codemirror_mode": {
    "name": "ipython",
    "version": 3
   },
   "file_extension": ".py",
   "mimetype": "text/x-python",
   "name": "python",
   "nbconvert_exporter": "python",
   "pygments_lexer": "ipython3",
   "version": "3.8.5"
  }
 },
 "nbformat": 4,
 "nbformat_minor": 2
}
