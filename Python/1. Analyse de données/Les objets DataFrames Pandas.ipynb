{
 "cells": [
  {
   "cell_type": "markdown",
   "metadata": {},
   "source": [
    "# Les objets DataFrames Pandas"
   ]
  },
  {
   "cell_type": "markdown",
   "metadata": {},
   "source": [
    "Importer les données 'fandango_score_comparison'"
   ]
  },
  {
   "cell_type": "markdown",
   "metadata": {},
   "source": [
    "## Indexage avec des entiers"
   ]
  },
  {
   "cell_type": "code",
   "execution_count": null,
   "metadata": {},
   "outputs": [],
   "source": [
    "fandango[142:]"
   ]
  },
  {
   "cell_type": "code",
   "execution_count": null,
   "metadata": {
    "scrolled": true
   },
   "outputs": [],
   "source": [
    "fandango[-4:-1]"
   ]
  },
  {
   "cell_type": "code",
   "execution_count": null,
   "metadata": {},
   "outputs": [],
   "source": [
    "fandango.iloc[2]"
   ]
  },
  {
   "cell_type": "code",
   "execution_count": null,
   "metadata": {},
   "outputs": [],
   "source": [
    "fandango.iloc[[2,142,42]]"
   ]
  },
  {
   "cell_type": "markdown",
   "metadata": {},
   "source": [
    "Retourner un DataFrame contenant seulement la première et la dernière ligne"
   ]
  },
  {
   "cell_type": "markdown",
   "metadata": {},
   "source": [
    "## Indexage personnalisé"
   ]
  },
  {
   "cell_type": "markdown",
   "metadata": {},
   "source": [
    "- Créer un nouveau dataframe fandango_perso avec la colonne 'FILM' comme index en utilisant la méthode set_index (remarque : on veut conserver la colonne 'FILM')\n",
    "- Afficher les indexes du DataFrame fandango_perso"
   ]
  },
  {
   "cell_type": "markdown",
   "metadata": {},
   "source": [
    "## Sélectionner des valeurs depuis un index (personnalisé ou non)"
   ]
  },
  {
   "cell_type": "markdown",
   "metadata": {},
   "source": [
    "Créer un dataframe films contenant les films suivants dans l'ordre indiqué :\n",
    "- \"Top Five (2014)\"\n",
    "- \"Black Sea (2015)\"\n",
    "- \"Taken 3 (2015)\"\n",
    "\n",
    "Le faire de 2 manières : l'une utilisera le dataframe fandango initial et l'autre utilisera le dataframe fandango_perso "
   ]
  },
  {
   "cell_type": "markdown",
   "metadata": {},
   "source": [
    "## Méthode Apply() sur les colonnes d'un DataFrame"
   ]
  },
  {
   "cell_type": "markdown",
   "metadata": {},
   "source": [
    "- Obtenir le dataframe float_df qui ne contient que les colonnes de type décimales float64\n",
    ">- dtypes est votre ami\n",
    ">- vaut-il mieux utiliser le dataframe fandango ou bien fandango_perso (indexés par les films) ?\n",
    "- Diviser par 2 chaque valeur, élever chaque valeur au carré, calculer la déviation standard de chaque colonne\n",
    ">- apply et la fonction std de la limbraire numpy sont vos amis\n",
    ">- stocker les résultats dans 2 variables"
   ]
  },
  {
   "cell_type": "markdown",
   "metadata": {},
   "source": [
    "## Méthode Apply() sur les lignes d'un DataFrame"
   ]
  },
  {
   "cell_type": "markdown",
   "metadata": {},
   "source": [
    "- Utiliser la méthode apply() pour calculer la moyenne (méthode mean() de la librairie Numpy) des valeurs de chaque film pour 'RT_user_norm' et 'metacritic_user_nom' puis assigner le résultat à la variable rt_mc_means\n",
    "- Afficher les 7 premières valeurs de rt_mt_means"
   ]
  }
 ],
 "metadata": {
  "kernelspec": {
   "display_name": "Python 3",
   "language": "python",
   "name": "python3"
  },
  "language_info": {
   "codemirror_mode": {
    "name": "ipython",
    "version": 3
   },
   "file_extension": ".py",
   "mimetype": "text/x-python",
   "name": "python",
   "nbconvert_exporter": "python",
   "pygments_lexer": "ipython3",
   "version": "3.8.5"
  }
 },
 "nbformat": 4,
 "nbformat_minor": 2
}
