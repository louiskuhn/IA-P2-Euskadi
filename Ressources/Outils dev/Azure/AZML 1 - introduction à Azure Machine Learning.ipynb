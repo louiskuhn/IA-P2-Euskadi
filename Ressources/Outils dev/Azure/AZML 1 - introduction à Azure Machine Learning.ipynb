{
 "cells": [
  {
   "cell_type": "markdown",
   "metadata": {},
   "source": [
    "# Introduction à Azure Machine learning\n",
    "Laurent Cetinsoy \n",
    "\n",
    "Azure machine learning (azml), c'est bien, on est tous d'accord. \n",
    "\n",
    "Le but de ce notebook est d'acquérir les premières bases. \n",
    "\n",
    "Azml permet de faire plusieurs choses : \n",
    "\n",
    "- sauvegarder et historiser les résultats d'entraînement de modèles ou autre\n",
    "\n",
    "- sauvegarder et se constituer une base de donnée de modèles entraîné\n",
    "\n",
    "- Mettre en production facilement des modèles entraîné et les rendre accessible via des web services\n",
    "\n",
    "- faire du AutoML\n",
    "\n",
    "- Faire des modèles via interface graphique\n",
    "\n",
    "Il est possible d'utiliser azml via le portail et les éditeurs graphiques ou de les utiliser via des librairies (sdk) python ou R (je crois, mais qui veut faire du R anw à part Samira ? )\n",
    "\n",
    "Dans ce notebook on va apprendre à utiliser les bases du SDK \n",
    "\n",
    "Le notebook est utilisable sur votre pc ou sur une VM \n"
   ]
  },
  {
   "cell_type": "markdown",
   "metadata": {},
   "source": [
    "**La liste des principales classe du coeur de la librairie sont disponibles ici :**\n",
    "\n",
    "https://docs.microsoft.com/fr-fr/python/api/azureml-core/azureml.core?view=azure-ml-py"
   ]
  },
  {
   "cell_type": "markdown",
   "metadata": {},
   "source": [
    "voilà un superbe diagramme qui résume un peu le tout graphiquement : \n",
    "\n",
    "https://app.diagrams.net/?lightbox=1&highlight=0000ff&edit=_blank&layers=1&nav=1#R7Vzbcts2EP0aTZ2HeCheROlRlpy2U2fqqZKm7UsGIiEKNgSwICjL%2BfriQvAG2lEcSbQy9YNNLEkI2LO7OLuAPPBmm93PDKTr9zSGeOA68W7gzQeuG4ah%2BC0Fj1owcnwtSBiKtWhYCRboCyyETiHNUQyzxoOcUsxR2hRGlBAY8YYMMEYfmo%2BtKG5%2BagoSaAkWEcC29BOK%2BVpLx4FTyX%2BBKFmbTx46xZ0NMA8XgmwNYvpQE3nXA2%2FGKOX6arObQSx1Z%2FSi33v3xN1yYAwSvs8L7B%2B4Wn74%2BNGbXn14eDdfjvFi%2B3ZYdJPxRzNjGAsFFE3K%2BJomlAB8XUmvGM1JDGW3jmhVz9xQmgrhUAjvIOePBZog51SI1nyDi7twh%2Fhfteu%2FZVeXQdGa74qeVePRNAhnj39VD8rm3%2FV71WuqZd7T85OTelJvRgc0ZxF8TlmF%2FQGWQP7ccxW8wi0g3UAxIPEigxhwtG0OBBQGmpTPVRiKiwLGb4HU6xNS59IN6qjui6kYdR3USxE3nsdVtW4hQ0JrkPUH9rhXrIN%2BsX4R1E33vZyMvP%2Bh3gPqsF%2BowxdhHTrjFtph8D%2Fae6Ct%2B90CnBefdCs6cm5%2Bn01v5LwfBZJk4EoZ%2BJIzuMFvs%2FjeshDBOVJ5mTIawUwM8uphjThcpECp6EFQtibeSxDdJ8pqfs85RgQW8mI4kHG4ex4BW2PmBUOECibohUX7oeJV5TPrGqcaOUdSsmspeQ44yCIkZoQyDp9UZ77B04hTYZxXUiVI0MUbsIT4lmaIIwGMN19SzulGPIDljatSrTOK5XuiN2%2Blfmp9TDFK5LuctlChGotZyXGdA0HiNyHxRzYk3ikRGVuIzDDNYyG6UGYuebXsJINsiyL4ZlCS61pUxFgkBzL6Gbgi1cdXbf8ACvWDpkKHwZ42Pj6WRk0eVVPpwB1h8bFXMdqKy0ReThvKlYHEMU8tmXnISMQ4aq929CZyMc4ohiY4tVB7qp8nnA0RsQyINWshHE4laz3GMM9pOYzXge%2BkA9%2FS0w4PsB3FPsAdt9TJpbChJ1CEmwgStdBacWiD4ljTCJihL2CpupKhJ6UCFDWR4GoQzGVfgjlkmkQcypVcv6lqf2Sp2u%2FQtHs0RfuWohcgF3NMAIuF%2FlxHFiqEqQ9m3mA64Qz9m0vBmeMwNK8UOLihb5t8eFIgRhYQH1NMQQMEGisYxlg1JacESnBNNDznD4w3bPEpkyF8LRYdDxh7%2BX4vsgu1AEAiJ8eoXMtz0kSoXyhWCOM6KxtHMIokexBr2D2s3VmOA7m%2BHwQ8d9yMbu54aIMXnBK8LiZ1gvyyShXHYasw0HuiOBmcQ6Y4sZxuLlwgITIatgCt4Bp%2BnUb14hejNoF2e08SR334xQHN%2BCmN722exau3MpBWSAVhE6lyx8Z0od2meKsFQjmM78DFLpFMhRrf3%2FwAVl%2Fqsj%2Br77ewXC81fmVf6JCe4v6YnmJniNe7FAv2tEQYcc2HfwCv8ZwODnVar%2FHPxWtqvGsyatKuvjfeXO8caJcZZT0J5cKdMpWE6qyTUA6zJaX3snEBtjCqpiVPLGzSnMsa5vl73tiuzZzY80ILjo7C5C3OMwRzpioEgCCdgDIFVvxTXuHXXbYU2psOvqsy2s%2Brw0sx6muZdGMqUmY5P22LmdxDchbz33qblSuHNtWj0U5DJQzyQp0nkjU0VdRpg7KoQOll4J41cOnt0tmlrysHV2WOwsvrji93LdSFqpBr7ceAZEaitytOMAdfzmGuPzkn8qP%2FfC9%2BCZXjiBKteWCmaIZ68GGdaxmuvkc27oh1w%2BMFO7vOprxbLByJDlNzNYVHoGgozfUcM6TcXa7fMGUi0p2v7g2zbpVAO7YvO%2Fcvj1ZE8%2FohgP0fjXP3rZV5Xq%2BszS6WfaLsPlP06rt42AGseRw0jblrb%2FGkpMoMoKatGxlf9AYxzAyLpZnOIcuVOsUQEdOIMMiyH2EjLBw18Akmdrp54mjTS2nyFUQbb98zXF7QZ7Tx7BLl9S5VmTOxN%2BhPHW48N7x8dRHHrkP1dp7V3Hm1x9E9d18v6LVSYoZZ84I%2FVGrUuweMnFdn%2F3ZVqSO3WjG6%2BSwytBVKLqK1RN9kmw8VmXH09vrkTv0RA3YSpi5dnTUbqXpvhaI1UpWPu4ySN6%2B8nhExCFRKfRGxinmoiRCabyHIW6p48%2BJs9DUeQmsd2gyDwOYhw66E1BDMw5ttYJltJqIS%2F4xpkiCSXMiSByJxUc0pbQ98UbWcf%2FOfdPkBqtURkqaFCoopFszI7FOMwEbqmiyzVOlT11LEKKEKaWRLUWkOdHmn7jLZsk3gDMBuZwWh14G2iWNN1nm0IGWXHzqcVEAvPVQAulEQqFwgkwfmyvNyGvSYkuJMVnGet4%2BQwoEaLbijulhXnCKDHMgGUH9UWBGWdJLwKPMqDHWUSwUTkMNAqvypfUhbuzJynYitEEHfpr8zsP6g9Z2B0O%2Bo8HSet50cy%2Fr9fr4x2T%2Fd9Pelm36vJR4zzOejU%2BklRnBNtohRojOz0l%2BW3%2By3t414V3Aw6ZvMrEmw%2FknOhWjwXG3KiBvSgUF9U6HoIIUkBmJZzHS8LDcPGocoHRmkljCjqHOx2ysInJqCT5qr29DppOAdy9vx%2FLuLgp9DqGwdnBv2Twt9%2B8R88f8B%2Bi59%2BG2z6%2F2YoW9T6F%2FJCjJJhmcq1etda%2B3F%2BDVozf4qQEdMvpG73p%2FgcvH894%2Bs91rk1cRiTB8VfdW7560QrIN3TKN79Qys77q%2FleouuJzkklwwt5enpievlozb8PdeLvE7Tn1ILEKghANVD5BrpgZSfxNBYbmxvpeQR1zvj7YX1stBR6nq3DYvPGfSAG8STizsvC7sXrB5IZrVfzXRhxirfw3jXf8H"
   ]
  },
  {
   "cell_type": "markdown",
   "metadata": {},
   "source": [
    "## Workspace \n",
    "\n",
    "Un workspace azml est tout simplement un espace de travail dans lequel seront regroupés les informations et outils. On peut en créer autant qu'on veut. Soit via le portail. Soit via le SDK\n",
    "\n",
    "Connectez vous sur le portail et créer un workspace. Aller dessus et cliquer sur \"Download configuration\" et le mettre dans le même dosser que ce beau notebook"
   ]
  },
  {
   "cell_type": "markdown",
   "metadata": {},
   "source": [
    "Une fois que c'est fait. Créer une variable workspace à l'aide de la méthode from_config de la class Workspace et le stocker dans la variable **ws**"
   ]
  },
  {
   "cell_type": "code",
   "execution_count": null,
   "metadata": {},
   "outputs": [],
   "source": []
  },
  {
   "cell_type": "markdown",
   "metadata": {},
   "source": [
    "Afficher les détail du workspace avec la méthode get_details()"
   ]
  },
  {
   "cell_type": "code",
   "execution_count": null,
   "metadata": {},
   "outputs": [],
   "source": []
  },
  {
   "cell_type": "markdown",
   "metadata": {},
   "source": [
    "Création via python : Créer un nouveau workspace via le python sdk (et donc sans faire \"new workspace\" dans le portial) a l'aide de la méthode create de la classe Workspace. Vérifiez qu'il existe bien sur le portail.\n"
   ]
  },
  {
   "cell_type": "code",
   "execution_count": null,
   "metadata": {},
   "outputs": [],
   "source": []
  },
  {
   "cell_type": "markdown",
   "metadata": {},
   "source": [
    "A l'aide de la méthode de classe list de Workspace, afficher la liste de tous les workspace de votre souscription"
   ]
  },
  {
   "cell_type": "code",
   "execution_count": null,
   "metadata": {},
   "outputs": [],
   "source": []
  },
  {
   "cell_type": "markdown",
   "metadata": {},
   "source": [
    "A l'aide de la méthode write_config, générer le fichier json de config pour ce workspace numéro 2 "
   ]
  },
  {
   "cell_type": "code",
   "execution_count": null,
   "metadata": {},
   "outputs": [],
   "source": []
  },
  {
   "cell_type": "markdown",
   "metadata": {},
   "source": [
    "Supprimer le premier workspace créé avec le sdk. Vérifier qu'il est bien supprimé sur le portail et avec la méthode list"
   ]
  },
  {
   "cell_type": "code",
   "execution_count": null,
   "metadata": {},
   "outputs": [],
   "source": []
  },
  {
   "cell_type": "markdown",
   "metadata": {},
   "source": [
    "## Les compute target\n",
    "\n",
    "Qu'est ce qu'un compute target ? A quoi ça sert dans azure ml service ? "
   ]
  },
  {
   "cell_type": "markdown",
   "metadata": {},
   "source": [
    "Un compute c'est un objet qui représente une ressource de calcul comme une VM ou un cluster (sur azure le plus souvent). Il existe des compute target dédiées à l'entraînement et d'autres dédiés à la prédiction"
   ]
  },
  {
   "cell_type": "markdown",
   "metadata": {},
   "source": [
    "Avec la bonne méthode, afficher les compute target du workspace. Il ne devrait pas y en avoir à ce stade, c'est normal. Pour le moment on ne va pas les utiliser."
   ]
  },
  {
   "cell_type": "code",
   "execution_count": null,
   "metadata": {},
   "outputs": [],
   "source": []
  },
  {
   "cell_type": "markdown",
   "metadata": {},
   "source": [
    "## Les datastore\n",
    "\n",
    "comme vous le savez, azure permet de stocker des données ... comme avec blob storage par exemple ou des base de données managées. Il est possible de relier à azure ml service, une source de donnée présente sur azure à l'aide d'un Datastore. \n",
    "\n",
    "Afficher les datastore du workspace. Y'en-a-t-il, à quoi correspondent-ils ?"
   ]
  },
  {
   "cell_type": "code",
   "execution_count": null,
   "metadata": {},
   "outputs": [],
   "source": []
  },
  {
   "cell_type": "markdown",
   "metadata": {},
   "source": [
    "Récupérer le datastore par défaut avec la méthode get_default_datastore"
   ]
  },
  {
   "cell_type": "code",
   "execution_count": null,
   "metadata": {},
   "outputs": [],
   "source": []
  },
  {
   "cell_type": "markdown",
   "metadata": {},
   "source": [
    "## Les datasets\n",
    "\n",
    "Il existe aussi une classe pour gérer les dataset. \n",
    "\n",
    "A l'aide du datastore, uploader le fichier dataset1.csv"
   ]
  },
  {
   "cell_type": "code",
   "execution_count": null,
   "metadata": {},
   "outputs": [],
   "source": []
  },
  {
   "cell_type": "markdown",
   "metadata": {},
   "source": [
    "A l'aide du module Dataset.Tabular et  de la méthode from_delimited_files, récupérer une référence vers le fichier que vous avez téléchargé"
   ]
  },
  {
   "cell_type": "code",
   "execution_count": null,
   "metadata": {},
   "outputs": [],
   "source": []
  },
  {
   "cell_type": "markdown",
   "metadata": {},
   "source": [
    "Lister tous vos dataset dans le workspace"
   ]
  },
  {
   "cell_type": "code",
   "execution_count": null,
   "metadata": {},
   "outputs": [],
   "source": []
  },
  {
   "cell_type": "markdown",
   "metadata": {},
   "source": [
    "Register son dataset "
   ]
  },
  {
   "cell_type": "code",
   "execution_count": null,
   "metadata": {},
   "outputs": [],
   "source": []
  },
  {
   "cell_type": "markdown",
   "metadata": {},
   "source": [
    "Afficher à nouveau la liste des dataset et vérifier qu'il est bien présent aussi sur le portail azure dans le workspace."
   ]
  },
  {
   "cell_type": "code",
   "execution_count": null,
   "metadata": {},
   "outputs": [],
   "source": []
  },
  {
   "cell_type": "markdown",
   "metadata": {},
   "source": [
    "Quelle différence entre un dataset et un datastore ? "
   ]
  },
  {
   "cell_type": "code",
   "execution_count": null,
   "metadata": {},
   "outputs": [],
   "source": []
  },
  {
   "cell_type": "markdown",
   "metadata": {},
   "source": [
    "## Experiment et sauvegarde d'information\n",
    "\n",
    "A l'aide de la classe **Experiment**, créer une experience reliée au workspace **ws** et lui donner le nom \"myexperiment\". Vérifier que l'experiment existe sur le portail."
   ]
  },
  {
   "cell_type": "code",
   "execution_count": null,
   "metadata": {},
   "outputs": [],
   "source": []
  },
  {
   "cell_type": "markdown",
   "metadata": {},
   "source": [
    "Quelles sont les différentes méthodes de la classe Experiment ?"
   ]
  },
  {
   "cell_type": "code",
   "execution_count": null,
   "metadata": {},
   "outputs": [],
   "source": []
  },
  {
   "cell_type": "markdown",
   "metadata": {},
   "source": [
    "A l'aide de la bonne méthode de classe, lister les experiments qui existent via le sdk, elle devrait apparaître."
   ]
  },
  {
   "cell_type": "code",
   "execution_count": null,
   "metadata": {},
   "outputs": [],
   "source": []
  },
  {
   "cell_type": "markdown",
   "metadata": {},
   "source": [
    "A l'aide de la méthode start_logging() récupérer une instance de l'objet Run et la stocker dans la variable **run**\n",
    "\n"
   ]
  },
  {
   "cell_type": "code",
   "execution_count": null,
   "metadata": {},
   "outputs": [],
   "source": []
  },
  {
   "cell_type": "markdown",
   "metadata": {},
   "source": [
    "Aller sur le portail azure et vérifier que l'experience est lancée"
   ]
  },
  {
   "cell_type": "markdown",
   "metadata": {},
   "source": [
    "Sauvergarder une donnée quelconque dans le run avec run.log"
   ]
  },
  {
   "cell_type": "code",
   "execution_count": null,
   "metadata": {},
   "outputs": [],
   "source": []
  },
  {
   "cell_type": "markdown",
   "metadata": {},
   "source": [
    "Dite à azure que le run est terminé en utilisant la méthode run.complete()"
   ]
  },
  {
   "cell_type": "code",
   "execution_count": null,
   "metadata": {},
   "outputs": [],
   "source": []
  },
  {
   "cell_type": "markdown",
   "metadata": {},
   "source": [
    "Quelles sont les différentes méthodes de la classe Run ? "
   ]
  },
  {
   "cell_type": "code",
   "execution_count": null,
   "metadata": {},
   "outputs": [],
   "source": []
  },
  {
   "cell_type": "markdown",
   "metadata": {},
   "source": [
    "Compléter le code suivant pour qu'il sauvegarde à chaque entraînement dans azml, la MSE et le coefficient r^2 de ce modèle (complétement inutile). Vous pouvez utiliser pour cela la méthode .log"
   ]
  },
  {
   "cell_type": "code",
   "execution_count": null,
   "metadata": {},
   "outputs": [],
   "source": []
  },
  {
   "cell_type": "markdown",
   "metadata": {},
   "source": [
    "Executer plusieurs fois la fonction et vérifier que les résultats sont bien présents dans votre workspace dans le portail"
   ]
  },
  {
   "cell_type": "markdown",
   "metadata": {},
   "source": [
    "Utiliser RunDetails pour afficher les détails d'une exécution."
   ]
  },
  {
   "cell_type": "code",
   "execution_count": null,
   "metadata": {},
   "outputs": [],
   "source": []
  },
  {
   "cell_type": "markdown",
   "metadata": {},
   "source": [
    "Vous pouvez aussi utiliser le sdk pour récupérer les informations stockée pour une experience. Coder une fonction `print_experiment_data(experiment)` qui prend en argument une experience et affiche toutes les données de tous les run "
   ]
  },
  {
   "cell_type": "code",
   "execution_count": null,
   "metadata": {},
   "outputs": [],
   "source": []
  },
  {
   "cell_type": "markdown",
   "metadata": {},
   "source": [
    "Archivez votre experience avec la méthode archive, et vérifiez qu'elle apparaît comme archivée sur le portail."
   ]
  },
  {
   "cell_type": "code",
   "execution_count": null,
   "metadata": {},
   "outputs": [],
   "source": []
  },
  {
   "cell_type": "markdown",
   "metadata": {},
   "source": [
    "Réactiver l'expérience avec la méthode reactivate."
   ]
  },
  {
   "cell_type": "code",
   "execution_count": null,
   "metadata": {},
   "outputs": [],
   "source": []
  },
  {
   "cell_type": "markdown",
   "metadata": {},
   "source": [
    "Récupérer les détails de l'experience archivée\n",
    "\n",
    "\n"
   ]
  },
  {
   "cell_type": "code",
   "execution_count": null,
   "metadata": {},
   "outputs": [],
   "source": []
  },
  {
   "cell_type": "markdown",
   "metadata": {},
   "source": [
    "## Manipulation des modèles: Sauvegarde et autre\n",
    "\n",
    "Azure ml service, permet de se constituer une banque de modèles entraînés. Lister et expliquer les différents paramètres de la méthode register de la classe Model"
   ]
  },
  {
   "cell_type": "markdown",
   "metadata": {},
   "source": [
    "Model.register('model_blabla.pkl')"
   ]
  },
  {
   "cell_type": "markdown",
   "metadata": {},
   "source": [
    "A l'aide de la méthode register, uploader le modèle entraîné via la fonction train_model au dessus. Spécifier le maximum de paramètres"
   ]
  },
  {
   "cell_type": "code",
   "execution_count": null,
   "metadata": {},
   "outputs": [],
   "source": []
  },
  {
   "cell_type": "markdown",
   "metadata": {},
   "source": [
    "Vérifier que le modèle est bien dans le workspace"
   ]
  },
  {
   "cell_type": "code",
   "execution_count": null,
   "metadata": {},
   "outputs": [],
   "source": []
  },
  {
   "cell_type": "markdown",
   "metadata": {},
   "source": [
    "Faire une fonction `get_last_model` qui télécharge le dernier modèle présent dans un workspace. Cette fonction pourrait être utilisée dans un environnement de production pour récupérer le dernier modèle uploadé et faire donc une mise en production. "
   ]
  },
  {
   "cell_type": "code",
   "execution_count": null,
   "metadata": {},
   "outputs": [],
   "source": []
  }
 ],
 "metadata": {
  "kernelspec": {
   "display_name": "Python 3",
   "language": "python",
   "name": "python3"
  },
  "language_info": {
   "codemirror_mode": {
    "name": "ipython",
    "version": 3
   },
   "file_extension": ".py",
   "mimetype": "text/x-python",
   "name": "python",
   "nbconvert_exporter": "python",
   "pygments_lexer": "ipython3",
   "version": "3.8.13"
  }
 },
 "nbformat": 4,
 "nbformat_minor": 4
}
