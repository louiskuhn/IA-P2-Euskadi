{
 "cells": [
  {
   "cell_type": "markdown",
   "metadata": {},
   "source": [
    "# Introduction à Azure Machine learning\n",
    "Laurent Cetinsoy \n",
    "\n",
    "Azure machine learning (azml), c'est bien, on est tous d'accord. \n",
    "\n",
    "Le but de ce notebook est d'acquérir les premières bases. \n",
    "\n",
    "Azml permet de faire plusieurs choses : \n",
    "\n",
    "- sauvegarder et historiser les résultats d'entraînement de modèles ou autre\n",
    "\n",
    "- sauvegarder et se constituer une base de donnée de modèles entraîné\n",
    "\n",
    "- Mettre en production facilement des modèles entraîné et les rendre accessible via des web services\n",
    "\n",
    "- faire du AutoML\n",
    "\n",
    "- Faire des modèles via interface graphique\n",
    "\n",
    "Il est possible d'utiliser azml via le portail et les éditeurs graphiques ou de les utiliser via des librairies (sdk) python ou R (je crois, mais qui veut faire du R anw à part Samira ? )\n",
    "\n",
    "Dans ce notebook on va apprendre à utiliser les bases du SDK \n",
    "\n",
    "Le notebook est utilisable sur votre pc ou sur une VM \n"
   ]
  },
  {
   "cell_type": "markdown",
   "metadata": {},
   "source": [
    "**La liste des principales classe du coeur de la librairie sont disponibles ici :**\n",
    "\n",
    "https://docs.microsoft.com/fr-fr/python/api/azureml-core/azureml.core?view=azure-ml-py"
   ]
  },
  {
   "cell_type": "markdown",
   "metadata": {},
   "source": [
    "voilà un superbe diagramme qui résume un peu le tout graphiquement : \n",
    "\n",
    "https://app.diagrams.net/?lightbox=1&highlight=0000ff&edit=_blank&layers=1&nav=1#R7Vzbcts2EP0aTZ2HeCheROlRlpy2U2fqqZKm7UsGIiEKNgSwICjL%2BfriQvAG2lEcSbQy9YNNLEkI2LO7OLuAPPBmm93PDKTr9zSGeOA68W7gzQeuG4ah%2BC0Fj1owcnwtSBiKtWhYCRboCyyETiHNUQyzxoOcUsxR2hRGlBAY8YYMMEYfmo%2BtKG5%2BagoSaAkWEcC29BOK%2BVpLx4FTyX%2BBKFmbTx46xZ0NMA8XgmwNYvpQE3nXA2%2FGKOX6arObQSx1Z%2FSi33v3xN1yYAwSvs8L7B%2B4Wn74%2BNGbXn14eDdfjvFi%2B3ZYdJPxRzNjGAsFFE3K%2BJomlAB8XUmvGM1JDGW3jmhVz9xQmgrhUAjvIOePBZog51SI1nyDi7twh%2Fhfteu%2FZVeXQdGa74qeVePRNAhnj39VD8rm3%2FV71WuqZd7T85OTelJvRgc0ZxF8TlmF%2FQGWQP7ccxW8wi0g3UAxIPEigxhwtG0OBBQGmpTPVRiKiwLGb4HU6xNS59IN6qjui6kYdR3USxE3nsdVtW4hQ0JrkPUH9rhXrIN%2BsX4R1E33vZyMvP%2Bh3gPqsF%2BowxdhHTrjFtph8D%2Fae6Ct%2B90CnBefdCs6cm5%2Bn01v5LwfBZJk4EoZ%2BJIzuMFvs%2FjeshDBOVJ5mTIawUwM8uphjThcpECp6EFQtibeSxDdJ8pqfs85RgQW8mI4kHG4ex4BW2PmBUOECibohUX7oeJV5TPrGqcaOUdSsmspeQ44yCIkZoQyDp9UZ77B04hTYZxXUiVI0MUbsIT4lmaIIwGMN19SzulGPIDljatSrTOK5XuiN2%2Blfmp9TDFK5LuctlChGotZyXGdA0HiNyHxRzYk3ikRGVuIzDDNYyG6UGYuebXsJINsiyL4ZlCS61pUxFgkBzL6Gbgi1cdXbf8ACvWDpkKHwZ42Pj6WRk0eVVPpwB1h8bFXMdqKy0ReThvKlYHEMU8tmXnISMQ4aq929CZyMc4ohiY4tVB7qp8nnA0RsQyINWshHE4laz3GMM9pOYzXge%2BkA9%2FS0w4PsB3FPsAdt9TJpbChJ1CEmwgStdBacWiD4ljTCJihL2CpupKhJ6UCFDWR4GoQzGVfgjlkmkQcypVcv6lqf2Sp2u%2FQtHs0RfuWohcgF3NMAIuF%2FlxHFiqEqQ9m3mA64Qz9m0vBmeMwNK8UOLihb5t8eFIgRhYQH1NMQQMEGisYxlg1JacESnBNNDznD4w3bPEpkyF8LRYdDxh7%2BX4vsgu1AEAiJ8eoXMtz0kSoXyhWCOM6KxtHMIokexBr2D2s3VmOA7m%2BHwQ8d9yMbu54aIMXnBK8LiZ1gvyyShXHYasw0HuiOBmcQ6Y4sZxuLlwgITIatgCt4Bp%2BnUb14hejNoF2e08SR334xQHN%2BCmN722exau3MpBWSAVhE6lyx8Z0od2meKsFQjmM78DFLpFMhRrf3%2FwAVl%2Fqsj%2Br77ewXC81fmVf6JCe4v6YnmJniNe7FAv2tEQYcc2HfwCv8ZwODnVar%2FHPxWtqvGsyatKuvjfeXO8caJcZZT0J5cKdMpWE6qyTUA6zJaX3snEBtjCqpiVPLGzSnMsa5vl73tiuzZzY80ILjo7C5C3OMwRzpioEgCCdgDIFVvxTXuHXXbYU2psOvqsy2s%2Brw0sx6muZdGMqUmY5P22LmdxDchbz33qblSuHNtWj0U5DJQzyQp0nkjU0VdRpg7KoQOll4J41cOnt0tmlrysHV2WOwsvrji93LdSFqpBr7ceAZEaitytOMAdfzmGuPzkn8qP%2FfC9%2BCZXjiBKteWCmaIZ68GGdaxmuvkc27oh1w%2BMFO7vOprxbLByJDlNzNYVHoGgozfUcM6TcXa7fMGUi0p2v7g2zbpVAO7YvO%2Fcvj1ZE8%2FohgP0fjXP3rZV5Xq%2BszS6WfaLsPlP06rt42AGseRw0jblrb%2FGkpMoMoKatGxlf9AYxzAyLpZnOIcuVOsUQEdOIMMiyH2EjLBw18Akmdrp54mjTS2nyFUQbb98zXF7QZ7Tx7BLl9S5VmTOxN%2BhPHW48N7x8dRHHrkP1dp7V3Hm1x9E9d18v6LVSYoZZ84I%2FVGrUuweMnFdn%2F3ZVqSO3WjG6%2BSwytBVKLqK1RN9kmw8VmXH09vrkTv0RA3YSpi5dnTUbqXpvhaI1UpWPu4ySN6%2B8nhExCFRKfRGxinmoiRCabyHIW6p48%2BJs9DUeQmsd2gyDwOYhw66E1BDMw5ttYJltJqIS%2F4xpkiCSXMiSByJxUc0pbQ98UbWcf%2FOfdPkBqtURkqaFCoopFszI7FOMwEbqmiyzVOlT11LEKKEKaWRLUWkOdHmn7jLZsk3gDMBuZwWh14G2iWNN1nm0IGWXHzqcVEAvPVQAulEQqFwgkwfmyvNyGvSYkuJMVnGet4%2BQwoEaLbijulhXnCKDHMgGUH9UWBGWdJLwKPMqDHWUSwUTkMNAqvypfUhbuzJynYitEEHfpr8zsP6g9Z2B0O%2Bo8HSet50cy%2Fr9fr4x2T%2Fd9Pelm36vJR4zzOejU%2BklRnBNtohRojOz0l%2BW3%2By3t414V3Aw6ZvMrEmw%2FknOhWjwXG3KiBvSgUF9U6HoIIUkBmJZzHS8LDcPGocoHRmkljCjqHOx2ysInJqCT5qr29DppOAdy9vx%2FLuLgp9DqGwdnBv2Twt9%2B8R88f8B%2Bi59%2BG2z6%2F2YoW9T6F%2FJCjJJhmcq1etda%2B3F%2BDVozf4qQEdMvpG73p%2FgcvH894%2Bs91rk1cRiTB8VfdW7560QrIN3TKN79Qys77q%2FleouuJzkklwwt5enpievlozb8PdeLvE7Tn1ILEKghANVD5BrpgZSfxNBYbmxvpeQR1zvj7YX1stBR6nq3DYvPGfSAG8STizsvC7sXrB5IZrVfzXRhxirfw3jXf8H"
   ]
  },
  {
   "cell_type": "markdown",
   "metadata": {},
   "source": [
    "## Workspace \n",
    "\n",
    "Un workspace azml est tout simplement un espace de travail dans lequel seront regroupés les informations et outils. On peut en créer autant qu'on veut. Soit via le portail. Soit via le SDK\n",
    "\n",
    "Connectez vous sur le portail et créer un workspace. Aller dessus et cliquer sur \"Download configuration\" et le mettre dans le même dosser que ce beau notebook"
   ]
  },
  {
   "cell_type": "markdown",
   "metadata": {},
   "source": [
    "Une fois que c'est fait. Créer une variable workspace à l'aide de la méthode from_config de la class Workspace et le stocker dans la variable **ws**"
   ]
  },
  {
   "cell_type": "code",
   "execution_count": 1,
   "metadata": {},
   "outputs": [],
   "source": [
    "from azureml.core import Workspace"
   ]
  },
  {
   "cell_type": "code",
   "execution_count": 2,
   "metadata": {},
   "outputs": [],
   "source": [
    "ws = Workspace.from_config(\"config/config.json\")"
   ]
  },
  {
   "cell_type": "markdown",
   "metadata": {},
   "source": [
    "Afficher les détail du workspace avec la méthode get_details()"
   ]
  },
  {
   "cell_type": "code",
   "execution_count": 3,
   "metadata": {},
   "outputs": [
    {
     "data": {
      "text/plain": [
       "{'id': '/subscriptions/9b9c4a7a-4f40-4fc2-ab99-0bbe0c4064bd/resourceGroups/azml_lk/providers/Microsoft.MachineLearningServices/workspaces/azml_lk_ws',\n",
       " 'name': 'azml_lk_ws',\n",
       " 'identity': {'principal_id': '05a4021a-f67d-46ad-9eac-ef7b61a6ec0f',\n",
       "  'tenant_id': 'a2e466aa-4f86-4545-b5b8-97da7c8febf3',\n",
       "  'type': 'SystemAssigned'},\n",
       " 'location': 'westeurope',\n",
       " 'type': 'Microsoft.MachineLearningServices/workspaces',\n",
       " 'tags': {},\n",
       " 'sku': 'Basic',\n",
       " 'workspaceid': '932b573a-23e5-43d4-aa02-de8ac5fde3cb',\n",
       " 'sdkTelemetryAppInsightsKey': '9ac578de-874f-4fea-85bc-7e4cefd0d47f',\n",
       " 'description': '',\n",
       " 'friendlyName': 'azml_lk_ws',\n",
       " 'keyVault': '/subscriptions/9b9c4a7a-4f40-4fc2-ab99-0bbe0c4064bd/resourceGroups/azml_lk/providers/Microsoft.Keyvault/vaults/azmllkws9874368069',\n",
       " 'applicationInsights': '/subscriptions/9b9c4a7a-4f40-4fc2-ab99-0bbe0c4064bd/resourceGroups/azml_lk/providers/Microsoft.insights/components/azmllkws2254543897',\n",
       " 'storageAccount': '/subscriptions/9b9c4a7a-4f40-4fc2-ab99-0bbe0c4064bd/resourceGroups/azml_lk/providers/Microsoft.Storage/storageAccounts/azmllkws0989676561',\n",
       " 'hbiWorkspace': False,\n",
       " 'provisioningState': 'Succeeded',\n",
       " 'discoveryUrl': 'https://westeurope.api.azureml.ms/discovery',\n",
       " 'notebookInfo': {'fqdn': 'ml-azmllkws-westeurope-932b573a-23e5-43d4-aa02-de8ac5fde3cb.westeurope.notebooks.azure.net',\n",
       "  'resource_id': '64ffffd00ebf41198e370a95664c0570'},\n",
       " 'v1LegacyMode': False}"
      ]
     },
     "execution_count": 3,
     "metadata": {},
     "output_type": "execute_result"
    }
   ],
   "source": [
    "ws.get_details()"
   ]
  },
  {
   "cell_type": "code",
   "execution_count": 4,
   "metadata": {},
   "outputs": [
    {
     "data": {
      "text/plain": [
       "['DEFAULT_CPU_CLUSTER_CONFIGURATION',\n",
       " 'DEFAULT_CPU_CLUSTER_NAME',\n",
       " 'DEFAULT_GPU_CLUSTER_CONFIGURATION',\n",
       " 'DEFAULT_GPU_CLUSTER_NAME',\n",
       " '__class__',\n",
       " '__delattr__',\n",
       " '__dict__',\n",
       " '__dir__',\n",
       " '__doc__',\n",
       " '__eq__',\n",
       " '__format__',\n",
       " '__ge__',\n",
       " '__getattribute__',\n",
       " '__gt__',\n",
       " '__hash__',\n",
       " '__init__',\n",
       " '__init_subclass__',\n",
       " '__le__',\n",
       " '__lt__',\n",
       " '__module__',\n",
       " '__ne__',\n",
       " '__new__',\n",
       " '__reduce__',\n",
       " '__reduce_ex__',\n",
       " '__repr__',\n",
       " '__setattr__',\n",
       " '__sizeof__',\n",
       " '__str__',\n",
       " '__subclasshook__',\n",
       " '__weakref__',\n",
       " '_auth',\n",
       " '_auth_object',\n",
       " '_create_legacy',\n",
       " '_discovery_url_internal',\n",
       " '_fetch_subscriptions',\n",
       " '_from_service_context',\n",
       " '_get_create_status_dict',\n",
       " '_get_or_create',\n",
       " '_get_resource_name_from_workspace_name',\n",
       " '_get_scope_details',\n",
       " '_get_workspace_from_autorest_workspace',\n",
       " '_initialize_folder',\n",
       " '_internal_sdk_telemetry_app_insights_key',\n",
       " '_list_legacy',\n",
       " '_location',\n",
       " '_process_autorest_workspace_list',\n",
       " '_rand_gen',\n",
       " '_resource_group',\n",
       " '_sdk_telemetry_app_insights_key',\n",
       " '_service_context',\n",
       " '_share',\n",
       " '_sku',\n",
       " '_subscription_id',\n",
       " '_sync_keys',\n",
       " '_tags',\n",
       " '_to_dict',\n",
       " '_workspace_autorest_object',\n",
       " '_workspace_id',\n",
       " '_workspace_id_internal',\n",
       " '_workspace_name',\n",
       " '_workspace_parameters_input',\n",
       " 'add_private_endpoint',\n",
       " 'compute_targets',\n",
       " 'create',\n",
       " 'datasets',\n",
       " 'datastores',\n",
       " 'delete',\n",
       " 'delete_connection',\n",
       " 'delete_private_endpoint_connection',\n",
       " 'diagnose_workspace',\n",
       " 'discovery_url',\n",
       " 'environments',\n",
       " 'experiments',\n",
       " 'from_config',\n",
       " 'get',\n",
       " 'get_connection',\n",
       " 'get_default_compute_target',\n",
       " 'get_default_datastore',\n",
       " 'get_default_keyvault',\n",
       " 'get_details',\n",
       " 'get_mlflow_tracking_uri',\n",
       " 'get_run',\n",
       " 'images',\n",
       " 'linked_services',\n",
       " 'list',\n",
       " 'list_connections',\n",
       " 'list_keys',\n",
       " 'location',\n",
       " 'models',\n",
       " 'name',\n",
       " 'private_endpoints',\n",
       " 'resource_group',\n",
       " 'service_context',\n",
       " 'set_connection',\n",
       " 'set_default_datastore',\n",
       " 'setup',\n",
       " 'sku',\n",
       " 'subscription_id',\n",
       " 'sync_keys',\n",
       " 'tags',\n",
       " 'update',\n",
       " 'update_dependencies',\n",
       " 'webservices',\n",
       " 'write_config']"
      ]
     },
     "execution_count": 4,
     "metadata": {},
     "output_type": "execute_result"
    }
   ],
   "source": [
    "dir(ws)"
   ]
  },
  {
   "cell_type": "markdown",
   "metadata": {},
   "source": [
    "Création via python : Créer un nouveau workspace via le python sdk (et donc sans faire \"new workspace\" dans le portial) a l'aide de la méthode create de la classe Workspace. Vérifiez qu'il existe bien sur le portail.\n"
   ]
  },
  {
   "cell_type": "code",
   "execution_count": 5,
   "metadata": {},
   "outputs": [
    {
     "name": "stdout",
     "output_type": "stream",
     "text": [
      "Deploying AppInsights with name azmllkwsinsights1129037a.\n",
      "Deployed AppInsights with name azmllkwsinsights1129037a. Took 4.53 seconds.\n",
      "Deploying StorageAccount with name azmllkwsstorage64ba9097f.\n",
      "Deploying KeyVault with name azmllkwskeyvaultcc2c5096.\n",
      "Deployed KeyVault with name azmllkwskeyvaultcc2c5096. Took 17.77 seconds.\n",
      "Deploying Workspace with name azml_lk_ws2.\n",
      "Deployed StorageAccount with name azmllkwsstorage64ba9097f. Took 23.3 seconds.\n",
      "Deployed Workspace with name azml_lk_ws2. Took 19.25 seconds.\n"
     ]
    }
   ],
   "source": [
    "ws2 = Workspace.create(\n",
    "    name=\"azml_lk_ws2\",\n",
    "    subscription_id=\"9b9c4a7a-4f40-4fc2-ab99-0bbe0c4064bd\",\n",
    "    resource_group=\"azml_lk\") #, location=\"westeurope\""
   ]
  },
  {
   "cell_type": "markdown",
   "metadata": {},
   "source": [
    "A l'aide de la méthode de classe list de Workspace, afficher la liste de tous les workspace de votre souscription"
   ]
  },
  {
   "cell_type": "code",
   "execution_count": 6,
   "metadata": {},
   "outputs": [
    {
     "data": {
      "text/plain": [
       "{'azml_lk_ws': [Workspace.create(name='azml_lk_ws', subscription_id='9b9c4a7a-4f40-4fc2-ab99-0bbe0c4064bd', resource_group='azml_lk')],\n",
       " 'azml_lk_ws2': [Workspace.create(name='azml_lk_ws2', subscription_id='9b9c4a7a-4f40-4fc2-ab99-0bbe0c4064bd', resource_group='azml_lk')]}"
      ]
     },
     "execution_count": 6,
     "metadata": {},
     "output_type": "execute_result"
    }
   ],
   "source": [
    "Workspace.list(subscription_id=\"9b9c4a7a-4f40-4fc2-ab99-0bbe0c4064bd\", resource_group=\"azml_lk\")"
   ]
  },
  {
   "cell_type": "markdown",
   "metadata": {},
   "source": [
    "A l'aide de la méthode write_config, générer le fichier json de config pour ce workspace numéro 2 "
   ]
  },
  {
   "cell_type": "code",
   "execution_count": 7,
   "metadata": {},
   "outputs": [
    {
     "name": "stdout",
     "output_type": "stream",
     "text": [
      "total 12\n",
      "drwxrwxr-x 2 elka elka 4096 juil.  1 15:13 .\n",
      "drwxrwxr-x 8 elka elka 4096 juil.  1 15:13 ..\n",
      "-rw-rw-r-- 1 elka elka  166 juil.  1 15:13 config.json\n"
     ]
    }
   ],
   "source": [
    "ws2.write_config()\n",
    "!ls -la .azureml"
   ]
  },
  {
   "cell_type": "code",
   "execution_count": 8,
   "metadata": {},
   "outputs": [],
   "source": [
    "!rm -r .azureml"
   ]
  },
  {
   "cell_type": "markdown",
   "metadata": {},
   "source": [
    "Supprimer le premier workspace créé avec le sdk. Fixer le paramètre pour supprimer également les dépendancecs (compte de stockage, etc...). Vérifier qu'il est bien supprimé sur le portail et avec la méthode list"
   ]
  },
  {
   "cell_type": "code",
   "execution_count": 9,
   "metadata": {},
   "outputs": [],
   "source": [
    "ws2.delete(delete_dependent_resources=True)"
   ]
  },
  {
   "cell_type": "code",
   "execution_count": 10,
   "metadata": {},
   "outputs": [
    {
     "data": {
      "text/plain": [
       "{'azml_lk_ws': [Workspace.create(name='azml_lk_ws', subscription_id='9b9c4a7a-4f40-4fc2-ab99-0bbe0c4064bd', resource_group='azml_lk')]}"
      ]
     },
     "execution_count": 10,
     "metadata": {},
     "output_type": "execute_result"
    }
   ],
   "source": [
    "Workspace.list(subscription_id=\"9b9c4a7a-4f40-4fc2-ab99-0bbe0c4064bd\", resource_group=\"azml_lk\")"
   ]
  },
  {
   "cell_type": "markdown",
   "metadata": {},
   "source": [
    "## Les compute target\n",
    "\n",
    "Qu'est ce qu'un compute target ? A quoi ça sert dans azure ml service ? "
   ]
  },
  {
   "cell_type": "markdown",
   "metadata": {},
   "source": [
    "*Un compute c'est un objet qui représente une ressource de calcul comme une VM ou un cluster (sur azure le plus souvent). Il existe des compute target dédiées à l'entraînement et d'autres dédiés à la prédiction*"
   ]
  },
  {
   "cell_type": "markdown",
   "metadata": {},
   "source": [
    "Avec la bonne méthode, afficher les compute target du workspace. Il ne devrait pas y en avoir à ce stade, c'est normal. Pour le moment on ne va pas les utiliser."
   ]
  },
  {
   "cell_type": "code",
   "execution_count": 11,
   "metadata": {},
   "outputs": [
    {
     "data": {
      "text/plain": [
       "(dict, {})"
      ]
     },
     "execution_count": 11,
     "metadata": {},
     "output_type": "execute_result"
    }
   ],
   "source": [
    "type(ws.compute_targets), ws.compute_targets"
   ]
  },
  {
   "cell_type": "markdown",
   "metadata": {},
   "source": [
    "## Les datastore\n",
    "\n",
    "comme vous le savez, azure permet de stocker des données ... comme avec blob storage par exemple ou des base de données managées. Il est possible de relier à azure ml service, une source de donnée présente sur azure à l'aide d'un Datastore. \n",
    "\n",
    "Afficher les datastore du workspace. Y'en-a-t-il, à quoi correspondent-ils ?"
   ]
  },
  {
   "cell_type": "code",
   "execution_count": 12,
   "metadata": {},
   "outputs": [
    {
     "data": {
      "text/plain": [
       "{'workspaceartifactstore': {\n",
       "   \"name\": \"workspaceartifactstore\",\n",
       "   \"container_name\": \"azureml\",\n",
       "   \"account_name\": \"azmllkws0989676561\",\n",
       "   \"protocol\": \"https\",\n",
       "   \"endpoint\": \"core.windows.net\"\n",
       " },\n",
       " 'workspacefilestore': {\n",
       "   \"name\": \"workspacefilestore\",\n",
       "   \"container_name\": \"azureml-filestore-932b573a-23e5-43d4-aa02-de8ac5fde3cb\",\n",
       "   \"account_name\": \"azmllkws0989676561\",\n",
       "   \"protocol\": \"https\",\n",
       "   \"endpoint\": \"core.windows.net\"\n",
       " },\n",
       " 'workspaceworkingdirectory': {\n",
       "   \"name\": \"workspaceworkingdirectory\",\n",
       "   \"container_name\": \"code-391ff5ac-6576-460f-ba4d-7e03433c68b6\",\n",
       "   \"account_name\": \"azmllkws0989676561\",\n",
       "   \"protocol\": \"https\",\n",
       "   \"endpoint\": \"core.windows.net\"\n",
       " },\n",
       " 'workspaceblobstore': {\n",
       "   \"name\": \"workspaceblobstore\",\n",
       "   \"container_name\": \"azureml-blobstore-932b573a-23e5-43d4-aa02-de8ac5fde3cb\",\n",
       "   \"account_name\": \"azmllkws0989676561\",\n",
       "   \"protocol\": \"https\",\n",
       "   \"endpoint\": \"core.windows.net\"\n",
       " }}"
      ]
     },
     "execution_count": 12,
     "metadata": {},
     "output_type": "execute_result"
    }
   ],
   "source": [
    "ws.datastores"
   ]
  },
  {
   "cell_type": "markdown",
   "metadata": {},
   "source": [
    "Récupérer le datastore par défaut avec la méthode get_default_datastore"
   ]
  },
  {
   "cell_type": "code",
   "execution_count": 13,
   "metadata": {},
   "outputs": [
    {
     "data": {
      "text/plain": [
       "azureml.data.azure_storage_datastore.AzureBlobDatastore"
      ]
     },
     "execution_count": 13,
     "metadata": {},
     "output_type": "execute_result"
    }
   ],
   "source": [
    "datastore = ws.get_default_datastore()\n",
    "type(datastore)"
   ]
  },
  {
   "cell_type": "markdown",
   "metadata": {},
   "source": [
    "## Les datasets\n",
    "\n",
    "Il existe aussi une classe pour gérer les dataset. \n",
    "\n",
    "A l'aide du datastore, uploader le fichier dataset1.csv"
   ]
  },
  {
   "cell_type": "markdown",
   "metadata": {},
   "source": [
    "**Méthodes dépréciées mais qui fonctionnent toujours pour le moment :**\n",
    "```python\n",
    "# pour charger un fichier\n",
    "datastore.upload_files(\n",
    "    files =[\"data/dataset1.csv\"],\n",
    "    target_path=\"dataset1\"\n",
    ")\n",
    "\n",
    "# pour charger un dossier\n",
    "datastore.upload(\n",
    "    src_dir='./data',\n",
    "    target_path='datasets',\n",
    "    overwrite=True,\n",
    "    )\n",
    "```"
   ]
  },
  {
   "cell_type": "code",
   "execution_count": 14,
   "metadata": {},
   "outputs": [
    {
     "name": "stdout",
     "output_type": "stream",
     "text": [
      "Validating arguments.\n",
      "Arguments validated.\n",
      "Uploading file to /\n",
      "Filtering files with pattern matching *dataset1.csv\n",
      "Uploading an estimated of 1 files\n",
      "Uploading ./data/dataset1.csv\n",
      "Uploaded ./data/dataset1.csv, 1 files out of an estimated total of 1\n",
      "Uploaded 1 files\n",
      "Creating new dataset\n"
     ]
    },
    {
     "data": {
      "text/plain": [
       "{\n",
       "  \"source\": [\n",
       "    \"('workspaceblobstore', '//')\"\n",
       "  ],\n",
       "  \"definition\": [\n",
       "    \"GetDatastoreFiles\"\n",
       "  ]\n",
       "}"
      ]
     },
     "execution_count": 14,
     "metadata": {},
     "output_type": "execute_result"
    }
   ],
   "source": [
    "from azureml.core import Dataset\n",
    "# un seul fichier avec upload_directory\n",
    "Dataset.File.upload_directory(\n",
    "    src_dir=\"./data\",\n",
    "    target=datastore,\n",
    "    pattern=\"*dataset1.csv\",\n",
    "    overwrite=True,\n",
    "    show_progress=True\n",
    ")"
   ]
  },
  {
   "cell_type": "code",
   "execution_count": 15,
   "metadata": {},
   "outputs": [
    {
     "name": "stdout",
     "output_type": "stream",
     "text": [
      "Validating arguments.\n",
      "Arguments validated.\n",
      "Uploading file to data\n",
      "Uploading an estimated of 4 files\n",
      "Uploading ./data/dataset1.csv\n",
      "Uploaded ./data/dataset1.csv, 1 files out of an estimated total of 4\n",
      "Uploading ./data/house.csv\n",
      "Uploaded ./data/house.csv, 2 files out of an estimated total of 4\n",
      "Uploading ./data/dataset2.csv\n",
      "Uploaded ./data/dataset2.csv, 3 files out of an estimated total of 4\n",
      "Uploading ./data/.ipynb_checkpoints/dataset2-checkpoint.csv\n",
      "Uploaded ./data/.ipynb_checkpoints/dataset2-checkpoint.csv, 4 files out of an estimated total of 4\n",
      "Uploaded 4 files\n",
      "Creating new dataset\n"
     ]
    },
    {
     "data": {
      "text/plain": [
       "{\n",
       "  \"source\": [\n",
       "    \"('workspaceblobstore', '/data')\"\n",
       "  ],\n",
       "  \"definition\": [\n",
       "    \"GetDatastoreFiles\"\n",
       "  ]\n",
       "}"
      ]
     },
     "execution_count": 15,
     "metadata": {},
     "output_type": "execute_result"
    }
   ],
   "source": [
    "# tout un dossier avec upload_directory\n",
    "Dataset.File.upload_directory(\n",
    "    src_dir=\"./data\",\n",
    "    target=(datastore, \"data\"),\n",
    "    overwrite=True,\n",
    "    show_progress=True\n",
    ")"
   ]
  },
  {
   "cell_type": "markdown",
   "metadata": {},
   "source": [
    "A l'aide du module Dataset.Tabular et  de la méthode from_delimited_files, récupérer une référence vers le fichier que vous avez téléchargé"
   ]
  },
  {
   "cell_type": "code",
   "execution_count": 16,
   "metadata": {},
   "outputs": [
    {
     "name": "stdout",
     "output_type": "stream",
     "text": [
      "<class 'azureml.data.tabular_dataset.TabularDataset'>\n"
     ]
    },
    {
     "data": {
      "text/plain": [
       "{\n",
       "  \"source\": [\n",
       "    \"('workspaceblobstore', 'data/dataset1.csv')\"\n",
       "  ],\n",
       "  \"definition\": [\n",
       "    \"GetDatastoreFiles\",\n",
       "    \"ParseDelimited\",\n",
       "    \"DropColumns\",\n",
       "    \"SetColumnTypes\"\n",
       "  ]\n",
       "}"
      ]
     },
     "execution_count": 16,
     "metadata": {},
     "output_type": "execute_result"
    }
   ],
   "source": [
    "from azureml.core import Dataset\n",
    "\n",
    "data1 = Dataset.Tabular.from_delimited_files(\n",
    "    path=[(datastore, \"data/dataset1.csv\")]\n",
    ")\n",
    "print(type(data1))\n",
    "data1"
   ]
  },
  {
   "cell_type": "code",
   "execution_count": 17,
   "metadata": {},
   "outputs": [
    {
     "data": {
      "text/html": [
       "<div>\n",
       "<style scoped>\n",
       "    .dataframe tbody tr th:only-of-type {\n",
       "        vertical-align: middle;\n",
       "    }\n",
       "\n",
       "    .dataframe tbody tr th {\n",
       "        vertical-align: top;\n",
       "    }\n",
       "\n",
       "    .dataframe thead th {\n",
       "        text-align: right;\n",
       "    }\n",
       "</style>\n",
       "<table border=\"1\" class=\"dataframe\">\n",
       "  <thead>\n",
       "    <tr style=\"text-align: right;\">\n",
       "      <th></th>\n",
       "      <th>Country Name</th>\n",
       "      <th>Country Code</th>\n",
       "      <th>Birth rate</th>\n",
       "      <th>Internet users</th>\n",
       "      <th>Income Group</th>\n",
       "    </tr>\n",
       "  </thead>\n",
       "  <tbody>\n",
       "    <tr>\n",
       "      <th>0</th>\n",
       "      <td>Aruba</td>\n",
       "      <td>ABW</td>\n",
       "      <td>10.244</td>\n",
       "      <td>78.9</td>\n",
       "      <td>High income</td>\n",
       "    </tr>\n",
       "    <tr>\n",
       "      <th>1</th>\n",
       "      <td>Afghanistan</td>\n",
       "      <td>AFG</td>\n",
       "      <td>35.253</td>\n",
       "      <td>5.9</td>\n",
       "      <td>Low income</td>\n",
       "    </tr>\n",
       "    <tr>\n",
       "      <th>2</th>\n",
       "      <td>Angola</td>\n",
       "      <td>AGO</td>\n",
       "      <td>45.985</td>\n",
       "      <td>19.1</td>\n",
       "      <td>Upper middle income</td>\n",
       "    </tr>\n",
       "    <tr>\n",
       "      <th>3</th>\n",
       "      <td>Albania</td>\n",
       "      <td>ALB</td>\n",
       "      <td>12.877</td>\n",
       "      <td>57.2</td>\n",
       "      <td>Upper middle income</td>\n",
       "    </tr>\n",
       "    <tr>\n",
       "      <th>4</th>\n",
       "      <td>United Arab Emirates</td>\n",
       "      <td>ARE</td>\n",
       "      <td>11.044</td>\n",
       "      <td>88.0</td>\n",
       "      <td>High income</td>\n",
       "    </tr>\n",
       "    <tr>\n",
       "      <th>...</th>\n",
       "      <td>...</td>\n",
       "      <td>...</td>\n",
       "      <td>...</td>\n",
       "      <td>...</td>\n",
       "      <td>...</td>\n",
       "    </tr>\n",
       "    <tr>\n",
       "      <th>190</th>\n",
       "      <td>Yemen, Rep.</td>\n",
       "      <td>YEM</td>\n",
       "      <td>32.947</td>\n",
       "      <td>20.0</td>\n",
       "      <td>Lower middle income</td>\n",
       "    </tr>\n",
       "    <tr>\n",
       "      <th>191</th>\n",
       "      <td>South Africa</td>\n",
       "      <td>ZAF</td>\n",
       "      <td>20.850</td>\n",
       "      <td>46.5</td>\n",
       "      <td>Upper middle income</td>\n",
       "    </tr>\n",
       "    <tr>\n",
       "      <th>192</th>\n",
       "      <td>Congo, Dem. Rep.</td>\n",
       "      <td>COD</td>\n",
       "      <td>42.394</td>\n",
       "      <td>2.2</td>\n",
       "      <td>Low income</td>\n",
       "    </tr>\n",
       "    <tr>\n",
       "      <th>193</th>\n",
       "      <td>Zambia</td>\n",
       "      <td>ZMB</td>\n",
       "      <td>40.471</td>\n",
       "      <td>15.4</td>\n",
       "      <td>Lower middle income</td>\n",
       "    </tr>\n",
       "    <tr>\n",
       "      <th>194</th>\n",
       "      <td>Zimbabwe</td>\n",
       "      <td>ZWE</td>\n",
       "      <td>35.715</td>\n",
       "      <td>18.5</td>\n",
       "      <td>Low income</td>\n",
       "    </tr>\n",
       "  </tbody>\n",
       "</table>\n",
       "<p>195 rows × 5 columns</p>\n",
       "</div>"
      ],
      "text/plain": [
       "             Country Name Country Code  Birth rate  Internet users  \\\n",
       "0                   Aruba          ABW      10.244            78.9   \n",
       "1             Afghanistan          AFG      35.253             5.9   \n",
       "2                  Angola          AGO      45.985            19.1   \n",
       "3                 Albania          ALB      12.877            57.2   \n",
       "4    United Arab Emirates          ARE      11.044            88.0   \n",
       "..                    ...          ...         ...             ...   \n",
       "190           Yemen, Rep.          YEM      32.947            20.0   \n",
       "191          South Africa          ZAF      20.850            46.5   \n",
       "192      Congo, Dem. Rep.          COD      42.394             2.2   \n",
       "193                Zambia          ZMB      40.471            15.4   \n",
       "194              Zimbabwe          ZWE      35.715            18.5   \n",
       "\n",
       "            Income Group  \n",
       "0            High income  \n",
       "1             Low income  \n",
       "2    Upper middle income  \n",
       "3    Upper middle income  \n",
       "4            High income  \n",
       "..                   ...  \n",
       "190  Lower middle income  \n",
       "191  Upper middle income  \n",
       "192           Low income  \n",
       "193  Lower middle income  \n",
       "194           Low income  \n",
       "\n",
       "[195 rows x 5 columns]"
      ]
     },
     "execution_count": 17,
     "metadata": {},
     "output_type": "execute_result"
    }
   ],
   "source": [
    "data1.to_pandas_dataframe()"
   ]
  },
  {
   "cell_type": "markdown",
   "metadata": {},
   "source": [
    "Lister tous vos dataset dans le workspace"
   ]
  },
  {
   "cell_type": "code",
   "execution_count": 18,
   "metadata": {},
   "outputs": [
    {
     "data": {
      "text/plain": [
       "{}"
      ]
     },
     "execution_count": 18,
     "metadata": {},
     "output_type": "execute_result"
    }
   ],
   "source": [
    "Dataset.get_all(ws)"
   ]
  },
  {
   "cell_type": "markdown",
   "metadata": {},
   "source": [
    "Register son dataset "
   ]
  },
  {
   "cell_type": "code",
   "execution_count": 19,
   "metadata": {},
   "outputs": [
    {
     "data": {
      "text/plain": [
       "{\n",
       "  \"source\": [\n",
       "    \"('workspaceblobstore', 'data/dataset1.csv')\"\n",
       "  ],\n",
       "  \"definition\": [\n",
       "    \"GetDatastoreFiles\",\n",
       "    \"ParseDelimited\",\n",
       "    \"DropColumns\",\n",
       "    \"SetColumnTypes\"\n",
       "  ],\n",
       "  \"registration\": {\n",
       "    \"id\": \"6a0119c2-247a-4fc7-9016-afb98a993b4c\",\n",
       "    \"name\": \"mon_dataset1_uploade\",\n",
       "    \"version\": 1,\n",
       "    \"workspace\": \"Workspace.create(name='azml_lk_ws', subscription_id='9b9c4a7a-4f40-4fc2-ab99-0bbe0c4064bd', resource_group='azml_lk')\"\n",
       "  }\n",
       "}"
      ]
     },
     "execution_count": 19,
     "metadata": {},
     "output_type": "execute_result"
    }
   ],
   "source": [
    "data1.register(ws, \"mon_dataset1_uploade\", create_new_version=True)"
   ]
  },
  {
   "cell_type": "markdown",
   "metadata": {},
   "source": [
    "Afficher à nouveau la liste des dataset et vérifier qu'il est bien présent aussi sur le portail azure dans le workspace."
   ]
  },
  {
   "cell_type": "code",
   "execution_count": 20,
   "metadata": {},
   "outputs": [
    {
     "data": {
      "text/plain": [
       "{'mon_dataset1_uploade': DatasetRegistration(id='6a0119c2-247a-4fc7-9016-afb98a993b4c', name='mon_dataset1_uploade', version=1, description='', tags={})}"
      ]
     },
     "execution_count": 20,
     "metadata": {},
     "output_type": "execute_result"
    }
   ],
   "source": [
    "Dataset.get_all(ws)"
   ]
  },
  {
   "cell_type": "code",
   "execution_count": 21,
   "metadata": {},
   "outputs": [
    {
     "data": {
      "text/html": [
       "<div>\n",
       "<style scoped>\n",
       "    .dataframe tbody tr th:only-of-type {\n",
       "        vertical-align: middle;\n",
       "    }\n",
       "\n",
       "    .dataframe tbody tr th {\n",
       "        vertical-align: top;\n",
       "    }\n",
       "\n",
       "    .dataframe thead th {\n",
       "        text-align: right;\n",
       "    }\n",
       "</style>\n",
       "<table border=\"1\" class=\"dataframe\">\n",
       "  <thead>\n",
       "    <tr style=\"text-align: right;\">\n",
       "      <th></th>\n",
       "      <th>Country Name</th>\n",
       "      <th>Country Code</th>\n",
       "      <th>Birth rate</th>\n",
       "      <th>Internet users</th>\n",
       "      <th>Income Group</th>\n",
       "    </tr>\n",
       "  </thead>\n",
       "  <tbody>\n",
       "    <tr>\n",
       "      <th>0</th>\n",
       "      <td>Aruba</td>\n",
       "      <td>ABW</td>\n",
       "      <td>10.244</td>\n",
       "      <td>78.9</td>\n",
       "      <td>High income</td>\n",
       "    </tr>\n",
       "    <tr>\n",
       "      <th>1</th>\n",
       "      <td>Afghanistan</td>\n",
       "      <td>AFG</td>\n",
       "      <td>35.253</td>\n",
       "      <td>5.9</td>\n",
       "      <td>Low income</td>\n",
       "    </tr>\n",
       "    <tr>\n",
       "      <th>2</th>\n",
       "      <td>Angola</td>\n",
       "      <td>AGO</td>\n",
       "      <td>45.985</td>\n",
       "      <td>19.1</td>\n",
       "      <td>Upper middle income</td>\n",
       "    </tr>\n",
       "    <tr>\n",
       "      <th>3</th>\n",
       "      <td>Albania</td>\n",
       "      <td>ALB</td>\n",
       "      <td>12.877</td>\n",
       "      <td>57.2</td>\n",
       "      <td>Upper middle income</td>\n",
       "    </tr>\n",
       "    <tr>\n",
       "      <th>4</th>\n",
       "      <td>United Arab Emirates</td>\n",
       "      <td>ARE</td>\n",
       "      <td>11.044</td>\n",
       "      <td>88.0</td>\n",
       "      <td>High income</td>\n",
       "    </tr>\n",
       "    <tr>\n",
       "      <th>...</th>\n",
       "      <td>...</td>\n",
       "      <td>...</td>\n",
       "      <td>...</td>\n",
       "      <td>...</td>\n",
       "      <td>...</td>\n",
       "    </tr>\n",
       "    <tr>\n",
       "      <th>190</th>\n",
       "      <td>Yemen, Rep.</td>\n",
       "      <td>YEM</td>\n",
       "      <td>32.947</td>\n",
       "      <td>20.0</td>\n",
       "      <td>Lower middle income</td>\n",
       "    </tr>\n",
       "    <tr>\n",
       "      <th>191</th>\n",
       "      <td>South Africa</td>\n",
       "      <td>ZAF</td>\n",
       "      <td>20.850</td>\n",
       "      <td>46.5</td>\n",
       "      <td>Upper middle income</td>\n",
       "    </tr>\n",
       "    <tr>\n",
       "      <th>192</th>\n",
       "      <td>Congo, Dem. Rep.</td>\n",
       "      <td>COD</td>\n",
       "      <td>42.394</td>\n",
       "      <td>2.2</td>\n",
       "      <td>Low income</td>\n",
       "    </tr>\n",
       "    <tr>\n",
       "      <th>193</th>\n",
       "      <td>Zambia</td>\n",
       "      <td>ZMB</td>\n",
       "      <td>40.471</td>\n",
       "      <td>15.4</td>\n",
       "      <td>Lower middle income</td>\n",
       "    </tr>\n",
       "    <tr>\n",
       "      <th>194</th>\n",
       "      <td>Zimbabwe</td>\n",
       "      <td>ZWE</td>\n",
       "      <td>35.715</td>\n",
       "      <td>18.5</td>\n",
       "      <td>Low income</td>\n",
       "    </tr>\n",
       "  </tbody>\n",
       "</table>\n",
       "<p>195 rows × 5 columns</p>\n",
       "</div>"
      ],
      "text/plain": [
       "             Country Name Country Code  Birth rate  Internet users  \\\n",
       "0                   Aruba          ABW      10.244            78.9   \n",
       "1             Afghanistan          AFG      35.253             5.9   \n",
       "2                  Angola          AGO      45.985            19.1   \n",
       "3                 Albania          ALB      12.877            57.2   \n",
       "4    United Arab Emirates          ARE      11.044            88.0   \n",
       "..                    ...          ...         ...             ...   \n",
       "190           Yemen, Rep.          YEM      32.947            20.0   \n",
       "191          South Africa          ZAF      20.850            46.5   \n",
       "192      Congo, Dem. Rep.          COD      42.394             2.2   \n",
       "193                Zambia          ZMB      40.471            15.4   \n",
       "194              Zimbabwe          ZWE      35.715            18.5   \n",
       "\n",
       "            Income Group  \n",
       "0            High income  \n",
       "1             Low income  \n",
       "2    Upper middle income  \n",
       "3    Upper middle income  \n",
       "4            High income  \n",
       "..                   ...  \n",
       "190  Lower middle income  \n",
       "191  Upper middle income  \n",
       "192           Low income  \n",
       "193  Lower middle income  \n",
       "194           Low income  \n",
       "\n",
       "[195 rows x 5 columns]"
      ]
     },
     "execution_count": 21,
     "metadata": {},
     "output_type": "execute_result"
    }
   ],
   "source": [
    "# pour récupérer un dataset enregistré\n",
    "data_test = Dataset.get_by_name(ws, \"mon_dataset1_uploade\")\n",
    "data_test.to_pandas_dataframe()"
   ]
  },
  {
   "cell_type": "markdown",
   "metadata": {},
   "source": [
    "Quelle différence entre un dataset et un datastore ? "
   ]
  },
  {
   "cell_type": "markdown",
   "metadata": {},
   "source": [
    "*Le datastore c'est le mécanisme qui permet de stocker réellement des fichiers sur azure via Azure ml service.  \n",
    "Un dataset c'est un objet qui représente un fichier dans le workspace*"
   ]
  },
  {
   "cell_type": "markdown",
   "metadata": {},
   "source": [
    "## Experiment et sauvegarde d'information\n",
    "\n",
    "A l'aide de la classe **Experiment**, créer une experience reliée au workspace **ws** et lui donner le nom \"myexperiment\". Vérifier que l'experiment existe sur le portail."
   ]
  },
  {
   "cell_type": "code",
   "execution_count": 22,
   "metadata": {},
   "outputs": [
    {
     "data": {
      "text/plain": [
       "azureml.core.experiment.Experiment"
      ]
     },
     "execution_count": 22,
     "metadata": {},
     "output_type": "execute_result"
    }
   ],
   "source": [
    "from azureml.core import Experiment\n",
    "exp = Experiment(ws, \"mon_exp\")\n",
    "type(exp)"
   ]
  },
  {
   "cell_type": "markdown",
   "metadata": {},
   "source": [
    "Quelles sont les différentes méthodes de la classe Experiment ?"
   ]
  },
  {
   "cell_type": "code",
   "execution_count": 23,
   "metadata": {},
   "outputs": [
    {
     "data": {
      "text/plain": [
       "['DELIM',\n",
       " 'EXPERIMENT_ID_PATH',\n",
       " 'EXPERIMENT_NAME_PATH',\n",
       " 'TID_FMT',\n",
       " 'WORKSPACE_FMT',\n",
       " '__class__',\n",
       " '__delattr__',\n",
       " '__dict__',\n",
       " '__dir__',\n",
       " '__doc__',\n",
       " '__eq__',\n",
       " '__format__',\n",
       " '__ge__',\n",
       " '__getattribute__',\n",
       " '__gt__',\n",
       " '__hash__',\n",
       " '__init__',\n",
       " '__init_subclass__',\n",
       " '__le__',\n",
       " '__lt__',\n",
       " '__module__',\n",
       " '__ne__',\n",
       " '__new__',\n",
       " '__reduce__',\n",
       " '__reduce_ex__',\n",
       " '__repr__',\n",
       " '__setattr__',\n",
       " '__sizeof__',\n",
       " '__str__',\n",
       " '__subclasshook__',\n",
       " '__weakref__',\n",
       " '_extract_from_dto',\n",
       " '_get_base_info_dict',\n",
       " '_get_portal_domain',\n",
       " '_log_context',\n",
       " '_repr_html_',\n",
       " '_serialize_to_dict',\n",
       " 'archive',\n",
       " 'archived_time',\n",
       " 'delete',\n",
       " 'from_directory',\n",
       " 'get_docs_url',\n",
       " 'get_portal_url',\n",
       " 'get_runs',\n",
       " 'id',\n",
       " 'identity',\n",
       " 'list',\n",
       " 'name',\n",
       " 'portal_url',\n",
       " 'reactivate',\n",
       " 'refresh',\n",
       " 'remove_tags',\n",
       " 'set_tags',\n",
       " 'start_logging',\n",
       " 'submit',\n",
       " 'tag',\n",
       " 'tags',\n",
       " 'workspace',\n",
       " 'workspace_object']"
      ]
     },
     "execution_count": 23,
     "metadata": {},
     "output_type": "execute_result"
    }
   ],
   "source": [
    "dir(Experiment)"
   ]
  },
  {
   "cell_type": "markdown",
   "metadata": {},
   "source": [
    "A l'aide de la bonne méthode de classe, lister les experiments qui existent via le sdk, elle devrait apparaître."
   ]
  },
  {
   "cell_type": "code",
   "execution_count": 24,
   "metadata": {},
   "outputs": [
    {
     "data": {
      "text/plain": [
       "[Experiment(Name: mon_exp,\n",
       " Workspace: azml_lk_ws)]"
      ]
     },
     "execution_count": 24,
     "metadata": {},
     "output_type": "execute_result"
    }
   ],
   "source": [
    "Experiment.list(ws)"
   ]
  },
  {
   "cell_type": "markdown",
   "metadata": {},
   "source": [
    "A l'aide de la méthode start_logging() récupérer une instance de l'objet Run et la stocker dans la variable **run**\n",
    "\n"
   ]
  },
  {
   "cell_type": "code",
   "execution_count": 25,
   "metadata": {},
   "outputs": [],
   "source": [
    "run = exp.start_logging(snapshot_directory=False)"
   ]
  },
  {
   "cell_type": "code",
   "execution_count": 26,
   "metadata": {},
   "outputs": [
    {
     "data": {
      "text/plain": [
       "azureml.core.run.Run"
      ]
     },
     "execution_count": 26,
     "metadata": {},
     "output_type": "execute_result"
    }
   ],
   "source": [
    "type(run)"
   ]
  },
  {
   "cell_type": "markdown",
   "metadata": {},
   "source": [
    "Aller sur le portail azure et vérifier que l'experience est lancée"
   ]
  },
  {
   "cell_type": "markdown",
   "metadata": {},
   "source": [
    "Sauvergarder une donnée quelconque dans le run avec run.log"
   ]
  },
  {
   "cell_type": "code",
   "execution_count": 27,
   "metadata": {},
   "outputs": [],
   "source": [
    "run.log(\"coucou maman\", \"je passe à la tv\")\n",
    "run.log(\"mse\", 0.12)"
   ]
  },
  {
   "cell_type": "code",
   "execution_count": 28,
   "metadata": {},
   "outputs": [],
   "source": [
    "for i in range(21):\n",
    "    run.log(\"mse\", i/100)"
   ]
  },
  {
   "cell_type": "markdown",
   "metadata": {},
   "source": [
    "Dite à azure que le run est terminé en utilisant la méthode run.complete()"
   ]
  },
  {
   "cell_type": "code",
   "execution_count": 29,
   "metadata": {},
   "outputs": [],
   "source": [
    "run.complete()"
   ]
  },
  {
   "cell_type": "markdown",
   "metadata": {},
   "source": [
    "Quelles sont les différentes méthodes de la classe Run ? "
   ]
  },
  {
   "cell_type": "code",
   "execution_count": 30,
   "metadata": {},
   "outputs": [
    {
     "data": {
      "text/plain": [
       "['DELIM',\n",
       " 'EXPERIMENT_ID_PATH',\n",
       " 'EXPERIMENT_NAME_PATH',\n",
       " 'RUN_PATH',\n",
       " 'TID_FMT',\n",
       " 'WORKSPACE_FMT',\n",
       " '_DEFAULT_GET_CONTENT_TIMEOUT',\n",
       " '_RUNSOURCE_PROPERTY',\n",
       " '_WAIT_COMPLETION_POLLING_INTERVAL_MAX',\n",
       " '_WAIT_COMPLETION_POLLING_INTERVAL_MIN',\n",
       " '__class__',\n",
       " '__delattr__',\n",
       " '__dict__',\n",
       " '__dir__',\n",
       " '__doc__',\n",
       " '__enter__',\n",
       " '__eq__',\n",
       " '__exit__',\n",
       " '__format__',\n",
       " '__ge__',\n",
       " '__getattribute__',\n",
       " '__gt__',\n",
       " '__hash__',\n",
       " '__init__',\n",
       " '__init_subclass__',\n",
       " '__le__',\n",
       " '__lt__',\n",
       " '__module__',\n",
       " '__ne__',\n",
       " '__new__',\n",
       " '__reduce__',\n",
       " '__reduce_ex__',\n",
       " '__repr__',\n",
       " '__setattr__',\n",
       " '__sizeof__',\n",
       " '__str__',\n",
       " '__subclasshook__',\n",
       " '__weakref__',\n",
       " '_cleanup',\n",
       " '_client',\n",
       " '_container',\n",
       " '_context_manager',\n",
       " '_create',\n",
       " '_download_artifact_contents_to_string',\n",
       " '_dto_to_run',\n",
       " '_experiment',\n",
       " '_experiment_url',\n",
       " '_formatted_tid',\n",
       " '_get_aml_token_auth',\n",
       " '_get_base_info_dict',\n",
       " '_get_blob_datastore_from_run',\n",
       " '_get_common_runtime_logs',\n",
       " '_get_last_log_primary_instance',\n",
       " '_get_logs',\n",
       " '_get_msi_auth',\n",
       " '_get_outputs_datapath',\n",
       " '_get_portal_domain',\n",
       " '_heartbeat',\n",
       " '_identity',\n",
       " '_kill',\n",
       " '_load_auth',\n",
       " '_load_scope',\n",
       " '_log_context',\n",
       " '_logger',\n",
       " '_outputs',\n",
       " '_parent_run',\n",
       " '_portal_url',\n",
       " '_register_kill_handler',\n",
       " '_registered_kill_handlers',\n",
       " '_rehydrate_runs',\n",
       " '_repr_html_',\n",
       " '_root_run_id',\n",
       " '_run_details_url',\n",
       " '_run_dto',\n",
       " '_run_id',\n",
       " '_run_name',\n",
       " '_run_number',\n",
       " '_run_source',\n",
       " '_run_source_initializers',\n",
       " '_runtype',\n",
       " '_runtype_v2',\n",
       " '_start_logging',\n",
       " '_stream_run_output',\n",
       " '_update_dataset_lineage',\n",
       " '_update_output_dataset_lineage',\n",
       " '_wait_before_polling',\n",
       " '_workspace_url',\n",
       " 'add_properties',\n",
       " 'add_type_provider',\n",
       " 'cancel',\n",
       " 'child_run',\n",
       " 'clean',\n",
       " 'complete',\n",
       " 'create_children',\n",
       " 'description',\n",
       " 'display_name',\n",
       " 'download_file',\n",
       " 'download_files',\n",
       " 'experiment',\n",
       " 'fail',\n",
       " 'flush',\n",
       " 'get',\n",
       " 'get_all_logs',\n",
       " 'get_children',\n",
       " 'get_context',\n",
       " 'get_detailed_status',\n",
       " 'get_details',\n",
       " 'get_details_with_logs',\n",
       " 'get_docs_url',\n",
       " 'get_environment',\n",
       " 'get_file_names',\n",
       " 'get_metrics',\n",
       " 'get_portal_url',\n",
       " 'get_properties',\n",
       " 'get_secret',\n",
       " 'get_secrets',\n",
       " 'get_snapshot_id',\n",
       " 'get_status',\n",
       " 'get_submitted_run',\n",
       " 'get_tags',\n",
       " 'id',\n",
       " 'identity',\n",
       " 'list',\n",
       " 'list_by_compute',\n",
       " 'log',\n",
       " 'log_accuracy_table',\n",
       " 'log_confusion_matrix',\n",
       " 'log_image',\n",
       " 'log_list',\n",
       " 'log_predictions',\n",
       " 'log_residuals',\n",
       " 'log_row',\n",
       " 'log_table',\n",
       " 'name',\n",
       " 'number',\n",
       " 'parent',\n",
       " 'portal_url',\n",
       " 'properties',\n",
       " 'register_model',\n",
       " 'remove_tags',\n",
       " 'restore_snapshot',\n",
       " 'set_tags',\n",
       " 'start',\n",
       " 'status',\n",
       " 'submit_child',\n",
       " 'tag',\n",
       " 'tags',\n",
       " 'take_snapshot',\n",
       " 'type',\n",
       " 'upload_file',\n",
       " 'upload_files',\n",
       " 'upload_folder',\n",
       " 'wait_for_completion']"
      ]
     },
     "execution_count": 30,
     "metadata": {},
     "output_type": "execute_result"
    }
   ],
   "source": [
    "dir(run)"
   ]
  },
  {
   "cell_type": "markdown",
   "metadata": {},
   "source": [
    "Compléter le code suivant pour qu'il sauvegarde à chaque entraînement dans azml, la MSE et le coefficient r^2 de ce modèle (complétement inutile). Vous pouvez utiliser pour cela la méthode .log"
   ]
  },
  {
   "cell_type": "code",
   "execution_count": 31,
   "metadata": {},
   "outputs": [],
   "source": [
    "from sklearn.linear_model import LinearRegression\n",
    "import numpy as np\n",
    "\n",
    "def train_model(run):\n",
    "    # génération d'un jeu de données\n",
    "    X = np.random.randn(10,3)\n",
    "    y = np.sum(X, axis=1) + np.random.rand(10)*10**-2\n",
    "    \n",
    "    model = LinearRegression()\n",
    "    model.fit(X,y)\n",
    "    \n",
    "    run.log('mse', np.mean((y-model.predict(X))**2))\n",
    "    run.log('r2', model.score(X,y))\n",
    "    \n",
    "    return model"
   ]
  },
  {
   "cell_type": "markdown",
   "metadata": {},
   "source": [
    "Executer plusieurs fois la fonction et vérifier que les résultats sont bien présents dans votre workspace dans le portail"
   ]
  },
  {
   "cell_type": "code",
   "execution_count": 32,
   "metadata": {},
   "outputs": [],
   "source": [
    "run = exp.start_logging(snapshot_directory=False)\n",
    "\n",
    "for _ in range(10):\n",
    "    model = train_model(run)\n",
    "    \n",
    "run.complete()"
   ]
  },
  {
   "cell_type": "markdown",
   "metadata": {},
   "source": [
    "Utiliser RunDetails pour afficher les détails d'une exécution."
   ]
  },
  {
   "cell_type": "markdown",
   "metadata": {},
   "source": [
    "Pour avoir RunDetails fonctionnel :\n",
    "\n",
    ">1. `pip install azureml-widgets`\n",
    ">2. `jupyter labextension list`\n",
    ">3. `jupyter lab build`\n",
    ">4. si pas installé, il vous demandera nodejs donc `conda install nodejs` puis `jupyter lab build`"
   ]
  },
  {
   "cell_type": "code",
   "execution_count": 33,
   "metadata": {},
   "outputs": [
    {
     "data": {
      "text/plain": [
       "<azureml.widgets._userrun._run_details._UserRunDetails at 0x7fd4ffa6fd00>"
      ]
     },
     "execution_count": 33,
     "metadata": {},
     "output_type": "execute_result"
    }
   ],
   "source": [
    "from azureml.widgets import RunDetails\n",
    "RunDetails(run)"
   ]
  },
  {
   "cell_type": "code",
   "execution_count": 34,
   "metadata": {},
   "outputs": [
    {
     "data": {
      "application/vnd.jupyter.widget-view+json": {
       "model_id": "a0d82728af8e48e18fd3be2e797a89aa",
       "version_major": 2,
       "version_minor": 0
      },
      "text/plain": [
       "_UserRunWidget(widget_settings={'childWidgetDisplay': 'popup', 'send_telemetry': False, 'log_level': 'INFO', '…"
      ]
     },
     "metadata": {},
     "output_type": "display_data"
    },
    {
     "data": {
      "application/aml.mini.widget.v1": "\"ServiceException:\\n\\tCode: 404\\n\\tMessage: (UserError) Workspace azml_lk_ws not found\\n\\tDetails:\\n\\n\\tHeaders: {\\n\\t    \\\"Date\\\": \\\"Fri, 01 Jul 2022 14:03:20 GMT\\\",\\n\\t    \\\"Content-Type\\\": \\\"application/json; charset=utf-8\\\",\\n\\t    \\\"Transfer-Encoding\\\": \\\"chunked\\\",\\n\\t    \\\"Connection\\\": \\\"keep-alive\\\",\\n\\t    \\\"Vary\\\": \\\"Accept-Encoding\\\",\\n\\t    \\\"Request-Context\\\": \\\"appId=cid-v1:6a27ce65-5555-41a3-85f7-b7a1ce31fd6b\\\",\\n\\t    \\\"x-ms-response-type\\\": \\\"error\\\",\\n\\t    \\\"Strict-Transport-Security\\\": \\\"max-age=15724800; includeSubDomains; preload\\\",\\n\\t    \\\"X-Content-Type-Options\\\": \\\"nosniff\\\",\\n\\t    \\\"x-aml-cluster\\\": \\\"vienna-westeurope-02\\\",\\n\\t    \\\"x-request-time\\\": \\\"0.066\\\",\\n\\t    \\\"Content-Encoding\\\": \\\"gzip\\\"\\n\\t}\\n\\tInnerException: {\\n    \\\"additional_properties\\\": {},\\n    \\\"error\\\": {\\n        \\\"additional_properties\\\": {\\n            \\\"debugInfo\\\": null\\n        },\\n        \\\"code\\\": \\\"UserError\\\",\\n        \\\"severity\\\": null,\\n        \\\"message\\\": \\\"Workspace azml_lk_ws not found\\\",\\n        \\\"message_format\\\": \\\"Workspace {workspaceName} not found\\\",\\n        \\\"message_parameters\\\": {\\n            \\\"workspaceName\\\": \\\"azml_lk_ws\\\"\\n        },\\n        \\\"reference_code\\\": null,\\n        \\\"details_uri\\\": null,\\n        \\\"target\\\": null,\\n        \\\"details\\\": [],\\n        \\\"inner_error\\\": {\\n            \\\"additional_properties\\\": {},\\n            \\\"code\\\": \\\"NotFound\\\",\\n            \\\"inner_error\\\": {\\n                \\\"additional_properties\\\": {},\\n                \\\"code\\\": \\\"WorkspaceNotFound\\\",\\n                \\\"inner_error\\\": null\\n            }\\n        },\\n        \\\"additional_info\\\": null\\n    },\\n    \\\"correlation\\\": {\\n        \\\"operation\\\": \\\"6108f620f68b3191854690bc1ef6d204\\\",\\n        \\\"request\\\": \\\"f017a6c72203e9e7\\\"\\n    },\\n    \\\"environment\\\": \\\"westeurope\\\",\\n    \\\"location\\\": \\\"westeurope\\\",\\n    \\\"time\\\": {},\\n    \\\"component_name\\\": \\\"run-history\\\"\\n}\""
     },
     "metadata": {},
     "output_type": "display_data"
    }
   ],
   "source": [
    "RunDetails(run).show()"
   ]
  },
  {
   "cell_type": "markdown",
   "metadata": {},
   "source": [
    "Vous pouvez aussi utiliser le sdk pour récupérer les informations stockée pour une experience. Coder une fonction `print_experiment_data(experiment)` qui prend en argument une experience et affiche toutes les données de tous les run "
   ]
  },
  {
   "cell_type": "code",
   "execution_count": 35,
   "metadata": {},
   "outputs": [
    {
     "name": "stdout",
     "output_type": "stream",
     "text": [
      "{'runId': 'ef13e2a9-ba83-4204-a8ec-eda05de10b37', 'target': 'local', 'status': 'Completed', 'startTimeUtc': '2022-07-01T13:23:23.542431Z', 'endTimeUtc': '2022-07-01T13:23:25.01319Z', 'services': {}, 'properties': {'azureml.git.repository_uri': 'git@github.com:louiskuhn/IA-P2-Euskadi.git', 'mlflow.source.git.repoURL': 'git@github.com:louiskuhn/IA-P2-Euskadi.git', 'azureml.git.branch': 'master', 'mlflow.source.git.branch': 'master', 'azureml.git.commit': '75ea2c15fb8ea9dc21142d152ad038e7198a0b5a', 'mlflow.source.git.commit': '75ea2c15fb8ea9dc21142d152ad038e7198a0b5a', 'azureml.git.dirty': 'True'}, 'inputDatasets': [], 'outputDatasets': [], 'logFiles': {}, 'submittedBy': 'Louis kuhn'}\n",
      "{'runId': '0fb5d6ec-718a-451d-9615-a9f2c7ef808d', 'target': 'local', 'status': 'Completed', 'startTimeUtc': '2022-07-01T13:17:23.645277Z', 'endTimeUtc': '2022-07-01T13:17:30.327125Z', 'services': {}, 'properties': {'azureml.git.repository_uri': 'git@github.com:louiskuhn/IA-P2-Euskadi.git', 'mlflow.source.git.repoURL': 'git@github.com:louiskuhn/IA-P2-Euskadi.git', 'azureml.git.branch': 'master', 'mlflow.source.git.branch': 'master', 'azureml.git.commit': '75ea2c15fb8ea9dc21142d152ad038e7198a0b5a', 'mlflow.source.git.commit': '75ea2c15fb8ea9dc21142d152ad038e7198a0b5a', 'azureml.git.dirty': 'True'}, 'inputDatasets': [], 'outputDatasets': [], 'logFiles': {}, 'submittedBy': 'Louis kuhn'}\n"
     ]
    }
   ],
   "source": [
    "def print_experiment_data(experiment):\n",
    "    for run in exp.get_runs():\n",
    "        print(run.get_details_with_logs())\n",
    "        \n",
    "print_experiment_data(exp)"
   ]
  },
  {
   "cell_type": "code",
   "execution_count": 37,
   "metadata": {},
   "outputs": [
    {
     "data": {
      "text/html": [
       "<table style=\"width:100%\"><tr><th>Experiment</th><th>Id</th><th>Type</th><th>Status</th><th>Details Page</th><th>Docs Page</th></tr><tr><td>mon_exp</td><td>a81c4dfc-5398-4410-991b-963318706676</td><td></td><td>NotStarted</td><td><a href=\"https://ml.azure.com/runs/a81c4dfc-5398-4410-991b-963318706676?wsid=/subscriptions/9b9c4a7a-4f40-4fc2-ab99-0bbe0c4064bd/resourcegroups/azml_lk/workspaces/azml_lk_ws&amp;tid=a2e466aa-4f86-4545-b5b8-97da7c8febf3\" target=\"_blank\" rel=\"noopener\">Link to Azure Machine Learning studio</a></td><td><a href=\"https://docs.microsoft.com/en-us/python/api/azureml-core/azureml.core.run.Run?view=azure-ml-py\" target=\"_blank\" rel=\"noopener\">Link to Documentation</a></td></tr></table>"
      ],
      "text/plain": [
       "Run(Experiment: mon_exp,\n",
       "Id: a81c4dfc-5398-4410-991b-963318706676,\n",
       "Type: None,\n",
       "Status: NotStarted)"
      ]
     },
     "execution_count": 37,
     "metadata": {},
     "output_type": "execute_result"
    }
   ],
   "source": [
    "#POUR TERMINER UN RUN ENCORE EN COURS\n",
    "\n",
    "# creation d'un runs sans le fermer\n",
    "exp.start_logging(snapshot_directory=False)\n",
    "exp.start_logging(snapshot_directory=False)"
   ]
  },
  {
   "cell_type": "code",
   "execution_count": 38,
   "metadata": {},
   "outputs": [
    {
     "name": "stdout",
     "output_type": "stream",
     "text": [
      "{'runId': 'a81c4dfc-5398-4410-991b-963318706676', 'target': 'local', 'status': 'Running', 'startTimeUtc': '2022-07-01T13:35:06.437167Z', 'services': {}, 'properties': {'azureml.git.repository_uri': 'git@github.com:louiskuhn/IA-P2-Euskadi.git', 'mlflow.source.git.repoURL': 'git@github.com:louiskuhn/IA-P2-Euskadi.git', 'azureml.git.branch': 'master', 'mlflow.source.git.branch': 'master', 'azureml.git.commit': '75ea2c15fb8ea9dc21142d152ad038e7198a0b5a', 'mlflow.source.git.commit': '75ea2c15fb8ea9dc21142d152ad038e7198a0b5a', 'azureml.git.dirty': 'True'}, 'inputDatasets': [], 'outputDatasets': [], 'logFiles': {}, 'submittedBy': 'Louis kuhn'}\n",
      "{'runId': 'fc50bad1-88f7-4cb0-9b0f-27aac6df7f32', 'target': 'local', 'status': 'Running', 'startTimeUtc': '2022-07-01T13:35:05.404018Z', 'services': {}, 'properties': {'azureml.git.repository_uri': 'git@github.com:louiskuhn/IA-P2-Euskadi.git', 'mlflow.source.git.repoURL': 'git@github.com:louiskuhn/IA-P2-Euskadi.git', 'azureml.git.branch': 'master', 'mlflow.source.git.branch': 'master', 'azureml.git.commit': '75ea2c15fb8ea9dc21142d152ad038e7198a0b5a', 'mlflow.source.git.commit': '75ea2c15fb8ea9dc21142d152ad038e7198a0b5a', 'azureml.git.dirty': 'True'}, 'inputDatasets': [], 'outputDatasets': [], 'logFiles': {}, 'submittedBy': 'Louis kuhn'}\n",
      "{'runId': '46cb9d55-6130-4f0a-b699-d9a4a8707f06', 'target': 'local', 'status': 'Running', 'startTimeUtc': '2022-07-01T13:34:55.620479Z', 'services': {}, 'properties': {'azureml.git.repository_uri': 'git@github.com:louiskuhn/IA-P2-Euskadi.git', 'mlflow.source.git.repoURL': 'git@github.com:louiskuhn/IA-P2-Euskadi.git', 'azureml.git.branch': 'master', 'mlflow.source.git.branch': 'master', 'azureml.git.commit': '75ea2c15fb8ea9dc21142d152ad038e7198a0b5a', 'mlflow.source.git.commit': '75ea2c15fb8ea9dc21142d152ad038e7198a0b5a', 'azureml.git.dirty': 'True'}, 'inputDatasets': [], 'outputDatasets': [], 'logFiles': {}, 'submittedBy': 'Louis kuhn'}\n",
      "{'runId': '6e65226a-37d1-4b6b-ac1e-44acdcd9bb6f', 'target': 'local', 'status': 'Running', 'startTimeUtc': '2022-07-01T13:34:54.415409Z', 'services': {}, 'properties': {'azureml.git.repository_uri': 'git@github.com:louiskuhn/IA-P2-Euskadi.git', 'mlflow.source.git.repoURL': 'git@github.com:louiskuhn/IA-P2-Euskadi.git', 'azureml.git.branch': 'master', 'mlflow.source.git.branch': 'master', 'azureml.git.commit': '75ea2c15fb8ea9dc21142d152ad038e7198a0b5a', 'mlflow.source.git.commit': '75ea2c15fb8ea9dc21142d152ad038e7198a0b5a', 'azureml.git.dirty': 'True'}, 'inputDatasets': [], 'outputDatasets': [], 'logFiles': {}, 'submittedBy': 'Louis kuhn'}\n",
      "{'runId': 'ef13e2a9-ba83-4204-a8ec-eda05de10b37', 'target': 'local', 'status': 'Completed', 'startTimeUtc': '2022-07-01T13:23:23.542431Z', 'endTimeUtc': '2022-07-01T13:23:25.01319Z', 'services': {}, 'properties': {'azureml.git.repository_uri': 'git@github.com:louiskuhn/IA-P2-Euskadi.git', 'mlflow.source.git.repoURL': 'git@github.com:louiskuhn/IA-P2-Euskadi.git', 'azureml.git.branch': 'master', 'mlflow.source.git.branch': 'master', 'azureml.git.commit': '75ea2c15fb8ea9dc21142d152ad038e7198a0b5a', 'mlflow.source.git.commit': '75ea2c15fb8ea9dc21142d152ad038e7198a0b5a', 'azureml.git.dirty': 'True'}, 'inputDatasets': [], 'outputDatasets': [], 'logFiles': {}, 'submittedBy': 'Louis kuhn'}\n",
      "{'runId': '0fb5d6ec-718a-451d-9615-a9f2c7ef808d', 'target': 'local', 'status': 'Completed', 'startTimeUtc': '2022-07-01T13:17:23.645277Z', 'endTimeUtc': '2022-07-01T13:17:30.327125Z', 'services': {}, 'properties': {'azureml.git.repository_uri': 'git@github.com:louiskuhn/IA-P2-Euskadi.git', 'mlflow.source.git.repoURL': 'git@github.com:louiskuhn/IA-P2-Euskadi.git', 'azureml.git.branch': 'master', 'mlflow.source.git.branch': 'master', 'azureml.git.commit': '75ea2c15fb8ea9dc21142d152ad038e7198a0b5a', 'mlflow.source.git.commit': '75ea2c15fb8ea9dc21142d152ad038e7198a0b5a', 'azureml.git.dirty': 'True'}, 'inputDatasets': [], 'outputDatasets': [], 'logFiles': {}, 'submittedBy': 'Louis kuhn'}\n"
     ]
    }
   ],
   "source": [
    "# affichage des run\n",
    "print_experiment_data(exp)"
   ]
  },
  {
   "cell_type": "code",
   "execution_count": 39,
   "metadata": {},
   "outputs": [
    {
     "name": "stdout",
     "output_type": "stream",
     "text": [
      "Run a81c4dfc-5398-4410-991b-963318706676 completed\n",
      "Run fc50bad1-88f7-4cb0-9b0f-27aac6df7f32 completed\n",
      "Run 46cb9d55-6130-4f0a-b699-d9a4a8707f06 completed\n",
      "Run 6e65226a-37d1-4b6b-ac1e-44acdcd9bb6f completed\n"
     ]
    }
   ],
   "source": [
    "from azureml.core.run import Run\n",
    "for run in exp.get_runs():\n",
    "    run_details = run.get_details_with_logs()\n",
    "    if run_details['status'] == 'Running':\n",
    "        Run(exp, run_details['runId']).complete()\n",
    "        print(f\"Run {run_details['runId']} completed\")"
   ]
  },
  {
   "cell_type": "code",
   "execution_count": 40,
   "metadata": {},
   "outputs": [
    {
     "name": "stdout",
     "output_type": "stream",
     "text": [
      "{'runId': 'a81c4dfc-5398-4410-991b-963318706676', 'target': 'local', 'status': 'Completed', 'startTimeUtc': '2022-07-01T13:35:06.437167Z', 'endTimeUtc': '2022-07-01T13:37:19.950949Z', 'services': {}, 'properties': {'azureml.git.repository_uri': 'git@github.com:louiskuhn/IA-P2-Euskadi.git', 'mlflow.source.git.repoURL': 'git@github.com:louiskuhn/IA-P2-Euskadi.git', 'azureml.git.branch': 'master', 'mlflow.source.git.branch': 'master', 'azureml.git.commit': '75ea2c15fb8ea9dc21142d152ad038e7198a0b5a', 'mlflow.source.git.commit': '75ea2c15fb8ea9dc21142d152ad038e7198a0b5a', 'azureml.git.dirty': 'True'}, 'inputDatasets': [], 'outputDatasets': [], 'logFiles': {}, 'submittedBy': 'Louis kuhn'}\n",
      "{'runId': 'fc50bad1-88f7-4cb0-9b0f-27aac6df7f32', 'target': 'local', 'status': 'Completed', 'startTimeUtc': '2022-07-01T13:35:05.404018Z', 'endTimeUtc': '2022-07-01T13:37:22.352999Z', 'services': {}, 'properties': {'azureml.git.repository_uri': 'git@github.com:louiskuhn/IA-P2-Euskadi.git', 'mlflow.source.git.repoURL': 'git@github.com:louiskuhn/IA-P2-Euskadi.git', 'azureml.git.branch': 'master', 'mlflow.source.git.branch': 'master', 'azureml.git.commit': '75ea2c15fb8ea9dc21142d152ad038e7198a0b5a', 'mlflow.source.git.commit': '75ea2c15fb8ea9dc21142d152ad038e7198a0b5a', 'azureml.git.dirty': 'True'}, 'inputDatasets': [], 'outputDatasets': [], 'logFiles': {}, 'submittedBy': 'Louis kuhn'}\n",
      "{'runId': '46cb9d55-6130-4f0a-b699-d9a4a8707f06', 'target': 'local', 'status': 'Completed', 'startTimeUtc': '2022-07-01T13:34:55.620479Z', 'endTimeUtc': '2022-07-01T13:37:24.86281Z', 'services': {}, 'properties': {'azureml.git.repository_uri': 'git@github.com:louiskuhn/IA-P2-Euskadi.git', 'mlflow.source.git.repoURL': 'git@github.com:louiskuhn/IA-P2-Euskadi.git', 'azureml.git.branch': 'master', 'mlflow.source.git.branch': 'master', 'azureml.git.commit': '75ea2c15fb8ea9dc21142d152ad038e7198a0b5a', 'mlflow.source.git.commit': '75ea2c15fb8ea9dc21142d152ad038e7198a0b5a', 'azureml.git.dirty': 'True'}, 'inputDatasets': [], 'outputDatasets': [], 'logFiles': {}, 'submittedBy': 'Louis kuhn'}\n",
      "{'runId': '6e65226a-37d1-4b6b-ac1e-44acdcd9bb6f', 'target': 'local', 'status': 'Completed', 'startTimeUtc': '2022-07-01T13:34:54.415409Z', 'endTimeUtc': '2022-07-01T13:37:27.912842Z', 'services': {}, 'properties': {'azureml.git.repository_uri': 'git@github.com:louiskuhn/IA-P2-Euskadi.git', 'mlflow.source.git.repoURL': 'git@github.com:louiskuhn/IA-P2-Euskadi.git', 'azureml.git.branch': 'master', 'mlflow.source.git.branch': 'master', 'azureml.git.commit': '75ea2c15fb8ea9dc21142d152ad038e7198a0b5a', 'mlflow.source.git.commit': '75ea2c15fb8ea9dc21142d152ad038e7198a0b5a', 'azureml.git.dirty': 'True'}, 'inputDatasets': [], 'outputDatasets': [], 'logFiles': {}, 'submittedBy': 'Louis kuhn'}\n",
      "{'runId': 'ef13e2a9-ba83-4204-a8ec-eda05de10b37', 'target': 'local', 'status': 'Completed', 'startTimeUtc': '2022-07-01T13:23:23.542431Z', 'endTimeUtc': '2022-07-01T13:23:25.01319Z', 'services': {}, 'properties': {'azureml.git.repository_uri': 'git@github.com:louiskuhn/IA-P2-Euskadi.git', 'mlflow.source.git.repoURL': 'git@github.com:louiskuhn/IA-P2-Euskadi.git', 'azureml.git.branch': 'master', 'mlflow.source.git.branch': 'master', 'azureml.git.commit': '75ea2c15fb8ea9dc21142d152ad038e7198a0b5a', 'mlflow.source.git.commit': '75ea2c15fb8ea9dc21142d152ad038e7198a0b5a', 'azureml.git.dirty': 'True'}, 'inputDatasets': [], 'outputDatasets': [], 'logFiles': {}, 'submittedBy': 'Louis kuhn'}\n",
      "{'runId': '0fb5d6ec-718a-451d-9615-a9f2c7ef808d', 'target': 'local', 'status': 'Completed', 'startTimeUtc': '2022-07-01T13:17:23.645277Z', 'endTimeUtc': '2022-07-01T13:17:30.327125Z', 'services': {}, 'properties': {'azureml.git.repository_uri': 'git@github.com:louiskuhn/IA-P2-Euskadi.git', 'mlflow.source.git.repoURL': 'git@github.com:louiskuhn/IA-P2-Euskadi.git', 'azureml.git.branch': 'master', 'mlflow.source.git.branch': 'master', 'azureml.git.commit': '75ea2c15fb8ea9dc21142d152ad038e7198a0b5a', 'mlflow.source.git.commit': '75ea2c15fb8ea9dc21142d152ad038e7198a0b5a', 'azureml.git.dirty': 'True'}, 'inputDatasets': [], 'outputDatasets': [], 'logFiles': {}, 'submittedBy': 'Louis kuhn'}\n"
     ]
    }
   ],
   "source": [
    "print_experiment_data(exp)"
   ]
  },
  {
   "cell_type": "markdown",
   "metadata": {},
   "source": [
    "Archivez votre experience avec la méthode archive, et vérifiez qu'elle apparaît comme archivée sur le portail."
   ]
  },
  {
   "cell_type": "code",
   "execution_count": 41,
   "metadata": {},
   "outputs": [],
   "source": [
    "exp.archive()"
   ]
  },
  {
   "cell_type": "markdown",
   "metadata": {},
   "source": [
    "Réactiver l'expérience avec la méthode reactivate."
   ]
  },
  {
   "cell_type": "code",
   "execution_count": 42,
   "metadata": {},
   "outputs": [
    {
     "data": {
      "text/html": [
       "<table style=\"width:100%\"><tr><th>Name</th><th>Workspace</th><th>Report Page</th><th>Docs Page</th></tr><tr><td>mon_exp</td><td>azml_lk_ws</td><td><a href=\"https://ml.azure.com/experiments/id/adf5ecae-dd17-4e1b-821a-75a983dbe6d7?wsid=/subscriptions/9b9c4a7a-4f40-4fc2-ab99-0bbe0c4064bd/resourcegroups/azml_lk/workspaces/azml_lk_ws&amp;tid=a2e466aa-4f86-4545-b5b8-97da7c8febf3\" target=\"_blank\" rel=\"noopener\">Link to Azure Machine Learning studio</a></td><td><a href=\"https://docs.microsoft.com/en-us/python/api/azureml-core/azureml.core.experiment.Experiment?view=azure-ml-py\" target=\"_blank\" rel=\"noopener\">Link to Documentation</a></td></tr></table>"
      ],
      "text/plain": [
       "Experiment(Name: mon_exp,\n",
       "Workspace: azml_lk_ws)"
      ]
     },
     "execution_count": 42,
     "metadata": {},
     "output_type": "execute_result"
    }
   ],
   "source": [
    "# si jamais pas d'instance exp de votre (comme c'est le cas ici),\n",
    "# on peut la récupérer via son nom (qu'elle soit archivée ou pas !)\n",
    "Experiment(ws, \"mon_exp\")"
   ]
  },
  {
   "cell_type": "code",
   "execution_count": 43,
   "metadata": {},
   "outputs": [],
   "source": [
    "exp.reactivate()"
   ]
  },
  {
   "cell_type": "markdown",
   "metadata": {},
   "source": [
    "Récupérer les détails de l'experience archivée\n",
    "\n",
    "\n"
   ]
  },
  {
   "cell_type": "code",
   "execution_count": 44,
   "metadata": {},
   "outputs": [
    {
     "name": "stdout",
     "output_type": "stream",
     "text": [
      "{'runId': 'a81c4dfc-5398-4410-991b-963318706676', 'target': 'local', 'status': 'Completed', 'startTimeUtc': '2022-07-01T13:35:06.437167Z', 'endTimeUtc': '2022-07-01T13:37:19.950949Z', 'services': {}, 'properties': {'azureml.git.repository_uri': 'git@github.com:louiskuhn/IA-P2-Euskadi.git', 'mlflow.source.git.repoURL': 'git@github.com:louiskuhn/IA-P2-Euskadi.git', 'azureml.git.branch': 'master', 'mlflow.source.git.branch': 'master', 'azureml.git.commit': '75ea2c15fb8ea9dc21142d152ad038e7198a0b5a', 'mlflow.source.git.commit': '75ea2c15fb8ea9dc21142d152ad038e7198a0b5a', 'azureml.git.dirty': 'True'}, 'inputDatasets': [], 'outputDatasets': [], 'logFiles': {}, 'submittedBy': 'Louis kuhn'}\n",
      "{'runId': 'fc50bad1-88f7-4cb0-9b0f-27aac6df7f32', 'target': 'local', 'status': 'Completed', 'startTimeUtc': '2022-07-01T13:35:05.404018Z', 'endTimeUtc': '2022-07-01T13:37:22.352999Z', 'services': {}, 'properties': {'azureml.git.repository_uri': 'git@github.com:louiskuhn/IA-P2-Euskadi.git', 'mlflow.source.git.repoURL': 'git@github.com:louiskuhn/IA-P2-Euskadi.git', 'azureml.git.branch': 'master', 'mlflow.source.git.branch': 'master', 'azureml.git.commit': '75ea2c15fb8ea9dc21142d152ad038e7198a0b5a', 'mlflow.source.git.commit': '75ea2c15fb8ea9dc21142d152ad038e7198a0b5a', 'azureml.git.dirty': 'True'}, 'inputDatasets': [], 'outputDatasets': [], 'logFiles': {}, 'submittedBy': 'Louis kuhn'}\n",
      "{'runId': '46cb9d55-6130-4f0a-b699-d9a4a8707f06', 'target': 'local', 'status': 'Completed', 'startTimeUtc': '2022-07-01T13:34:55.620479Z', 'endTimeUtc': '2022-07-01T13:37:24.86281Z', 'services': {}, 'properties': {'azureml.git.repository_uri': 'git@github.com:louiskuhn/IA-P2-Euskadi.git', 'mlflow.source.git.repoURL': 'git@github.com:louiskuhn/IA-P2-Euskadi.git', 'azureml.git.branch': 'master', 'mlflow.source.git.branch': 'master', 'azureml.git.commit': '75ea2c15fb8ea9dc21142d152ad038e7198a0b5a', 'mlflow.source.git.commit': '75ea2c15fb8ea9dc21142d152ad038e7198a0b5a', 'azureml.git.dirty': 'True'}, 'inputDatasets': [], 'outputDatasets': [], 'logFiles': {}, 'submittedBy': 'Louis kuhn'}\n",
      "{'runId': '6e65226a-37d1-4b6b-ac1e-44acdcd9bb6f', 'target': 'local', 'status': 'Completed', 'startTimeUtc': '2022-07-01T13:34:54.415409Z', 'endTimeUtc': '2022-07-01T13:37:27.912842Z', 'services': {}, 'properties': {'azureml.git.repository_uri': 'git@github.com:louiskuhn/IA-P2-Euskadi.git', 'mlflow.source.git.repoURL': 'git@github.com:louiskuhn/IA-P2-Euskadi.git', 'azureml.git.branch': 'master', 'mlflow.source.git.branch': 'master', 'azureml.git.commit': '75ea2c15fb8ea9dc21142d152ad038e7198a0b5a', 'mlflow.source.git.commit': '75ea2c15fb8ea9dc21142d152ad038e7198a0b5a', 'azureml.git.dirty': 'True'}, 'inputDatasets': [], 'outputDatasets': [], 'logFiles': {}, 'submittedBy': 'Louis kuhn'}\n",
      "{'runId': 'ef13e2a9-ba83-4204-a8ec-eda05de10b37', 'target': 'local', 'status': 'Completed', 'startTimeUtc': '2022-07-01T13:23:23.542431Z', 'endTimeUtc': '2022-07-01T13:23:25.01319Z', 'services': {}, 'properties': {'azureml.git.repository_uri': 'git@github.com:louiskuhn/IA-P2-Euskadi.git', 'mlflow.source.git.repoURL': 'git@github.com:louiskuhn/IA-P2-Euskadi.git', 'azureml.git.branch': 'master', 'mlflow.source.git.branch': 'master', 'azureml.git.commit': '75ea2c15fb8ea9dc21142d152ad038e7198a0b5a', 'mlflow.source.git.commit': '75ea2c15fb8ea9dc21142d152ad038e7198a0b5a', 'azureml.git.dirty': 'True'}, 'inputDatasets': [], 'outputDatasets': [], 'logFiles': {}, 'submittedBy': 'Louis kuhn'}\n",
      "{'runId': '0fb5d6ec-718a-451d-9615-a9f2c7ef808d', 'target': 'local', 'status': 'Completed', 'startTimeUtc': '2022-07-01T13:17:23.645277Z', 'endTimeUtc': '2022-07-01T13:17:30.327125Z', 'services': {}, 'properties': {'azureml.git.repository_uri': 'git@github.com:louiskuhn/IA-P2-Euskadi.git', 'mlflow.source.git.repoURL': 'git@github.com:louiskuhn/IA-P2-Euskadi.git', 'azureml.git.branch': 'master', 'mlflow.source.git.branch': 'master', 'azureml.git.commit': '75ea2c15fb8ea9dc21142d152ad038e7198a0b5a', 'mlflow.source.git.commit': '75ea2c15fb8ea9dc21142d152ad038e7198a0b5a', 'azureml.git.dirty': 'True'}, 'inputDatasets': [], 'outputDatasets': [], 'logFiles': {}, 'submittedBy': 'Louis kuhn'}\n"
     ]
    }
   ],
   "source": [
    "print_experiment_data(exp)"
   ]
  },
  {
   "cell_type": "markdown",
   "metadata": {},
   "source": [
    "## Manipulation des modèles: Sauvegarde et autre\n",
    "\n",
    "Azure ml service, permet de se constituer une banque de modèles entraînés. Lister et expliquer les différents paramètres de la méthode register de la classe Model"
   ]
  },
  {
   "cell_type": "markdown",
   "metadata": {},
   "source": [
    "*Model.register('model_blabla.pkl')*"
   ]
  },
  {
   "cell_type": "markdown",
   "metadata": {},
   "source": [
    "A l'aide de la méthode register, uploader le modèle entraîné via la fonction train_model au dessus. Spécifier le maximum de paramètres"
   ]
  },
  {
   "cell_type": "code",
   "execution_count": 59,
   "metadata": {},
   "outputs": [],
   "source": [
    "import pickle \n",
    "\n",
    "with open('models/monsupermodel.pkl', 'wb') as f:\n",
    "    pickle.dump(model, f)"
   ]
  },
  {
   "cell_type": "code",
   "execution_count": 60,
   "metadata": {},
   "outputs": [],
   "source": [
    "from azureml.core import Model"
   ]
  },
  {
   "cell_type": "code",
   "execution_count": 61,
   "metadata": {},
   "outputs": [
    {
     "name": "stdout",
     "output_type": "stream",
     "text": [
      "Registering model zzz\n"
     ]
    },
    {
     "data": {
      "text/plain": [
       "azureml.core.model.Model"
      ]
     },
     "execution_count": 61,
     "metadata": {},
     "output_type": "execute_result"
    }
   ],
   "source": [
    "registered_model = Model.register(ws, './models/monsupermodel.pkl', \"zzz\")\n",
    "type(registered_model)"
   ]
  },
  {
   "cell_type": "markdown",
   "metadata": {},
   "source": [
    "Vérifier que le modèle est bien dans le workspace"
   ]
  },
  {
   "cell_type": "code",
   "execution_count": 62,
   "metadata": {},
   "outputs": [
    {
     "data": {
      "text/plain": [
       "{'zzz': Model(workspace=Workspace.create(name='azml_lk_ws', subscription_id='9b9c4a7a-4f40-4fc2-ab99-0bbe0c4064bd', resource_group='azml_lk'), name=zzz, id=zzz:3, version=3, tags={}, properties={})}"
      ]
     },
     "execution_count": 62,
     "metadata": {},
     "output_type": "execute_result"
    }
   ],
   "source": [
    "ws.models"
   ]
  },
  {
   "cell_type": "markdown",
   "metadata": {},
   "source": [
    "Faire une fonction `get_last_model` qui télécharge le dernier modèle présent dans un workspace. Cette fonction pourrait être utilisée dans un environnement de production pour récupérer le dernier modèle uploadé et faire donc une mise en production. "
   ]
  },
  {
   "cell_type": "code",
   "execution_count": 63,
   "metadata": {},
   "outputs": [],
   "source": [
    "def get_last_model(workspace):\n",
    "    last_model_ref = Model.list(workspace)[0]\n",
    "    last_model_pkl = last_model_ref.download(target_dir='./models/', exist_ok=True)\n",
    "    with open(last_model_pkl, 'rb') as model_pkl:\n",
    "        last_model = pickle.load(model_pkl)\n",
    "    return last_model"
   ]
  },
  {
   "cell_type": "code",
   "execution_count": 64,
   "metadata": {},
   "outputs": [],
   "source": [
    "mon_model = get_last_model(ws)"
   ]
  },
  {
   "cell_type": "code",
   "execution_count": 65,
   "metadata": {},
   "outputs": [
    {
     "data": {
      "text/plain": [
       "sklearn.linear_model._base.LinearRegression"
      ]
     },
     "execution_count": 65,
     "metadata": {},
     "output_type": "execute_result"
    }
   ],
   "source": [
    "type(mon_model)"
   ]
  },
  {
   "cell_type": "code",
   "execution_count": 66,
   "metadata": {},
   "outputs": [],
   "source": [
    "X = np.random.randn(10, 3)\n",
    "y = np.sum(X, axis=1) + np.random.rand(10)*10**-2"
   ]
  },
  {
   "cell_type": "code",
   "execution_count": 67,
   "metadata": {},
   "outputs": [
    {
     "data": {
      "text/plain": [
       "(array([-0.48100128,  0.03438624, -0.04761794, -2.38926627,  1.40278927,\n",
       "        -4.7325265 ,  1.90279313, -1.47502721,  2.98141486, -0.84167253]),\n",
       " 0.9999968754829668)"
      ]
     },
     "execution_count": 67,
     "metadata": {},
     "output_type": "execute_result"
    }
   ],
   "source": [
    "mon_model.predict(X), mon_model.score(X,y)"
   ]
  },
  {
   "cell_type": "code",
   "execution_count": null,
   "metadata": {},
   "outputs": [],
   "source": []
  }
 ],
 "metadata": {
  "kernelspec": {
   "display_name": "Python 3 (ipykernel)",
   "language": "python",
   "name": "python3"
  },
  "language_info": {
   "codemirror_mode": {
    "name": "ipython",
    "version": 3
   },
   "file_extension": ".py",
   "mimetype": "text/x-python",
   "name": "python",
   "nbconvert_exporter": "python",
   "pygments_lexer": "ipython3",
   "version": "3.8.13"
  }
 },
 "nbformat": 4,
 "nbformat_minor": 4
}
