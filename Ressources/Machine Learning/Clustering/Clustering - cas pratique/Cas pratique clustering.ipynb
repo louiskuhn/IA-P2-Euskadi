{
 "cells": [
  {
   "cell_type": "markdown",
   "metadata": {},
   "source": [
    "# Clustering  : cas pratique \n",
    "\n",
    "Le but de ce cas pratique est de réviser l'ensemble des algorithmes que nous avons vu ensemble dernièrement.  \n",
    "\n",
    "## Les données \n",
    "Les données auxquelles nous nous intéressons sont celles de l'absentéisme dans une entreprise brésilienne. Les données sont dans le fichier csv `Absenteeism_at_work.csv` et leur description dans le fichier word `Attribute information`.   \n",
    "\n",
    "## Première analyse en CAH  \n",
    "Nous nous intéressons tout d'abord à essayer de regrouper les raisons de l'absence en moins de catégories qu'actuellement. Pour cela, nous allons mener une classification ascendante hiérarchique sur les variables explicatives de raisons de l'absence que nous avons à disposition. Nous allons utiliser l'ensemble des variables à notre disposition __sauf l'absentéisme en heures et les raisons de l'absence__.  \n",
    "\n",
    "- Importez les données. Dans une nouvelle table stockez les variables qui nous intéressent et transformez les variables catégoriques en `dummies`.  \n"
   ]
  },
  {
   "cell_type": "code",
   "execution_count": null,
   "metadata": {},
   "outputs": [],
   "source": []
  },
  {
   "cell_type": "markdown",
   "metadata": {},
   "source": [
    "- Mettez l'ensemble des variables à la même échelle avec le `MinMaxScaler` de scikit learn, qui permet de mettre les variables continues à la même échelle que les `dummies`."
   ]
  },
  {
   "cell_type": "code",
   "execution_count": null,
   "metadata": {},
   "outputs": [],
   "source": []
  },
  {
   "cell_type": "markdown",
   "metadata": {},
   "source": [
    " \n",
    "- Affichez le dendogramme d'une analyse CAH et justifiez un choix de nombre de classes.  \n"
   ]
  },
  {
   "cell_type": "code",
   "execution_count": null,
   "metadata": {},
   "outputs": [],
   "source": []
  },
  {
   "cell_type": "markdown",
   "metadata": {},
   "source": [
    "- Procédez à la classification de vos données en fonction de ce nombre de classes."
   ]
  },
  {
   "cell_type": "code",
   "execution_count": null,
   "metadata": {},
   "outputs": [],
   "source": []
  },
  {
   "cell_type": "markdown",
   "metadata": {},
   "source": [
    "## Réduction du nombre de dimensions du problème  : Analyse en Composantes Principales  \n",
    "\n",
    "Nous allons maintenant tenter de mettre en oeuvre une ACP.  \n",
    "\n",
    "- En affichant le graphique de l'évolution du ratio de la variance expliquée en fonction du nombre de composantes, justifiez du choix d'un nombre de composantes.  "
   ]
  },
  {
   "cell_type": "code",
   "execution_count": null,
   "metadata": {},
   "outputs": [],
   "source": []
  },
  {
   "cell_type": "markdown",
   "metadata": {},
   "source": [
    "- Représentez graphiquement les points en fonction des deux premières composantes en colorant différemment selon la raison de l'absence. Trouve-t-on des regroupements qui coïncideraient avec les conclusions de la CAH?  Quel est le ratio de la variance expliqué par ces deux axes?  "
   ]
  },
  {
   "cell_type": "code",
   "execution_count": null,
   "metadata": {},
   "outputs": [],
   "source": []
  },
  {
   "cell_type": "markdown",
   "metadata": {},
   "source": [
    "## K-means et DBSCAN  \n",
    "- Transformez les observations en fonction du nombre de composantes principales voulues en utilisant d'abord un algorithme de k-means puis un DBSCAN. "
   ]
  },
  {
   "cell_type": "code",
   "execution_count": null,
   "metadata": {},
   "outputs": [],
   "source": []
  },
  {
   "cell_type": "markdown",
   "metadata": {},
   "source": [
    "- Comparez les résultats obtenus entre eux et avec la CAH.  "
   ]
  },
  {
   "cell_type": "code",
   "execution_count": null,
   "metadata": {},
   "outputs": [],
   "source": []
  },
  {
   "cell_type": "markdown",
   "metadata": {},
   "source": [
    "- Refaites ces classifications k-means et DBSCAN avec cette fois l'ensemble des variables explicatives à disposition. "
   ]
  },
  {
   "cell_type": "code",
   "execution_count": null,
   "metadata": {},
   "outputs": [],
   "source": []
  },
  {
   "cell_type": "markdown",
   "metadata": {},
   "source": [
    "## Explication du temps d'absence   \n",
    "On cherche maintenant à caractériser la longueur de l'absence, indépendemment de son motif.\n",
    "- En reprenant l'analyse précédemment faite, regardez si le clustering peut aussi s'appliquer à la longueur de l'absence (absenteism in hours). Pour cela, regroupez cette variable en quelques classes que vous choisirez (pas d'absence - absence peu longue - absence longue - absence très longue). Pour déterminer les seuils qui discriminent le mieux les absences, vous pouvez utiliser une représentation graphique en fonction des deux premières composantes principales pour voir quelles nombres d'heures d'absence se trouvent aux mêmes endroits.\n"
   ]
  },
  {
   "cell_type": "code",
   "execution_count": null,
   "metadata": {},
   "outputs": [],
   "source": []
  }
 ],
 "metadata": {
  "kernelspec": {
   "display_name": "Python 3",
   "language": "python",
   "name": "python3"
  },
  "language_info": {
   "codemirror_mode": {
    "name": "ipython",
    "version": 3
   },
   "file_extension": ".py",
   "mimetype": "text/x-python",
   "name": "python",
   "nbconvert_exporter": "python",
   "pygments_lexer": "ipython3",
   "version": "3.8.12"
  }
 },
 "nbformat": 4,
 "nbformat_minor": 4
}
