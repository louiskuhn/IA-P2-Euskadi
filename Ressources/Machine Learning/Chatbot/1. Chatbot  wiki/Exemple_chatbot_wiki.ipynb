{
 "cells": [
  {
   "cell_type": "markdown",
   "metadata": {},
   "source": [
    "# Chatbot à partir d'une page wikipédia\n",
    "On reprend pas à pas l'exemple traité dans [cet article](https://medium.com/analytics-vidhya/building-a-simple-chatbot-in-python-using-nltk-7c8c8215ac6e) pour illustrer des cas de chatbots allant chercher automatiquement des réponses à partir d'une source d'informations extérieures"
   ]
  },
  {
   "cell_type": "code",
   "execution_count": 1,
   "metadata": {},
   "outputs": [],
   "source": [
    "import nltk\n",
    "import numpy as np\n",
    "import random\n",
    "import string\n",
    "import re"
   ]
  },
  {
   "cell_type": "markdown",
   "metadata": {},
   "source": [
    "On importe et on fait quelques modifs:  "
   ]
  },
  {
   "cell_type": "code",
   "execution_count": 2,
   "metadata": {},
   "outputs": [
    {
     "data": {
      "text/plain": [
       "'a chatbot is a piece of software that conducts a conversation via auditory or textual methods. such programs are often designed to convincingly simulate how a human would behave as a conversational partner, although as of 2019, they are far short of being able to pass the turing test. chatbots are typically used in dialog systems for various practical purposes including customer service or information acquisition. some chatbots use sophisticated natural language processing systems, but many simpler ones scan for keywords within the input, then pull a reply with the most matching keywords, or the most similar wording pattern, from a database.\\n\\nthe term \"chatterbot\" was originally coined by michael mauldin (creator of the first verbot, julia) in 1994 to describe these conversational programs. today, most chatbots are accessed via virtual assistants such as google assistant and amazon alexa, via messaging apps such as facebook messenger or wechat, or via individual organizations\\' apps and websites. chatbots can be classified into usage categories that include conversational commerce (e-commerce via chat), education, entertainment, finance, health, news, and productivity.\\n\\nbeyond chatbots, conversational ai refers to the use of messaging apps, speech-based assistants and chatbots to automate communication and create personalized customer experiences at scale.\\nin 1950, alan turing\\'s famous article \"computing machinery and intelligence\" was published, which proposed what is now called the turing test as a criterion of intelligence. this criterion depends on the ability of a computer program to impersonate a human in a real-time written conversation with a human judge to the extent that the judge is unable to distinguish reliably—on the basis of the conversational content alone—between the program and a real human. the notoriety of turing\\'s proposed test stimulated great interest in joseph weizenbaum\\'s program eliza, published in 1966, which seemed to be able to fool users into believing that they were conversing with a real human. however weizenbaum himself did not claim that eliza was genuinely intelligent, and the introduction to his paper presented it more as a debunking exercise:\\n artificial intelligence ... machines are made to behave in wondrous ways, often sufficient to dazzle even the most experienced observer. but once a particular program is unmasked, once its inner workings are explained ... its magic crumbles away; it stands revealed as a mere collection of procedures ... the observer says to himself \"i could have written that\". with that thought, he moves the program in question from the shelf marked \"intelligent\", to that reserved for curios ... the object of this paper is to cause just such a re-evaluation of the program about to be \"explained\". few programs ever needed it more.\\neliza\\'s key method of operation (copied by chatbot designers ever since) involves the recognition of clue words or phrases in the input, and the output of corresponding pre-prepared or pre-programmed responses that can move the conversation forward in an apparently meaningful way (e.g. by responding to any input that contains the word \\'mother\\' with \\'tell me more about your family\\'). thus an illusion of understanding is generated, even though the processing involved has been merely superficial. eliza showed that such an illusion is surprisingly easy to generate because human judges are so ready to give the benefit of the doubt when conversational responses are capable of being interpreted as \"intelligent\".\\n\\ninterface designers have come to appreciate that humans\\' readiness to interpret computer output as genuinely conversational—even when it is actually based on rather simple pattern-matching—can be exploited for useful purposes. most people prefer to engage with programs that are human-like, and this gives chatbot-style techniques a potentially useful role in interactive systems that need to elicit information from users, as long as that information is relatively straightforward and falls into predictable categories. thus, for example, online help systems can usefully employ chatbot techniques to identify the area of help that users require, potentially providing a \"friendlier\" interface than a more formal search or menu system. this sort of usage holds the prospect of moving chatbot technology from weizenbaum\\'s \"shelf ... reserved for curios\" to that marked \"genuinely useful computational methods\".\\namong the most notable early chatbots are eliza (1966) and parry (1972). more recent notable programs include a.l.i.c.e., jabberwacky and d.u.d.e (agence nationale de la recherche and cnrs 2006). while eliza and parry were used exclusively to simulate typed conversation, many chatbots now include other functional features, such as games and web searching abilities. in 1984, a book called the policeman\\'s beard is half constructed was published, allegedly written by the chatbot racter (though the program as released would not have been capable of doing so).\\none pertinent field of ai research is natural language processing. usually, weak ai fields employ specialized software or programming languages created specifically for the narrow function required. for example, a.l.i.c.e. uses a markup language called aiml, which is specific to its function as a conversational agent, and has since been adopted by various other developers of, so-called, alicebots. nevertheless, a.l.i.c.e. is still purely based on pattern matching techniques without any reasoning capabilities, the same technique eliza was using back in 1966. this is not strong ai, which would require sapience and logical reasoning abilities.\\n\\njabberwacky learns new responses and context based on real-time user interactions, rather than being driven from a static database. some more recent chatbots also combine real-time learning with evolutionary algorithms that optimise their ability to communicate based on each conversation held. still, there is currently no general purpose conversational artificial intelligence, and some software developers focus on the practical aspect, information retrieval.\\n\\nchatbot competitions focus on the turing test or more specific goals. two such annual contests are the loebner prize and the chatterbox challenge (the latter has been offline since 2015, however, materials can still be found from web archives).\\n\\ndbpedia created a chatbot during the gsoc of 2017. and can communicate through facebook messenger. dbpedia started in 2007 and allows to extract structured content from the wikipedia dataset, along with many other datasets. dbpedia is currently one of the biggest representatives of linked open data (lod).\\n\\nmany companies\\' chatbots run on messaging apps or simply via sms. they are used for b2c customer service, sales and marketing.\\n\\nin 2016, facebook messenger allowed developers to place chatbots on their platform. there were 30,000 bots created for messenger in the first six months, rising to 100,000 by september 2017.\\nsince september 2017, this has also been as part of a pilot program on whatsapp. airlines klm and aeroméxico both announced their participation in the testing; both airlines had previously launched customer services on the facebook messenger platform.\\nthe bots usually appear as one of the user\\'s contacts, but can sometimes act as participants in a group chat.\\nmany banks, insurers, media companies, e-commerce companies, airlines, hotel chains, retailers, health care providers, government entities and restaurant chains have used chatbots to answer simple questions, increase customer engagement, for promotion, and to offer additional ways to order from them.\\na 2017 study showed 4% of companies used chatbots. according to a 2016 study, 80% of businesses said they intended to have one by 2020.\\nas part of company apps and websites\\nprevious generations of chatbots were present on company websites, e.g. ask jenn from alaska airlines which debuted in 2008 or expedia\\'s virtual customer service agent which launched in 2011. the newer generation of chatbots includes ibm watson-powered \"rocky\", introduced in february 2017 by the new york city-based e-commerce company rare carat to provide information to prospective diamond buyers.\\nused by marketers to script sequences of messages, very similar to an autoresponder sequence. such sequences can be triggered by user opt-in or the use of keywords within user interactions. after a trigger occurs a sequence of messages is delivered until the next anticipated user response. each user response is used in the decision tree to help the chatbot navigate the response sequences to deliver the correct response message.\\nother companies explore ways they can use chatbots internally, for example for customer support, human resources, or even in internet-of-things (iot) projects. overstock.com, for one, has reportedly launched a chatbot named mila to automate certain simple yet time-consuming processes when requesting for a sick leave. other large companies such as lloyds banking group, royal bank of scotland, renault and citroën are now using automated online assistants instead of call centres with humans to provide a first point of contact. a saas chatbot business ecosystem has been steadily growing since the f8 conference when facebook\\'s mark zuckerberg unveiled that messenger would allow chatbots into the app. in large companies, like in hospitals and aviation organizations, it architects are designing reference architectures for intelligent chatbots that are used to unlock and share knowledge and experience in the organization more efficiently, and reduce the errors in answers from expert service desks significantly. these intelligent chatbots make use of all kinds of artificial intelligence like image moderation and natural language understanding (nlu), natural language generation (nlg), machine learning and deep learning.\\n\\nmany high-tech banking organizations are looking to integrate automated ai-based solutions such as chatbots into their customer service in order to provide faster and cheaper assistance to their clients who are becoming increasingly comfortable with technology. in particular, chatbots can efficiently conduct a dialogue, usually replacing other communication tools such as email, phone, or sms. in banking, their major application is related to quick customer service answering common requests, as well as transactional support.\\n\\nseveral studies report significant reduction in the cost of customer services, expected to lead to billions of dollars of economic savings in the next 10 years. in 2019, gartner predicted that by 2021, 15% of all customer service interactions globally will be handled completely by ai. a study by juniper research in 2019 estimates retail sales resulting from chatbot-based interactions will reach $112 billion by 2023.\\n\\nsince 2016 when facebook allowed businesses to deliver automated customer support, e-commerce guidance, content and interactive experiences through chatbots, a large variety of chatbots were developed for the facebook messenger platform.\\n\\nin 2016, russia-based tochka bank launched the world\\'s first facebook bot for a range of financial services, including a possibility of making payments.\\n\\nin july 2016, barclays africa also launched a facebook chatbot, making it the first bank to do so in africa.\\n\\nthe france\\'s third largest bank by total assets société générale launched their chatbot called sobot in march 2018. while 80% of users of the sobot expressed their satisfaction after having tested it, société générale deputy director bertrand cozzarolo stated that it will never replace the expertise provided by a human advisor. \\n\\nthe advantages of using chatbots for customer interactions in banking include cost reduction, financial advice, and 24/7 support.\\n\\nhealthcare\\nsee also: artificial intelligence in healthcare\\nchatbots are also appearing in the healthcare industry. a study suggested that physicians in the united states believed that chatbots would be most beneficial for scheduling doctor appointments, locating health clinics, or providing medication information.\\n\\ncertain patient groups are still reluctant to use chatbots. a mixed-methods study showed that people are still hesitant to use chatbots for their healthcare due to poor understanding of the technological complexity, the lack of empathy and concerns about cyber-security. the analysis showed that while 6% had heard of a health chatbot and 3% had experience of using it, 67% perceived themselves as likely to use one within 12 months. the majority of participants would use a health chatbot for seeking general health information (78%), booking a medical appointment (78%) and looking for local health services (80%). however, a health chatbot was perceived as less suitable for seeking results of medical tests and seeking specialist advice such as sexual health. the analysis of attitudinal variables showed that most participants reported their preference for discussing their health with doctors (73%) and having access to reliable and accurate health information (93%). while 80% were curious about new technologies that could improve their health, 66% reported only seeking a doctor when experiencing a health problem and 65% thought that a chatbot was a good idea. interestingly, 30% reported dislike about talking to computers, 41% felt it would be strange to discuss health matters with a chatbot and about half were unsure if they could trust the advice given by a chatbot. therefore, perceived trustworthiness, individual attitudes towards bots and dislike for talking to computers are the main barriers to health chatbots.\\nin new zealand, the chatbot sam -short for semantic analysis machine- (made by nick gerritsen of touchtech) has been developed. it is designed to share its political thoughts, for example on topics such as climate change, healthcare and education, etc. it talks to people through facebook messenger.\\nchatbots have also been incorporated into devices not primarily meant for computing, such as toys.\\n\\nhello barbie is an internet-connected version of the doll that uses a chatbot provided by the company toytalk, which previously used the chatbot for a range of smartphone-based characters for children. these characters\\' behaviors are constrained by a set of rules that in effect emulate a particular character and produce a storyline.\\n\\nibm\\'s watson computer has been used as the basis for chatbot-based educational toys for companies such as cognitoys intended to interact with children for educational purposes.\\n\\nmalicious chatbots are frequently used to fill chat rooms with spam and advertisements, by mimicking human behavior and conversations or to entice people into revealing personal information, such as bank account numbers. they are commonly found on yahoo! messenger, windows live messenger, aol instant messenger and other instant messaging protocols. there has also been a published report of a chatbot used in a fake personal ad on a dating service\\'s website.\\n\\ntay, an ai chatbot that learns from previous interaction, caused major controversy due to it being targeted by internet trolls on twitter. the bot was exploited, and after 16 hours began to send extremely offensive tweets to users. this suggests that although the bot learnt effectively from experience, adequate protection was not put in place to prevent misuse.\\n\\nif a text-sending algorithm can pass itself off as a human instead of a chatbot, its message would be more credible. therefore, human-seeming chatbots with well-crafted online identities could start scattering fake news that seem plausible, for instance making false claims during a presidential election. with enough chatbots, it might be even possible to achieve artificial social proof.\\nthe creation and implementation of chatbots is still a developing area, heavily related to artificial intelligence and machine learning, so the provided solutions, while possessing obvious advantages, have some important limitations in terms of functionalities and use cases. however this is changing over time.\\nas the database, used for output generation, is fixed and limited, chatbots can fail while dealing with an unsaved query.\\na chatbot\\'s efficiency highly depends on language processing and is limited because of irregularities, such as accents and mistakes that can create an important barrier for international and multi-cultural organisations\\nchatbots are unable to deal with multiple questions at the same time and so conversation opportunities are limited.\\nas it happens usually with technology-led changes in existing services, some consumers, more often than not from the old generation, are uncomfortable with chatbots due to their limited understanding, making it obvious that their requests are being dealt with by machines.\\nchatbots are increasingly present in businesses and often are used to automate tasks that do not require skill-based talents. with customer service taking place via messaging apps as well as phone calls, there are growing numbers of use-cases where chatbot deployment gives organisations a clear return on investment. call centre workers may be particularly at risk from ai-driven chatbots.\\n\\na study by forrester (june 2017) predicts that 25% of today\\'s jobs will most likely be impacted by ai technologies by 2019.\\n\\n'"
      ]
     },
     "execution_count": 2,
     "metadata": {},
     "output_type": "execute_result"
    }
   ],
   "source": [
    "f=open('chatbot.txt','r',errors = 'ignore', encoding = \"utf8\")\n",
    "raw=f.read()\n",
    "raw=raw.lower()\n",
    "# quelques modifications : \n",
    "raw = re.sub(r\"\\ufeff\", \"\", raw)\n",
    "raw = re.sub(r\"\\[.{1,2}\\]\", \"\", raw)\n",
    "raw"
   ]
  },
  {
   "cell_type": "markdown",
   "metadata": {},
   "source": [
    "On splitte par phrases et par mot : "
   ]
  },
  {
   "cell_type": "code",
   "execution_count": 3,
   "metadata": {},
   "outputs": [
    {
     "data": {
      "text/plain": [
       "['a chatbot is a piece of software that conducts a conversation via auditory or textual methods.',\n",
       " 'such programs are often designed to convincingly simulate how a human would behave as a conversational partner, although as of 2019, they are far short of being able to pass the turing test.',\n",
       " 'chatbots are typically used in dialog systems for various practical purposes including customer service or information acquisition.',\n",
       " 'some chatbots use sophisticated natural language processing systems, but many simpler ones scan for keywords within the input, then pull a reply with the most matching keywords, or the most similar wording pattern, from a database.',\n",
       " 'the term \"chatterbot\" was originally coined by michael mauldin (creator of the first verbot, julia) in 1994 to describe these conversational programs.',\n",
       " \"today, most chatbots are accessed via virtual assistants such as google assistant and amazon alexa, via messaging apps such as facebook messenger or wechat, or via individual organizations' apps and websites.\",\n",
       " 'chatbots can be classified into usage categories that include conversational commerce (e-commerce via chat), education, entertainment, finance, health, news, and productivity.',\n",
       " 'beyond chatbots, conversational ai refers to the use of messaging apps, speech-based assistants and chatbots to automate communication and create personalized customer experiences at scale.',\n",
       " 'in 1950, alan turing\\'s famous article \"computing machinery and intelligence\" was published, which proposed what is now called the turing test as a criterion of intelligence.',\n",
       " 'this criterion depends on the ability of a computer program to impersonate a human in a real-time written conversation with a human judge to the extent that the judge is unable to distinguish reliably—on the basis of the conversational content alone—between the program and a real human.',\n",
       " \"the notoriety of turing's proposed test stimulated great interest in joseph weizenbaum's program eliza, published in 1966, which seemed to be able to fool users into believing that they were conversing with a real human.\",\n",
       " 'however weizenbaum himself did not claim that eliza was genuinely intelligent, and the introduction to his paper presented it more as a debunking exercise:\\n artificial intelligence ... machines are made to behave in wondrous ways, often sufficient to dazzle even the most experienced observer.',\n",
       " 'but once a particular program is unmasked, once its inner workings are explained ... its magic crumbles away; it stands revealed as a mere collection of procedures ... the observer says to himself \"i could have written that\".',\n",
       " 'with that thought, he moves the program in question from the shelf marked \"intelligent\", to that reserved for curios ... the object of this paper is to cause just such a re-evaluation of the program about to be \"explained\".',\n",
       " 'few programs ever needed it more.',\n",
       " \"eliza's key method of operation (copied by chatbot designers ever since) involves the recognition of clue words or phrases in the input, and the output of corresponding pre-prepared or pre-programmed responses that can move the conversation forward in an apparently meaningful way (e.g.\",\n",
       " \"by responding to any input that contains the word 'mother' with 'tell me more about your family').\",\n",
       " 'thus an illusion of understanding is generated, even though the processing involved has been merely superficial.',\n",
       " 'eliza showed that such an illusion is surprisingly easy to generate because human judges are so ready to give the benefit of the doubt when conversational responses are capable of being interpreted as \"intelligent\".',\n",
       " \"interface designers have come to appreciate that humans' readiness to interpret computer output as genuinely conversational—even when it is actually based on rather simple pattern-matching—can be exploited for useful purposes.\",\n",
       " 'most people prefer to engage with programs that are human-like, and this gives chatbot-style techniques a potentially useful role in interactive systems that need to elicit information from users, as long as that information is relatively straightforward and falls into predictable categories.',\n",
       " 'thus, for example, online help systems can usefully employ chatbot techniques to identify the area of help that users require, potentially providing a \"friendlier\" interface than a more formal search or menu system.',\n",
       " 'this sort of usage holds the prospect of moving chatbot technology from weizenbaum\\'s \"shelf ... reserved for curios\" to that marked \"genuinely useful computational methods\".',\n",
       " 'among the most notable early chatbots are eliza (1966) and parry (1972).',\n",
       " 'more recent notable programs include a.l.i.c.e., jabberwacky and d.u.d.e (agence nationale de la recherche and cnrs 2006).',\n",
       " 'while eliza and parry were used exclusively to simulate typed conversation, many chatbots now include other functional features, such as games and web searching abilities.',\n",
       " \"in 1984, a book called the policeman's beard is half constructed was published, allegedly written by the chatbot racter (though the program as released would not have been capable of doing so).\",\n",
       " 'one pertinent field of ai research is natural language processing.',\n",
       " 'usually, weak ai fields employ specialized software or programming languages created specifically for the narrow function required.',\n",
       " 'for example, a.l.i.c.e.',\n",
       " 'uses a markup language called aiml, which is specific to its function as a conversational agent, and has since been adopted by various other developers of, so-called, alicebots.',\n",
       " 'nevertheless, a.l.i.c.e.',\n",
       " 'is still purely based on pattern matching techniques without any reasoning capabilities, the same technique eliza was using back in 1966. this is not strong ai, which would require sapience and logical reasoning abilities.',\n",
       " 'jabberwacky learns new responses and context based on real-time user interactions, rather than being driven from a static database.',\n",
       " 'some more recent chatbots also combine real-time learning with evolutionary algorithms that optimise their ability to communicate based on each conversation held.',\n",
       " 'still, there is currently no general purpose conversational artificial intelligence, and some software developers focus on the practical aspect, information retrieval.',\n",
       " 'chatbot competitions focus on the turing test or more specific goals.',\n",
       " 'two such annual contests are the loebner prize and the chatterbox challenge (the latter has been offline since 2015, however, materials can still be found from web archives).',\n",
       " 'dbpedia created a chatbot during the gsoc of 2017. and can communicate through facebook messenger.',\n",
       " 'dbpedia started in 2007 and allows to extract structured content from the wikipedia dataset, along with many other datasets.',\n",
       " 'dbpedia is currently one of the biggest representatives of linked open data (lod).',\n",
       " \"many companies' chatbots run on messaging apps or simply via sms.\",\n",
       " 'they are used for b2c customer service, sales and marketing.',\n",
       " 'in 2016, facebook messenger allowed developers to place chatbots on their platform.',\n",
       " 'there were 30,000 bots created for messenger in the first six months, rising to 100,000 by september 2017.\\nsince september 2017, this has also been as part of a pilot program on whatsapp.',\n",
       " 'airlines klm and aeroméxico both announced their participation in the testing; both airlines had previously launched customer services on the facebook messenger platform.',\n",
       " \"the bots usually appear as one of the user's contacts, but can sometimes act as participants in a group chat.\",\n",
       " 'many banks, insurers, media companies, e-commerce companies, airlines, hotel chains, retailers, health care providers, government entities and restaurant chains have used chatbots to answer simple questions, increase customer engagement, for promotion, and to offer additional ways to order from them.',\n",
       " 'a 2017 study showed 4% of companies used chatbots.',\n",
       " 'according to a 2016 study, 80% of businesses said they intended to have one by 2020.\\nas part of company apps and websites\\nprevious generations of chatbots were present on company websites, e.g.',\n",
       " 'ask jenn from alaska airlines which debuted in 2008 or expedia\\'s virtual customer service agent which launched in 2011. the newer generation of chatbots includes ibm watson-powered \"rocky\", introduced in february 2017 by the new york city-based e-commerce company rare carat to provide information to prospective diamond buyers.',\n",
       " 'used by marketers to script sequences of messages, very similar to an autoresponder sequence.',\n",
       " 'such sequences can be triggered by user opt-in or the use of keywords within user interactions.',\n",
       " 'after a trigger occurs a sequence of messages is delivered until the next anticipated user response.',\n",
       " 'each user response is used in the decision tree to help the chatbot navigate the response sequences to deliver the correct response message.',\n",
       " 'other companies explore ways they can use chatbots internally, for example for customer support, human resources, or even in internet-of-things (iot) projects.',\n",
       " 'overstock.com, for one, has reportedly launched a chatbot named mila to automate certain simple yet time-consuming processes when requesting for a sick leave.',\n",
       " 'other large companies such as lloyds banking group, royal bank of scotland, renault and citroën are now using automated online assistants instead of call centres with humans to provide a first point of contact.',\n",
       " \"a saas chatbot business ecosystem has been steadily growing since the f8 conference when facebook's mark zuckerberg unveiled that messenger would allow chatbots into the app.\",\n",
       " 'in large companies, like in hospitals and aviation organizations, it architects are designing reference architectures for intelligent chatbots that are used to unlock and share knowledge and experience in the organization more efficiently, and reduce the errors in answers from expert service desks significantly.',\n",
       " 'these intelligent chatbots make use of all kinds of artificial intelligence like image moderation and natural language understanding (nlu), natural language generation (nlg), machine learning and deep learning.',\n",
       " 'many high-tech banking organizations are looking to integrate automated ai-based solutions such as chatbots into their customer service in order to provide faster and cheaper assistance to their clients who are becoming increasingly comfortable with technology.',\n",
       " 'in particular, chatbots can efficiently conduct a dialogue, usually replacing other communication tools such as email, phone, or sms.',\n",
       " 'in banking, their major application is related to quick customer service answering common requests, as well as transactional support.',\n",
       " 'several studies report significant reduction in the cost of customer services, expected to lead to billions of dollars of economic savings in the next 10 years.',\n",
       " 'in 2019, gartner predicted that by 2021, 15% of all customer service interactions globally will be handled completely by ai.',\n",
       " 'a study by juniper research in 2019 estimates retail sales resulting from chatbot-based interactions will reach $112 billion by 2023.\\n\\nsince 2016 when facebook allowed businesses to deliver automated customer support, e-commerce guidance, content and interactive experiences through chatbots, a large variety of chatbots were developed for the facebook messenger platform.',\n",
       " \"in 2016, russia-based tochka bank launched the world's first facebook bot for a range of financial services, including a possibility of making payments.\",\n",
       " 'in july 2016, barclays africa also launched a facebook chatbot, making it the first bank to do so in africa.',\n",
       " \"the france's third largest bank by total assets société générale launched their chatbot called sobot in march 2018. while 80% of users of the sobot expressed their satisfaction after having tested it, société générale deputy director bertrand cozzarolo stated that it will never replace the expertise provided by a human advisor.\",\n",
       " 'the advantages of using chatbots for customer interactions in banking include cost reduction, financial advice, and 24/7 support.',\n",
       " 'healthcare\\nsee also: artificial intelligence in healthcare\\nchatbots are also appearing in the healthcare industry.',\n",
       " 'a study suggested that physicians in the united states believed that chatbots would be most beneficial for scheduling doctor appointments, locating health clinics, or providing medication information.',\n",
       " 'certain patient groups are still reluctant to use chatbots.',\n",
       " 'a mixed-methods study showed that people are still hesitant to use chatbots for their healthcare due to poor understanding of the technological complexity, the lack of empathy and concerns about cyber-security.',\n",
       " 'the analysis showed that while 6% had heard of a health chatbot and 3% had experience of using it, 67% perceived themselves as likely to use one within 12 months.',\n",
       " 'the majority of participants would use a health chatbot for seeking general health information (78%), booking a medical appointment (78%) and looking for local health services (80%).',\n",
       " 'however, a health chatbot was perceived as less suitable for seeking results of medical tests and seeking specialist advice such as sexual health.',\n",
       " 'the analysis of attitudinal variables showed that most participants reported their preference for discussing their health with doctors (73%) and having access to reliable and accurate health information (93%).',\n",
       " 'while 80% were curious about new technologies that could improve their health, 66% reported only seeking a doctor when experiencing a health problem and 65% thought that a chatbot was a good idea.',\n",
       " 'interestingly, 30% reported dislike about talking to computers, 41% felt it would be strange to discuss health matters with a chatbot and about half were unsure if they could trust the advice given by a chatbot.',\n",
       " 'therefore, perceived trustworthiness, individual attitudes towards bots and dislike for talking to computers are the main barriers to health chatbots.',\n",
       " 'in new zealand, the chatbot sam -short for semantic analysis machine- (made by nick gerritsen of touchtech) has been developed.',\n",
       " 'it is designed to share its political thoughts, for example on topics such as climate change, healthcare and education, etc.',\n",
       " 'it talks to people through facebook messenger.',\n",
       " 'chatbots have also been incorporated into devices not primarily meant for computing, such as toys.',\n",
       " 'hello barbie is an internet-connected version of the doll that uses a chatbot provided by the company toytalk, which previously used the chatbot for a range of smartphone-based characters for children.',\n",
       " \"these characters' behaviors are constrained by a set of rules that in effect emulate a particular character and produce a storyline.\",\n",
       " \"ibm's watson computer has been used as the basis for chatbot-based educational toys for companies such as cognitoys intended to interact with children for educational purposes.\",\n",
       " 'malicious chatbots are frequently used to fill chat rooms with spam and advertisements, by mimicking human behavior and conversations or to entice people into revealing personal information, such as bank account numbers.',\n",
       " 'they are commonly found on yahoo!',\n",
       " 'messenger, windows live messenger, aol instant messenger and other instant messaging protocols.',\n",
       " \"there has also been a published report of a chatbot used in a fake personal ad on a dating service's website.\",\n",
       " 'tay, an ai chatbot that learns from previous interaction, caused major controversy due to it being targeted by internet trolls on twitter.',\n",
       " 'the bot was exploited, and after 16 hours began to send extremely offensive tweets to users.',\n",
       " 'this suggests that although the bot learnt effectively from experience, adequate protection was not put in place to prevent misuse.',\n",
       " 'if a text-sending algorithm can pass itself off as a human instead of a chatbot, its message would be more credible.',\n",
       " 'therefore, human-seeming chatbots with well-crafted online identities could start scattering fake news that seem plausible, for instance making false claims during a presidential election.',\n",
       " 'with enough chatbots, it might be even possible to achieve artificial social proof.',\n",
       " 'the creation and implementation of chatbots is still a developing area, heavily related to artificial intelligence and machine learning, so the provided solutions, while possessing obvious advantages, have some important limitations in terms of functionalities and use cases.',\n",
       " 'however this is changing over time.',\n",
       " 'as the database, used for output generation, is fixed and limited, chatbots can fail while dealing with an unsaved query.',\n",
       " \"a chatbot's efficiency highly depends on language processing and is limited because of irregularities, such as accents and mistakes that can create an important barrier for international and multi-cultural organisations\\nchatbots are unable to deal with multiple questions at the same time and so conversation opportunities are limited.\",\n",
       " 'as it happens usually with technology-led changes in existing services, some consumers, more often than not from the old generation, are uncomfortable with chatbots due to their limited understanding, making it obvious that their requests are being dealt with by machines.',\n",
       " 'chatbots are increasingly present in businesses and often are used to automate tasks that do not require skill-based talents.',\n",
       " 'with customer service taking place via messaging apps as well as phone calls, there are growing numbers of use-cases where chatbot deployment gives organisations a clear return on investment.',\n",
       " 'call centre workers may be particularly at risk from ai-driven chatbots.',\n",
       " \"a study by forrester (june 2017) predicts that 25% of today's jobs will most likely be impacted by ai technologies by 2019.\"]"
      ]
     },
     "execution_count": 3,
     "metadata": {},
     "output_type": "execute_result"
    }
   ],
   "source": [
    "#nltk.download('punkt')\n",
    "#nltk.download('wordnet')\n",
    "sent_tokens = nltk.sent_tokenize(raw)\n",
    "sent_tokens"
   ]
  },
  {
   "cell_type": "code",
   "execution_count": 4,
   "metadata": {},
   "outputs": [],
   "source": [
    "# pour info : \n",
    "#nltk.word_tokenize(raw)"
   ]
  },
  {
   "cell_type": "markdown",
   "metadata": {},
   "source": [
    "On construit une fonction visant à \"lemmatizer\". Cette fonction sera ensuite utilisée comme paramètre au moment de la création de la matrice TF-IDF."
   ]
  },
  {
   "cell_type": "code",
   "execution_count": 5,
   "metadata": {},
   "outputs": [
    {
     "data": {
      "text/plain": [
       "['you',\n",
       " 'are',\n",
       " 'pretty',\n",
       " 'sure',\n",
       " 'they',\n",
       " 'are',\n",
       " 'cat',\n",
       " 'arent',\n",
       " 'you',\n",
       " 'god',\n",
       " 'youre',\n",
       " 'so',\n",
       " 'stupid']"
      ]
     },
     "execution_count": 5,
     "metadata": {},
     "output_type": "execute_result"
    }
   ],
   "source": [
    "lemmer = nltk.stem.WordNetLemmatizer()\n",
    "def LemTokens(tokens):\n",
    "    return [lemmer.lemmatize(token) for token in tokens]\n",
    "\n",
    "remove_punct_dict = dict((ord(punct), None) for punct in string.punctuation)\n",
    "def LemNormalize(text):\n",
    "    return LemTokens(nltk.word_tokenize(text.lower().translate(remove_punct_dict)))\n",
    "\n",
    "# un exemple : \n",
    "LemNormalize(\"you are pretty sure they are cats, aren't you? God you're so stupid\")"
   ]
  },
  {
   "cell_type": "markdown",
   "metadata": {},
   "source": [
    "C'est ici le coeur du code :  \n",
    "- On crée la matrice TF-IDF qui nous permet d'avoir une mesure de l'importance d'un terme d'une phrase par rapport à la phrase et par rapport à l'ensemble des autres phrases de notre corpus.  \n",
    "- On calcule la similarité de la phrase entrée par l'utilisateur avec l'ensemble des phrases du corpus en fonction de cette matrice.  \n",
    "- On sort la phrase la plus proche comme réponse à l'utilisateur.  \n",
    "  \n",
    "  \n",
    "Si vous voulez creuser les questions de matrice TF-IDF et de la similarité cosinus vous pouvez lire [cet article](https://janav.wordpress.com/2013/10/27/tf-idf-and-cosine-similarity/).  Si vous vous voulez une source en français, [cet article](https://www.quentinfily.fr/tf-idf-pertinence-lexicale/) est pas mal mais moins complet.  \n",
    "Pour aller encore plus loin sur le fait d'utiliser une distance cosinus et non euclidienne comme d'habitude, vous pouvez aller voir [cet article](https://cmry.github.io/notes/euclidean-v-cosine) (pas prioritaire)."
   ]
  },
  {
   "cell_type": "code",
   "execution_count": 6,
   "metadata": {},
   "outputs": [
    {
     "name": "stderr",
     "output_type": "stream",
     "text": [
      "/home/elka/anaconda3/lib/python3.8/site-packages/sklearn/feature_extraction/text.py:396: UserWarning: Your stop_words may be inconsistent with your preprocessing. Tokenizing the stop words generated tokens ['ha', 'le', 'u', 'wa'] not in stop_words.\n",
      "  warnings.warn(\n"
     ]
    }
   ],
   "source": [
    "from sklearn.feature_extraction.text import TfidfVectorizer\n",
    "from sklearn.metrics.pairwise import cosine_similarity\n",
    "\n",
    "tfidf = TfidfVectorizer(tokenizer=LemNormalize, stop_words='english')\n",
    "phrases_tf = tfidf.fit_transform(sent_tokens)\n",
    "\n",
    "\n",
    "def response(phrase_user, tfidf=tfidf, phrases_tf=phrases_tf):\n",
    "    # on a besoin de passer la chaîne de caractère dans une liste :\n",
    "    phrase_user = [phrase_user]\n",
    "    # On calcule les valuers TF-IDF pour la phrase de l'utilisateur\n",
    "    user_tf = tfidf.transform(phrase_user)\n",
    "    # on calcule la similarité entre la question posée par l'utilisateur\n",
    "    # et l'ensemble des phrases de la page wiki\n",
    "    similarity = cosine_similarity(user_tf, phrases_tf).flatten()\n",
    "    # on sort l'index de la phrase étant la plus similaire\n",
    "    index_max_sim = np.argmax(similarity)\n",
    "    # Si la similarité max ets égale à 0 == pas de correspondance trouvée\n",
    "    if(similarity[index_max_sim] == 0):\n",
    "        robo_response = \"I didn't find this info, sorry\"\n",
    "    # Sinon, on sort la phrase correspondant le plus : \n",
    "    else:\n",
    "        robo_response = sent_tokens[index_max_sim]\n",
    "    return robo_response"
   ]
  },
  {
   "cell_type": "markdown",
   "metadata": {},
   "source": [
    "On crée aussi des réponses classiques au cas où l'utilisateur se contente de saluer le bot (on pourrait en faire autant qu'on veut):"
   ]
  },
  {
   "cell_type": "code",
   "execution_count": 7,
   "metadata": {},
   "outputs": [],
   "source": [
    "GREETING_INPUTS = (\"hello\", \"hi\", \"greetings\", \"sup\", \"what's up\",\"hey\",)\n",
    "GREETING_RESPONSES = [\"hi\", \"hey\", \"*nods*\", \"hi there\", \"hello\", \"I am glad! You are talking to me\"]\n",
    "def greeting(sentence): \n",
    "    for word in sentence.split():\n",
    "        if word.lower() in GREETING_INPUTS:\n",
    "            return random.choice(GREETING_RESPONSES)"
   ]
  },
  {
   "cell_type": "markdown",
   "metadata": {},
   "source": [
    "Une fois ces fonctions créées, il n'y a plus qu'à créer notre bot comme on le faisait avec les exemples simples : "
   ]
  },
  {
   "cell_type": "code",
   "execution_count": 16,
   "metadata": {},
   "outputs": [
    {
     "name": "stdout",
     "output_type": "stream",
     "text": [
      "ROBO: My name is Robo. I will answer your queries about Chatbots. If you want to exit, type Bye!\n"
     ]
    },
    {
     "name": "stdin",
     "output_type": "stream",
     "text": [
      " hi there\n"
     ]
    },
    {
     "name": "stdout",
     "output_type": "stream",
     "text": [
      "ROBO: I am glad! You are talking to me\n"
     ]
    },
    {
     "name": "stdin",
     "output_type": "stream",
     "text": [
      " i am, can chatbots really talk ?\n"
     ]
    },
    {
     "name": "stdout",
     "output_type": "stream",
     "text": [
      "ROBO: it talks to people through facebook messenger.\n"
     ]
    },
    {
     "name": "stdin",
     "output_type": "stream",
     "text": [
      " ok and what are chatbots for ?\n"
     ]
    },
    {
     "name": "stdout",
     "output_type": "stream",
     "text": [
      "ROBO: beyond chatbots, conversational ai refers to the use of messaging apps, speech-based assistants and chatbots to automate communication and create personalized customer experiences at scale.\n"
     ]
    },
    {
     "name": "stdin",
     "output_type": "stream",
     "text": [
      " fine see yoy\n"
     ]
    },
    {
     "name": "stdout",
     "output_type": "stream",
     "text": [
      "ROBO: I didn't find this info, sorry\n"
     ]
    },
    {
     "name": "stdin",
     "output_type": "stream",
     "text": [
      " see you\n"
     ]
    },
    {
     "name": "stdout",
     "output_type": "stream",
     "text": [
      "ROBO: Bye! take care..\n"
     ]
    }
   ],
   "source": [
    "flag=True\n",
    "print(\"ROBO: My name is Robo. I will answer your queries about Chatbots. If you want to exit, type Bye!\")\n",
    "while(flag==True):\n",
    "    user_response = input()\n",
    "    user_response=user_response.lower()\n",
    "    if re.search(r'bye|ciao|see you', user_response):\n",
    "        flag=False\n",
    "        print(\"ROBO: Bye! take care..\")\n",
    "    else:\n",
    "        if(user_response=='thanks' or user_response=='thank you' ):\n",
    "            flag=False\n",
    "            print(\"ROBO: You are welcome..\")\n",
    "        else:\n",
    "            if greeting(user_response) != None :\n",
    "                print(\"ROBO: \" + greeting(user_response))\n",
    "            else:\n",
    "                print(\"ROBO: \" + response(user_response))"
   ]
  },
  {
   "cell_type": "code",
   "execution_count": null,
   "metadata": {},
   "outputs": [],
   "source": []
  }
 ],
 "metadata": {
  "kernelspec": {
   "display_name": "Python 3",
   "language": "python",
   "name": "python3"
  },
  "language_info": {
   "codemirror_mode": {
    "name": "ipython",
    "version": 3
   },
   "file_extension": ".py",
   "mimetype": "text/x-python",
   "name": "python",
   "nbconvert_exporter": "python",
   "pygments_lexer": "ipython3",
   "version": "3.8.12"
  }
 },
 "nbformat": 4,
 "nbformat_minor": 4
}
