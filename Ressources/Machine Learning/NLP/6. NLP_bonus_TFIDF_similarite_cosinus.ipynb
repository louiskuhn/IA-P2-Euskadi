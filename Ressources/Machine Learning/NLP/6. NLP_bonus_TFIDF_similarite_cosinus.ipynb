{
 "cells": [
  {
   "cell_type": "markdown",
   "id": "14308b3c-7d7f-4b1c-a96e-3800633230e8",
   "metadata": {},
   "source": [
    "# Natural Langage Processing : Matrice TF-IDF et similarité cosinus\n",
    "\n",
    "On va reprendre dans ce notebook l'article [suivant](https://janav.wordpress.com/2013/10/27/tf-idf-and-cosine-similarity/). L'objectif est de trouver une mesure de la similarité entre 2 textes. Par exemple, une requête google et un site.\n",
    "\n",
    "On considère l'ensemble de documents contenant les 3 phrases et la requête ci-dessous."
   ]
  },
  {
   "cell_type": "code",
   "execution_count": 1,
   "id": "0e727dbc-ae49-4e5e-a1e8-59ca3576fcd9",
   "metadata": {},
   "outputs": [
    {
     "data": {
      "text/html": [
       "<div>\n",
       "<style scoped>\n",
       "    .dataframe tbody tr th:only-of-type {\n",
       "        vertical-align: middle;\n",
       "    }\n",
       "\n",
       "    .dataframe tbody tr th {\n",
       "        vertical-align: top;\n",
       "    }\n",
       "\n",
       "    .dataframe thead th {\n",
       "        text-align: right;\n",
       "    }\n",
       "</style>\n",
       "<table border=\"1\" class=\"dataframe\">\n",
       "  <thead>\n",
       "    <tr style=\"text-align: right;\">\n",
       "      <th></th>\n",
       "      <th>texte</th>\n",
       "    </tr>\n",
       "  </thead>\n",
       "  <tbody>\n",
       "    <tr>\n",
       "      <th>0</th>\n",
       "      <td>The game of life is a game of everlasting lear...</td>\n",
       "    </tr>\n",
       "    <tr>\n",
       "      <th>1</th>\n",
       "      <td>The unexamined life is not worth living</td>\n",
       "    </tr>\n",
       "    <tr>\n",
       "      <th>2</th>\n",
       "      <td>Never stop learning</td>\n",
       "    </tr>\n",
       "  </tbody>\n",
       "</table>\n",
       "</div>"
      ],
      "text/plain": [
       "                                               texte\n",
       "0  The game of life is a game of everlasting lear...\n",
       "1            The unexamined life is not worth living\n",
       "2                                Never stop learning"
      ]
     },
     "execution_count": 1,
     "metadata": {},
     "output_type": "execute_result"
    }
   ],
   "source": [
    "import pandas as pd\n",
    "df = pd.DataFrame([\"The game of life is a game of everlasting learning\",\n",
    "                   \"The unexamined life is not worth living\",\n",
    "                   \"Never stop learning\"],\n",
    "                  columns=['texte'])\n",
    "df"
   ]
  },
  {
   "cell_type": "code",
   "execution_count": 2,
   "id": "b157deab-b371-4981-bdc8-771bdc2656f4",
   "metadata": {},
   "outputs": [
    {
     "data": {
      "text/html": [
       "<div>\n",
       "<style scoped>\n",
       "    .dataframe tbody tr th:only-of-type {\n",
       "        vertical-align: middle;\n",
       "    }\n",
       "\n",
       "    .dataframe tbody tr th {\n",
       "        vertical-align: top;\n",
       "    }\n",
       "\n",
       "    .dataframe thead th {\n",
       "        text-align: right;\n",
       "    }\n",
       "</style>\n",
       "<table border=\"1\" class=\"dataframe\">\n",
       "  <thead>\n",
       "    <tr style=\"text-align: right;\">\n",
       "      <th></th>\n",
       "      <th>texte</th>\n",
       "    </tr>\n",
       "  </thead>\n",
       "  <tbody>\n",
       "    <tr>\n",
       "      <th>0</th>\n",
       "      <td>life learning</td>\n",
       "    </tr>\n",
       "  </tbody>\n",
       "</table>\n",
       "</div>"
      ],
      "text/plain": [
       "           texte\n",
       "0  life learning"
      ]
     },
     "execution_count": 2,
     "metadata": {},
     "output_type": "execute_result"
    }
   ],
   "source": [
    "df_requete = pd.DataFrame([\"life learning\"], columns=['texte'])\n",
    "df_requete"
   ]
  },
  {
   "cell_type": "markdown",
   "id": "c8df1683-7b5e-4caa-a98a-a2fc5d5ec0fa",
   "metadata": {},
   "source": [
    "## 1. Term Frequency (TF)\n",
    "\n",
    "C'est tout simplement la fréquence de chaque mot dans chaque document. On peut le faire à la main relativement simplement mais on va pas le faire..."
   ]
  },
  {
   "cell_type": "code",
   "execution_count": 3,
   "id": "e5908b5d-a957-464a-a845-d814a7d880fe",
   "metadata": {},
   "outputs": [
    {
     "data": {
      "text/html": [
       "<div>\n",
       "<style scoped>\n",
       "    .dataframe tbody tr th:only-of-type {\n",
       "        vertical-align: middle;\n",
       "    }\n",
       "\n",
       "    .dataframe tbody tr th {\n",
       "        vertical-align: top;\n",
       "    }\n",
       "\n",
       "    .dataframe thead th {\n",
       "        text-align: right;\n",
       "    }\n",
       "</style>\n",
       "<table border=\"1\" class=\"dataframe\">\n",
       "  <thead>\n",
       "    <tr style=\"text-align: right;\">\n",
       "      <th></th>\n",
       "      <th>a</th>\n",
       "      <th>everlasting</th>\n",
       "      <th>game</th>\n",
       "      <th>is</th>\n",
       "      <th>learning</th>\n",
       "      <th>life</th>\n",
       "      <th>living</th>\n",
       "      <th>never</th>\n",
       "      <th>not</th>\n",
       "      <th>of</th>\n",
       "      <th>stop</th>\n",
       "      <th>the</th>\n",
       "      <th>unexamined</th>\n",
       "      <th>worth</th>\n",
       "    </tr>\n",
       "  </thead>\n",
       "  <tbody>\n",
       "    <tr>\n",
       "      <th>0</th>\n",
       "      <td>1</td>\n",
       "      <td>1</td>\n",
       "      <td>2</td>\n",
       "      <td>1</td>\n",
       "      <td>1</td>\n",
       "      <td>1</td>\n",
       "      <td>0</td>\n",
       "      <td>0</td>\n",
       "      <td>0</td>\n",
       "      <td>2</td>\n",
       "      <td>0</td>\n",
       "      <td>1</td>\n",
       "      <td>0</td>\n",
       "      <td>0</td>\n",
       "    </tr>\n",
       "    <tr>\n",
       "      <th>1</th>\n",
       "      <td>0</td>\n",
       "      <td>0</td>\n",
       "      <td>0</td>\n",
       "      <td>1</td>\n",
       "      <td>0</td>\n",
       "      <td>1</td>\n",
       "      <td>1</td>\n",
       "      <td>0</td>\n",
       "      <td>1</td>\n",
       "      <td>0</td>\n",
       "      <td>0</td>\n",
       "      <td>1</td>\n",
       "      <td>1</td>\n",
       "      <td>1</td>\n",
       "    </tr>\n",
       "    <tr>\n",
       "      <th>2</th>\n",
       "      <td>0</td>\n",
       "      <td>0</td>\n",
       "      <td>0</td>\n",
       "      <td>0</td>\n",
       "      <td>1</td>\n",
       "      <td>0</td>\n",
       "      <td>0</td>\n",
       "      <td>1</td>\n",
       "      <td>0</td>\n",
       "      <td>0</td>\n",
       "      <td>1</td>\n",
       "      <td>0</td>\n",
       "      <td>0</td>\n",
       "      <td>0</td>\n",
       "    </tr>\n",
       "  </tbody>\n",
       "</table>\n",
       "</div>"
      ],
      "text/plain": [
       "   a  everlasting  game  is  learning  life  living  never  not  of  stop  \\\n",
       "0  1            1     2   1         1     1       0      0    0   2     0   \n",
       "1  0            0     0   1         0     1       1      0    1   0     0   \n",
       "2  0            0     0   0         1     0       0      1    0   0     1   \n",
       "\n",
       "   the  unexamined  worth  \n",
       "0    1           0      0  \n",
       "1    1           1      1  \n",
       "2    0           0      0  "
      ]
     },
     "execution_count": 3,
     "metadata": {},
     "output_type": "execute_result"
    }
   ],
   "source": [
    "# avec sklearn\n",
    "from sklearn.feature_extraction.text import CountVectorizer\n",
    "countVec = CountVectorizer(token_pattern='(?u)\\\\b\\\\w+\\\\b')\n",
    "df_tf = countVec.fit_transform(df.texte)\n",
    "df_tf = pd.DataFrame(df_tf.toarray(),\n",
    "                     columns=countVec.get_feature_names_out())\n",
    "df_tf"
   ]
  },
  {
   "cell_type": "markdown",
   "id": "b4b35f84-ffe7-4e40-bc2c-46d0281b1602",
   "metadata": {},
   "source": [
    "Le problème c'est que selon la taille du document, le nombre d'occurences n'a pas du tout le même sens...une solution peut être de normaliser en divisant par la taille du document."
   ]
  },
  {
   "cell_type": "code",
   "execution_count": 4,
   "id": "824746cd-d255-477b-9038-623810aaff8f",
   "metadata": {},
   "outputs": [
    {
     "data": {
      "text/html": [
       "<div>\n",
       "<style scoped>\n",
       "    .dataframe tbody tr th:only-of-type {\n",
       "        vertical-align: middle;\n",
       "    }\n",
       "\n",
       "    .dataframe tbody tr th {\n",
       "        vertical-align: top;\n",
       "    }\n",
       "\n",
       "    .dataframe thead th {\n",
       "        text-align: right;\n",
       "    }\n",
       "</style>\n",
       "<table border=\"1\" class=\"dataframe\">\n",
       "  <thead>\n",
       "    <tr style=\"text-align: right;\">\n",
       "      <th></th>\n",
       "      <th>a</th>\n",
       "      <th>everlasting</th>\n",
       "      <th>game</th>\n",
       "      <th>is</th>\n",
       "      <th>learning</th>\n",
       "      <th>life</th>\n",
       "      <th>living</th>\n",
       "      <th>never</th>\n",
       "      <th>not</th>\n",
       "      <th>of</th>\n",
       "      <th>stop</th>\n",
       "      <th>the</th>\n",
       "      <th>unexamined</th>\n",
       "      <th>worth</th>\n",
       "    </tr>\n",
       "  </thead>\n",
       "  <tbody>\n",
       "    <tr>\n",
       "      <th>0</th>\n",
       "      <td>0.1</td>\n",
       "      <td>0.1</td>\n",
       "      <td>0.2</td>\n",
       "      <td>0.100000</td>\n",
       "      <td>0.100000</td>\n",
       "      <td>0.100000</td>\n",
       "      <td>0.000000</td>\n",
       "      <td>0.000000</td>\n",
       "      <td>0.000000</td>\n",
       "      <td>0.2</td>\n",
       "      <td>0.000000</td>\n",
       "      <td>0.100000</td>\n",
       "      <td>0.000000</td>\n",
       "      <td>0.000000</td>\n",
       "    </tr>\n",
       "    <tr>\n",
       "      <th>1</th>\n",
       "      <td>0.0</td>\n",
       "      <td>0.0</td>\n",
       "      <td>0.0</td>\n",
       "      <td>0.142857</td>\n",
       "      <td>0.000000</td>\n",
       "      <td>0.142857</td>\n",
       "      <td>0.142857</td>\n",
       "      <td>0.000000</td>\n",
       "      <td>0.142857</td>\n",
       "      <td>0.0</td>\n",
       "      <td>0.000000</td>\n",
       "      <td>0.142857</td>\n",
       "      <td>0.142857</td>\n",
       "      <td>0.142857</td>\n",
       "    </tr>\n",
       "    <tr>\n",
       "      <th>2</th>\n",
       "      <td>0.0</td>\n",
       "      <td>0.0</td>\n",
       "      <td>0.0</td>\n",
       "      <td>0.000000</td>\n",
       "      <td>0.333333</td>\n",
       "      <td>0.000000</td>\n",
       "      <td>0.000000</td>\n",
       "      <td>0.333333</td>\n",
       "      <td>0.000000</td>\n",
       "      <td>0.0</td>\n",
       "      <td>0.333333</td>\n",
       "      <td>0.000000</td>\n",
       "      <td>0.000000</td>\n",
       "      <td>0.000000</td>\n",
       "    </tr>\n",
       "  </tbody>\n",
       "</table>\n",
       "</div>"
      ],
      "text/plain": [
       "     a  everlasting  game        is  learning      life    living     never  \\\n",
       "0  0.1          0.1   0.2  0.100000  0.100000  0.100000  0.000000  0.000000   \n",
       "1  0.0          0.0   0.0  0.142857  0.000000  0.142857  0.142857  0.000000   \n",
       "2  0.0          0.0   0.0  0.000000  0.333333  0.000000  0.000000  0.333333   \n",
       "\n",
       "        not   of      stop       the  unexamined     worth  \n",
       "0  0.000000  0.2  0.000000  0.100000    0.000000  0.000000  \n",
       "1  0.142857  0.0  0.000000  0.142857    0.142857  0.142857  \n",
       "2  0.000000  0.0  0.333333  0.000000    0.000000  0.000000  "
      ]
     },
     "execution_count": 4,
     "metadata": {},
     "output_type": "execute_result"
    }
   ],
   "source": [
    "# TF normalisé\n",
    "df_tf_norm = df_tf.copy()\n",
    "for i in range(3):\n",
    "    df_tf_norm.loc[i] = df_tf.loc[i]/len(df.loc[i,'texte'].split())\n",
    "df_tf_norm"
   ]
  },
  {
   "cell_type": "code",
   "execution_count": 5,
   "id": "d201a4e6-bd02-4010-8449-f02d8972aaac",
   "metadata": {},
   "outputs": [
    {
     "data": {
      "text/html": [
       "<div>\n",
       "<style scoped>\n",
       "    .dataframe tbody tr th:only-of-type {\n",
       "        vertical-align: middle;\n",
       "    }\n",
       "\n",
       "    .dataframe tbody tr th {\n",
       "        vertical-align: top;\n",
       "    }\n",
       "\n",
       "    .dataframe thead th {\n",
       "        text-align: right;\n",
       "    }\n",
       "</style>\n",
       "<table border=\"1\" class=\"dataframe\">\n",
       "  <thead>\n",
       "    <tr style=\"text-align: right;\">\n",
       "      <th></th>\n",
       "      <th>a</th>\n",
       "      <th>everlasting</th>\n",
       "      <th>game</th>\n",
       "      <th>is</th>\n",
       "      <th>learning</th>\n",
       "      <th>life</th>\n",
       "      <th>living</th>\n",
       "      <th>never</th>\n",
       "      <th>not</th>\n",
       "      <th>of</th>\n",
       "      <th>stop</th>\n",
       "      <th>the</th>\n",
       "      <th>unexamined</th>\n",
       "      <th>worth</th>\n",
       "    </tr>\n",
       "  </thead>\n",
       "  <tbody>\n",
       "    <tr>\n",
       "      <th>0</th>\n",
       "      <td>0.1</td>\n",
       "      <td>0.1</td>\n",
       "      <td>0.2</td>\n",
       "      <td>0.100000</td>\n",
       "      <td>0.100000</td>\n",
       "      <td>0.100000</td>\n",
       "      <td>0.000000</td>\n",
       "      <td>0.000000</td>\n",
       "      <td>0.000000</td>\n",
       "      <td>0.2</td>\n",
       "      <td>0.000000</td>\n",
       "      <td>0.100000</td>\n",
       "      <td>0.000000</td>\n",
       "      <td>0.000000</td>\n",
       "    </tr>\n",
       "    <tr>\n",
       "      <th>1</th>\n",
       "      <td>0.0</td>\n",
       "      <td>0.0</td>\n",
       "      <td>0.0</td>\n",
       "      <td>0.142857</td>\n",
       "      <td>0.000000</td>\n",
       "      <td>0.142857</td>\n",
       "      <td>0.142857</td>\n",
       "      <td>0.000000</td>\n",
       "      <td>0.142857</td>\n",
       "      <td>0.0</td>\n",
       "      <td>0.000000</td>\n",
       "      <td>0.142857</td>\n",
       "      <td>0.142857</td>\n",
       "      <td>0.142857</td>\n",
       "    </tr>\n",
       "    <tr>\n",
       "      <th>2</th>\n",
       "      <td>0.0</td>\n",
       "      <td>0.0</td>\n",
       "      <td>0.0</td>\n",
       "      <td>0.000000</td>\n",
       "      <td>0.333333</td>\n",
       "      <td>0.000000</td>\n",
       "      <td>0.000000</td>\n",
       "      <td>0.333333</td>\n",
       "      <td>0.000000</td>\n",
       "      <td>0.0</td>\n",
       "      <td>0.333333</td>\n",
       "      <td>0.000000</td>\n",
       "      <td>0.000000</td>\n",
       "      <td>0.000000</td>\n",
       "    </tr>\n",
       "  </tbody>\n",
       "</table>\n",
       "</div>"
      ],
      "text/plain": [
       "     a  everlasting  game        is  learning      life    living     never  \\\n",
       "0  0.1          0.1   0.2  0.100000  0.100000  0.100000  0.000000  0.000000   \n",
       "1  0.0          0.0   0.0  0.142857  0.000000  0.142857  0.142857  0.000000   \n",
       "2  0.0          0.0   0.0  0.000000  0.333333  0.000000  0.000000  0.333333   \n",
       "\n",
       "        not   of      stop       the  unexamined     worth  \n",
       "0  0.000000  0.2  0.000000  0.100000    0.000000  0.000000  \n",
       "1  0.142857  0.0  0.000000  0.142857    0.142857  0.142857  \n",
       "2  0.000000  0.0  0.333333  0.000000    0.000000  0.000000  "
      ]
     },
     "execution_count": 5,
     "metadata": {},
     "output_type": "execute_result"
    }
   ],
   "source": [
    "# petite astuce au passage la méthode .div\n",
    "df_tf_norm = df_tf.div(df_tf.sum(axis=1), axis=0)\n",
    "df_tf_norm"
   ]
  },
  {
   "cell_type": "markdown",
   "id": "c954272f-0c5f-4594-8610-2f86bf80bea5",
   "metadata": {},
   "source": [
    "Le problème c'est qu'on considère tous les mots comme ayant la même importance. Notamment, des mots ayant une trop grande fréquence (c'est-à-dire présents dans beaucoup de documents) ne sont pas pertinents pour mesurer la similarité. Une solution ça va être d'utiliser une mesure qui décroit avec le nombre de documents dans lequel le mot est présent.\n",
    "\n",
    "## Inverse Document Frequency\n",
    "\n",
    "Cette mesure va permettre de :\n",
    "- **baisser** l'importance d'un terme s'il est trop présent\n",
    "- **augmenter**  l'importance d'un terme rare\n",
    "\n",
    "$$IDF_{mot} = \\log(\\frac{N}{n_{mot}})$$\n",
    "\n",
    "avec $N$ le nombre total de documents, $n_{mot}$ le nombre de documents contenant au moins une fois le terme $mot$"
   ]
  },
  {
   "cell_type": "code",
   "execution_count": 6,
   "id": "cd7f482a-8687-4caf-82ae-60a9f222c738",
   "metadata": {},
   "outputs": [
    {
     "data": {
      "image/png": "[encoded data removed]",
      "text/plain": [
       "<Figure size 432x288 with 1 Axes>"
      ]
     },
     "metadata": {
      "needs_background": "light"
     },
     "output_type": "display_data"
    }
   ],
   "source": [
    "import matplotlib.pyplot as plt\n",
    "import numpy as np\n",
    "x = np.linspace(0,1,51)\n",
    "plt.plot(x[1:], list(map(lambda a: np.log(1/a), x[1:])));"
   ]
  },
  {
   "cell_type": "code",
   "execution_count": 7,
   "id": "ecbc3ae3-da53-44e1-974a-a296ef80c2aa",
   "metadata": {},
   "outputs": [
    {
     "name": "stdout",
     "output_type": "stream",
     "text": [
      "a : 2.09861228866811\n",
      "everlasting : 2.09861228866811\n",
      "game : 2.09861228866811\n",
      "is : 1.4054651081081644\n",
      "learning : 1.4054651081081644\n",
      "life : 1.4054651081081644\n",
      "living : 2.09861228866811\n",
      "never : 2.09861228866811\n",
      "not : 2.09861228866811\n",
      "of : 2.09861228866811\n",
      "stop : 2.09861228866811\n",
      "the : 1.4054651081081644\n",
      "unexamined : 2.09861228866811\n",
      "worth : 2.09861228866811\n"
     ]
    }
   ],
   "source": [
    "def calcul_idf(mot):\n",
    "    n = sum(df_tf[mot]>0)\n",
    "    return 1 + np.log(3/n)\n",
    "\n",
    "for mot in df_tf.columns:\n",
    "    print(f\"{mot} : {calcul_idf(mot)}\")"
   ]
  },
  {
   "cell_type": "markdown",
   "id": "725ee031-304f-4522-ad06-444342c20523",
   "metadata": {},
   "source": [
    "Finalement, maintenant qu'on a une mesure (TF) de la fréquence de mots qui augmente par définition si le terme est présent dans un document et une seconde mesure (IDF) qui attribue un poids à ce terme selon sa fréquence dans tous les documents. On plus qu'à les combiner !\n",
    "\n",
    "## 3. TF-IDF\n",
    "\n",
    "On fait juste $$TF\\_IDF_{mot, doc} = TF_{mot, doc} * IDF_{mot}$$"
   ]
  },
  {
   "cell_type": "code",
   "execution_count": 8,
   "id": "8cb22b3a-8b6d-4189-a3d1-0501dcf8a145",
   "metadata": {},
   "outputs": [
    {
     "data": {
      "text/html": [
       "<div>\n",
       "<style scoped>\n",
       "    .dataframe tbody tr th:only-of-type {\n",
       "        vertical-align: middle;\n",
       "    }\n",
       "\n",
       "    .dataframe tbody tr th {\n",
       "        vertical-align: top;\n",
       "    }\n",
       "\n",
       "    .dataframe thead th {\n",
       "        text-align: right;\n",
       "    }\n",
       "</style>\n",
       "<table border=\"1\" class=\"dataframe\">\n",
       "  <thead>\n",
       "    <tr style=\"text-align: right;\">\n",
       "      <th></th>\n",
       "      <th>a</th>\n",
       "      <th>everlasting</th>\n",
       "      <th>game</th>\n",
       "      <th>is</th>\n",
       "      <th>learning</th>\n",
       "      <th>life</th>\n",
       "      <th>living</th>\n",
       "      <th>never</th>\n",
       "      <th>not</th>\n",
       "      <th>of</th>\n",
       "      <th>stop</th>\n",
       "      <th>the</th>\n",
       "      <th>unexamined</th>\n",
       "      <th>worth</th>\n",
       "    </tr>\n",
       "  </thead>\n",
       "  <tbody>\n",
       "    <tr>\n",
       "      <th>0</th>\n",
       "      <td>0.209861</td>\n",
       "      <td>0.209861</td>\n",
       "      <td>0.419722</td>\n",
       "      <td>0.140547</td>\n",
       "      <td>0.140547</td>\n",
       "      <td>0.140547</td>\n",
       "      <td>0.000000</td>\n",
       "      <td>0.000000</td>\n",
       "      <td>0.000000</td>\n",
       "      <td>0.419722</td>\n",
       "      <td>0.000000</td>\n",
       "      <td>0.140547</td>\n",
       "      <td>0.000000</td>\n",
       "      <td>0.000000</td>\n",
       "    </tr>\n",
       "    <tr>\n",
       "      <th>1</th>\n",
       "      <td>0.000000</td>\n",
       "      <td>0.000000</td>\n",
       "      <td>0.000000</td>\n",
       "      <td>0.200781</td>\n",
       "      <td>0.000000</td>\n",
       "      <td>0.200781</td>\n",
       "      <td>0.299802</td>\n",
       "      <td>0.000000</td>\n",
       "      <td>0.299802</td>\n",
       "      <td>0.000000</td>\n",
       "      <td>0.000000</td>\n",
       "      <td>0.200781</td>\n",
       "      <td>0.299802</td>\n",
       "      <td>0.299802</td>\n",
       "    </tr>\n",
       "    <tr>\n",
       "      <th>2</th>\n",
       "      <td>0.000000</td>\n",
       "      <td>0.000000</td>\n",
       "      <td>0.000000</td>\n",
       "      <td>0.000000</td>\n",
       "      <td>0.468488</td>\n",
       "      <td>0.000000</td>\n",
       "      <td>0.000000</td>\n",
       "      <td>0.699537</td>\n",
       "      <td>0.000000</td>\n",
       "      <td>0.000000</td>\n",
       "      <td>0.699537</td>\n",
       "      <td>0.000000</td>\n",
       "      <td>0.000000</td>\n",
       "      <td>0.000000</td>\n",
       "    </tr>\n",
       "  </tbody>\n",
       "</table>\n",
       "</div>"
      ],
      "text/plain": [
       "          a  everlasting      game        is  learning      life    living  \\\n",
       "0  0.209861     0.209861  0.419722  0.140547  0.140547  0.140547  0.000000   \n",
       "1  0.000000     0.000000  0.000000  0.200781  0.000000  0.200781  0.299802   \n",
       "2  0.000000     0.000000  0.000000  0.000000  0.468488  0.000000  0.000000   \n",
       "\n",
       "      never       not        of      stop       the  unexamined     worth  \n",
       "0  0.000000  0.000000  0.419722  0.000000  0.140547    0.000000  0.000000  \n",
       "1  0.000000  0.299802  0.000000  0.000000  0.200781    0.299802  0.299802  \n",
       "2  0.699537  0.000000  0.000000  0.699537  0.000000    0.000000  0.000000  "
      ]
     },
     "execution_count": 8,
     "metadata": {},
     "output_type": "execute_result"
    }
   ],
   "source": [
    "df_tfidf = df_tf_norm.copy()\n",
    "\n",
    "for mot in df_tf.columns:\n",
    "    df_tfidf[mot] = df_tfidf[mot] * calcul_idf(mot)\n",
    "\n",
    "df_tfidf"
   ]
  },
  {
   "cell_type": "code",
   "execution_count": 9,
   "id": "60e85c5b-4376-44c1-a30f-3641b6666f3c",
   "metadata": {},
   "outputs": [
    {
     "data": {
      "text/html": [
       "<div>\n",
       "<style scoped>\n",
       "    .dataframe tbody tr th:only-of-type {\n",
       "        vertical-align: middle;\n",
       "    }\n",
       "\n",
       "    .dataframe tbody tr th {\n",
       "        vertical-align: top;\n",
       "    }\n",
       "\n",
       "    .dataframe thead th {\n",
       "        text-align: right;\n",
       "    }\n",
       "</style>\n",
       "<table border=\"1\" class=\"dataframe\">\n",
       "  <thead>\n",
       "    <tr style=\"text-align: right;\">\n",
       "      <th></th>\n",
       "      <th>a</th>\n",
       "      <th>everlasting</th>\n",
       "      <th>game</th>\n",
       "      <th>is</th>\n",
       "      <th>learning</th>\n",
       "      <th>life</th>\n",
       "      <th>living</th>\n",
       "      <th>never</th>\n",
       "      <th>not</th>\n",
       "      <th>of</th>\n",
       "      <th>stop</th>\n",
       "      <th>the</th>\n",
       "      <th>unexamined</th>\n",
       "      <th>worth</th>\n",
       "    </tr>\n",
       "  </thead>\n",
       "  <tbody>\n",
       "    <tr>\n",
       "      <th>0</th>\n",
       "      <td>0.284975</td>\n",
       "      <td>0.284975</td>\n",
       "      <td>0.569951</td>\n",
       "      <td>0.216731</td>\n",
       "      <td>0.216731</td>\n",
       "      <td>0.216731</td>\n",
       "      <td>0.000000</td>\n",
       "      <td>0.000000</td>\n",
       "      <td>0.000000</td>\n",
       "      <td>0.569951</td>\n",
       "      <td>0.000000</td>\n",
       "      <td>0.216731</td>\n",
       "      <td>0.000000</td>\n",
       "      <td>0.000000</td>\n",
       "    </tr>\n",
       "    <tr>\n",
       "      <th>1</th>\n",
       "      <td>0.000000</td>\n",
       "      <td>0.000000</td>\n",
       "      <td>0.000000</td>\n",
       "      <td>0.317570</td>\n",
       "      <td>0.000000</td>\n",
       "      <td>0.317570</td>\n",
       "      <td>0.417567</td>\n",
       "      <td>0.000000</td>\n",
       "      <td>0.417567</td>\n",
       "      <td>0.000000</td>\n",
       "      <td>0.000000</td>\n",
       "      <td>0.317570</td>\n",
       "      <td>0.417567</td>\n",
       "      <td>0.417567</td>\n",
       "    </tr>\n",
       "    <tr>\n",
       "      <th>2</th>\n",
       "      <td>0.000000</td>\n",
       "      <td>0.000000</td>\n",
       "      <td>0.000000</td>\n",
       "      <td>0.000000</td>\n",
       "      <td>0.473630</td>\n",
       "      <td>0.000000</td>\n",
       "      <td>0.000000</td>\n",
       "      <td>0.622766</td>\n",
       "      <td>0.000000</td>\n",
       "      <td>0.000000</td>\n",
       "      <td>0.622766</td>\n",
       "      <td>0.000000</td>\n",
       "      <td>0.000000</td>\n",
       "      <td>0.000000</td>\n",
       "    </tr>\n",
       "  </tbody>\n",
       "</table>\n",
       "</div>"
      ],
      "text/plain": [
       "          a  everlasting      game        is  learning      life    living  \\\n",
       "0  0.284975     0.284975  0.569951  0.216731  0.216731  0.216731  0.000000   \n",
       "1  0.000000     0.000000  0.000000  0.317570  0.000000  0.317570  0.417567   \n",
       "2  0.000000     0.000000  0.000000  0.000000  0.473630  0.000000  0.000000   \n",
       "\n",
       "      never       not        of      stop       the  unexamined     worth  \n",
       "0  0.000000  0.000000  0.569951  0.000000  0.216731    0.000000  0.000000  \n",
       "1  0.000000  0.417567  0.000000  0.000000  0.317570    0.417567  0.417567  \n",
       "2  0.622766  0.000000  0.000000  0.622766  0.000000    0.000000  0.000000  "
      ]
     },
     "execution_count": 9,
     "metadata": {},
     "output_type": "execute_result"
    }
   ],
   "source": [
    "# avec sklearn\n",
    "from sklearn.feature_extraction.text import TfidfVectorizer\n",
    "tfidf = TfidfVectorizer(token_pattern='(?u)\\\\b\\\\w+\\\\b')\n",
    "df_tfidf2 = tfidf.fit_transform(df.texte)\n",
    "df_tfidf2 = pd.DataFrame(df_tfidf2.toarray(),\n",
    "                         columns=countVec.get_feature_names_out())\n",
    "df_tfidf2"
   ]
  },
  {
   "cell_type": "markdown",
   "id": "f85bccdf-92c4-4d60-9f7d-26af7a39fad3",
   "metadata": {},
   "source": [
    "Les résultats ne sont pas exactement les mêmes car le calcul de sklearn diffèrent un peu. En effet pour `sklearn` :\n",
    "1. on utilise pour $TF$ les occurences **sans normaliser**\n",
    "2. avec les paramètres par défaut, la valeur de $IDF$ est $1+\\log(\\frac{1+N}{1+n_{mot}})$\n",
    "3. enfin on normalise par ligne (par document donc) de sorte que la somme soit égale à 1"
   ]
  },
  {
   "cell_type": "code",
   "execution_count": 10,
   "id": "5a28f941-ec34-4f74-b4bb-ac4d3f954abf",
   "metadata": {},
   "outputs": [
    {
     "data": {
      "text/html": [
       "<div>\n",
       "<style scoped>\n",
       "    .dataframe tbody tr th:only-of-type {\n",
       "        vertical-align: middle;\n",
       "    }\n",
       "\n",
       "    .dataframe tbody tr th {\n",
       "        vertical-align: top;\n",
       "    }\n",
       "\n",
       "    .dataframe thead th {\n",
       "        text-align: right;\n",
       "    }\n",
       "</style>\n",
       "<table border=\"1\" class=\"dataframe\">\n",
       "  <thead>\n",
       "    <tr style=\"text-align: right;\">\n",
       "      <th></th>\n",
       "      <th>a</th>\n",
       "      <th>everlasting</th>\n",
       "      <th>game</th>\n",
       "      <th>is</th>\n",
       "      <th>learning</th>\n",
       "      <th>life</th>\n",
       "      <th>living</th>\n",
       "      <th>never</th>\n",
       "      <th>not</th>\n",
       "      <th>of</th>\n",
       "      <th>stop</th>\n",
       "      <th>the</th>\n",
       "      <th>unexamined</th>\n",
       "      <th>worth</th>\n",
       "    </tr>\n",
       "  </thead>\n",
       "  <tbody>\n",
       "    <tr>\n",
       "      <th>0</th>\n",
       "      <td>0.291185</td>\n",
       "      <td>0.291185</td>\n",
       "      <td>0.582369</td>\n",
       "      <td>0.195010</td>\n",
       "      <td>0.195010</td>\n",
       "      <td>0.195010</td>\n",
       "      <td>0.000000</td>\n",
       "      <td>0.00000</td>\n",
       "      <td>0.000000</td>\n",
       "      <td>0.582369</td>\n",
       "      <td>0.00000</td>\n",
       "      <td>0.195010</td>\n",
       "      <td>0.000000</td>\n",
       "      <td>0.000000</td>\n",
       "    </tr>\n",
       "    <tr>\n",
       "      <th>1</th>\n",
       "      <td>0.000000</td>\n",
       "      <td>0.000000</td>\n",
       "      <td>0.000000</td>\n",
       "      <td>0.289662</td>\n",
       "      <td>0.000000</td>\n",
       "      <td>0.289662</td>\n",
       "      <td>0.432518</td>\n",
       "      <td>0.00000</td>\n",
       "      <td>0.432518</td>\n",
       "      <td>0.000000</td>\n",
       "      <td>0.00000</td>\n",
       "      <td>0.289662</td>\n",
       "      <td>0.432518</td>\n",
       "      <td>0.432518</td>\n",
       "    </tr>\n",
       "    <tr>\n",
       "      <th>2</th>\n",
       "      <td>0.000000</td>\n",
       "      <td>0.000000</td>\n",
       "      <td>0.000000</td>\n",
       "      <td>0.000000</td>\n",
       "      <td>0.427993</td>\n",
       "      <td>0.000000</td>\n",
       "      <td>0.000000</td>\n",
       "      <td>0.63907</td>\n",
       "      <td>0.000000</td>\n",
       "      <td>0.000000</td>\n",
       "      <td>0.63907</td>\n",
       "      <td>0.000000</td>\n",
       "      <td>0.000000</td>\n",
       "      <td>0.000000</td>\n",
       "    </tr>\n",
       "  </tbody>\n",
       "</table>\n",
       "</div>"
      ],
      "text/plain": [
       "          a  everlasting      game        is  learning      life    living  \\\n",
       "0  0.291185     0.291185  0.582369  0.195010  0.195010  0.195010  0.000000   \n",
       "1  0.000000     0.000000  0.000000  0.289662  0.000000  0.289662  0.432518   \n",
       "2  0.000000     0.000000  0.000000  0.000000  0.427993  0.000000  0.000000   \n",
       "\n",
       "     never       not        of     stop       the  unexamined     worth  \n",
       "0  0.00000  0.000000  0.582369  0.00000  0.195010    0.000000  0.000000  \n",
       "1  0.00000  0.432518  0.000000  0.00000  0.289662    0.432518  0.432518  \n",
       "2  0.63907  0.000000  0.000000  0.63907  0.000000    0.000000  0.000000  "
      ]
     },
     "execution_count": 10,
     "metadata": {},
     "output_type": "execute_result"
    }
   ],
   "source": [
    "# pour retomber sur les valeurs de sklearn \"à la main\"\n",
    "\n",
    "# on définit le calcul de IDF tel qu'il est fait avec les paramètres par défaut dans TfidfTransformer\n",
    "def calcul_idf_2(mot):\n",
    "    n = sum(df_tf[mot]>0)\n",
    "    return 1+np.log((1+3)/(1+n))\n",
    "\n",
    "# on multiplie le TF non normalisé par le terme IDF obtenu\n",
    "df_tfidf3 = df_tf.copy()\n",
    "for mot in df_tf.columns:\n",
    "    df_tfidf3[mot] = df_tfidf3[mot] * calcul_idf_2(mot)\n",
    "\n",
    "# enfin on normalise chaque ligne avec la norme classique L2\n",
    "df_tfidf3 = df_tfidf.div(np.sqrt((df_tfidf**2).sum(axis=1)), axis=0)\n",
    "df_tfidf3"
   ]
  },
  {
   "cell_type": "markdown",
   "id": "91888dd1-db4c-4e0a-9e69-276e2a9ebb41",
   "metadata": {},
   "source": [
    "On n'oublie pas que les termes qui nous intéressent sont ceux de la requête c'est à dire : \"life\" et \"learning\"."
   ]
  },
  {
   "cell_type": "code",
   "execution_count": 11,
   "id": "c939d26d-bb43-45d2-8276-794a1593487b",
   "metadata": {},
   "outputs": [
    {
     "data": {
      "text/html": [
       "<div>\n",
       "<style scoped>\n",
       "    .dataframe tbody tr th:only-of-type {\n",
       "        vertical-align: middle;\n",
       "    }\n",
       "\n",
       "    .dataframe tbody tr th {\n",
       "        vertical-align: top;\n",
       "    }\n",
       "\n",
       "    .dataframe thead th {\n",
       "        text-align: right;\n",
       "    }\n",
       "</style>\n",
       "<table border=\"1\" class=\"dataframe\">\n",
       "  <thead>\n",
       "    <tr style=\"text-align: right;\">\n",
       "      <th></th>\n",
       "      <th>life</th>\n",
       "      <th>learning</th>\n",
       "    </tr>\n",
       "  </thead>\n",
       "  <tbody>\n",
       "    <tr>\n",
       "      <th>0</th>\n",
       "      <td>0.216731</td>\n",
       "      <td>0.216731</td>\n",
       "    </tr>\n",
       "    <tr>\n",
       "      <th>1</th>\n",
       "      <td>0.317570</td>\n",
       "      <td>0.000000</td>\n",
       "    </tr>\n",
       "    <tr>\n",
       "      <th>2</th>\n",
       "      <td>0.000000</td>\n",
       "      <td>0.473630</td>\n",
       "    </tr>\n",
       "  </tbody>\n",
       "</table>\n",
       "</div>"
      ],
      "text/plain": [
       "       life  learning\n",
       "0  0.216731  0.216731\n",
       "1  0.317570  0.000000\n",
       "2  0.000000  0.473630"
      ]
     },
     "execution_count": 11,
     "metadata": {},
     "output_type": "execute_result"
    }
   ],
   "source": [
    "# termes de la requête\n",
    "df_tfidf2[['life', 'learning']]"
   ]
  },
  {
   "cell_type": "markdown",
   "id": "51413fb2-b066-4c0d-bb04-e4c613a57ffa",
   "metadata": {},
   "source": [
    "# Similarité cosinus\n",
    "\n",
    "Comme on a que 2 mots dans la recherche, pour chaque document on obtient un vecteur de dimension 2. L'ensemble des documents peut donc être vu comme un ensemble de vecteurs en dimensions 2 où chaque axe correspondant à un des termes. On peut ainsi représenter ces vecteurs dans le plan de la manière suivante."
   ]
  },
  {
   "cell_type": "code",
   "execution_count": 20,
   "id": "e17f366a-9c5b-4fb9-93ab-a1cce928a590",
   "metadata": {},
   "outputs": [
    {
     "data": {
      "image/png": "[encoded data removed]",
      "text/plain": [
       "<Figure size 360x360 with 1 Axes>"
      ]
     },
     "metadata": {
      "needs_background": "light"
     },
     "output_type": "display_data"
    }
   ],
   "source": [
    "import matplotlib.pyplot as plt\n",
    "origin = np.array([[0, 0, 0],[0, 0, 0]])\n",
    "plt.figure(figsize=(5,5))\n",
    "plt.quiver(*origin, df_tfidf2['life'], df_tfidf2['learning'],\n",
    "           units='xy', angles='xy', scale_units='xy', scale=1,\n",
    "           color=['r', 'g', 'b'])\n",
    "plt.xlabel('LIFE')\n",
    "plt.ylabel('LEARNING')\n",
    "plt.xlim(-0.05,0.75)\n",
    "plt.ylim(-0.05,0.75);"
   ]
  },
  {
   "cell_type": "markdown",
   "id": "2f06c108-5348-4cde-8222-a0ba7ce45ce5",
   "metadata": {},
   "source": [
    "La similarité cosinus est une mesure qui dépend de l'angle entre les vecteurs et pas de leur longueur (ou amplitude). Ainsi on utilise souvent cette métrique pour les données textuelles car cela permet de s'affranchir du nombre d'occurences des mots (notamment pour des documents de longueurs différentes) tout en regardant l'importance relative des termes entre eux au sein du document.\n",
    "\n",
    "On la calcule de la manière suivante. Pour 2 vecteurs $x$ et $y$ :\n",
    "\n",
    "$$\\frac{x.y}{\\sqrt{x.x} \\sqrt{y.y}} = \\frac{x.y}{||x.x|| \\times ||y.y||}$$"
   ]
  },
  {
   "cell_type": "code",
   "execution_count": 13,
   "id": "c65f7cf7-3446-46bb-afe6-ae511e702c34",
   "metadata": {},
   "outputs": [],
   "source": [
    "def sim_cos(x, y):\n",
    "    return np.dot(x, y) / (np.sqrt(sum(x**2)) * np.sqrt(sum(y**2)))\n",
    "#    return np.dot(x, y) / (np.sqrt(np.dot(x, x)) * np.sqrt(np.dot(y, y)))"
   ]
  },
  {
   "cell_type": "markdown",
   "id": "d64fe3d3-ae8c-4918-bb2c-67e1811cffbd",
   "metadata": {},
   "source": [
    "On peut considérer la requete de l'utilisateur comme un \"document\" et donc calculer de la même manière que précédemment matrice TF-IDF pour la requête"
   ]
  },
  {
   "cell_type": "code",
   "execution_count": 14,
   "id": "9066c246-a182-4485-bb63-e7dab4386a25",
   "metadata": {},
   "outputs": [
    {
     "data": {
      "text/html": [
       "<div>\n",
       "<style scoped>\n",
       "    .dataframe tbody tr th:only-of-type {\n",
       "        vertical-align: middle;\n",
       "    }\n",
       "\n",
       "    .dataframe tbody tr th {\n",
       "        vertical-align: top;\n",
       "    }\n",
       "\n",
       "    .dataframe thead th {\n",
       "        text-align: right;\n",
       "    }\n",
       "</style>\n",
       "<table border=\"1\" class=\"dataframe\">\n",
       "  <thead>\n",
       "    <tr style=\"text-align: right;\">\n",
       "      <th></th>\n",
       "      <th>life</th>\n",
       "      <th>learning</th>\n",
       "    </tr>\n",
       "  </thead>\n",
       "  <tbody>\n",
       "    <tr>\n",
       "      <th>0</th>\n",
       "      <td>0.707107</td>\n",
       "      <td>0.707107</td>\n",
       "    </tr>\n",
       "  </tbody>\n",
       "</table>\n",
       "</div>"
      ],
      "text/plain": [
       "       life  learning\n",
       "0  0.707107  0.707107"
      ]
     },
     "execution_count": 14,
     "metadata": {},
     "output_type": "execute_result"
    }
   ],
   "source": [
    "# on fait la transformation avec sklearn en réutilisant directement le même objet\n",
    "tfidf = TfidfVectorizer(token_pattern='(?u)\\\\b\\\\w+\\\\b')\n",
    "df_req_tfidf = tfidf.fit_transform(df_requete.texte)\n",
    "df_req_tfidf = pd.DataFrame(df_req_tfidf.toarray(),\n",
    "                            columns=['life', 'learning'])\n",
    "df_req_tfidf"
   ]
  },
  {
   "cell_type": "markdown",
   "id": "ce817c77-6d44-4c4b-82cf-e351cd13ce67",
   "metadata": {},
   "source": [
    "On peut ainsi calculer la similarité cosinus entre la requête et chacun des documents de l'ensemble. La plus grande valeur traduit une plus grande proximité entre les 2."
   ]
  },
  {
   "cell_type": "code",
   "execution_count": 28,
   "id": "014906ed-7c54-4c89-9799-f9a4d7c7f9b9",
   "metadata": {},
   "outputs": [
    {
     "name": "stdout",
     "output_type": "stream",
     "text": [
      "Similarité cosinus entre le document 1 et la requête : 1.0000000000000002\n",
      "Similarité cosinus entre le document 2 et la requête : 0.7071067811865476\n",
      "Similarité cosinus entre le document 3 et la requête : 0.7071067811865475\n"
     ]
    }
   ],
   "source": [
    "for i in range(3):\n",
    "    print(f\"Similarité cosinus entre le document {i+1} et la requête : {sim_cos(df_req_tfidf.loc[0], df_tfidf2.loc[i,['life', 'learning']])}\")"
   ]
  },
  {
   "cell_type": "markdown",
   "id": "da788c7e-9f04-4c7e-8120-c05d7db60a08",
   "metadata": {},
   "source": [
    "C'est donc bien dans le document 1 qui est le plus proche de notre requête (en l'occurrence c'est le seul contenant les 2 termes de la requête). On d'ailleurs bien le voir graphiquement."
   ]
  },
  {
   "cell_type": "code",
   "execution_count": 36,
   "id": "e707094b-90ca-4403-9277-ca1de2a351a2",
   "metadata": {},
   "outputs": [
    {
     "data": {
      "text/html": [
       "<div>\n",
       "<style scoped>\n",
       "    .dataframe tbody tr th:only-of-type {\n",
       "        vertical-align: middle;\n",
       "    }\n",
       "\n",
       "    .dataframe tbody tr th {\n",
       "        vertical-align: top;\n",
       "    }\n",
       "\n",
       "    .dataframe thead th {\n",
       "        text-align: right;\n",
       "    }\n",
       "</style>\n",
       "<table border=\"1\" class=\"dataframe\">\n",
       "  <thead>\n",
       "    <tr style=\"text-align: right;\">\n",
       "      <th></th>\n",
       "      <th>life</th>\n",
       "      <th>learning</th>\n",
       "    </tr>\n",
       "  </thead>\n",
       "  <tbody>\n",
       "    <tr>\n",
       "      <th>0</th>\n",
       "      <td>0.707107</td>\n",
       "      <td>0.707107</td>\n",
       "    </tr>\n",
       "    <tr>\n",
       "      <th>1</th>\n",
       "      <td>0.216731</td>\n",
       "      <td>0.216731</td>\n",
       "    </tr>\n",
       "    <tr>\n",
       "      <th>2</th>\n",
       "      <td>0.317570</td>\n",
       "      <td>0.000000</td>\n",
       "    </tr>\n",
       "    <tr>\n",
       "      <th>3</th>\n",
       "      <td>0.000000</td>\n",
       "      <td>0.473630</td>\n",
       "    </tr>\n",
       "  </tbody>\n",
       "</table>\n",
       "</div>"
      ],
      "text/plain": [
       "       life  learning\n",
       "0  0.707107  0.707107\n",
       "1  0.216731  0.216731\n",
       "2  0.317570  0.000000\n",
       "3  0.000000  0.473630"
      ]
     },
     "execution_count": 36,
     "metadata": {},
     "output_type": "execute_result"
    }
   ],
   "source": [
    "df_plot = pd.concat((df_req_tfidf, df_tfidf2[['life', 'learning']]), axis=0)\n",
    "df_plot.reset_index(drop=True, inplace=True)\n",
    "df_plot"
   ]
  },
  {
   "cell_type": "code",
   "execution_count": 37,
   "id": "9c43fff5-ff27-47d1-a08b-654c81d792d6",
   "metadata": {},
   "outputs": [
    {
     "data": {
      "image/png": "[encoded data removed]",
      "text/plain": [
       "<Figure size 360x360 with 1 Axes>"
      ]
     },
     "metadata": {
      "needs_background": "light"
     },
     "output_type": "display_data"
    }
   ],
   "source": [
    "origin = np.array([[0, 0, 0, 0],[0, 0, 0, 0]])\n",
    "plt.figure(figsize=(5,5))\n",
    "plt.quiver(*origin, df_plot['life'], df_plot['learning'],\n",
    "           units='xy', angles='xy', scale_units='xy', scale=1,\n",
    "           color=['k', 'r', 'g', 'b'])\n",
    "plt.xlabel('LIFE')\n",
    "plt.ylabel('LEARNING')\n",
    "plt.xlim(-0.05,0.75)\n",
    "plt.ylim(-0.05,0.75);"
   ]
  },
  {
   "cell_type": "code",
   "execution_count": null,
   "id": "c56a3a4e-cf1f-45e9-b828-2bc62b6923bd",
   "metadata": {},
   "outputs": [],
   "source": []
  }
 ],
 "metadata": {
  "kernelspec": {
   "display_name": "Python 3.8.12 64-bit ('base': conda)",
   "language": "python",
   "name": "python3812jvsc74a57bd0addda3f63a324b7a38ec870d79a82ab21d33100c2675b6c03c06d4beeb089079"
  },
  "language_info": {
   "codemirror_mode": {
    "name": "ipython",
    "version": 3
   },
   "file_extension": ".py",
   "mimetype": "text/x-python",
   "name": "python",
   "nbconvert_exporter": "python",
   "pygments_lexer": "ipython3",
   "version": "3.8.12"
  }
 },
 "nbformat": 4,
 "nbformat_minor": 5
}
