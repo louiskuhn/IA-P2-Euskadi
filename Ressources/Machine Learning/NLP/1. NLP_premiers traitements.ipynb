{
 "cells": [
  {
   "cell_type": "markdown",
   "metadata": {},
   "source": [
    "# Natural Langage Processing : les premiers traitements\n",
    "\n",
    "Pour illustrer un cas d'analyse de texte, on va analyser les compte-rendus du journal en ligne lequipe.fr de deux finales de coupe du monde de football : l'une féminine et l'une masculine. "
   ]
  },
  {
   "cell_type": "markdown",
   "metadata": {},
   "source": [
    "## Import des données\n",
    "\n",
    "On propose le code suivant pour scrapper les comptes-rendus : "
   ]
  },
  {
   "cell_type": "code",
   "execution_count": 1,
   "metadata": {},
   "outputs": [],
   "source": [
    "import requests\n",
    "from bs4 import BeautifulSoup\n",
    "import pickle"
   ]
  },
  {
   "cell_type": "code",
   "execution_count": 2,
   "metadata": {},
   "outputs": [],
   "source": [
    "def scrap_cr_foot(url):\n",
    "    page = requests.get(url).text\n",
    "    soup = BeautifulSoup(page, \"lxml\")\n",
    "    text = [p.text for p in soup.find(class_=\"article\").find_all('p')]\n",
    "    return(text)"
   ]
  },
  {
   "cell_type": "code",
   "execution_count": 3,
   "metadata": {},
   "outputs": [],
   "source": [
    "url_h = \"https://www.lequipe.fr/Football/Actualites/La-france-decroche-sa-deuxieme-coupe-du-monde-apres-une-finale-animee-contre-la-croatie/923054\"\n",
    "url_f = \"https://www.lequipe.fr/Football/Actualites/Coupe-du-monde-2019-les-etats-unis-battent-les-pays-bas-en-finale/1037785\""
   ]
  },
  {
   "cell_type": "code",
   "execution_count": 5,
   "metadata": {},
   "outputs": [
    {
     "data": {
      "text/plain": [
       "['',\n",
       " \"Pas besoin de se pincer pour y croire. L'équipe de France a bien écrit ce dimanche une nouvelle page de son histoire. En dominant la Croatie (4-2) au terme d'une finale qui a tourné à son avantage en début de seconde période, les Bleus ont réussi là où tous les autres favoris avaient échoué en Russie. Ce sacre est celui de la maîtrise... même si elle en a parfois manqué contre un adversaire qui lui a posé plus de problèmes qu'on l'aurait pensé.\",\n",
       " \"C'est aussi celui de Didier Deschamps, son sélectionneur porte-bonheur, le\\xa0troisième seulement à soulever la Coupe en tant que joueur et entraîneur après le Brésilien Zagallo et l'Allemand Beckenbauer. Il y avait les précurseurs expérimentés en 1998. Vingt ans après, ce sont des gamins qui ont réussi l'impensable. L'avenir leur appartient.\",\n",
       " \"Alors qu'on aurait cru les Français décidés à aller au carton d'entrée, pour faire douter des Croates censés être plus fatigués par leur débauche d'énergie des tours précédents - trois prolongations en 8es, quarts et demies -, c'est tout le contraire qui s'est produit. L'équipe de France n'a pas touché le ballon du premier quart d'heure. Recroquevillée, elle s'est contentée d'attendre son adversaire, sans doute dans l'idée de pouvoir mieux le contrer. Mais aussi parce que Rakitic et ses partenaires ont très bien géré ces premières minutes. Ils n'ont été surpris que sur un coup du sort : sur un coup franc excentré de Griezmann,\\xa0Mandzukic a ouvert le score contre son camp de la tête (18e).\",\n",
       " \"Il n'a fallu que dix minutes à la Croatie pour réagir. Perisic a égalisé en force (28e), à la suite d'un coup franc mal négocié par les Bleus. Tout était à refaire pour eux et là encore, ils ont reçu un petit coup de pouce du destin. À la suite d'une main de Perisic dans sa surface, un penalty a été accordé aux joueurs de Didier Deschamps après une longue attente et l'intervention de la VAR.\\xa0Griezmann n'a pas tremblé pour inscrire son quatrième but dans la compétition (38e). Tandis que l'orage s'abattait sur Moscou, les Bleus basculaient devant à la mi-temps.\",\n",
       " \"Mais après ce premier acte difficile, ils ont encore souffert à l'entame du deuxième. Les joueurs au damier ont accentué leur domination et se sont créé trois grosses occasions (48e, 49e et 54e). Le K.-O. était tout proche. Il n'est pas venu par Mbappé qui s'est heurté à Subasic (52e), mais par Pogba, dont la frappe à l'entrée de la surface (59e) a fait mouche. Il a été imité dans la foulée par le jeune Parisien qui a vu, cette fois-ci et lui aussi sa prise de risques récompensée (66e). À 4-1, il ne pouvait plus rien arriver aux Bleus...\",\n",
       " \"Mais l'irrationnel s'est encore invité dans les débats, comme face à l'Argentine (4-3). Jusque-là irréprochable, Hugo Lloris s'est troué devant Mandzukic et a permis à la Croatie d'y croire à nouveau (69e). Un peu seulement. Car malgré la sortie précoce de Kanté (55e), par choix tactique, les Bleus ont su ensuite faire bloc pour tenir et soulever ce trophée tant espéré. Ils champions du monde. Eux aussi. Pour l'éternité.\",\n",
       " \"Pourquoi Monsieur Pinata n'a-t-il pas fait appel à la vidéo après une faute de Pogba sur Mandzukic dans la surface tricolore, non signalée (24e) ? Peut-être parce les Croates n'ont rien réclamé, à la différence des Bleus, qui se sont rués sur l'arbitre après une main de Perisic, dans sa surface lui aussi (35e). Il a fallu au moins trois bonnes minutes pour que le corps arbitral prenne une décision finalement à l'avantage de l'équipe de France. Comme contre l'Australie en ouverture (2-1), Antoine Griezmann n'a pas tremblé sur penalty (38e), et offrit un avantage plutôt heureux à ce moment du match et au vu de la faute difficile à juger sur l'instant.\",\n",
       " \"Il aura tenu parole et sera monté en puissance jusqu'au bout. Après un début de tournoi décevant, Antoine Griezmann a fini le Mondial en assumant son rôle de patron, de leader technique et de buteur. Impliqué sur les trois premiers buts des Bleus, en tirant le coup franc du 1-0, en ayant les nerfs solides pour le 2-1 et en servant Pogba, qui a été contré avant de marquer le 3-1, il a été le meilleur joueur français de cette finale, comme dans celle de la Ligue Europa (doublé lors de la victoire 3-0 contre l'OM). Il ne pouvait pas mieux faire pour s'offrir toutes les chances de remporter le Ballon d'Or.\"]"
      ]
     },
     "execution_count": 5,
     "metadata": {},
     "output_type": "execute_result"
    }
   ],
   "source": [
    "# Compte rendu messieurs\n",
    "cr_h = scrap_cr_foot(url_h)\n",
    "cr_h"
   ]
  },
  {
   "cell_type": "code",
   "execution_count": 6,
   "metadata": {},
   "outputs": [
    {
     "data": {
      "text/plain": [
       "[\"La sélectionneuse néerlandaise Sarina Wiegman n'avait changé qu'une seule joueuse dans son onze de départ par rapport à la demi-finale face à la Suède (1-0 a.p.), en faisant entrer Anouk Dekker en défense centrale à la place de la défenseuse gauche Merel Van Dongen. Cependant, c'est tout le système qui était bouleversé dans un 4-4-1-1 où Beerensteyn, seule en pointe, était soutenue par Miedema. Mais autant que le système, c'est l'engagement physique mis par les Néerlandaises qui a perturbé la belle mécanique américaine. L'impact physique de Danielle Van De Donk ou de Sherida Spitse au milieu de terrain, favorisé par l'arbitrage de Stéphanie Frappart, insensible aux jérémiades permanentes d'Alex Morgan, et le pressing haut qui a gêné la relance, ont posé un problème inédit aux Américaines.\",\n",
       " \"Dans un match longtemps fermé, il a fallu attendre la 27e minute pour voir le premier tir cadré, une frappe de Julie Ertz suite à un corner de Megan Rapinoe, détournée par la gardienne d'Arsenal Sari Van Veenendaal. C'était le signal du début d'une domination des championnes du monde qui auraient pu ouvrir le score sur une double occasion, deux centres de Rapinoe repris par Mewis puis par Morgan et repoussés un peu miraculeusement par Van Veenendaal (38e). Deux minutes plus tard c'est un enchaînement ultra rapide contrôle-frappe d'Alex Morgan qui inquiétait la gardienne néerlandaise (40e). Ce sont même les joueuses au maillot orange qui terminaient plus fort la mi-temps avec deux situations dangereuses coup sur coup, deux centres de la gauche de Miedema puis de Martens, repoussés difficilement par la défense centrale américaine (40e).\",\n",
       " \"C'est un quart d'heure près la reprise que le match a basculé et il a fallu une intervention du VAR pour offrir un penalty aux Américaines. Stéphanie Frappart avait bien vu le pied de Stefani Van Der Gragt sur Alex Morgan mais elle ne l'avait pas jugé si haut. C'est en revoyant la vidéo, qui n'aura pas été défavorable aux États-Unis durant cette compétition, que l'arbitre française a choisi de siffler un penalty, pas injustifié. Megan Rapinoe a pris Van Veenendaal à contre-pied (61e). Et le match était fini.\",\n",
       " \"Placées en position de contre, leur situation favorite, les Américaines ont déroulé, inscrivant un deuxième but sur une belle percée de Lavelle, frappant entre les deux défenseuses centrales (69e). Mais les Pays-Bas auraient pu encaisser beaucoup d'autres buts, la gardienne ayant remporté ses face-à-face avec Heath (70e), Morgan (71e) ou Dunn (76e). Seul un coup franc de Spitse (79e) juste à gauche du but a pu faire passer un frisson. Les Américaines étaient trop fortes.\",\n",
       " \"Comme d'habitude, elle n'a pas chanté l'hymne national, pas posé ostensiblement sa main sur le coeur et son nom a été acclamé par le Groupama Stadium, au-delà des supporters américains. Megan Rapinoe a conclu hier en beauté une Coupe du monde très réussie pour elle. En première période, elle a été l'attaquante la plus dangereuse, notamment sur deux centres (38e). C'est elle aussi qui a converti le penalty accordé par Stéphanie Frappart en début de deuxième période (61e), son sixième but dans la compétition, le même total qu'Alex Morgan, ce qui pourrait compter en fin d'année, pour l'attribution du Ballon d'Or - France Football notamment.\",\n",
       " \"Elle avait dit pendant la compétition qu'elle n'irait pas à la Maison-Blanche en cas de titre pour cause de désaccord avec la politique de Donald Trump. Le président américain lui avait répondu en lui demandant de gagner avant de parler. Sa saillie vient de lui revenir en boomerang.\"]"
      ]
     },
     "execution_count": 6,
     "metadata": {},
     "output_type": "execute_result"
    }
   ],
   "source": [
    "# Compte rendu mesdames\n",
    "cr_f = scrap_cr_foot(url_f)\n",
    "cr_f"
   ]
  },
  {
   "cell_type": "markdown",
   "metadata": {},
   "source": [
    "## Nettoyage des données\n",
    "On met nos textes dans un dictionnaire : "
   ]
  },
  {
   "cell_type": "code",
   "execution_count": 10,
   "metadata": {},
   "outputs": [],
   "source": [
    "dict_foot = {\"CR hommes\" : cr_h, \"CR femmes\" : cr_f}"
   ]
  },
  {
   "cell_type": "markdown",
   "metadata": {},
   "source": [
    "On transforme les textes, qui sont actuellement une liste, en chaîne de caractères:"
   ]
  },
  {
   "cell_type": "code",
   "execution_count": 11,
   "metadata": {},
   "outputs": [],
   "source": [
    "for i in [\"CR hommes\", \"CR femmes\"]:\n",
    "    dict_foot[i] = ''.join(dict_foot[i])\n"
   ]
  },
  {
   "cell_type": "code",
   "execution_count": 12,
   "metadata": {},
   "outputs": [
    {
     "data": {
      "text/plain": [
       "{'CR hommes': \"Pas besoin de se pincer pour y croire. L'équipe de France a bien écrit ce dimanche une nouvelle page de son histoire. En dominant la Croatie (4-2) au terme d'une finale qui a tourné à son avantage en début de seconde période, les Bleus ont réussi là où tous les autres favoris avaient échoué en Russie. Ce sacre est celui de la maîtrise... même si elle en a parfois manqué contre un adversaire qui lui a posé plus de problèmes qu'on l'aurait pensé.C'est aussi celui de Didier Deschamps, son sélectionneur porte-bonheur, le\\xa0troisième seulement à soulever la Coupe en tant que joueur et entraîneur après le Brésilien Zagallo et l'Allemand Beckenbauer. Il y avait les précurseurs expérimentés en 1998. Vingt ans après, ce sont des gamins qui ont réussi l'impensable. L'avenir leur appartient.Le film du matchAlors qu'on aurait cru les Français décidés à aller au carton d'entrée, pour faire douter des Croates censés être plus fatigués par leur débauche d'énergie des tours précédents - trois prolongations en 8es, quarts et demies -, c'est tout le contraire qui s'est produit. L'équipe de France n'a pas touché le ballon du premier quart d'heure. Recroquevillée, elle s'est contentée d'attendre son adversaire, sans doute dans l'idée de pouvoir mieux le contrer. Mais aussi parce que Rakitic et ses partenaires ont très bien géré ces premières minutes. Ils n'ont été surpris que sur un coup du sort : sur un coup franc excentré de Griezmann,\\xa0Mandzukic a ouvert le score contre son camp de la tête (18e).Il n'a fallu que dix minutes à la Croatie pour réagir. Perisic a égalisé en force (28e), à la suite d'un coup franc mal négocié par les Bleus. Tout était à refaire pour eux et là encore, ils ont reçu un petit coup de pouce du destin. À la suite d'une main de Perisic dans sa surface, un penalty a été accordé aux joueurs de Didier Deschamps après une longue attente et l'intervention de la VAR.\\xa0Griezmann n'a pas tremblé pour inscrire son quatrième but dans la compétition (38e). Tandis que l'orage s'abattait sur Moscou, les Bleus basculaient devant à la mi-temps.Mais après ce premier acte difficile, ils ont encore souffert à l'entame du deuxième. Les joueurs au damier ont accentué leur domination et se sont créé trois grosses occasions (48e, 49e et 54e). Le K.-O. était tout proche. Il n'est pas venu par Mbappé qui s'est heurté à Subasic (52e), mais par Pogba, dont la frappe à l'entrée de la surface (59e) a fait mouche. Il a été imité dans la foulée par le jeune Parisien qui a vu, cette fois-ci et lui aussi sa prise de risques récompensée (66e). À 4-1, il ne pouvait plus rien arriver aux Bleus...Mais l'irrationnel s'est encore invité dans les débats, comme face à l'Argentine (4-3). Jusque-là irréprochable, Hugo Lloris s'est troué devant Mandzukic et a permis à la Croatie d'y croire à nouveau (69e). Un peu seulement. Car malgré la sortie précoce de Kanté (55e), par choix tactique, les Bleus ont su ensuite faire bloc pour tenir et soulever ce trophée tant espéré. Ils champions du monde. Eux aussi. Pour l'éternité.Pourquoi Monsieur Pinata n'a-t-il pas fait appel à la vidéo après une faute de Pogba sur Mandzukic dans la surface tricolore, non signalée (24e) ? Peut-être parce les Croates n'ont rien réclamé, à la différence des Bleus, qui se sont rués sur l'arbitre après une main de Perisic, dans sa surface lui aussi (35e). Il a fallu au moins trois bonnes minutes pour que le corps arbitral prenne une décision finalement à l'avantage de l'équipe de France. Comme contre l'Australie en ouverture (2-1), Antoine Griezmann n'a pas tremblé sur penalty (38e), et offrit un avantage plutôt heureux à ce moment du match et au vu de la faute difficile à juger sur l'instant.Il aura tenu parole et sera monté en puissance jusqu'au bout. Après un début de tournoi décevant, Antoine Griezmann a fini le Mondial en assumant son rôle de patron, de leader technique et de buteur. Impliqué sur les trois premiers buts des Bleus, en tirant le coup franc du 1-0, en ayant les nerfs solides pour le 2-1 et en servant Pogba, qui a été contré avant de marquer le 3-1, il a été le meilleur joueur français de cette finale, comme dans celle de la Ligue Europa (doublé lors de la victoire 3-0 contre l'OM). Il ne pouvait pas mieux faire pour s'offrir toutes les chances de remporter le Ballon d'Or.Hé aouais... On est pt'être pas les plus beaux du monde, mais on en a une (deuxième) de 37 cms en or massif !\",\n",
       " 'CR femmes': \"La sélectionneuse néerlandaise Sarina Wiegman n'avait changé qu'une seule joueuse dans son onze de départ par rapport à la demi-finale face à la Suède (1-0 a.p.), en faisant entrer Anouk Dekker en défense centrale à la place de la défenseuse gauche Merel Van Dongen. Cependant, c'est tout le système qui était bouleversé dans un 4-4-1-1 où Beerensteyn, seule en pointe, était soutenue par Miedema. Mais autant que le système, c'est l'engagement physique mis par les Néerlandaises qui a perturbé la belle mécanique américaine. L'impact physique de Danielle Van De Donk ou de Sherida Spitse au milieu de terrain, favorisé par l'arbitrage de Stéphanie Frappart, insensible aux jérémiades permanentes d'Alex Morgan, et le pressing haut qui a gêné la relance, ont posé un problème inédit aux Américaines.Le film du matchDans un match longtemps fermé, il a fallu attendre la 27e minute pour voir le premier tir cadré, une frappe de Julie Ertz suite à un corner de Megan Rapinoe, détournée par la gardienne d'Arsenal Sari Van Veenendaal. C'était le signal du début d'une domination des championnes du monde qui auraient pu ouvrir le score sur une double occasion, deux centres de Rapinoe repris par Mewis puis par Morgan et repoussés un peu miraculeusement par Van Veenendaal (38e). Deux minutes plus tard c'est un enchaînement ultra rapide contrôle-frappe d'Alex Morgan qui inquiétait la gardienne néerlandaise (40e). Ce sont même les joueuses au maillot orange qui terminaient plus fort la mi-temps avec deux situations dangereuses coup sur coup, deux centres de la gauche de Miedema puis de Martens, repoussés difficilement par la défense centrale américaine (40e).C'est un quart d'heure près la reprise que le match a basculé et il a fallu une intervention du VAR pour offrir un penalty aux Américaines. Stéphanie Frappart avait bien vu le pied de Stefani Van Der Gragt sur Alex Morgan mais elle ne l'avait pas jugé si haut. C'est en revoyant la vidéo, qui n'aura pas été défavorable aux États-Unis durant cette compétition, que l'arbitre française a choisi de siffler un penalty, pas injustifié. Megan Rapinoe a pris Van Veenendaal à contre-pied (61e). Et le match était fini.Placées en position de contre, leur situation favorite, les Américaines ont déroulé, inscrivant un deuxième but sur une belle percée de Lavelle, frappant entre les deux défenseuses centrales (69e). Mais les Pays-Bas auraient pu encaisser beaucoup d'autres buts, la gardienne ayant remporté ses face-à-face avec Heath (70e), Morgan (71e) ou Dunn (76e). Seul un coup franc de Spitse (79e) juste à gauche du but a pu faire passer un frisson. Les Américaines étaient trop fortes.Comme d'habitude, elle n'a pas chanté l'hymne national, pas posé ostensiblement sa main sur le coeur et son nom a été acclamé par le Groupama Stadium, au-delà des supporters américains. Megan Rapinoe a conclu hier en beauté une Coupe du monde très réussie pour elle. En première période, elle a été l'attaquante la plus dangereuse, notamment sur deux centres (38e). C'est elle aussi qui a converti le penalty accordé par Stéphanie Frappart en début de deuxième période (61e), son sixième but dans la compétition, le même total qu'Alex Morgan, ce qui pourrait compter en fin d'année, pour l'attribution du Ballon d'Or - France Football notamment.Elle avait dit pendant la compétition qu'elle n'irait pas à la Maison-Blanche en cas de titre pour cause de désaccord avec la politique de Donald Trump. Le président américain lui avait répondu en lui demandant de gagner avant de parler. Sa saillie vient de lui revenir en boomerang.J etais pour les USA , la meilleure équipe a gagné face à de courageuses neerlandaises. 9 tirs cadrés à 1 mais comment peut on bousiller une finale avec un tel penalty ? La saison prochaine , bras scotchés au corps et interdiction de toucher l attaquant .. Pfft ça va être chaud \"}"
      ]
     },
     "execution_count": 12,
     "metadata": {},
     "output_type": "execute_result"
    }
   ],
   "source": [
    "dict_foot"
   ]
  },
  {
   "cell_type": "markdown",
   "metadata": {},
   "source": [
    "On peut aussi tout passer en data frame"
   ]
  },
  {
   "cell_type": "code",
   "execution_count": 13,
   "metadata": {},
   "outputs": [],
   "source": [
    "import pandas as pd\n",
    "pd.set_option('max_colwidth',150)\n",
    "cr_df = pd.DataFrame.from_dict(dict_foot, orient = \"index\", columns=['texte'])"
   ]
  },
  {
   "cell_type": "markdown",
   "metadata": {},
   "source": [
    "## Exercice : premiers nettoyages    \n",
    "\n",
    "- Passez tout le texte en minuscules.  \n",
    "- Enlevez les références au minutage de l'action (70e, 38e, etc...).  \n",
    "- Enlevez les références aux scores.  \n",
    "- Enlevez toute la ponctuation.  \n",
    "- En scrapant la page web on a aussi récupéré le premier commentaire des lecteurs de chaque match. Enlevez-le.  \n",
    "- Les liens hyper-textes apparaissent avec la chaîne \\\\xao. Supprimez-là.  \n",
    "- Quand tous les nettoyages seront faits, sauvegardez les compte-rendus dans un objet de votre choix (pkl, txt, ...)"
   ]
  },
  {
   "cell_type": "code",
   "execution_count": null,
   "metadata": {},
   "outputs": [],
   "source": []
  }
 ],
 "metadata": {
  "kernelspec": {
   "display_name": "Python 3",
   "language": "python",
   "name": "python3"
  },
  "language_info": {
   "codemirror_mode": {
    "name": "ipython",
    "version": 3
   },
   "file_extension": ".py",
   "mimetype": "text/x-python",
   "name": "python",
   "nbconvert_exporter": "python",
   "pygments_lexer": "ipython3",
   "version": "3.8.12"
  }
 },
 "nbformat": 4,
 "nbformat_minor": 4
}
