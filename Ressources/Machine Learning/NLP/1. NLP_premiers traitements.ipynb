{
 "cells": [
  {
   "cell_type": "markdown",
   "metadata": {},
   "source": [
    "# Natural Langage Processing : les premiers traitements\n",
    "\n",
    "Pour illustrer un cas d'analyse de texte, on va analyser les compte-rendus du journal en ligne lequipe.fr de deux finales de coupe du monde de football : l'une féminine et l'une masculine. "
   ]
  },
  {
   "cell_type": "markdown",
   "metadata": {},
   "source": [
    "## Import des données\n",
    "\n",
    "On propose le code suivant pour scrapper les comptes-rendus : "
   ]
  },
  {
   "cell_type": "code",
   "execution_count": 1,
   "metadata": {},
   "outputs": [],
   "source": [
    "import requests\n",
    "from bs4 import BeautifulSoup\n",
    "#import pickle as pkl"
   ]
  },
  {
   "cell_type": "code",
   "execution_count": 2,
   "metadata": {},
   "outputs": [],
   "source": [
    "def scrap_cr_foot(url):\n",
    "    page = requests.get(url).text\n",
    "    soup = BeautifulSoup(page, \"lxml\")\n",
    "    text = [p.text for p in soup.find(class_=\"article\").find_all('p')]\n",
    "    return(text)"
   ]
  },
  {
   "cell_type": "code",
   "execution_count": 3,
   "metadata": {},
   "outputs": [],
   "source": [
    "url_h = \"https://www.lequipe.fr/Football/Actualites/La-france-decroche-sa-deuxieme-coupe-du-monde-apres-une-finale-animee-contre-la-croatie/923054\"\n",
    "url_f = \"https://www.lequipe.fr/Football/Actualites/Coupe-du-monde-2019-les-etats-unis-battent-les-pays-bas-en-finale/1037785\""
   ]
  },
  {
   "cell_type": "code",
   "execution_count": 4,
   "metadata": {},
   "outputs": [
    {
     "data": {
      "text/plain": [
       "['',\n",
       " \"Pas besoin de se pincer pour y croire. L'équipe de France a bien écrit ce dimanche une nouvelle page de son histoire. En dominant la Croatie (4-2) au terme d'une finale qui a tourné à son avantage en début de seconde période, les Bleus ont réussi là où tous les autres favoris avaient échoué en Russie. Ce sacre est celui de la maîtrise... même si elle en a parfois manqué contre un adversaire qui lui a posé plus de problèmes qu'on l'aurait pensé.\",\n",
       " \"C'est aussi celui de Didier Deschamps, son sélectionneur porte-bonheur, le\\xa0troisième seulement à soulever la Coupe en tant que joueur et entraîneur après le Brésilien Zagallo et l'Allemand Beckenbauer. Il y avait les précurseurs expérimentés en 1998. Vingt ans après, ce sont des gamins qui ont réussi l'impensable. L'avenir leur appartient.\",\n",
       " \"Alors qu'on aurait cru les Français décidés à aller au carton d'entrée, pour faire douter des Croates censés être plus fatigués par leur débauche d'énergie des tours précédents - trois prolongations en 8es, quarts et demies -, c'est tout le contraire qui s'est produit. L'équipe de France n'a pas touché le ballon du premier quart d'heure. Recroquevillée, elle s'est contentée d'attendre son adversaire, sans doute dans l'idée de pouvoir mieux le contrer. Mais aussi parce que Rakitic et ses partenaires ont très bien géré ces premières minutes. Ils n'ont été surpris que sur un coup du sort : sur un coup franc excentré de Griezmann,\\xa0Mandzukic a ouvert le score contre son camp de la tête (18e).\",\n",
       " \"Il n'a fallu que dix minutes à la Croatie pour réagir. Perisic a égalisé en force (28e), à la suite d'un coup franc mal négocié par les Bleus. Tout était à refaire pour eux et là encore, ils ont reçu un petit coup de pouce du destin. À la suite d'une main de Perisic dans sa surface, un penalty a été accordé aux joueurs de Didier Deschamps après une longue attente et l'intervention de la VAR.\\xa0Griezmann n'a pas tremblé pour inscrire son quatrième but dans la compétition (38e). Tandis que l'orage s'abattait sur Moscou, les Bleus basculaient devant à la mi-temps.\",\n",
       " \"Mais après ce premier acte difficile, ils ont encore souffert à l'entame du deuxième. Les joueurs au damier ont accentué leur domination et se sont créé trois grosses occasions (48e, 49e et 54e). Le K.-O. était tout proche. Il n'est pas venu par Mbappé qui s'est heurté à Subasic (52e), mais par Pogba, dont la frappe à l'entrée de la surface (59e) a fait mouche. Il a été imité dans la foulée par le jeune Parisien qui a vu, cette fois-ci et lui aussi sa prise de risques récompensée (66e). À 4-1, il ne pouvait plus rien arriver aux Bleus...\",\n",
       " \"Mais l'irrationnel s'est encore invité dans les débats, comme face à l'Argentine (4-3). Jusque-là irréprochable, Hugo Lloris s'est troué devant Mandzukic et a permis à la Croatie d'y croire à nouveau (69e). Un peu seulement. Car malgré la sortie précoce de Kanté (55e), par choix tactique, les Bleus ont su ensuite faire bloc pour tenir et soulever ce trophée tant espéré. Ils champions du monde. Eux aussi. Pour l'éternité.\",\n",
       " \"Pourquoi Monsieur Pinata n'a-t-il pas fait appel à la vidéo après une faute de Pogba sur Mandzukic dans la surface tricolore, non signalée (24e) ? Peut-être parce les Croates n'ont rien réclamé, à la différence des Bleus, qui se sont rués sur l'arbitre après une main de Perisic, dans sa surface lui aussi (35e). Il a fallu au moins trois bonnes minutes pour que le corps arbitral prenne une décision finalement à l'avantage de l'équipe de France. Comme contre l'Australie en ouverture (2-1), Antoine Griezmann n'a pas tremblé sur penalty (38e), et offrit un avantage plutôt heureux à ce moment du match et au vu de la faute difficile à juger sur l'instant.\",\n",
       " \"Il aura tenu parole et sera monté en puissance jusqu'au bout. Après un début de tournoi décevant, Antoine Griezmann a fini le Mondial en assumant son rôle de patron, de leader technique et de buteur. Impliqué sur les trois premiers buts des Bleus, en tirant le coup franc du 1-0, en ayant les nerfs solides pour le 2-1 et en servant Pogba, qui a été contré avant de marquer le 3-1, il a été le meilleur joueur français de cette finale, comme dans celle de la Ligue Europa (doublé lors de la victoire 3-0 contre l'OM). Il ne pouvait pas mieux faire pour s'offrir toutes les chances de remporter le Ballon d'Or.\"]"
      ]
     },
     "execution_count": 4,
     "metadata": {},
     "output_type": "execute_result"
    }
   ],
   "source": [
    "# Compte rendu messieurs\n",
    "cr_h = scrap_cr_foot(url_h)\n",
    "cr_h"
   ]
  },
  {
   "cell_type": "code",
   "execution_count": 5,
   "metadata": {},
   "outputs": [
    {
     "data": {
      "text/plain": [
       "[\"La sélectionneuse néerlandaise Sarina Wiegman n'avait changé qu'une seule joueuse dans son onze de départ par rapport à la demi-finale face à la Suède (1-0 a.p.), en faisant entrer Anouk Dekker en défense centrale à la place de la défenseuse gauche Merel Van Dongen. Cependant, c'est tout le système qui était bouleversé dans un 4-4-1-1 où Beerensteyn, seule en pointe, était soutenue par Miedema. Mais autant que le système, c'est l'engagement physique mis par les Néerlandaises qui a perturbé la belle mécanique américaine. L'impact physique de Danielle Van De Donk ou de Sherida Spitse au milieu de terrain, favorisé par l'arbitrage de Stéphanie Frappart, insensible aux jérémiades permanentes d'Alex Morgan, et le pressing haut qui a gêné la relance, ont posé un problème inédit aux Américaines.\",\n",
       " \"Dans un match longtemps fermé, il a fallu attendre la 27e minute pour voir le premier tir cadré, une frappe de Julie Ertz suite à un corner de Megan Rapinoe, détournée par la gardienne d'Arsenal Sari Van Veenendaal. C'était le signal du début d'une domination des championnes du monde qui auraient pu ouvrir le score sur une double occasion, deux centres de Rapinoe repris par Mewis puis par Morgan et repoussés un peu miraculeusement par Van Veenendaal (38e). Deux minutes plus tard c'est un enchaînement ultra rapide contrôle-frappe d'Alex Morgan qui inquiétait la gardienne néerlandaise (40e). Ce sont même les joueuses au maillot orange qui terminaient plus fort la mi-temps avec deux situations dangereuses coup sur coup, deux centres de la gauche de Miedema puis de Martens, repoussés difficilement par la défense centrale américaine (40e).\",\n",
       " \"C'est un quart d'heure près la reprise que le match a basculé et il a fallu une intervention du VAR pour offrir un penalty aux Américaines. Stéphanie Frappart avait bien vu le pied de Stefani Van Der Gragt sur Alex Morgan mais elle ne l'avait pas jugé si haut. C'est en revoyant la vidéo, qui n'aura pas été défavorable aux États-Unis durant cette compétition, que l'arbitre française a choisi de siffler un penalty, pas injustifié. Megan Rapinoe a pris Van Veenendaal à contre-pied (61e). Et le match était fini.\",\n",
       " \"Placées en position de contre, leur situation favorite, les Américaines ont déroulé, inscrivant un deuxième but sur une belle percée de Lavelle, frappant entre les deux défenseuses centrales (69e). Mais les Pays-Bas auraient pu encaisser beaucoup d'autres buts, la gardienne ayant remporté ses face-à-face avec Heath (70e), Morgan (71e) ou Dunn (76e). Seul un coup franc de Spitse (79e) juste à gauche du but a pu faire passer un frisson. Les Américaines étaient trop fortes.\",\n",
       " \"Comme d'habitude, elle n'a pas chanté l'hymne national, pas posé ostensiblement sa main sur le coeur et son nom a été acclamé par le Groupama Stadium, au-delà des supporters américains. Megan Rapinoe a conclu hier en beauté une Coupe du monde très réussie pour elle. En première période, elle a été l'attaquante la plus dangereuse, notamment sur deux centres (38e). C'est elle aussi qui a converti le penalty accordé par Stéphanie Frappart en début de deuxième période (61e), son sixième but dans la compétition, le même total qu'Alex Morgan, ce qui pourrait compter en fin d'année, pour l'attribution du Ballon d'Or - France Football notamment.\",\n",
       " \"Elle avait dit pendant la compétition qu'elle n'irait pas à la Maison-Blanche en cas de titre pour cause de désaccord avec la politique de Donald Trump. Le président américain lui avait répondu en lui demandant de gagner avant de parler. Sa saillie vient de lui revenir en boomerang.\"]"
      ]
     },
     "execution_count": 5,
     "metadata": {},
     "output_type": "execute_result"
    }
   ],
   "source": [
    "# Compte rendu mesdames\n",
    "cr_f = scrap_cr_foot(url_f)\n",
    "cr_f"
   ]
  },
  {
   "cell_type": "markdown",
   "metadata": {},
   "source": [
    "## Nettoyage des données\n",
    "On met nos textes dans un dictionnaire : "
   ]
  },
  {
   "cell_type": "code",
   "execution_count": 6,
   "metadata": {},
   "outputs": [],
   "source": [
    "dict_foot = {\"CR hommes\" : cr_h, \"CR femmes\" : cr_f}"
   ]
  },
  {
   "cell_type": "markdown",
   "metadata": {},
   "source": [
    "On transforme les textes, qui sont actuellement une liste, en chaîne de caractères:"
   ]
  },
  {
   "cell_type": "code",
   "execution_count": 7,
   "metadata": {},
   "outputs": [],
   "source": [
    "for i in [\"CR hommes\", \"CR femmes\"]:\n",
    "    dict_foot[i] = ''.join(dict_foot[i])"
   ]
  },
  {
   "cell_type": "code",
   "execution_count": 8,
   "metadata": {},
   "outputs": [
    {
     "data": {
      "text/plain": [
       "{'CR hommes': \"Pas besoin de se pincer pour y croire. L'équipe de France a bien écrit ce dimanche une nouvelle page de son histoire. En dominant la Croatie (4-2) au terme d'une finale qui a tourné à son avantage en début de seconde période, les Bleus ont réussi là où tous les autres favoris avaient échoué en Russie. Ce sacre est celui de la maîtrise... même si elle en a parfois manqué contre un adversaire qui lui a posé plus de problèmes qu'on l'aurait pensé.C'est aussi celui de Didier Deschamps, son sélectionneur porte-bonheur, le\\xa0troisième seulement à soulever la Coupe en tant que joueur et entraîneur après le Brésilien Zagallo et l'Allemand Beckenbauer. Il y avait les précurseurs expérimentés en 1998. Vingt ans après, ce sont des gamins qui ont réussi l'impensable. L'avenir leur appartient.Alors qu'on aurait cru les Français décidés à aller au carton d'entrée, pour faire douter des Croates censés être plus fatigués par leur débauche d'énergie des tours précédents - trois prolongations en 8es, quarts et demies -, c'est tout le contraire qui s'est produit. L'équipe de France n'a pas touché le ballon du premier quart d'heure. Recroquevillée, elle s'est contentée d'attendre son adversaire, sans doute dans l'idée de pouvoir mieux le contrer. Mais aussi parce que Rakitic et ses partenaires ont très bien géré ces premières minutes. Ils n'ont été surpris que sur un coup du sort : sur un coup franc excentré de Griezmann,\\xa0Mandzukic a ouvert le score contre son camp de la tête (18e).Il n'a fallu que dix minutes à la Croatie pour réagir. Perisic a égalisé en force (28e), à la suite d'un coup franc mal négocié par les Bleus. Tout était à refaire pour eux et là encore, ils ont reçu un petit coup de pouce du destin. À la suite d'une main de Perisic dans sa surface, un penalty a été accordé aux joueurs de Didier Deschamps après une longue attente et l'intervention de la VAR.\\xa0Griezmann n'a pas tremblé pour inscrire son quatrième but dans la compétition (38e). Tandis que l'orage s'abattait sur Moscou, les Bleus basculaient devant à la mi-temps.Mais après ce premier acte difficile, ils ont encore souffert à l'entame du deuxième. Les joueurs au damier ont accentué leur domination et se sont créé trois grosses occasions (48e, 49e et 54e). Le K.-O. était tout proche. Il n'est pas venu par Mbappé qui s'est heurté à Subasic (52e), mais par Pogba, dont la frappe à l'entrée de la surface (59e) a fait mouche. Il a été imité dans la foulée par le jeune Parisien qui a vu, cette fois-ci et lui aussi sa prise de risques récompensée (66e). À 4-1, il ne pouvait plus rien arriver aux Bleus...Mais l'irrationnel s'est encore invité dans les débats, comme face à l'Argentine (4-3). Jusque-là irréprochable, Hugo Lloris s'est troué devant Mandzukic et a permis à la Croatie d'y croire à nouveau (69e). Un peu seulement. Car malgré la sortie précoce de Kanté (55e), par choix tactique, les Bleus ont su ensuite faire bloc pour tenir et soulever ce trophée tant espéré. Ils champions du monde. Eux aussi. Pour l'éternité.Pourquoi Monsieur Pinata n'a-t-il pas fait appel à la vidéo après une faute de Pogba sur Mandzukic dans la surface tricolore, non signalée (24e) ? Peut-être parce les Croates n'ont rien réclamé, à la différence des Bleus, qui se sont rués sur l'arbitre après une main de Perisic, dans sa surface lui aussi (35e). Il a fallu au moins trois bonnes minutes pour que le corps arbitral prenne une décision finalement à l'avantage de l'équipe de France. Comme contre l'Australie en ouverture (2-1), Antoine Griezmann n'a pas tremblé sur penalty (38e), et offrit un avantage plutôt heureux à ce moment du match et au vu de la faute difficile à juger sur l'instant.Il aura tenu parole et sera monté en puissance jusqu'au bout. Après un début de tournoi décevant, Antoine Griezmann a fini le Mondial en assumant son rôle de patron, de leader technique et de buteur. Impliqué sur les trois premiers buts des Bleus, en tirant le coup franc du 1-0, en ayant les nerfs solides pour le 2-1 et en servant Pogba, qui a été contré avant de marquer le 3-1, il a été le meilleur joueur français de cette finale, comme dans celle de la Ligue Europa (doublé lors de la victoire 3-0 contre l'OM). Il ne pouvait pas mieux faire pour s'offrir toutes les chances de remporter le Ballon d'Or.\",\n",
       " 'CR femmes': \"La sélectionneuse néerlandaise Sarina Wiegman n'avait changé qu'une seule joueuse dans son onze de départ par rapport à la demi-finale face à la Suède (1-0 a.p.), en faisant entrer Anouk Dekker en défense centrale à la place de la défenseuse gauche Merel Van Dongen. Cependant, c'est tout le système qui était bouleversé dans un 4-4-1-1 où Beerensteyn, seule en pointe, était soutenue par Miedema. Mais autant que le système, c'est l'engagement physique mis par les Néerlandaises qui a perturbé la belle mécanique américaine. L'impact physique de Danielle Van De Donk ou de Sherida Spitse au milieu de terrain, favorisé par l'arbitrage de Stéphanie Frappart, insensible aux jérémiades permanentes d'Alex Morgan, et le pressing haut qui a gêné la relance, ont posé un problème inédit aux Américaines.Dans un match longtemps fermé, il a fallu attendre la 27e minute pour voir le premier tir cadré, une frappe de Julie Ertz suite à un corner de Megan Rapinoe, détournée par la gardienne d'Arsenal Sari Van Veenendaal. C'était le signal du début d'une domination des championnes du monde qui auraient pu ouvrir le score sur une double occasion, deux centres de Rapinoe repris par Mewis puis par Morgan et repoussés un peu miraculeusement par Van Veenendaal (38e). Deux minutes plus tard c'est un enchaînement ultra rapide contrôle-frappe d'Alex Morgan qui inquiétait la gardienne néerlandaise (40e). Ce sont même les joueuses au maillot orange qui terminaient plus fort la mi-temps avec deux situations dangereuses coup sur coup, deux centres de la gauche de Miedema puis de Martens, repoussés difficilement par la défense centrale américaine (40e).C'est un quart d'heure près la reprise que le match a basculé et il a fallu une intervention du VAR pour offrir un penalty aux Américaines. Stéphanie Frappart avait bien vu le pied de Stefani Van Der Gragt sur Alex Morgan mais elle ne l'avait pas jugé si haut. C'est en revoyant la vidéo, qui n'aura pas été défavorable aux États-Unis durant cette compétition, que l'arbitre française a choisi de siffler un penalty, pas injustifié. Megan Rapinoe a pris Van Veenendaal à contre-pied (61e). Et le match était fini.Placées en position de contre, leur situation favorite, les Américaines ont déroulé, inscrivant un deuxième but sur une belle percée de Lavelle, frappant entre les deux défenseuses centrales (69e). Mais les Pays-Bas auraient pu encaisser beaucoup d'autres buts, la gardienne ayant remporté ses face-à-face avec Heath (70e), Morgan (71e) ou Dunn (76e). Seul un coup franc de Spitse (79e) juste à gauche du but a pu faire passer un frisson. Les Américaines étaient trop fortes.Comme d'habitude, elle n'a pas chanté l'hymne national, pas posé ostensiblement sa main sur le coeur et son nom a été acclamé par le Groupama Stadium, au-delà des supporters américains. Megan Rapinoe a conclu hier en beauté une Coupe du monde très réussie pour elle. En première période, elle a été l'attaquante la plus dangereuse, notamment sur deux centres (38e). C'est elle aussi qui a converti le penalty accordé par Stéphanie Frappart en début de deuxième période (61e), son sixième but dans la compétition, le même total qu'Alex Morgan, ce qui pourrait compter en fin d'année, pour l'attribution du Ballon d'Or - France Football notamment.Elle avait dit pendant la compétition qu'elle n'irait pas à la Maison-Blanche en cas de titre pour cause de désaccord avec la politique de Donald Trump. Le président américain lui avait répondu en lui demandant de gagner avant de parler. Sa saillie vient de lui revenir en boomerang.\"}"
      ]
     },
     "execution_count": 8,
     "metadata": {},
     "output_type": "execute_result"
    }
   ],
   "source": [
    "dict_foot"
   ]
  },
  {
   "cell_type": "markdown",
   "metadata": {},
   "source": [
    "On peut aussi tout passer en data frame"
   ]
  },
  {
   "cell_type": "code",
   "execution_count": 9,
   "metadata": {},
   "outputs": [
    {
     "data": {
      "text/html": [
       "<div>\n",
       "<style scoped>\n",
       "    .dataframe tbody tr th:only-of-type {\n",
       "        vertical-align: middle;\n",
       "    }\n",
       "\n",
       "    .dataframe tbody tr th {\n",
       "        vertical-align: top;\n",
       "    }\n",
       "\n",
       "    .dataframe thead th {\n",
       "        text-align: right;\n",
       "    }\n",
       "</style>\n",
       "<table border=\"1\" class=\"dataframe\">\n",
       "  <thead>\n",
       "    <tr style=\"text-align: right;\">\n",
       "      <th></th>\n",
       "      <th>texte</th>\n",
       "    </tr>\n",
       "  </thead>\n",
       "  <tbody>\n",
       "    <tr>\n",
       "      <th>CR hommes</th>\n",
       "      <td>Pas besoin de se pincer pour y croire. L'équipe de France a bien écrit ce dimanche une nouvelle page de son histoire. En dominant la Croatie (4-2) au terme d'une finale qui a tourné à son avantage en début de seconde période, les Bleus ont réussi là où tous les autres favoris avaient échoué en Russie. Ce sacre est celui de la maîtrise... même si elle en a parfois manqué contre un adversaire qui lui a posé plus de problèmes qu'on l'aurait pensé.C'est aussi celui de Didier Deschamps, son sélectionneur porte-bonheur, le troisième seulement à soulever la Coupe en tant que joueur et entraîneur après le Brésilien Zagallo et l'Allemand Beckenbauer. Il y avait les précurseurs expérimentés en 1998. Vingt ans après, ce sont des gamins qui ont réussi l'impensable. L'avenir leur appartient.Alors qu'on aurait cru les Français décidés à aller au carton d'entrée, pour faire douter des Croates censés être plus fatigués par leur débauche d'énergie des tours précédents - trois prolongations en 8es, ...</td>\n",
       "    </tr>\n",
       "    <tr>\n",
       "      <th>CR femmes</th>\n",
       "      <td>La sélectionneuse néerlandaise Sarina Wiegman n'avait changé qu'une seule joueuse dans son onze de départ par rapport à la demi-finale face à la Suède (1-0 a.p.), en faisant entrer Anouk Dekker en défense centrale à la place de la défenseuse gauche Merel Van Dongen. Cependant, c'est tout le système qui était bouleversé dans un 4-4-1-1 où Beerensteyn, seule en pointe, était soutenue par Miedema. Mais autant que le système, c'est l'engagement physique mis par les Néerlandaises qui a perturbé la belle mécanique américaine. L'impact physique de Danielle Van De Donk ou de Sherida Spitse au milieu de terrain, favorisé par l'arbitrage de Stéphanie Frappart, insensible aux jérémiades permanentes d'Alex Morgan, et le pressing haut qui a gêné la relance, ont posé un problème inédit aux Américaines.Dans un match longtemps fermé, il a fallu attendre la 27e minute pour voir le premier tir cadré, une frappe de Julie Ertz suite à un corner de Megan Rapinoe, détournée par la gardienne d'Arsenal Sa...</td>\n",
       "    </tr>\n",
       "  </tbody>\n",
       "</table>\n",
       "</div>"
      ],
      "text/plain": [
       "                                                                                                                                                                                                                                                                                                                                                                                                                                                                                                                                                                                                                                                                                                                                                                                                                                                                                                                                                                                                                                             texte\n",
       "CR hommes  Pas besoin de se pincer pour y croire. L'équipe de France a bien écrit ce dimanche une nouvelle page de son histoire. En dominant la Croatie (4-2) au terme d'une finale qui a tourné à son avantage en début de seconde période, les Bleus ont réussi là où tous les autres favoris avaient échoué en Russie. Ce sacre est celui de la maîtrise... même si elle en a parfois manqué contre un adversaire qui lui a posé plus de problèmes qu'on l'aurait pensé.C'est aussi celui de Didier Deschamps, son sélectionneur porte-bonheur, le troisième seulement à soulever la Coupe en tant que joueur et entraîneur après le Brésilien Zagallo et l'Allemand Beckenbauer. Il y avait les précurseurs expérimentés en 1998. Vingt ans après, ce sont des gamins qui ont réussi l'impensable. L'avenir leur appartient.Alors qu'on aurait cru les Français décidés à aller au carton d'entrée, pour faire douter des Croates censés être plus fatigués par leur débauche d'énergie des tours précédents - trois prolongations en 8es, ...\n",
       "CR femmes  La sélectionneuse néerlandaise Sarina Wiegman n'avait changé qu'une seule joueuse dans son onze de départ par rapport à la demi-finale face à la Suède (1-0 a.p.), en faisant entrer Anouk Dekker en défense centrale à la place de la défenseuse gauche Merel Van Dongen. Cependant, c'est tout le système qui était bouleversé dans un 4-4-1-1 où Beerensteyn, seule en pointe, était soutenue par Miedema. Mais autant que le système, c'est l'engagement physique mis par les Néerlandaises qui a perturbé la belle mécanique américaine. L'impact physique de Danielle Van De Donk ou de Sherida Spitse au milieu de terrain, favorisé par l'arbitrage de Stéphanie Frappart, insensible aux jérémiades permanentes d'Alex Morgan, et le pressing haut qui a gêné la relance, ont posé un problème inédit aux Américaines.Dans un match longtemps fermé, il a fallu attendre la 27e minute pour voir le premier tir cadré, une frappe de Julie Ertz suite à un corner de Megan Rapinoe, détournée par la gardienne d'Arsenal Sa..."
      ]
     },
     "execution_count": 9,
     "metadata": {},
     "output_type": "execute_result"
    }
   ],
   "source": [
    "import pandas as pd\n",
    "pd.options.display.max_colwidth = 1000\n",
    "cr_df = pd.DataFrame.from_dict(dict_foot, orient = \"index\", columns=['texte'])\n",
    "cr_df"
   ]
  },
  {
   "cell_type": "code",
   "execution_count": 10,
   "metadata": {},
   "outputs": [
    {
     "data": {
      "text/plain": [
       "texte    Pas besoin de se pincer pour y croire. L'équipe de France a bien écrit ce dimanche une nouvelle page de son histoire. En dominant la Croatie (4-2) au terme d'une finale qui a tourné à son avantage en début de seconde période, les Bleus ont réussi là où tous les autres favoris avaient échoué en Russie. Ce sacre est celui de la maîtrise... même si elle en a parfois manqué contre un adversaire qui lui a posé plus de problèmes qu'on l'aurait pensé.C'est aussi celui de Didier Deschamps, son sélectionneur porte-bonheur, le troisième seulement à soulever la Coupe en tant que joueur et entraîneur après le Brésilien Zagallo et l'Allemand Beckenbauer. Il y avait les précurseurs expérimentés en 1998. Vingt ans après, ce sont des gamins qui ont réussi l'impensable. L'avenir leur appartient.Alors qu'on aurait cru les Français décidés à aller au carton d'entrée, pour faire douter des Croates censés être plus fatigués par leur débauche d'énergie des tours précédents - trois prolongations en 8es, ...\n",
       "Name: CR hommes, dtype: object"
      ]
     },
     "execution_count": 10,
     "metadata": {},
     "output_type": "execute_result"
    }
   ],
   "source": [
    "cr_df.iloc[0]"
   ]
  },
  {
   "cell_type": "markdown",
   "metadata": {},
   "source": [
    "## Exercice : premiers nettoyages    \n",
    "\n",
    "- Passez tout le texte en minuscules.  \n",
    "- Enlevez les références au minutage de l'action (70e, 38e, etc...).  \n",
    "- Enlevez les références aux scores.  \n",
    "- Enlevez toute la ponctuation.   \n",
    "- Les liens hyper-textes apparaissent avec la chaîne \\\\xa0. Supprimez-là.  \n",
    "- Quand tous les nettoyages seront faits, sauvegardez les compte-rendus dans un objet de votre choix (pkl, txt, ...)"
   ]
  },
  {
   "cell_type": "code",
   "execution_count": 11,
   "metadata": {},
   "outputs": [
    {
     "data": {
      "text/html": [
       "<div>\n",
       "<style scoped>\n",
       "    .dataframe tbody tr th:only-of-type {\n",
       "        vertical-align: middle;\n",
       "    }\n",
       "\n",
       "    .dataframe tbody tr th {\n",
       "        vertical-align: top;\n",
       "    }\n",
       "\n",
       "    .dataframe thead th {\n",
       "        text-align: right;\n",
       "    }\n",
       "</style>\n",
       "<table border=\"1\" class=\"dataframe\">\n",
       "  <thead>\n",
       "    <tr style=\"text-align: right;\">\n",
       "      <th></th>\n",
       "      <th>texte</th>\n",
       "    </tr>\n",
       "  </thead>\n",
       "  <tbody>\n",
       "    <tr>\n",
       "      <th>CR hommes</th>\n",
       "      <td>pas besoin de se pincer pour y croire  l équipe de france a bien écrit ce dimanche une nouvelle page de son histoire  en dominant la croatie    au terme d une finale qui a tourné à son avantage en début de seconde période  les bleus ont réussi là où tous les autres favoris avaient échoué en russie  ce sacre est celui de la maîtrise    même si elle en a parfois manqué contre un adversaire qui lui a posé plus de problèmes qu on l aurait pensé c est aussi celui de didier deschamps  son sélectionneur porte bonheur  le troisième seulement à soulever la coupe en tant que joueur et entraîneur après le brésilien zagallo et l allemand beckenbauer  il y avait les précurseurs expérimentés en 1998  vingt ans après  ce sont des gamins qui ont réussi l impensable  l avenir leur appartient alors qu on aurait cru les français décidés à aller au carton d entrée  pour faire douter des croates censés être plus fatigués par leur débauche d énergie des tours précédents   trois prolongations en s  quart...</td>\n",
       "    </tr>\n",
       "    <tr>\n",
       "      <th>CR femmes</th>\n",
       "      <td>la sélectionneuse néerlandaise sarina wiegman n avait changé qu une seule joueuse dans son onze de départ par rapport à la demi finale face à la suède   a p    en faisant entrer anouk dekker en défense centrale à la place de la défenseuse gauche merel van dongen  cependant  c est tout le système qui était bouleversé dans un   où beerensteyn  seule en pointe  était soutenue par miedema  mais autant que le système  c est l engagement physique mis par les néerlandaises qui a perturbé la belle mécanique américaine  l impact physique de danielle van de donk ou de sherida spitse au milieu de terrain  favorisé par l arbitrage de stéphanie frappart  insensible aux jérémiades permanentes d alex morgan  et le pressing haut qui a gêné la relance  ont posé un problème inédit aux américaines dans un match longtemps fermé  il a fallu attendre la  minute pour voir le premier tir cadré  une frappe de julie ertz suite à un corner de megan rapinoe  détournée par la gardienne d arsenal sari van veene...</td>\n",
       "    </tr>\n",
       "  </tbody>\n",
       "</table>\n",
       "</div>"
      ],
      "text/plain": [
       "                                                                                                                                                                                                                                                                                                                                                                                                                                                                                                                                                                                                                                                                                                                                                                                                                                                                                                                                                                                                                                             texte\n",
       "CR hommes  pas besoin de se pincer pour y croire  l équipe de france a bien écrit ce dimanche une nouvelle page de son histoire  en dominant la croatie    au terme d une finale qui a tourné à son avantage en début de seconde période  les bleus ont réussi là où tous les autres favoris avaient échoué en russie  ce sacre est celui de la maîtrise    même si elle en a parfois manqué contre un adversaire qui lui a posé plus de problèmes qu on l aurait pensé c est aussi celui de didier deschamps  son sélectionneur porte bonheur  le troisième seulement à soulever la coupe en tant que joueur et entraîneur après le brésilien zagallo et l allemand beckenbauer  il y avait les précurseurs expérimentés en 1998  vingt ans après  ce sont des gamins qui ont réussi l impensable  l avenir leur appartient alors qu on aurait cru les français décidés à aller au carton d entrée  pour faire douter des croates censés être plus fatigués par leur débauche d énergie des tours précédents   trois prolongations en s  quart...\n",
       "CR femmes  la sélectionneuse néerlandaise sarina wiegman n avait changé qu une seule joueuse dans son onze de départ par rapport à la demi finale face à la suède   a p    en faisant entrer anouk dekker en défense centrale à la place de la défenseuse gauche merel van dongen  cependant  c est tout le système qui était bouleversé dans un   où beerensteyn  seule en pointe  était soutenue par miedema  mais autant que le système  c est l engagement physique mis par les néerlandaises qui a perturbé la belle mécanique américaine  l impact physique de danielle van de donk ou de sherida spitse au milieu de terrain  favorisé par l arbitrage de stéphanie frappart  insensible aux jérémiades permanentes d alex morgan  et le pressing haut qui a gêné la relance  ont posé un problème inédit aux américaines dans un match longtemps fermé  il a fallu attendre la  minute pour voir le premier tir cadré  une frappe de julie ertz suite à un corner de megan rapinoe  détournée par la gardienne d arsenal sari van veene..."
      ]
     },
     "execution_count": 11,
     "metadata": {},
     "output_type": "execute_result"
    }
   ],
   "source": [
    "import re\n",
    "import string\n",
    "\n",
    "# créons une fonction pour le preprocessing qu'on appliquera ensuite aux 2 textes du corpus\n",
    "def nettoyage(text):\n",
    "    text = text.lower()\n",
    "    text = re.sub(r\"\\d{1,3}e\", \"\", text) #minutes\n",
    "    text = re.sub(r\"\\d{1,2}-\\d{1,2}\", \"\", text) #scores\n",
    "    text = re.sub(f\"[{string.punctuation}]\", \" \", text) #ponctuation\n",
    "    text = re.sub(r\"\\xa0\", \" \", text) #caractère spécial hypertexte\n",
    "    return text\n",
    "\n",
    "cr_df['texte'] = cr_df.texte.apply(nettoyage)\n",
    "cr_df"
   ]
  },
  {
   "cell_type": "code",
   "execution_count": 12,
   "metadata": {},
   "outputs": [
    {
     "data": {
      "text/plain": [
       "'pas besoin de se pincer pour y croire  l équipe de france a bien écrit ce dimanche une nouvelle page de son histoire  en dominant la croatie    au terme d une finale qui a tourné à son avantage en début de seconde période  les bleus ont réussi là où tous les autres favoris avaient échoué en russie  ce sacre est celui de la maîtrise    même si elle en a parfois manqué contre un adversaire qui lui a posé plus de problèmes qu on l aurait pensé c est aussi celui de didier deschamps  son sélectionneur porte bonheur  le troisième seulement à soulever la coupe en tant que joueur et entraîneur après le brésilien zagallo et l allemand beckenbauer  il y avait les précurseurs expérimentés en 1998  vingt ans après  ce sont des gamins qui ont réussi l impensable  l avenir leur appartient alors qu on aurait cru les français décidés à aller au carton d entrée  pour faire douter des croates censés être plus fatigués par leur débauche d énergie des tours précédents   trois prolongations en s  quarts et demies    c est tout le contraire qui s est produit  l équipe de france n a pas touché le ballon du premier quart d heure  recroquevillée  elle s est contentée d attendre son adversaire  sans doute dans l idée de pouvoir mieux le contrer  mais aussi parce que rakitic et ses partenaires ont très bien géré ces premières minutes  ils n ont été surpris que sur un coup du sort   sur un coup franc excentré de griezmann  mandzukic a ouvert le score contre son camp de la tête    il n a fallu que dix minutes à la croatie pour réagir  perisic a égalisé en force     à la suite d un coup franc mal négocié par les bleus  tout était à refaire pour eux et là encore  ils ont reçu un petit coup de pouce du destin  à la suite d une main de perisic dans sa surface  un penalty a été accordé aux joueurs de didier deschamps après une longue attente et l intervention de la var  griezmann n a pas tremblé pour inscrire son quatrième but dans la compétition     tandis que l orage s abattait sur moscou  les bleus basculaient devant à la mi temps mais après ce premier acte difficile  ils ont encore souffert à l entame du deuxième  les joueurs au damier ont accentué leur domination et se sont créé trois grosses occasions     et    le k  o  était tout proche  il n est pas venu par mbappé qui s est heurté à subasic     mais par pogba  dont la frappe à l entrée de la surface    a fait mouche  il a été imité dans la foulée par le jeune parisien qui a vu  cette fois ci et lui aussi sa prise de risques récompensée     à   il ne pouvait plus rien arriver aux bleus   mais l irrationnel s est encore invité dans les débats  comme face à l argentine     jusque là irréprochable  hugo lloris s est troué devant mandzukic et a permis à la croatie d y croire à nouveau     un peu seulement  car malgré la sortie précoce de kanté     par choix tactique  les bleus ont su ensuite faire bloc pour tenir et soulever ce trophée tant espéré  ils champions du monde  eux aussi  pour l éternité pourquoi monsieur pinata n a t il pas fait appel à la vidéo après une faute de pogba sur mandzukic dans la surface tricolore  non signalée      peut être parce les croates n ont rien réclamé  à la différence des bleus  qui se sont rués sur l arbitre après une main de perisic  dans sa surface lui aussi     il a fallu au moins trois bonnes minutes pour que le corps arbitral prenne une décision finalement à l avantage de l équipe de france  comme contre l australie en ouverture     antoine griezmann n a pas tremblé sur penalty     et offrit un avantage plutôt heureux à ce moment du match et au vu de la faute difficile à juger sur l instant il aura tenu parole et sera monté en puissance jusqu au bout  après un début de tournoi décevant  antoine griezmann a fini le mondial en assumant son rôle de patron  de leader technique et de buteur  impliqué sur les trois premiers buts des bleus  en tirant le coup franc du   en ayant les nerfs solides pour le  et en servant pogba  qui a été contré avant de marquer le   il a été le meilleur joueur français de cette finale  comme dans celle de la ligue europa  doublé lors de la victoire  contre l om   il ne pouvait pas mieux faire pour s offrir toutes les chances de remporter le ballon d or '"
      ]
     },
     "execution_count": 12,
     "metadata": {},
     "output_type": "execute_result"
    }
   ],
   "source": [
    "cr_df.loc['CR hommes','texte']"
   ]
  },
  {
   "cell_type": "code",
   "execution_count": 13,
   "metadata": {},
   "outputs": [],
   "source": [
    "cr_df.to_pickle('cr_df.pkl')"
   ]
  }
 ],
 "metadata": {
  "kernelspec": {
   "display_name": "Python 3",
   "language": "python",
   "name": "python3"
  },
  "language_info": {
   "codemirror_mode": {
    "name": "ipython",
    "version": 3
   },
   "file_extension": ".py",
   "mimetype": "text/x-python",
   "name": "python",
   "nbconvert_exporter": "python",
   "pygments_lexer": "ipython3",
   "version": "3.8.12"
  }
 },
 "nbformat": 4,
 "nbformat_minor": 4
}
