{
 "cells": [
  {
   "cell_type": "markdown",
   "id": "8935609f-640c-43ca-a8e0-013f5f654b3a",
   "metadata": {},
   "source": [
    "# Natural Language Processing : analyse des sentiments sur les données de SMS\n",
    "\n",
    "- En repartant de la table des SMS, calculez les niveaux de subjectivité et de positivité des textos analysés et stockez ces informations dans deux nouvelles variables de la table.  \n",
    "- Représentez graphiquement la répartition des textos en fonction de leur subjectivité et de leur subjectivité. Faites apparaître dans une couleur différente les spams. Pourrait-on utiliser ces 2 variables pour repérer les spams selon vous?   \n",
    "- Faites apparaître les textos les plus positifs/les textos les plus négatifs/les textos les plus subjectifs/les plus objectifs pour vérifier que la mesure fonctionne correctement.   \n",
    "\n",
    "_Bonus_ : On s'intéresse maintenant aux spam :  \n",
    "- En reprenant notre modèle de prédiction de spams, déterminez si la probabilité qu'on repère un spam comme tel dépend ou non du degré de subjectivité et de positivité de son contenu.  \n",
    "(Démarche à suivre : reprendre le vecteur de probabilités d'être un spam pour les spams de y_test et représenter ces points en fonction de la positivité et de la subjectivité en colorant selon ce vecteur).  "
   ]
  },
  {
   "cell_type": "code",
   "execution_count": null,
   "id": "ae1ec80e-e84f-475d-873e-f06a5983abbf",
   "metadata": {},
   "outputs": [],
   "source": []
  }
 ],
 "metadata": {
  "kernelspec": {
   "display_name": "Python 3.8.12 64-bit ('base': conda)",
   "language": "python",
   "name": "python3812jvsc74a57bd0addda3f63a324b7a38ec870d79a82ab21d33100c2675b6c03c06d4beeb089079"
  },
  "language_info": {
   "codemirror_mode": {
    "name": "ipython",
    "version": 3
   },
   "file_extension": ".py",
   "mimetype": "text/x-python",
   "name": "python",
   "nbconvert_exporter": "python",
   "pygments_lexer": "ipython3",
   "version": "3.8.12"
  }
 },
 "nbformat": 4,
 "nbformat_minor": 5
}
