{
 "cells": [
  {
   "cell_type": "markdown",
   "metadata": {},
   "source": [
    "# Un petit exercice d'application des SVM"
   ]
  },
  {
   "cell_type": "markdown",
   "metadata": {},
   "source": [
    "### Partie 1 :  classifieur linéaire\n",
    "\n",
    "1. Importer les données Social_Network_Ads.csv et regarder ce qu'elles contiennent\n",
    "2. On utilisera dans un premier temps (par souci de visualisation) uniquement les 2 variables numériques du dataset comme features\n",
    "3. Diviser le dataset en training/test set\n",
    "4. Entraîner un classifieur linéaire (LinearSVC et SVC avec kernel='linear'. Quelle différence ?)\n",
    "5. Faire de nouvelles prédictions sur X_test\n",
    "6. Afficher la matrice de confusion avec heatmap\n",
    "7. Faire le graphique affichant la frontière de décision, les zones en couleur et les points du dataset\n",
    "8. Recommencer les étapes 4, 5, 6 et 7 en effectuant une normalisation sur les features\n",
    "9. Recommencer les étapes 4,5 et 6 en intégrant les autres données disponibles dans votre matrice X et comparer les modèles"
   ]
  },
  {
   "cell_type": "code",
   "execution_count": null,
   "metadata": {},
   "outputs": [],
   "source": []
  },
  {
   "cell_type": "markdown",
   "metadata": {},
   "source": [
    "### Partie 2 :  classifieur non-linéaire\n",
    "\n",
    "On repart du même dataset initial avec dans un premier temps uniquement les 2 variables numériques du dataset.\n",
    "1. Diviser le dataset en training/test set\n",
    "2. Normaliser les features\n",
    "3. Entraîner un classifieur SVC : tester les deux kernel='rbf' et 'poly'\n",
    "4. Faire de nouvelles prédictions sur X_test\n",
    "5. Afficher la matrice de confusion avec heatmap\n",
    "6. Faire le graphique affichant la frontière de décision, les zones en couleur et les points du dataset (pour chaque kernel !)\n",
    "7. Recommencer les étapes 4,5 et 6 en intégrant les autres données disponibles dans votre matrice X et comparer les modèles"
   ]
  },
  {
   "cell_type": "code",
   "execution_count": null,
   "metadata": {},
   "outputs": [],
   "source": []
  }
 ],
 "metadata": {
  "kernelspec": {
   "display_name": "Python 3",
   "language": "python",
   "name": "python3"
  },
  "language_info": {
   "codemirror_mode": {
    "name": "ipython",
    "version": 3
   },
   "file_extension": ".py",
   "mimetype": "text/x-python",
   "name": "python",
   "nbconvert_exporter": "python",
   "pygments_lexer": "ipython3",
   "version": "3.8.12"
  }
 },
 "nbformat": 4,
 "nbformat_minor": 4
}
