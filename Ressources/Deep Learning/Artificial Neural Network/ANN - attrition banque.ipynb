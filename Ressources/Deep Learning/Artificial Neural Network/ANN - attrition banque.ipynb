{
 "cells": [
  {
   "cell_type": "markdown",
   "metadata": {},
   "source": [
    "# Réseau de neurones et attrition des clients bancaires\n",
    "\n",
    "Réseau de neurones avec Python (Keras)\n",
    "\n",
    "## La problématique\n",
    "\n",
    "On s'intéresse ici à une problème classique du domaine bancaire (mais pas que !) qui est l'attrition ou *churn* en anglais et correspond à la perte de client. \n",
    "Récemment de nombreux clients ont quitté la banque Crédit Friqué. La question est de comprendre pourquoi ces départs ? Ou plutôt de prédire s'ils vont partir...\n",
    "\n",
    "## Les données\n",
    "\n",
    "Pour répondre à cette question, la banque a sélectionné 6 mois plus tôt un sous ensemble de ses clients pour lesquels elle a stocké un certain nombre d’information puis, dans les 6 mois qui ont suivis, elle a observé si les clients avaient quitté ou non la banque. Vous voilà donc, 6 mois plus tard, contacté par la banque qui vous propose un beau dataset (pour une fois!) et vous demande de déterminer les profils des clients les plus à même de partir.\n",
    "Vous disposez du fichier banque_abandon.csv qui est la base de données de la banque virtuelle Crédit Friqué.\n",
    "\n",
    "## Quelques questions préliminaires\n",
    "\n",
    "C'est juste pour vous échauffer donc ça doit être fait en moins d'une heure ça !\n",
    "1. À quoi correspondent les différentes variables du datasets ?\n",
    "2. Pour pas perdre les bonnes habitudes, faites quelques visualisations pour voir ce qu'il y a dans vos données.\n",
    "3. À quelle type de problème avez-vous à faire ici : classification ou régression ?\n",
    ">- Lister un certain nombre de modèles vous permettant de le résoudre\n",
    ">- Lister les métriques associées à ce type de problème\n",
    ">- Choisir un modèle, l'entraîner et l'évaluer avec la métrique de votre choix"
   ]
  },
  {
   "cell_type": "code",
   "execution_count": 1,
   "metadata": {},
   "outputs": [],
   "source": [
    "# flemme de tout refaire et vous commencez à être au point là dessus normalement\n",
    "import pandas as pd\n",
    "import numpy as np\n",
    "import seaborn as sns\n",
    "import matplotlib.pyplot as plt"
   ]
  },
  {
   "cell_type": "code",
   "execution_count": 2,
   "metadata": {},
   "outputs": [
    {
     "name": "stdout",
     "output_type": "stream",
     "text": [
      "(10000, 14)\n"
     ]
    },
    {
     "data": {
      "text/html": [
       "<div>\n",
       "<style scoped>\n",
       "    .dataframe tbody tr th:only-of-type {\n",
       "        vertical-align: middle;\n",
       "    }\n",
       "\n",
       "    .dataframe tbody tr th {\n",
       "        vertical-align: top;\n",
       "    }\n",
       "\n",
       "    .dataframe thead th {\n",
       "        text-align: right;\n",
       "    }\n",
       "</style>\n",
       "<table border=\"1\" class=\"dataframe\">\n",
       "  <thead>\n",
       "    <tr style=\"text-align: right;\">\n",
       "      <th></th>\n",
       "      <th>RowNumber</th>\n",
       "      <th>CustomerId</th>\n",
       "      <th>Surname</th>\n",
       "      <th>CreditScore</th>\n",
       "      <th>Geography</th>\n",
       "      <th>Gender</th>\n",
       "      <th>Age</th>\n",
       "      <th>Tenure</th>\n",
       "      <th>Balance</th>\n",
       "      <th>NumOfProducts</th>\n",
       "      <th>HasCrCard</th>\n",
       "      <th>IsActiveMember</th>\n",
       "      <th>EstimatedSalary</th>\n",
       "      <th>Exited</th>\n",
       "    </tr>\n",
       "  </thead>\n",
       "  <tbody>\n",
       "    <tr>\n",
       "      <th>0</th>\n",
       "      <td>1</td>\n",
       "      <td>15634602</td>\n",
       "      <td>Hargrave</td>\n",
       "      <td>619</td>\n",
       "      <td>France</td>\n",
       "      <td>Female</td>\n",
       "      <td>42</td>\n",
       "      <td>2</td>\n",
       "      <td>0.00</td>\n",
       "      <td>1</td>\n",
       "      <td>1</td>\n",
       "      <td>1</td>\n",
       "      <td>101348.88</td>\n",
       "      <td>1</td>\n",
       "    </tr>\n",
       "    <tr>\n",
       "      <th>1</th>\n",
       "      <td>2</td>\n",
       "      <td>15647311</td>\n",
       "      <td>Hill</td>\n",
       "      <td>608</td>\n",
       "      <td>Spain</td>\n",
       "      <td>Female</td>\n",
       "      <td>41</td>\n",
       "      <td>1</td>\n",
       "      <td>83807.86</td>\n",
       "      <td>1</td>\n",
       "      <td>0</td>\n",
       "      <td>1</td>\n",
       "      <td>112542.58</td>\n",
       "      <td>0</td>\n",
       "    </tr>\n",
       "    <tr>\n",
       "      <th>2</th>\n",
       "      <td>3</td>\n",
       "      <td>15619304</td>\n",
       "      <td>Onio</td>\n",
       "      <td>502</td>\n",
       "      <td>France</td>\n",
       "      <td>Female</td>\n",
       "      <td>42</td>\n",
       "      <td>8</td>\n",
       "      <td>159660.80</td>\n",
       "      <td>3</td>\n",
       "      <td>1</td>\n",
       "      <td>0</td>\n",
       "      <td>113931.57</td>\n",
       "      <td>1</td>\n",
       "    </tr>\n",
       "    <tr>\n",
       "      <th>3</th>\n",
       "      <td>4</td>\n",
       "      <td>15701354</td>\n",
       "      <td>Boni</td>\n",
       "      <td>699</td>\n",
       "      <td>France</td>\n",
       "      <td>Female</td>\n",
       "      <td>39</td>\n",
       "      <td>1</td>\n",
       "      <td>0.00</td>\n",
       "      <td>2</td>\n",
       "      <td>0</td>\n",
       "      <td>0</td>\n",
       "      <td>93826.63</td>\n",
       "      <td>0</td>\n",
       "    </tr>\n",
       "    <tr>\n",
       "      <th>4</th>\n",
       "      <td>5</td>\n",
       "      <td>15737888</td>\n",
       "      <td>Mitchell</td>\n",
       "      <td>850</td>\n",
       "      <td>Spain</td>\n",
       "      <td>Female</td>\n",
       "      <td>43</td>\n",
       "      <td>2</td>\n",
       "      <td>125510.82</td>\n",
       "      <td>1</td>\n",
       "      <td>1</td>\n",
       "      <td>1</td>\n",
       "      <td>79084.10</td>\n",
       "      <td>0</td>\n",
       "    </tr>\n",
       "  </tbody>\n",
       "</table>\n",
       "</div>"
      ],
      "text/plain": [
       "   RowNumber  CustomerId   Surname  CreditScore Geography  Gender  Age  \\\n",
       "0          1    15634602  Hargrave          619    France  Female   42   \n",
       "1          2    15647311      Hill          608     Spain  Female   41   \n",
       "2          3    15619304      Onio          502    France  Female   42   \n",
       "3          4    15701354      Boni          699    France  Female   39   \n",
       "4          5    15737888  Mitchell          850     Spain  Female   43   \n",
       "\n",
       "   Tenure    Balance  NumOfProducts  HasCrCard  IsActiveMember  \\\n",
       "0       2       0.00              1          1               1   \n",
       "1       1   83807.86              1          0               1   \n",
       "2       8  159660.80              3          1               0   \n",
       "3       1       0.00              2          0               0   \n",
       "4       2  125510.82              1          1               1   \n",
       "\n",
       "   EstimatedSalary  Exited  \n",
       "0        101348.88       1  \n",
       "1        112542.58       0  \n",
       "2        113931.57       1  \n",
       "3         93826.63       0  \n",
       "4         79084.10       0  "
      ]
     },
     "execution_count": 2,
     "metadata": {},
     "output_type": "execute_result"
    }
   ],
   "source": [
    "# dataset\n",
    "df = pd.read_csv('data/banque_abandon.csv')\n",
    "print(df.shape)\n",
    "df.head()"
   ]
  },
  {
   "cell_type": "code",
   "execution_count": 3,
   "metadata": {},
   "outputs": [
    {
     "data": {
      "text/html": [
       "<div>\n",
       "<style scoped>\n",
       "    .dataframe tbody tr th:only-of-type {\n",
       "        vertical-align: middle;\n",
       "    }\n",
       "\n",
       "    .dataframe tbody tr th {\n",
       "        vertical-align: top;\n",
       "    }\n",
       "\n",
       "    .dataframe thead th {\n",
       "        text-align: right;\n",
       "    }\n",
       "</style>\n",
       "<table border=\"1\" class=\"dataframe\">\n",
       "  <thead>\n",
       "    <tr style=\"text-align: right;\">\n",
       "      <th></th>\n",
       "      <th>count</th>\n",
       "      <th>mean</th>\n",
       "      <th>std</th>\n",
       "      <th>min</th>\n",
       "      <th>25%</th>\n",
       "      <th>50%</th>\n",
       "      <th>75%</th>\n",
       "      <th>max</th>\n",
       "    </tr>\n",
       "  </thead>\n",
       "  <tbody>\n",
       "    <tr>\n",
       "      <th>RowNumber</th>\n",
       "      <td>10000.0</td>\n",
       "      <td>5.000500e+03</td>\n",
       "      <td>2886.895680</td>\n",
       "      <td>1.00</td>\n",
       "      <td>2500.75</td>\n",
       "      <td>5.000500e+03</td>\n",
       "      <td>7.500250e+03</td>\n",
       "      <td>10000.00</td>\n",
       "    </tr>\n",
       "    <tr>\n",
       "      <th>CustomerId</th>\n",
       "      <td>10000.0</td>\n",
       "      <td>1.569094e+07</td>\n",
       "      <td>71936.186123</td>\n",
       "      <td>15565701.00</td>\n",
       "      <td>15628528.25</td>\n",
       "      <td>1.569074e+07</td>\n",
       "      <td>1.575323e+07</td>\n",
       "      <td>15815690.00</td>\n",
       "    </tr>\n",
       "    <tr>\n",
       "      <th>CreditScore</th>\n",
       "      <td>10000.0</td>\n",
       "      <td>6.505288e+02</td>\n",
       "      <td>96.653299</td>\n",
       "      <td>350.00</td>\n",
       "      <td>584.00</td>\n",
       "      <td>6.520000e+02</td>\n",
       "      <td>7.180000e+02</td>\n",
       "      <td>850.00</td>\n",
       "    </tr>\n",
       "    <tr>\n",
       "      <th>Age</th>\n",
       "      <td>10000.0</td>\n",
       "      <td>3.892180e+01</td>\n",
       "      <td>10.487806</td>\n",
       "      <td>18.00</td>\n",
       "      <td>32.00</td>\n",
       "      <td>3.700000e+01</td>\n",
       "      <td>4.400000e+01</td>\n",
       "      <td>92.00</td>\n",
       "    </tr>\n",
       "    <tr>\n",
       "      <th>Tenure</th>\n",
       "      <td>10000.0</td>\n",
       "      <td>5.012800e+00</td>\n",
       "      <td>2.892174</td>\n",
       "      <td>0.00</td>\n",
       "      <td>3.00</td>\n",
       "      <td>5.000000e+00</td>\n",
       "      <td>7.000000e+00</td>\n",
       "      <td>10.00</td>\n",
       "    </tr>\n",
       "    <tr>\n",
       "      <th>Balance</th>\n",
       "      <td>10000.0</td>\n",
       "      <td>7.648589e+04</td>\n",
       "      <td>62397.405202</td>\n",
       "      <td>0.00</td>\n",
       "      <td>0.00</td>\n",
       "      <td>9.719854e+04</td>\n",
       "      <td>1.276442e+05</td>\n",
       "      <td>250898.09</td>\n",
       "    </tr>\n",
       "    <tr>\n",
       "      <th>NumOfProducts</th>\n",
       "      <td>10000.0</td>\n",
       "      <td>1.530200e+00</td>\n",
       "      <td>0.581654</td>\n",
       "      <td>1.00</td>\n",
       "      <td>1.00</td>\n",
       "      <td>1.000000e+00</td>\n",
       "      <td>2.000000e+00</td>\n",
       "      <td>4.00</td>\n",
       "    </tr>\n",
       "    <tr>\n",
       "      <th>HasCrCard</th>\n",
       "      <td>10000.0</td>\n",
       "      <td>7.055000e-01</td>\n",
       "      <td>0.455840</td>\n",
       "      <td>0.00</td>\n",
       "      <td>0.00</td>\n",
       "      <td>1.000000e+00</td>\n",
       "      <td>1.000000e+00</td>\n",
       "      <td>1.00</td>\n",
       "    </tr>\n",
       "    <tr>\n",
       "      <th>IsActiveMember</th>\n",
       "      <td>10000.0</td>\n",
       "      <td>5.151000e-01</td>\n",
       "      <td>0.499797</td>\n",
       "      <td>0.00</td>\n",
       "      <td>0.00</td>\n",
       "      <td>1.000000e+00</td>\n",
       "      <td>1.000000e+00</td>\n",
       "      <td>1.00</td>\n",
       "    </tr>\n",
       "    <tr>\n",
       "      <th>EstimatedSalary</th>\n",
       "      <td>10000.0</td>\n",
       "      <td>1.000902e+05</td>\n",
       "      <td>57510.492818</td>\n",
       "      <td>11.58</td>\n",
       "      <td>51002.11</td>\n",
       "      <td>1.001939e+05</td>\n",
       "      <td>1.493882e+05</td>\n",
       "      <td>199992.48</td>\n",
       "    </tr>\n",
       "    <tr>\n",
       "      <th>Exited</th>\n",
       "      <td>10000.0</td>\n",
       "      <td>2.037000e-01</td>\n",
       "      <td>0.402769</td>\n",
       "      <td>0.00</td>\n",
       "      <td>0.00</td>\n",
       "      <td>0.000000e+00</td>\n",
       "      <td>0.000000e+00</td>\n",
       "      <td>1.00</td>\n",
       "    </tr>\n",
       "  </tbody>\n",
       "</table>\n",
       "</div>"
      ],
      "text/plain": [
       "                   count          mean           std          min  \\\n",
       "RowNumber        10000.0  5.000500e+03   2886.895680         1.00   \n",
       "CustomerId       10000.0  1.569094e+07  71936.186123  15565701.00   \n",
       "CreditScore      10000.0  6.505288e+02     96.653299       350.00   \n",
       "Age              10000.0  3.892180e+01     10.487806        18.00   \n",
       "Tenure           10000.0  5.012800e+00      2.892174         0.00   \n",
       "Balance          10000.0  7.648589e+04  62397.405202         0.00   \n",
       "NumOfProducts    10000.0  1.530200e+00      0.581654         1.00   \n",
       "HasCrCard        10000.0  7.055000e-01      0.455840         0.00   \n",
       "IsActiveMember   10000.0  5.151000e-01      0.499797         0.00   \n",
       "EstimatedSalary  10000.0  1.000902e+05  57510.492818        11.58   \n",
       "Exited           10000.0  2.037000e-01      0.402769         0.00   \n",
       "\n",
       "                         25%           50%           75%          max  \n",
       "RowNumber            2500.75  5.000500e+03  7.500250e+03     10000.00  \n",
       "CustomerId       15628528.25  1.569074e+07  1.575323e+07  15815690.00  \n",
       "CreditScore           584.00  6.520000e+02  7.180000e+02       850.00  \n",
       "Age                    32.00  3.700000e+01  4.400000e+01        92.00  \n",
       "Tenure                  3.00  5.000000e+00  7.000000e+00        10.00  \n",
       "Balance                 0.00  9.719854e+04  1.276442e+05    250898.09  \n",
       "NumOfProducts           1.00  1.000000e+00  2.000000e+00         4.00  \n",
       "HasCrCard               0.00  1.000000e+00  1.000000e+00         1.00  \n",
       "IsActiveMember          0.00  1.000000e+00  1.000000e+00         1.00  \n",
       "EstimatedSalary     51002.11  1.001939e+05  1.493882e+05    199992.48  \n",
       "Exited                  0.00  0.000000e+00  0.000000e+00         1.00  "
      ]
     },
     "execution_count": 3,
     "metadata": {},
     "output_type": "execute_result"
    }
   ],
   "source": [
    "df.describe().T"
   ]
  },
  {
   "cell_type": "code",
   "execution_count": 4,
   "metadata": {},
   "outputs": [
    {
     "name": "stdout",
     "output_type": "stream",
     "text": [
      "<class 'pandas.core.frame.DataFrame'>\n",
      "RangeIndex: 10000 entries, 0 to 9999\n",
      "Data columns (total 14 columns):\n",
      " #   Column           Non-Null Count  Dtype  \n",
      "---  ------           --------------  -----  \n",
      " 0   RowNumber        10000 non-null  int64  \n",
      " 1   CustomerId       10000 non-null  int64  \n",
      " 2   Surname          10000 non-null  object \n",
      " 3   CreditScore      10000 non-null  int64  \n",
      " 4   Geography        10000 non-null  object \n",
      " 5   Gender           10000 non-null  object \n",
      " 6   Age              10000 non-null  int64  \n",
      " 7   Tenure           10000 non-null  int64  \n",
      " 8   Balance          10000 non-null  float64\n",
      " 9   NumOfProducts    10000 non-null  int64  \n",
      " 10  HasCrCard        10000 non-null  int64  \n",
      " 11  IsActiveMember   10000 non-null  int64  \n",
      " 12  EstimatedSalary  10000 non-null  float64\n",
      " 13  Exited           10000 non-null  int64  \n",
      "dtypes: float64(2), int64(9), object(3)\n",
      "memory usage: 1.1+ MB\n"
     ]
    }
   ],
   "source": [
    "df.info()"
   ]
  },
  {
   "cell_type": "code",
   "execution_count": 5,
   "metadata": {},
   "outputs": [
    {
     "data": {
      "image/png": "[encoded data removed]",
      "text/plain": [
       "<Figure size 432x288 with 2 Axes>"
      ]
     },
     "metadata": {
      "needs_background": "light"
     },
     "output_type": "display_data"
    }
   ],
   "source": [
    "sns.heatmap(df==0);"
   ]
  },
  {
   "cell_type": "markdown",
   "metadata": {},
   "source": [
    "## Dans le vif du sujet\n",
    "\n",
    "Vous l'aurez compris, il s'agit ici de résoudre le problème à l'aide d'un réseau de neurones.   \n",
    "Vous aurez bien sûr besoin du package `keras` et il vous faudra aussi certainement installer `tensorflow`(et peut-être `theano` si besoin).  \n",
    "À vous de jouer !\n",
    "N'oubliez pas le preprocessing !"
   ]
  },
  {
   "cell_type": "code",
   "execution_count": 6,
   "metadata": {},
   "outputs": [
    {
     "data": {
      "text/html": [
       "<div>\n",
       "<style scoped>\n",
       "    .dataframe tbody tr th:only-of-type {\n",
       "        vertical-align: middle;\n",
       "    }\n",
       "\n",
       "    .dataframe tbody tr th {\n",
       "        vertical-align: top;\n",
       "    }\n",
       "\n",
       "    .dataframe thead th {\n",
       "        text-align: right;\n",
       "    }\n",
       "</style>\n",
       "<table border=\"1\" class=\"dataframe\">\n",
       "  <thead>\n",
       "    <tr style=\"text-align: right;\">\n",
       "      <th></th>\n",
       "      <th>CreditScore</th>\n",
       "      <th>Geography</th>\n",
       "      <th>Gender</th>\n",
       "      <th>Age</th>\n",
       "      <th>Tenure</th>\n",
       "      <th>Balance</th>\n",
       "      <th>NumOfProducts</th>\n",
       "      <th>HasCrCard</th>\n",
       "      <th>IsActiveMember</th>\n",
       "      <th>EstimatedSalary</th>\n",
       "    </tr>\n",
       "  </thead>\n",
       "  <tbody>\n",
       "    <tr>\n",
       "      <th>0</th>\n",
       "      <td>619</td>\n",
       "      <td>France</td>\n",
       "      <td>Female</td>\n",
       "      <td>42</td>\n",
       "      <td>2</td>\n",
       "      <td>0.00</td>\n",
       "      <td>1</td>\n",
       "      <td>1</td>\n",
       "      <td>1</td>\n",
       "      <td>101348.88</td>\n",
       "    </tr>\n",
       "    <tr>\n",
       "      <th>1</th>\n",
       "      <td>608</td>\n",
       "      <td>Spain</td>\n",
       "      <td>Female</td>\n",
       "      <td>41</td>\n",
       "      <td>1</td>\n",
       "      <td>83807.86</td>\n",
       "      <td>1</td>\n",
       "      <td>0</td>\n",
       "      <td>1</td>\n",
       "      <td>112542.58</td>\n",
       "    </tr>\n",
       "    <tr>\n",
       "      <th>2</th>\n",
       "      <td>502</td>\n",
       "      <td>France</td>\n",
       "      <td>Female</td>\n",
       "      <td>42</td>\n",
       "      <td>8</td>\n",
       "      <td>159660.80</td>\n",
       "      <td>3</td>\n",
       "      <td>1</td>\n",
       "      <td>0</td>\n",
       "      <td>113931.57</td>\n",
       "    </tr>\n",
       "    <tr>\n",
       "      <th>3</th>\n",
       "      <td>699</td>\n",
       "      <td>France</td>\n",
       "      <td>Female</td>\n",
       "      <td>39</td>\n",
       "      <td>1</td>\n",
       "      <td>0.00</td>\n",
       "      <td>2</td>\n",
       "      <td>0</td>\n",
       "      <td>0</td>\n",
       "      <td>93826.63</td>\n",
       "    </tr>\n",
       "    <tr>\n",
       "      <th>4</th>\n",
       "      <td>850</td>\n",
       "      <td>Spain</td>\n",
       "      <td>Female</td>\n",
       "      <td>43</td>\n",
       "      <td>2</td>\n",
       "      <td>125510.82</td>\n",
       "      <td>1</td>\n",
       "      <td>1</td>\n",
       "      <td>1</td>\n",
       "      <td>79084.10</td>\n",
       "    </tr>\n",
       "  </tbody>\n",
       "</table>\n",
       "</div>"
      ],
      "text/plain": [
       "   CreditScore Geography  Gender  Age  Tenure    Balance  NumOfProducts  \\\n",
       "0          619    France  Female   42       2       0.00              1   \n",
       "1          608     Spain  Female   41       1   83807.86              1   \n",
       "2          502    France  Female   42       8  159660.80              3   \n",
       "3          699    France  Female   39       1       0.00              2   \n",
       "4          850     Spain  Female   43       2  125510.82              1   \n",
       "\n",
       "   HasCrCard  IsActiveMember  EstimatedSalary  \n",
       "0          1               1        101348.88  \n",
       "1          0               1        112542.58  \n",
       "2          1               0        113931.57  \n",
       "3          0               0         93826.63  \n",
       "4          1               1         79084.10  "
      ]
     },
     "execution_count": 6,
     "metadata": {},
     "output_type": "execute_result"
    }
   ],
   "source": [
    "# création des tables X et y\n",
    "X = df.iloc[:, 3:13] # pour virer row, id et nom\n",
    "y = df.iloc[:, 13]\n",
    "X.head()"
   ]
  },
  {
   "cell_type": "code",
   "execution_count": 7,
   "metadata": {},
   "outputs": [
    {
     "data": {
      "text/plain": [
       "Geography\n",
       "France     5014\n",
       "Germany    2509\n",
       "Spain      2477\n",
       "dtype: int64"
      ]
     },
     "execution_count": 7,
     "metadata": {},
     "output_type": "execute_result"
    }
   ],
   "source": [
    "X.value_counts('Geography')"
   ]
  },
  {
   "cell_type": "code",
   "execution_count": 8,
   "metadata": {},
   "outputs": [
    {
     "data": {
      "text/plain": [
       "((8000, 10), (2000, 10), (8000,), (2000,))"
      ]
     },
     "execution_count": 8,
     "metadata": {},
     "output_type": "execute_result"
    }
   ],
   "source": [
    "# échantillons train/test\n",
    "from sklearn.model_selection import train_test_split\n",
    "X_train, X_test, y_train, y_test = train_test_split(X, y, test_size=0.2, stratify=y, random_state=0)\n",
    "X_train.shape, X_test.shape, y_train.shape, y_test.shape"
   ]
  },
  {
   "cell_type": "code",
   "execution_count": 9,
   "metadata": {},
   "outputs": [
    {
     "data": {
      "text/plain": [
       "((8000, 11), (2000, 11))"
      ]
     },
     "execution_count": 9,
     "metadata": {},
     "output_type": "execute_result"
    }
   ],
   "source": [
    "# one-hot-encoding sur les variables catégoriques\n",
    "# feature scaling sur les numériques\n",
    "from sklearn.preprocessing import OneHotEncoder, StandardScaler\n",
    "from sklearn.compose import make_column_transformer, make_column_selector\n",
    "\n",
    "preprocessing = make_column_transformer(\n",
    "    (OneHotEncoder(drop='first'), ['Geography', 'Gender']),\n",
    "    (StandardScaler(), make_column_selector(dtype_exclude='object')))\n",
    "\n",
    "X_train_pp =  preprocessing.fit_transform(X_train)\n",
    "X_test_pp =  preprocessing.transform(X_test)\n",
    "X_train_pp.shape, X_test_pp.shape"
   ]
  },
  {
   "cell_type": "code",
   "execution_count": 10,
   "metadata": {},
   "outputs": [
    {
     "name": "stderr",
     "output_type": "stream",
     "text": [
      "2022-01-27 08:49:31.483609: I tensorflow/core/platform/cpu_feature_guard.cc:142] This TensorFlow binary is optimized with oneAPI Deep Neural Network Library (oneDNN)to use the following CPU instructions in performance-critical operations:  SSE4.1 SSE4.2 AVX AVX2 FMA\n",
      "To enable them in other operations, rebuild TensorFlow with the appropriate compiler flags.\n",
      "2022-01-27 08:49:31.510261: I tensorflow/core/platform/profile_utils/cpu_utils.cc:104] CPU Frequency: 1999965000 Hz\n",
      "2022-01-27 08:49:31.511696: I tensorflow/compiler/xla/service/service.cc:168] XLA service 0x55f71bf68bc0 initialized for platform Host (this does not guarantee that XLA will be used). Devices:\n",
      "2022-01-27 08:49:31.511756: I tensorflow/compiler/xla/service/service.cc:176]   StreamExecutor device (0): Host, Default Version\n"
     ]
    },
    {
     "name": "stdout",
     "output_type": "stream",
     "text": [
      "Epoch 1/100\n",
      "400/400 [==============================] - 0s 834us/step - loss: 0.5185 - accuracy: 0.7617 - val_loss: 0.4498 - val_accuracy: 0.7980\n",
      "Epoch 2/100\n",
      "400/400 [==============================] - 0s 657us/step - loss: 0.4359 - accuracy: 0.8043 - val_loss: 0.4302 - val_accuracy: 0.8085\n",
      "Epoch 3/100\n",
      "400/400 [==============================] - 0s 643us/step - loss: 0.4230 - accuracy: 0.8159 - val_loss: 0.4201 - val_accuracy: 0.8160\n",
      "Epoch 4/100\n",
      "400/400 [==============================] - 0s 644us/step - loss: 0.4144 - accuracy: 0.8257 - val_loss: 0.4126 - val_accuracy: 0.8245\n",
      "Epoch 5/100\n",
      "400/400 [==============================] - 0s 679us/step - loss: 0.4063 - accuracy: 0.8274 - val_loss: 0.4043 - val_accuracy: 0.8315\n",
      "Epoch 6/100\n",
      "400/400 [==============================] - 0s 738us/step - loss: 0.3995 - accuracy: 0.8296 - val_loss: 0.3976 - val_accuracy: 0.8320\n",
      "Epoch 7/100\n",
      "400/400 [==============================] - 0s 696us/step - loss: 0.3938 - accuracy: 0.8300 - val_loss: 0.3932 - val_accuracy: 0.8335\n",
      "Epoch 8/100\n",
      "400/400 [==============================] - 0s 714us/step - loss: 0.3883 - accuracy: 0.8313 - val_loss: 0.3873 - val_accuracy: 0.8335\n",
      "Epoch 9/100\n",
      "400/400 [==============================] - 0s 761us/step - loss: 0.3847 - accuracy: 0.8310 - val_loss: 0.3844 - val_accuracy: 0.8330\n",
      "Epoch 10/100\n",
      "400/400 [==============================] - 0s 755us/step - loss: 0.3808 - accuracy: 0.8328 - val_loss: 0.3787 - val_accuracy: 0.8320\n",
      "Epoch 11/100\n",
      "400/400 [==============================] - 0s 745us/step - loss: 0.3769 - accuracy: 0.8329 - val_loss: 0.3751 - val_accuracy: 0.8300\n",
      "Epoch 12/100\n",
      "400/400 [==============================] - 0s 737us/step - loss: 0.3741 - accuracy: 0.8346 - val_loss: 0.3736 - val_accuracy: 0.8345\n",
      "Epoch 13/100\n",
      "400/400 [==============================] - 0s 697us/step - loss: 0.3702 - accuracy: 0.8420 - val_loss: 0.3694 - val_accuracy: 0.8480\n",
      "Epoch 14/100\n",
      "400/400 [==============================] - 0s 735us/step - loss: 0.3666 - accuracy: 0.8480 - val_loss: 0.3642 - val_accuracy: 0.8490\n",
      "Epoch 15/100\n",
      "400/400 [==============================] - 0s 772us/step - loss: 0.3625 - accuracy: 0.8501 - val_loss: 0.3638 - val_accuracy: 0.8515\n",
      "Epoch 16/100\n",
      "400/400 [==============================] - 0s 806us/step - loss: 0.3591 - accuracy: 0.8528 - val_loss: 0.3580 - val_accuracy: 0.8515\n",
      "Epoch 17/100\n",
      "400/400 [==============================] - 0s 695us/step - loss: 0.3550 - accuracy: 0.8522 - val_loss: 0.3564 - val_accuracy: 0.8555\n",
      "Epoch 18/100\n",
      "400/400 [==============================] - 0s 808us/step - loss: 0.3521 - accuracy: 0.8559 - val_loss: 0.3544 - val_accuracy: 0.8555\n",
      "Epoch 19/100\n",
      "400/400 [==============================] - 0s 701us/step - loss: 0.3495 - accuracy: 0.8590 - val_loss: 0.3509 - val_accuracy: 0.8605\n",
      "Epoch 20/100\n",
      "400/400 [==============================] - 0s 772us/step - loss: 0.3466 - accuracy: 0.8574 - val_loss: 0.3525 - val_accuracy: 0.8555\n",
      "Epoch 21/100\n",
      "400/400 [==============================] - 0s 719us/step - loss: 0.3446 - accuracy: 0.8599 - val_loss: 0.3465 - val_accuracy: 0.8585\n",
      "Epoch 22/100\n",
      "400/400 [==============================] - 0s 700us/step - loss: 0.3429 - accuracy: 0.8618 - val_loss: 0.3445 - val_accuracy: 0.8560\n",
      "Epoch 23/100\n",
      "400/400 [==============================] - 0s 709us/step - loss: 0.3413 - accuracy: 0.8596 - val_loss: 0.3482 - val_accuracy: 0.8610\n",
      "Epoch 24/100\n",
      "400/400 [==============================] - 0s 735us/step - loss: 0.3401 - accuracy: 0.8630 - val_loss: 0.3455 - val_accuracy: 0.8590\n",
      "Epoch 25/100\n",
      "400/400 [==============================] - 0s 759us/step - loss: 0.3394 - accuracy: 0.8612 - val_loss: 0.3454 - val_accuracy: 0.8615\n",
      "Epoch 26/100\n",
      "400/400 [==============================] - 0s 696us/step - loss: 0.3381 - accuracy: 0.8608 - val_loss: 0.3437 - val_accuracy: 0.8560\n",
      "Epoch 27/100\n",
      "400/400 [==============================] - 0s 612us/step - loss: 0.3375 - accuracy: 0.8610 - val_loss: 0.3462 - val_accuracy: 0.8570\n",
      "Epoch 28/100\n",
      "400/400 [==============================] - 0s 681us/step - loss: 0.3372 - accuracy: 0.8605 - val_loss: 0.3445 - val_accuracy: 0.8585\n",
      "Epoch 29/100\n",
      "400/400 [==============================] - 0s 809us/step - loss: 0.3369 - accuracy: 0.8621 - val_loss: 0.3452 - val_accuracy: 0.8590\n",
      "Epoch 30/100\n",
      "400/400 [==============================] - 0s 742us/step - loss: 0.3362 - accuracy: 0.8620 - val_loss: 0.3430 - val_accuracy: 0.8595\n",
      "Epoch 31/100\n",
      "400/400 [==============================] - 0s 704us/step - loss: 0.3356 - accuracy: 0.8637 - val_loss: 0.3439 - val_accuracy: 0.8605\n",
      "Epoch 32/100\n",
      "400/400 [==============================] - 0s 734us/step - loss: 0.3359 - accuracy: 0.8618 - val_loss: 0.3450 - val_accuracy: 0.8600\n",
      "Epoch 33/100\n",
      "400/400 [==============================] - 0s 664us/step - loss: 0.3349 - accuracy: 0.8633 - val_loss: 0.3439 - val_accuracy: 0.8580\n",
      "Epoch 34/100\n",
      "400/400 [==============================] - 0s 619us/step - loss: 0.3348 - accuracy: 0.8631 - val_loss: 0.3447 - val_accuracy: 0.8600\n",
      "Epoch 35/100\n",
      "400/400 [==============================] - 0s 763us/step - loss: 0.3344 - accuracy: 0.8639 - val_loss: 0.3443 - val_accuracy: 0.8570\n",
      "Epoch 36/100\n",
      "400/400 [==============================] - 0s 629us/step - loss: 0.3343 - accuracy: 0.8635 - val_loss: 0.3456 - val_accuracy: 0.8605\n",
      "Epoch 37/100\n",
      "400/400 [==============================] - 0s 719us/step - loss: 0.3345 - accuracy: 0.8635 - val_loss: 0.3452 - val_accuracy: 0.8580\n",
      "Epoch 38/100\n",
      "400/400 [==============================] - 0s 718us/step - loss: 0.3339 - accuracy: 0.8629 - val_loss: 0.3441 - val_accuracy: 0.8595\n",
      "Epoch 39/100\n",
      "400/400 [==============================] - 0s 785us/step - loss: 0.3336 - accuracy: 0.8631 - val_loss: 0.3438 - val_accuracy: 0.8595\n",
      "Epoch 40/100\n",
      "400/400 [==============================] - 0s 745us/step - loss: 0.3329 - accuracy: 0.8664 - val_loss: 0.3451 - val_accuracy: 0.8565\n",
      "Epoch 41/100\n",
      "400/400 [==============================] - 0s 848us/step - loss: 0.3331 - accuracy: 0.8615 - val_loss: 0.3420 - val_accuracy: 0.8580\n",
      "Epoch 42/100\n",
      "400/400 [==============================] - 0s 756us/step - loss: 0.3329 - accuracy: 0.8630 - val_loss: 0.3435 - val_accuracy: 0.8595\n",
      "Epoch 43/100\n",
      "400/400 [==============================] - 0s 682us/step - loss: 0.3319 - accuracy: 0.8639 - val_loss: 0.3460 - val_accuracy: 0.8585\n",
      "Epoch 44/100\n",
      "400/400 [==============================] - 0s 735us/step - loss: 0.3324 - accuracy: 0.8652 - val_loss: 0.3445 - val_accuracy: 0.8570\n",
      "Epoch 45/100\n",
      "400/400 [==============================] - 0s 829us/step - loss: 0.3323 - accuracy: 0.8630 - val_loss: 0.3444 - val_accuracy: 0.8585\n",
      "Epoch 46/100\n",
      "400/400 [==============================] - 0s 780us/step - loss: 0.3326 - accuracy: 0.8634 - val_loss: 0.3420 - val_accuracy: 0.8580\n",
      "Epoch 47/100\n",
      "400/400 [==============================] - 0s 608us/step - loss: 0.3316 - accuracy: 0.8633 - val_loss: 0.3446 - val_accuracy: 0.8580\n",
      "Epoch 48/100\n",
      "400/400 [==============================] - 0s 615us/step - loss: 0.3325 - accuracy: 0.8637 - val_loss: 0.3424 - val_accuracy: 0.8590\n",
      "Epoch 49/100\n",
      "400/400 [==============================] - 0s 727us/step - loss: 0.3319 - accuracy: 0.8656 - val_loss: 0.3449 - val_accuracy: 0.8585\n",
      "Epoch 50/100\n",
      "400/400 [==============================] - 0s 738us/step - loss: 0.3318 - accuracy: 0.8640 - val_loss: 0.3424 - val_accuracy: 0.8585\n",
      "Epoch 51/100\n",
      "400/400 [==============================] - 0s 740us/step - loss: 0.3317 - accuracy: 0.8634 - val_loss: 0.3438 - val_accuracy: 0.8595\n",
      "Epoch 52/100\n",
      "400/400 [==============================] - 0s 658us/step - loss: 0.3312 - accuracy: 0.8665 - val_loss: 0.3418 - val_accuracy: 0.8565\n",
      "Epoch 53/100\n",
      "400/400 [==============================] - 0s 703us/step - loss: 0.3309 - accuracy: 0.8658 - val_loss: 0.3433 - val_accuracy: 0.8560\n",
      "Epoch 54/100\n",
      "400/400 [==============================] - 0s 699us/step - loss: 0.3309 - accuracy: 0.8662 - val_loss: 0.3406 - val_accuracy: 0.8580\n",
      "Epoch 55/100\n",
      "400/400 [==============================] - 0s 814us/step - loss: 0.3300 - accuracy: 0.8655 - val_loss: 0.3447 - val_accuracy: 0.8560\n",
      "Epoch 56/100\n",
      "400/400 [==============================] - 0s 646us/step - loss: 0.3294 - accuracy: 0.8656 - val_loss: 0.3422 - val_accuracy: 0.8575\n",
      "Epoch 57/100\n",
      "400/400 [==============================] - 0s 676us/step - loss: 0.3308 - accuracy: 0.8660 - val_loss: 0.3415 - val_accuracy: 0.8545\n",
      "Epoch 58/100\n",
      "400/400 [==============================] - 0s 682us/step - loss: 0.3305 - accuracy: 0.8644 - val_loss: 0.3411 - val_accuracy: 0.8560\n",
      "Epoch 59/100\n",
      "400/400 [==============================] - 0s 818us/step - loss: 0.3301 - accuracy: 0.8659 - val_loss: 0.3426 - val_accuracy: 0.8605\n",
      "Epoch 60/100\n",
      "400/400 [==============================] - 0s 861us/step - loss: 0.3299 - accuracy: 0.8645 - val_loss: 0.3421 - val_accuracy: 0.8580\n",
      "Epoch 61/100\n",
      "400/400 [==============================] - 0s 864us/step - loss: 0.3302 - accuracy: 0.8644 - val_loss: 0.3424 - val_accuracy: 0.8590\n",
      "Epoch 62/100\n",
      "400/400 [==============================] - 0s 652us/step - loss: 0.3294 - accuracy: 0.8662 - val_loss: 0.3419 - val_accuracy: 0.8590\n",
      "Epoch 63/100\n",
      "400/400 [==============================] - 0s 687us/step - loss: 0.3296 - accuracy: 0.8664 - val_loss: 0.3416 - val_accuracy: 0.8575\n",
      "Epoch 64/100\n",
      "400/400 [==============================] - 0s 640us/step - loss: 0.3294 - accuracy: 0.8665 - val_loss: 0.3423 - val_accuracy: 0.8565\n",
      "Epoch 65/100\n",
      "400/400 [==============================] - 0s 767us/step - loss: 0.3294 - accuracy: 0.8659 - val_loss: 0.3445 - val_accuracy: 0.8615\n",
      "Epoch 66/100\n",
      "400/400 [==============================] - 0s 682us/step - loss: 0.3298 - accuracy: 0.8655 - val_loss: 0.3411 - val_accuracy: 0.8585\n",
      "Epoch 67/100\n",
      "400/400 [==============================] - 0s 776us/step - loss: 0.3288 - accuracy: 0.8668 - val_loss: 0.3435 - val_accuracy: 0.8550\n",
      "Epoch 68/100\n",
      "400/400 [==============================] - 0s 626us/step - loss: 0.3290 - accuracy: 0.8662 - val_loss: 0.3449 - val_accuracy: 0.8585\n",
      "Epoch 69/100\n",
      "400/400 [==============================] - 0s 626us/step - loss: 0.3289 - accuracy: 0.8673 - val_loss: 0.3433 - val_accuracy: 0.8600\n",
      "Epoch 70/100\n",
      "400/400 [==============================] - 0s 633us/step - loss: 0.3284 - accuracy: 0.8662 - val_loss: 0.3424 - val_accuracy: 0.8585\n",
      "Epoch 71/100\n",
      "400/400 [==============================] - 0s 614us/step - loss: 0.3285 - accuracy: 0.8664 - val_loss: 0.3421 - val_accuracy: 0.8565\n",
      "Epoch 72/100\n",
      "400/400 [==============================] - 0s 781us/step - loss: 0.3286 - accuracy: 0.8658 - val_loss: 0.3410 - val_accuracy: 0.8585\n",
      "Epoch 73/100\n",
      "400/400 [==============================] - 0s 660us/step - loss: 0.3284 - accuracy: 0.8654 - val_loss: 0.3424 - val_accuracy: 0.8560\n",
      "Epoch 74/100\n",
      "400/400 [==============================] - 0s 774us/step - loss: 0.3280 - accuracy: 0.8655 - val_loss: 0.3427 - val_accuracy: 0.8580\n",
      "Epoch 75/100\n",
      "400/400 [==============================] - 0s 688us/step - loss: 0.3283 - accuracy: 0.8634 - val_loss: 0.3435 - val_accuracy: 0.8585\n",
      "Epoch 76/100\n",
      "400/400 [==============================] - 0s 772us/step - loss: 0.3285 - accuracy: 0.8661 - val_loss: 0.3440 - val_accuracy: 0.8585\n",
      "Epoch 77/100\n",
      "400/400 [==============================] - 0s 687us/step - loss: 0.3286 - accuracy: 0.8662 - val_loss: 0.3412 - val_accuracy: 0.8545\n",
      "Epoch 78/100\n",
      "400/400 [==============================] - 0s 800us/step - loss: 0.3281 - accuracy: 0.8668 - val_loss: 0.3433 - val_accuracy: 0.8580\n",
      "Epoch 79/100\n",
      "400/400 [==============================] - 0s 641us/step - loss: 0.3288 - accuracy: 0.8648 - val_loss: 0.3414 - val_accuracy: 0.8570\n",
      "Epoch 80/100\n",
      "400/400 [==============================] - 0s 634us/step - loss: 0.3276 - accuracy: 0.8661 - val_loss: 0.3435 - val_accuracy: 0.8585\n",
      "Epoch 81/100\n",
      "400/400 [==============================] - 0s 674us/step - loss: 0.3285 - accuracy: 0.8658 - val_loss: 0.3428 - val_accuracy: 0.8600\n",
      "Epoch 82/100\n",
      "400/400 [==============================] - 0s 716us/step - loss: 0.3268 - accuracy: 0.8677 - val_loss: 0.3500 - val_accuracy: 0.8555\n",
      "Epoch 83/100\n",
      "400/400 [==============================] - 0s 637us/step - loss: 0.3281 - accuracy: 0.8652 - val_loss: 0.3425 - val_accuracy: 0.8585\n",
      "Epoch 84/100\n",
      "400/400 [==============================] - 0s 636us/step - loss: 0.3278 - accuracy: 0.8666 - val_loss: 0.3427 - val_accuracy: 0.8590\n",
      "Epoch 85/100\n",
      "400/400 [==============================] - 0s 647us/step - loss: 0.3277 - accuracy: 0.8658 - val_loss: 0.3425 - val_accuracy: 0.8590\n",
      "Epoch 86/100\n",
      "400/400 [==============================] - 0s 647us/step - loss: 0.3278 - accuracy: 0.8658 - val_loss: 0.3417 - val_accuracy: 0.8565\n",
      "Epoch 87/100\n",
      "400/400 [==============================] - 0s 667us/step - loss: 0.3278 - accuracy: 0.8659 - val_loss: 0.3422 - val_accuracy: 0.8565\n",
      "Epoch 88/100\n",
      "400/400 [==============================] - 0s 722us/step - loss: 0.3277 - accuracy: 0.8676 - val_loss: 0.3416 - val_accuracy: 0.8575\n",
      "Epoch 89/100\n",
      "400/400 [==============================] - 0s 647us/step - loss: 0.3277 - accuracy: 0.8673 - val_loss: 0.3414 - val_accuracy: 0.8565\n",
      "Epoch 90/100\n",
      "400/400 [==============================] - 0s 630us/step - loss: 0.3278 - accuracy: 0.8674 - val_loss: 0.3413 - val_accuracy: 0.8575\n",
      "Epoch 91/100\n",
      "400/400 [==============================] - 0s 612us/step - loss: 0.3274 - accuracy: 0.8654 - val_loss: 0.3435 - val_accuracy: 0.8575\n",
      "Epoch 92/100\n",
      "400/400 [==============================] - 0s 627us/step - loss: 0.3279 - accuracy: 0.8670 - val_loss: 0.3416 - val_accuracy: 0.8555\n",
      "Epoch 93/100\n",
      "400/400 [==============================] - 0s 645us/step - loss: 0.3274 - accuracy: 0.8677 - val_loss: 0.3416 - val_accuracy: 0.8575\n",
      "Epoch 94/100\n",
      "400/400 [==============================] - 0s 695us/step - loss: 0.3274 - accuracy: 0.8679 - val_loss: 0.3450 - val_accuracy: 0.8580\n",
      "Epoch 95/100\n",
      "400/400 [==============================] - 0s 627us/step - loss: 0.3273 - accuracy: 0.8660 - val_loss: 0.3424 - val_accuracy: 0.8560\n",
      "Epoch 96/100\n",
      "400/400 [==============================] - 0s 644us/step - loss: 0.3271 - accuracy: 0.8674 - val_loss: 0.3461 - val_accuracy: 0.8555\n",
      "Epoch 97/100\n",
      "400/400 [==============================] - 0s 689us/step - loss: 0.3269 - accuracy: 0.8676 - val_loss: 0.3424 - val_accuracy: 0.8575\n",
      "Epoch 98/100\n",
      "400/400 [==============================] - 0s 634us/step - loss: 0.3273 - accuracy: 0.8680 - val_loss: 0.3423 - val_accuracy: 0.8565\n",
      "Epoch 99/100\n",
      "400/400 [==============================] - 0s 673us/step - loss: 0.3269 - accuracy: 0.8655 - val_loss: 0.3431 - val_accuracy: 0.8560\n",
      "Epoch 100/100\n",
      "400/400 [==============================] - 0s 679us/step - loss: 0.3269 - accuracy: 0.8671 - val_loss: 0.3401 - val_accuracy: 0.8555\n"
     ]
    },
    {
     "data": {
      "text/plain": [
       "<tensorflow.python.keras.callbacks.History at 0x7faf54551460>"
      ]
     },
     "execution_count": 10,
     "metadata": {},
     "output_type": "execute_result"
    }
   ],
   "source": [
    "# on passe à l'ANN\n",
    "from keras.models import Sequential\n",
    "from keras.layers import Dense\n",
    "\n",
    "# architecture\n",
    "mlp = Sequential()\n",
    "mlp.add(Dense(units=8, activation='relu', input_dim=11))\n",
    "mlp.add(Dense(units=6, activation='relu'))\n",
    "mlp.add(Dense(units=1, activation='sigmoid'))\n",
    "\n",
    "# paramètres d'apprentissage\n",
    "mlp.compile(optimizer='adam', loss='binary_crossentropy', metrics=['accuracy'])\n",
    "\n",
    "# entrainement\n",
    "mlp.fit(X_train_pp, y_train, epochs=100, batch_size=20, validation_data=(X_test_pp, y_test))"
   ]
  },
  {
   "cell_type": "code",
   "execution_count": 11,
   "metadata": {},
   "outputs": [
    {
     "name": "stdout",
     "output_type": "stream",
     "text": [
      "Model: \"sequential\"\n",
      "_________________________________________________________________\n",
      "Layer (type)                 Output Shape              Param #   \n",
      "=================================================================\n",
      "dense (Dense)                (None, 8)                 96        \n",
      "_________________________________________________________________\n",
      "dense_1 (Dense)              (None, 6)                 54        \n",
      "_________________________________________________________________\n",
      "dense_2 (Dense)              (None, 1)                 7         \n",
      "=================================================================\n",
      "Total params: 157\n",
      "Trainable params: 157\n",
      "Non-trainable params: 0\n",
      "_________________________________________________________________\n"
     ]
    }
   ],
   "source": [
    "mlp.summary()"
   ]
  },
  {
   "cell_type": "code",
   "execution_count": 12,
   "metadata": {},
   "outputs": [
    {
     "data": {
      "image/png": "[encoded data removed]",
      "text/plain": [
       "<Figure size 432x288 with 1 Axes>"
      ]
     },
     "metadata": {
      "needs_background": "light"
     },
     "output_type": "display_data"
    }
   ],
   "source": [
    "# predictions sur le testset\n",
    "y_pred = mlp.predict(X_test_pp)\n",
    "classes_pred = 1 * (y_pred > 0.5)\n",
    "\n",
    "# matrice de confusion\n",
    "from sklearn.metrics import confusion_matrix, classification_report\n",
    "sns.heatmap(confusion_matrix(y_test, classes_pred),\n",
    "            annot=True, cbar=False, fmt='d', cmap='Reds');"
   ]
  },
  {
   "cell_type": "code",
   "execution_count": 13,
   "metadata": {},
   "outputs": [
    {
     "name": "stdout",
     "output_type": "stream",
     "text": [
      "              precision    recall  f1-score   support\n",
      "\n",
      "           0       0.87      0.96      0.91      1593\n",
      "           1       0.74      0.44      0.55       407\n",
      "\n",
      "    accuracy                           0.86      2000\n",
      "   macro avg       0.81      0.70      0.73      2000\n",
      "weighted avg       0.85      0.86      0.84      2000\n",
      "\n"
     ]
    }
   ],
   "source": [
    "print(classification_report(y_test, classes_pred))"
   ]
  },
  {
   "cell_type": "code",
   "execution_count": 17,
   "metadata": {},
   "outputs": [
    {
     "name": "stdout",
     "output_type": "stream",
     "text": [
      "Rappel : 180/(180+227) = 0.44226044226044225\n",
      "Précision : 180/(180+62) = 0.743801652892562\n"
     ]
    }
   ],
   "source": [
    "print(f'Rappel : {180/(180+227) = }')\n",
    "print(f'Précision : {180/(180+62) = }')"
   ]
  },
  {
   "cell_type": "markdown",
   "metadata": {},
   "source": [
    "## Évaluation du réseau et affinage des hyper-paramètres\n",
    "\n",
    "Jusqu'à maintenant, on a évalué les réseaux qu'on a vu en regardant uniquement l'accuracy mais cette valeur n'est pas déterministe puisqu'elle dépend de certains paramètres aléatoires comme le train_test_split, l'intialisation des paramètres etc...\n",
    "\n",
    "Une solution par rapport à ce problème est de répéter l'entraînement plusieurs fois et de regarder les résultats en moyenne. On l'a déjà utilisé et ça s'appelle la validation croisée.\n",
    "\n",
    "Mettez en place la validation croisée en utilisant `cross_val_score` puis affiner les paramètres avec `GridSearchCV`.\n",
    "\n",
    "__/!\\\\__ Vous aurez besoin de ce qu'on appelle un wrapper pour pouvoir relier `keras` à `sklearn` et utiliser un modèle de l'un dans l'autre. Ça tombe bien, ça existe : regarder la librairie `keras.wrappers.scikit_learn`."
   ]
  },
  {
   "cell_type": "code",
   "execution_count": 31,
   "metadata": {},
   "outputs": [],
   "source": [
    "# définition d'une fonction pour instancier le modèle\n",
    "def build_ann_clf(optimizer='adam'):\n",
    "    clf = Sequential()\n",
    "    clf.add(Dense(units=8, activation='relu', input_dim=11))\n",
    "    clf.add(Dense(units=6, activation='relu'))\n",
    "    clf.add(Dense(units=1, activation='sigmoid'))\n",
    "    clf.compile(optimizer=optimizer, loss='binary_crossentropy', metrics=['accuracy'])\n",
    "    return clf"
   ]
  },
  {
   "cell_type": "code",
   "execution_count": 32,
   "metadata": {},
   "outputs": [
    {
     "name": "stderr",
     "output_type": "stream",
     "text": [
      "2022-01-27 09:23:54.682204: I tensorflow/core/platform/cpu_feature_guard.cc:142] This TensorFlow binary is optimized with oneAPI Deep Neural Network Library (oneDNN)to use the following CPU instructions in performance-critical operations:  SSE4.1 SSE4.2 AVX AVX2 FMA\n",
      "To enable them in other operations, rebuild TensorFlow with the appropriate compiler flags.\n",
      "2022-01-27 09:23:54.689540: I tensorflow/core/platform/cpu_feature_guard.cc:142] This TensorFlow binary is optimized with oneAPI Deep Neural Network Library (oneDNN)to use the following CPU instructions in performance-critical operations:  SSE4.1 SSE4.2 AVX AVX2 FMA\n",
      "To enable them in other operations, rebuild TensorFlow with the appropriate compiler flags.\n",
      "2022-01-27 09:23:54.693383: I tensorflow/core/platform/cpu_feature_guard.cc:142] This TensorFlow binary is optimized with oneAPI Deep Neural Network Library (oneDNN)to use the following CPU instructions in performance-critical operations:  SSE4.1 SSE4.2 AVX AVX2 FMA\n",
      "To enable them in other operations, rebuild TensorFlow with the appropriate compiler flags.\n",
      "2022-01-27 09:23:54.698295: I tensorflow/core/platform/profile_utils/cpu_utils.cc:104] CPU Frequency: 1999965000 Hz\n",
      "2022-01-27 09:23:54.699018: I tensorflow/compiler/xla/service/service.cc:168] XLA service 0x5631d20ed630 initialized for platform Host (this does not guarantee that XLA will be used). Devices:\n",
      "2022-01-27 09:23:54.699044: I tensorflow/compiler/xla/service/service.cc:176]   StreamExecutor device (0): Host, Default Version\n",
      "2022-01-27 09:23:54.702935: I tensorflow/core/platform/profile_utils/cpu_utils.cc:104] CPU Frequency: 1999965000 Hz\n",
      "2022-01-27 09:23:54.703569: I tensorflow/compiler/xla/service/service.cc:168] XLA service 0x560647bae630 initialized for platform Host (this does not guarantee that XLA will be used). Devices:\n",
      "2022-01-27 09:23:54.703603: I tensorflow/compiler/xla/service/service.cc:176]   StreamExecutor device (0): Host, Default Version\n",
      "2022-01-27 09:23:54.706133: I tensorflow/core/platform/profile_utils/cpu_utils.cc:104] CPU Frequency: 1999965000 Hz\n",
      "2022-01-27 09:23:54.706538: I tensorflow/compiler/xla/service/service.cc:168] XLA service 0x5622005e2630 initialized for platform Host (this does not guarantee that XLA will be used). Devices:\n",
      "2022-01-27 09:23:54.706562: I tensorflow/compiler/xla/service/service.cc:176]   StreamExecutor device (0): Host, Default Version\n",
      "2022-01-27 09:23:54.714359: I tensorflow/core/platform/cpu_feature_guard.cc:142] This TensorFlow binary is optimized with oneAPI Deep Neural Network Library (oneDNN)to use the following CPU instructions in performance-critical operations:  SSE4.1 SSE4.2 AVX AVX2 FMA\n",
      "To enable them in other operations, rebuild TensorFlow with the appropriate compiler flags.\n",
      "2022-01-27 09:23:54.715223: I tensorflow/core/platform/cpu_feature_guard.cc:142] This TensorFlow binary is optimized with oneAPI Deep Neural Network Library (oneDNN)to use the following CPU instructions in performance-critical operations:  SSE4.1 SSE4.2 AVX AVX2 FMA\n",
      "To enable them in other operations, rebuild TensorFlow with the appropriate compiler flags.\n",
      "2022-01-27 09:23:54.721775: I tensorflow/core/platform/profile_utils/cpu_utils.cc:104] CPU Frequency: 1999965000 Hz\n",
      "2022-01-27 09:23:54.722309: I tensorflow/compiler/xla/service/service.cc:168] XLA service 0x55fae5eae630 initialized for platform Host (this does not guarantee that XLA will be used). Devices:\n",
      "2022-01-27 09:23:54.722332: I tensorflow/compiler/xla/service/service.cc:176]   StreamExecutor device (0): Host, Default Version\n",
      "2022-01-27 09:23:54.723277: I tensorflow/core/platform/profile_utils/cpu_utils.cc:104] CPU Frequency: 1999965000 Hz\n",
      "2022-01-27 09:23:54.723656: I tensorflow/compiler/xla/service/service.cc:168] XLA service 0x55d8b68ad630 initialized for platform Host (this does not guarantee that XLA will be used). Devices:\n",
      "2022-01-27 09:23:54.723680: I tensorflow/compiler/xla/service/service.cc:176]   StreamExecutor device (0): Host, Default Version\n",
      "2022-01-27 09:23:54.758892: I tensorflow/core/platform/cpu_feature_guard.cc:142] This TensorFlow binary is optimized with oneAPI Deep Neural Network Library (oneDNN)to use the following CPU instructions in performance-critical operations:  SSE4.1 SSE4.2 AVX AVX2 FMA\n",
      "To enable them in other operations, rebuild TensorFlow with the appropriate compiler flags.\n",
      "2022-01-27 09:23:54.766438: I tensorflow/core/platform/profile_utils/cpu_utils.cc:104] CPU Frequency: 1999965000 Hz\n",
      "2022-01-27 09:23:54.766984: I tensorflow/compiler/xla/service/service.cc:168] XLA service 0x55d99ea92630 initialized for platform Host (this does not guarantee that XLA will be used). Devices:\n",
      "2022-01-27 09:23:54.767005: I tensorflow/compiler/xla/service/service.cc:176]   StreamExecutor device (0): Host, Default Version\n",
      "2022-01-27 09:23:54.774495: I tensorflow/core/platform/cpu_feature_guard.cc:142] This TensorFlow binary is optimized with oneAPI Deep Neural Network Library (oneDNN)to use the following CPU instructions in performance-critical operations:  SSE4.1 SSE4.2 AVX AVX2 FMA\n",
      "To enable them in other operations, rebuild TensorFlow with the appropriate compiler flags.\n",
      "2022-01-27 09:23:54.782019: I tensorflow/core/platform/profile_utils/cpu_utils.cc:104] CPU Frequency: 1999965000 Hz\n",
      "2022-01-27 09:23:54.782567: I tensorflow/compiler/xla/service/service.cc:168] XLA service 0x563f52f49630 initialized for platform Host (this does not guarantee that XLA will be used). Devices:\n",
      "2022-01-27 09:23:54.782651: I tensorflow/compiler/xla/service/service.cc:176]   StreamExecutor device (0): Host, Default Version\n",
      "2022-01-27 09:23:54.788262: I tensorflow/core/platform/cpu_feature_guard.cc:142] This TensorFlow binary is optimized with oneAPI Deep Neural Network Library (oneDNN)to use the following CPU instructions in performance-critical operations:  SSE4.1 SSE4.2 AVX AVX2 FMA\n",
      "To enable them in other operations, rebuild TensorFlow with the appropriate compiler flags.\n",
      "2022-01-27 09:23:54.795575: I tensorflow/core/platform/profile_utils/cpu_utils.cc:104] CPU Frequency: 1999965000 Hz\n",
      "2022-01-27 09:23:54.796251: I tensorflow/compiler/xla/service/service.cc:168] XLA service 0x55c5f4b23630 initialized for platform Host (this does not guarantee that XLA will be used). Devices:\n",
      "2022-01-27 09:23:54.796280: I tensorflow/compiler/xla/service/service.cc:176]   StreamExecutor device (0): Host, Default Version\n"
     ]
    },
    {
     "name": "stdout",
     "output_type": "stream",
     "text": [
      "Epoch 1/100\n",
      "  1/720 [..............................] - ETA: 0s - loss: 0.5627 - accuracy: 0.8000Epoch 1/100\n",
      "  1/720 [..............................] - ETA: 0s - loss: 0.7692 - accuracy: 0.4000Epoch 1/100\n",
      "  1/720 [..............................] - ETA: 0s - loss: 0.6876 - accuracy: 0.5000Epoch 1/100\n",
      " 53/720 [=>............................] - ETA: 0s - loss: 0.5581 - accuracy: 0.7849Epoch 1/100\n",
      " 40/720 [>.............................] - ETA: 0s - loss: 0.6306 - accuracy: 0.6800Epoch 1/100\n",
      " 79/720 [==>...........................] - ETA: 0s - loss: 0.6132 - accuracy: 0.7456Epoch 1/100\n",
      "  1/720 [..............................] - ETA: 0s - loss: 0.6364 - accuracy: 0.6000Epoch 1/100\n",
      "720/720 [==============================] - 1s 1ms/step - loss: 0.4747 - accuracy: 0.8000\n",
      "Epoch 2/100\n",
      "720/720 [==============================] - 1s 1ms/step - loss: 0.5086 - accuracy: 0.7757\n",
      "629/720 [=========================>....] - ETA: 0s - loss: 0.5098 - accuracy: 0.7814Epoch 2/100\n",
      "720/720 [==============================] - 1s 2ms/step - loss: 0.5034 - accuracy: 0.7808\n",
      "670/720 [==========================>...] - ETA: 0s - loss: 0.5056 - accuracy: 0.7894Epoch 2/100\n",
      "720/720 [==============================] - 1s 1ms/step - loss: 0.5219 - accuracy: 0.7858\n",
      " 43/720 [>.............................] - ETA: 0s - loss: 0.4694 - accuracy: 0.7814Epoch 2/100\n",
      "720/720 [==============================] - 1s 2ms/step - loss: 0.5021 - accuracy: 0.7897\n",
      "709/720 [============================>.] - ETA: 0s - loss: 0.4852 - accuracy: 0.7937Epoch 2/100\n",
      "720/720 [==============================] - 1s 2ms/step - loss: 0.4849 - accuracy: 0.7935\n",
      "Epoch 2/100\n",
      "720/720 [==============================] - 1s 2ms/step - loss: 0.5025 - accuracy: 0.7851\n",
      "Epoch 2/100\n",
      "720/720 [==============================] - 1s 2ms/step - loss: 0.5266 - accuracy: 0.7453\n",
      "Epoch 2/100\n",
      "720/720 [==============================] - 1s 1ms/step - loss: 0.4317 - accuracy: 0.8126\n",
      "Epoch 3/100\n",
      "720/720 [==============================] - 1s 1ms/step - loss: 0.4339 - accuracy: 0.8069\n",
      "Epoch 3/100\n",
      "720/720 [==============================] - 1s 1ms/step - loss: 0.4238 - accuracy: 0.8018\n",
      "Epoch 3/100\n",
      "720/720 [==============================] - 1s 1ms/step - loss: 0.4290 - accuracy: 0.7971\n",
      "595/720 [=======================>......] - ETA: 0s - loss: 0.4252 - accuracy: 0.8153Epoch 3/100\n",
      "720/720 [==============================] - 1s 1ms/step - loss: 0.4259 - accuracy: 0.8199\n",
      "Epoch 3/100\n",
      "720/720 [==============================] - 1s 1ms/step - loss: 0.4151 - accuracy: 0.8251\n",
      "Epoch 3/100\n",
      "720/720 [==============================] - 1s 1ms/step - loss: 0.4313 - accuracy: 0.8164\n",
      " 71/720 [=>............................] - ETA: 0s - loss: 0.4282 - accuracy: 0.7873Epoch 3/100\n",
      "720/720 [==============================] - 1s 2ms/step - loss: 0.4252 - accuracy: 0.8146\n",
      "Epoch 3/100\n",
      "720/720 [==============================] - 1s 2ms/step - loss: 0.4160 - accuracy: 0.8260\n",
      "626/720 [=========================>....] - ETA: 0s - loss: 0.4016 - accuracy: 0.8294Epoch 4/100\n",
      "720/720 [==============================] - 1s 2ms/step - loss: 0.4068 - accuracy: 0.8110\n",
      "715/720 [============================>.] - ETA: 0s - loss: 0.3998 - accuracy: 0.8320Epoch 4/100\n",
      "720/720 [==============================] - 1s 2ms/step - loss: 0.3996 - accuracy: 0.8325\n",
      "Epoch 4/100\n",
      "720/720 [==============================] - 1s 2ms/step - loss: 0.4020 - accuracy: 0.8296\n",
      "720/720 [==============================] - 1s 2ms/step - loss: 0.4169 - accuracy: 0.8200\n",
      "Epoch 4/100\n",
      "674/720 [===========================>..] - ETA: 0s - loss: 0.4071 - accuracy: 0.8283Epoch 4/100\n",
      "720/720 [==============================] - 1s 2ms/step - loss: 0.4152 - accuracy: 0.8242\n",
      "Epoch 4/100\n",
      "720/720 [==============================] - 1s 2ms/step - loss: 0.3907 - accuracy: 0.8349\n",
      "720/720 [==============================] - 1s 2ms/step - loss: 0.4062 - accuracy: 0.8289\n",
      "Epoch 4/100\n",
      "  1/720 [..............................] - ETA: 0s - loss: 0.3328 - accuracy: 0.9000Epoch 4/100\n",
      "720/720 [==============================] - 1s 1ms/step - loss: 0.3736 - accuracy: 0.8487\n",
      "Epoch 5/100\n",
      "720/720 [==============================] - 1s 1ms/step - loss: 0.3885 - accuracy: 0.8258\n",
      "720/720 [==============================] - 1s 2ms/step - loss: 0.4026 - accuracy: 0.8308\n",
      "Epoch 5/100\n",
      "670/720 [==========================>...] - ETA: 0s - loss: 0.3833 - accuracy: 0.8410Epoch 5/100\n",
      "720/720 [==============================] - 1s 1ms/step - loss: 0.3807 - accuracy: 0.8417\n",
      "711/720 [============================>.] - ETA: 0s - loss: 0.3722 - accuracy: 0.8463Epoch 5/100\n",
      "720/720 [==============================] - 1s 1ms/step - loss: 0.3997 - accuracy: 0.8296\n",
      "720/720 [==============================] - 1s 1ms/step - loss: 0.4063 - accuracy: 0.8313\n",
      "Epoch 5/100\n",
      "  1/720 [..............................] - ETA: 0s - loss: 0.1962 - accuracy: 1.0000Epoch 5/100\n",
      "720/720 [==============================] - 1s 1ms/step - loss: 0.3727 - accuracy: 0.8464\n",
      "Epoch 5/100\n",
      "720/720 [==============================] - 1s 1ms/step - loss: 0.3936 - accuracy: 0.8307\n",
      " 66/720 [=>............................] - ETA: 1s - loss: 0.3863 - accuracy: 0.8348Epoch 5/100\n",
      "720/720 [==============================] - 1s 1ms/step - loss: 0.3600 - accuracy: 0.8562\n",
      "Epoch 6/100\n",
      "720/720 [==============================] - 1s 1ms/step - loss: 0.3760 - accuracy: 0.8379\n",
      "649/720 [==========================>...] - ETA: 0s - loss: 0.3842 - accuracy: 0.8302Epoch 6/100\n",
      "720/720 [==============================] - 1s 2ms/step - loss: 0.3937 - accuracy: 0.8319\n",
      "Epoch 6/100\n",
      "720/720 [==============================] - 1s 2ms/step - loss: 0.3600 - accuracy: 0.8522\n",
      "710/720 [============================>.] - ETA: 0s - loss: 0.3817 - accuracy: 0.8311Epoch 6/100\n",
      "720/720 [==============================] - 1s 2ms/step - loss: 0.3831 - accuracy: 0.8308\n",
      "700/720 [============================>.] - ETA: 0s - loss: 0.3975 - accuracy: 0.8367Epoch 6/100\n",
      "720/720 [==============================] - 1s 2ms/step - loss: 0.3794 - accuracy: 0.8382\n",
      "720/720 [==============================] - 1s 2ms/step - loss: 0.3969 - accuracy: 0.8364\n",
      "Epoch 6/100\n",
      "  1/720 [..............................] - ETA: 0s - loss: 0.2234 - accuracy: 1.0000Epoch 6/100\n",
      "720/720 [==============================] - 1s 2ms/step - loss: 0.3663 - accuracy: 0.8472\n",
      "Epoch 6/100\n",
      "720/720 [==============================] - 1s 1ms/step - loss: 0.3543 - accuracy: 0.8587\n",
      "611/720 [========================>.....] - ETA: 0s - loss: 0.3637 - accuracy: 0.8480Epoch 7/100\n",
      "720/720 [==============================] - 1s 2ms/step - loss: 0.3640 - accuracy: 0.8490\n",
      "Epoch 7/100\n",
      "720/720 [==============================] - 1s 1ms/step - loss: 0.3524 - accuracy: 0.8549\n",
      "120/720 [====>.........................] - ETA: 1s - loss: 0.3668 - accuracy: 0.8500Epoch 7/100\n",
      "720/720 [==============================] - 1s 2ms/step - loss: 0.3857 - accuracy: 0.8340\n",
      "720/720 [==============================] - 1s 1ms/step - loss: 0.3735 - accuracy: 0.8365\n",
      "Epoch 7/100\n",
      "687/720 [===========================>..] - ETA: 0s - loss: 0.3662 - accuracy: 0.8476Epoch 7/100\n",
      "720/720 [==============================] - 1s 2ms/step - loss: 0.3654 - accuracy: 0.8487\n",
      "698/720 [============================>.] - ETA: 0s - loss: 0.3843 - accuracy: 0.8426Epoch 7/100\n",
      "720/720 [==============================] - 1s 2ms/step - loss: 0.3841 - accuracy: 0.8435\n",
      "Epoch 7/100\n",
      "720/720 [==============================] - 1s 2ms/step - loss: 0.3584 - accuracy: 0.8511\n",
      "Epoch 7/100\n",
      "720/720 [==============================] - 1s 2ms/step - loss: 0.3509 - accuracy: 0.8569\n",
      "Epoch 8/100\n",
      "720/720 [==============================] - 1s 1ms/step - loss: 0.3552 - accuracy: 0.8535\n",
      "462/720 [==================>...........] - ETA: 0s - loss: 0.3530 - accuracy: 0.8530Epoch 8/100\n",
      "720/720 [==============================] - 1s 1ms/step - loss: 0.3800 - accuracy: 0.8358\n",
      "Epoch 8/100\n",
      "720/720 [==============================] - 1s 2ms/step - loss: 0.3467 - accuracy: 0.8583\n",
      "538/720 [=====================>........] - ETA: 0s - loss: 0.3563 - accuracy: 0.8513Epoch 8/100\n",
      "720/720 [==============================] - 1s 1ms/step - loss: 0.3686 - accuracy: 0.8528\n",
      "Epoch 8/100\n",
      "720/720 [==============================] - 1s 2ms/step - loss: 0.3660 - accuracy: 0.8460\n",
      "Epoch 8/100\n",
      "720/720 [==============================] - 1s 2ms/step - loss: 0.3573 - accuracy: 0.8529\n",
      "Epoch 8/100\n",
      "720/720 [==============================] - 1s 2ms/step - loss: 0.3544 - accuracy: 0.8524\n",
      "181/720 [======>.......................] - ETA: 0s - loss: 0.3496 - accuracy: 0.8541Epoch 8/100\n",
      "720/720 [==============================] - 1s 1ms/step - loss: 0.3502 - accuracy: 0.8547\n",
      "612/720 [========================>.....] - ETA: 0s - loss: 0.3467 - accuracy: 0.8570Epoch 9/100\n",
      "720/720 [==============================] - 1s 1ms/step - loss: 0.3494 - accuracy: 0.8608\n",
      "Epoch 9/100\n",
      "720/720 [==============================] - 1s 1ms/step - loss: 0.3752 - accuracy: 0.8353\n",
      "720/720 [==============================] - 1s 1ms/step - loss: 0.3439 - accuracy: 0.8585\n",
      "Epoch 9/100\n",
      "  1/720 [..............................] - ETA: 0s - loss: 0.3593 - accuracy: 0.8000Epoch 9/100\n",
      "720/720 [==============================] - 1s 1ms/step - loss: 0.3565 - accuracy: 0.8565\n",
      "Epoch 9/100\n",
      "720/720 [==============================] - 1s 2ms/step - loss: 0.3608 - accuracy: 0.8503\n",
      "Epoch 9/100\n",
      "720/720 [==============================] - 1s 1ms/step - loss: 0.3527 - accuracy: 0.8561\n",
      "Epoch 9/100\n",
      "720/720 [==============================] - 1s 1ms/step - loss: 0.3520 - accuracy: 0.8531\n",
      "Epoch 9/100\n",
      "720/720 [==============================] - 1s 1ms/step - loss: 0.3471 - accuracy: 0.8579\n",
      "Epoch 10/100\n",
      "720/720 [==============================] - 1s 2ms/step - loss: 0.3484 - accuracy: 0.8583\n",
      "574/720 [======================>.......] - ETA: 0s - loss: 0.3593 - accuracy: 0.8502Epoch 10/100\n",
      "720/720 [==============================] - 1s 1ms/step - loss: 0.3481 - accuracy: 0.8599\n",
      "703/720 [============================>.] - ETA: 0s - loss: 0.3427 - accuracy: 0.8602Epoch 10/100\n",
      "720/720 [==============================] - 1s 1ms/step - loss: 0.3416 - accuracy: 0.8610\n",
      "590/720 [=======================>......] - ETA: 0s - loss: 0.3575 - accuracy: 0.8544Epoch 10/100\n",
      "720/720 [==============================] - 1s 2ms/step - loss: 0.3712 - accuracy: 0.8389\n",
      "Epoch 10/100\n",
      "720/720 [==============================] - 1s 1ms/step - loss: 0.3496 - accuracy: 0.8561\n",
      "144/720 [=====>........................] - ETA: 0s - loss: 0.3686 - accuracy: 0.8458Epoch 10/100\n",
      "720/720 [==============================] - 1s 2ms/step - loss: 0.3572 - accuracy: 0.8544\n",
      "Epoch 10/100\n",
      "720/720 [==============================] - 1s 2ms/step - loss: 0.3499 - accuracy: 0.8561\n",
      "167/720 [=====>........................] - ETA: 1s - loss: 0.3556 - accuracy: 0.8443Epoch 10/100\n",
      "720/720 [==============================] - 1s 2ms/step - loss: 0.3446 - accuracy: 0.8579\n",
      "487/720 [===================>..........] - ETA: 0s - loss: 0.3493 - accuracy: 0.8610Epoch 11/100\n",
      "720/720 [==============================] - 1s 1ms/step - loss: 0.3444 - accuracy: 0.8590\n",
      "Epoch 11/100\n",
      "720/720 [==============================] - 1s 1ms/step - loss: 0.3471 - accuracy: 0.8596\n",
      "Epoch 11/100\n",
      "720/720 [==============================] - 1s 1ms/step - loss: 0.3400 - accuracy: 0.8611\n",
      " 38/720 [>.............................] - ETA: 0s - loss: 0.3435 - accuracy: 0.8684Epoch 11/100\n",
      "720/720 [==============================] - 1s 2ms/step - loss: 0.3677 - accuracy: 0.8371\n",
      "Epoch 11/100\n",
      "720/720 [==============================] - 1s 2ms/step - loss: 0.3537 - accuracy: 0.8557\n",
      "Epoch 11/100\n",
      "720/720 [==============================] - 1s 2ms/step - loss: 0.3484 - accuracy: 0.8581\n",
      "Epoch 11/100\n",
      "720/720 [==============================] - 1s 2ms/step - loss: 0.3479 - accuracy: 0.8562\n",
      "Epoch 11/100\n",
      "720/720 [==============================] - 1s 1ms/step - loss: 0.3416 - accuracy: 0.8586\n",
      "511/720 [====================>.........] - ETA: 0s - loss: 0.3707 - accuracy: 0.8337Epoch 12/100\n",
      "720/720 [==============================] - 1s 2ms/step - loss: 0.3417 - accuracy: 0.8614\n",
      " 34/720 [>.............................] - ETA: 1s - loss: 0.3568 - accuracy: 0.8559Epoch 12/100\n",
      "720/720 [==============================] - 1s 2ms/step - loss: 0.3467 - accuracy: 0.8599\n",
      "Epoch 12/100\n",
      "720/720 [==============================] - 1s 2ms/step - loss: 0.3391 - accuracy: 0.8585\n",
      "Epoch 12/100\n",
      "720/720 [==============================] - 1s 1ms/step - loss: 0.3463 - accuracy: 0.8585\n",
      "682/720 [===========================>..] - ETA: 0s - loss: 0.3661 - accuracy: 0.8378Epoch 12/100\n",
      "720/720 [==============================] - 1s 2ms/step - loss: 0.3647 - accuracy: 0.8388\n",
      "720/720 [==============================] - 1s 1ms/step - loss: 0.3515 - accuracy: 0.8581\n",
      "182/720 [======>.......................] - ETA: 0s - loss: 0.3286 - accuracy: 0.8692Epoch 12/100\n",
      "  1/720 [..............................] - ETA: 0s - loss: 0.3472 - accuracy: 0.8000Epoch 12/100\n",
      "720/720 [==============================] - 1s 1ms/step - loss: 0.3466 - accuracy: 0.8571\n",
      "332/720 [============>.................] - ETA: 0s - loss: 0.3362 - accuracy: 0.8672Epoch 12/100\n",
      "720/720 [==============================] - 1s 1ms/step - loss: 0.3407 - accuracy: 0.8578\n",
      "Epoch 13/100\n",
      "720/720 [==============================] - 1s 1ms/step - loss: 0.3463 - accuracy: 0.8608\n",
      "Epoch 13/100\n",
      "720/720 [==============================] - 1s 1ms/step - loss: 0.3399 - accuracy: 0.8601\n",
      "698/720 [============================>.] - ETA: 0s - loss: 0.3358 - accuracy: 0.8629Epoch 13/100\n",
      "720/720 [==============================] - 1s 1ms/step - loss: 0.3378 - accuracy: 0.8612\n",
      "Epoch 13/100\n",
      "720/720 [==============================] - 1s 1ms/step - loss: 0.3455 - accuracy: 0.8575\n",
      "206/720 [=======>......................] - ETA: 0s - loss: 0.3156 - accuracy: 0.8660Epoch 13/100\n",
      "720/720 [==============================] - 1s 1ms/step - loss: 0.3626 - accuracy: 0.8375\n",
      "113/720 [===>..........................] - ETA: 1s - loss: 0.3404 - accuracy: 0.8584Epoch 13/100\n",
      "720/720 [==============================] - 1s 2ms/step - loss: 0.3486 - accuracy: 0.8585\n",
      "611/720 [========================>.....] - ETA: 0s - loss: 0.3442 - accuracy: 0.8571Epoch 13/100\n",
      "720/720 [==============================] - 1s 2ms/step - loss: 0.3452 - accuracy: 0.8569\n",
      "Epoch 13/100\n",
      "720/720 [==============================] - 1s 1ms/step - loss: 0.3392 - accuracy: 0.8565\n",
      "Epoch 14/100\n",
      "720/720 [==============================] - 1s 1ms/step - loss: 0.3382 - accuracy: 0.8624\n",
      "Epoch 14/100\n",
      "720/720 [==============================] - 1s 1ms/step - loss: 0.3456 - accuracy: 0.8594\n",
      "Epoch 14/100\n",
      "720/720 [==============================] - 1s 2ms/step - loss: 0.3369 - accuracy: 0.8610\n",
      "191/720 [======>.......................] - ETA: 0s - loss: 0.3534 - accuracy: 0.8492Epoch 14/100\n",
      "720/720 [==============================] - 1s 1ms/step - loss: 0.3439 - accuracy: 0.8619\n",
      "Epoch 14/100\n",
      "720/720 [==============================] - 1s 1ms/step - loss: 0.3599 - accuracy: 0.8394\n",
      "Epoch 14/100\n",
      "720/720 [==============================] - 1s 1ms/step - loss: 0.3471 - accuracy: 0.8603\n",
      "605/720 [========================>.....] - ETA: 0s - loss: 0.3469 - accuracy: 0.8574Epoch 14/100\n",
      "720/720 [==============================] - 1s 1ms/step - loss: 0.3443 - accuracy: 0.8581\n",
      "Epoch 14/100\n",
      "720/720 [==============================] - 1s 1ms/step - loss: 0.3386 - accuracy: 0.8576\n",
      "511/720 [====================>.........] - ETA: 0s - loss: 0.3394 - accuracy: 0.8611Epoch 15/100\n",
      "720/720 [==============================] - 1s 1ms/step - loss: 0.3455 - accuracy: 0.8612\n",
      "350/720 [=============>................] - ETA: 0s - loss: 0.3463 - accuracy: 0.8571Epoch 15/100\n",
      "720/720 [==============================] - 1s 1ms/step - loss: 0.3372 - accuracy: 0.8626\n",
      "Epoch 15/100\n",
      "720/720 [==============================] - 1s 1ms/step - loss: 0.3361 - accuracy: 0.8624\n",
      "Epoch 15/100\n",
      "720/720 [==============================] - 1s 2ms/step - loss: 0.3435 - accuracy: 0.8571\n",
      "584/720 [=======================>......] - ETA: 0s - loss: 0.3505 - accuracy: 0.8620Epoch 15/100\n",
      "720/720 [==============================] - 1s 2ms/step - loss: 0.3577 - accuracy: 0.8388\n",
      "170/720 [======>.......................] - ETA: 0s - loss: 0.3296 - accuracy: 0.8571Epoch 15/100\n",
      "720/720 [==============================] - 1s 2ms/step - loss: 0.3451 - accuracy: 0.8633\n",
      "Epoch 15/100\n",
      "720/720 [==============================] - 1s 1ms/step - loss: 0.3429 - accuracy: 0.8611\n",
      "337/720 [=============>................] - ETA: 0s - loss: 0.3356 - accuracy: 0.8659Epoch 15/100\n",
      "720/720 [==============================] - 1s 2ms/step - loss: 0.3370 - accuracy: 0.8604\n",
      "606/720 [========================>.....] - ETA: 0s - loss: 0.3428 - accuracy: 0.8583Epoch 16/100\n",
      "720/720 [==============================] - 1s 1ms/step - loss: 0.3447 - accuracy: 0.8615\n",
      "Epoch 16/100\n",
      "720/720 [==============================] - 1s 2ms/step - loss: 0.3366 - accuracy: 0.8626\n",
      "Epoch 16/100\n",
      "720/720 [==============================] - 1s 2ms/step - loss: 0.3357 - accuracy: 0.8626\n",
      "669/720 [==========================>...] - ETA: 0s - loss: 0.3568 - accuracy: 0.8469Epoch 16/100\n",
      "720/720 [==============================] - 1s 2ms/step - loss: 0.3417 - accuracy: 0.8604\n",
      "591/720 [=======================>......] - ETA: 0s - loss: 0.3404 - accuracy: 0.8613Epoch 16/100\n",
      "720/720 [==============================] - 1s 2ms/step - loss: 0.3554 - accuracy: 0.8471\n",
      "612/720 [========================>.....] - ETA: 0s - loss: 0.3406 - accuracy: 0.8598Epoch 16/100\n",
      "720/720 [==============================] - 1s 2ms/step - loss: 0.3439 - accuracy: 0.8601\n",
      "Epoch 16/100\n",
      "720/720 [==============================] - 1s 1ms/step - loss: 0.3425 - accuracy: 0.8596\n",
      "170/720 [======>.......................] - ETA: 0s - loss: 0.3336 - accuracy: 0.8694Epoch 16/100\n",
      "720/720 [==============================] - 1s 2ms/step - loss: 0.3366 - accuracy: 0.8599\n",
      "Epoch 17/100\n",
      "720/720 [==============================] - 1s 2ms/step - loss: 0.3448 - accuracy: 0.8617\n",
      "478/720 [==================>...........] - ETA: 0s - loss: 0.3558 - accuracy: 0.8479Epoch 17/100\n",
      "565/720 [======================>.......] - ETA: 0s - loss: 0.3396 - accuracy: 0.8591"
     ]
    },
    {
     "ename": "KeyboardInterrupt",
     "evalue": "",
     "output_type": "error",
     "traceback": [
      "\u001b[0;31m---------------------------------------------------------------------------\u001b[0m",
      "\u001b[0;31mKeyboardInterrupt\u001b[0m                         Traceback (most recent call last)",
      "Input \u001b[0;32mIn [32]\u001b[0m, in \u001b[0;36m<module>\u001b[0;34m\u001b[0m\n\u001b[1;32m      3\u001b[0m \u001b[38;5;28;01mfrom\u001b[39;00m \u001b[38;5;21;01msklearn\u001b[39;00m\u001b[38;5;21;01m.\u001b[39;00m\u001b[38;5;21;01mmodel_selection\u001b[39;00m \u001b[38;5;28;01mimport\u001b[39;00m cross_val_score\n\u001b[1;32m      4\u001b[0m clf \u001b[38;5;241m=\u001b[39m KerasClassifier(build_fn\u001b[38;5;241m=\u001b[39mbuild_ann_clf, batch_size\u001b[38;5;241m=\u001b[39m\u001b[38;5;241m10\u001b[39m, epochs\u001b[38;5;241m=\u001b[39m\u001b[38;5;241m100\u001b[39m)\n\u001b[0;32m----> 5\u001b[0m acc \u001b[38;5;241m=\u001b[39m \u001b[43mcross_val_score\u001b[49m\u001b[43m(\u001b[49m\u001b[43mestimator\u001b[49m\u001b[38;5;241;43m=\u001b[39;49m\u001b[43mclf\u001b[49m\u001b[43m,\u001b[49m\u001b[43m \u001b[49m\u001b[43mX\u001b[49m\u001b[38;5;241;43m=\u001b[39;49m\u001b[43mX_train_pp\u001b[49m\u001b[43m,\u001b[49m\u001b[43m \u001b[49m\u001b[43my\u001b[49m\u001b[38;5;241;43m=\u001b[39;49m\u001b[43my_train\u001b[49m\u001b[43m,\u001b[49m\u001b[43m \u001b[49m\u001b[43mcv\u001b[49m\u001b[38;5;241;43m=\u001b[39;49m\u001b[38;5;241;43m10\u001b[39;49m\u001b[43m,\u001b[49m\u001b[43m \u001b[49m\u001b[43mn_jobs\u001b[49m\u001b[38;5;241;43m=\u001b[39;49m\u001b[38;5;241;43m-\u001b[39;49m\u001b[38;5;241;43m1\u001b[39;49m\u001b[43m)\u001b[49m\n\u001b[1;32m      6\u001b[0m acc\n",
      "File \u001b[0;32m~/anaconda3/lib/python3.8/site-packages/sklearn/model_selection/_validation.py:509\u001b[0m, in \u001b[0;36mcross_val_score\u001b[0;34m(estimator, X, y, groups, scoring, cv, n_jobs, verbose, fit_params, pre_dispatch, error_score)\u001b[0m\n\u001b[1;32m    506\u001b[0m \u001b[38;5;66;03m# To ensure multimetric format is not supported\u001b[39;00m\n\u001b[1;32m    507\u001b[0m scorer \u001b[38;5;241m=\u001b[39m check_scoring(estimator, scoring\u001b[38;5;241m=\u001b[39mscoring)\n\u001b[0;32m--> 509\u001b[0m cv_results \u001b[38;5;241m=\u001b[39m \u001b[43mcross_validate\u001b[49m\u001b[43m(\u001b[49m\n\u001b[1;32m    510\u001b[0m \u001b[43m    \u001b[49m\u001b[43mestimator\u001b[49m\u001b[38;5;241;43m=\u001b[39;49m\u001b[43mestimator\u001b[49m\u001b[43m,\u001b[49m\n\u001b[1;32m    511\u001b[0m \u001b[43m    \u001b[49m\u001b[43mX\u001b[49m\u001b[38;5;241;43m=\u001b[39;49m\u001b[43mX\u001b[49m\u001b[43m,\u001b[49m\n\u001b[1;32m    512\u001b[0m \u001b[43m    \u001b[49m\u001b[43my\u001b[49m\u001b[38;5;241;43m=\u001b[39;49m\u001b[43my\u001b[49m\u001b[43m,\u001b[49m\n\u001b[1;32m    513\u001b[0m \u001b[43m    \u001b[49m\u001b[43mgroups\u001b[49m\u001b[38;5;241;43m=\u001b[39;49m\u001b[43mgroups\u001b[49m\u001b[43m,\u001b[49m\n\u001b[1;32m    514\u001b[0m \u001b[43m    \u001b[49m\u001b[43mscoring\u001b[49m\u001b[38;5;241;43m=\u001b[39;49m\u001b[43m{\u001b[49m\u001b[38;5;124;43m\"\u001b[39;49m\u001b[38;5;124;43mscore\u001b[39;49m\u001b[38;5;124;43m\"\u001b[39;49m\u001b[43m:\u001b[49m\u001b[43m \u001b[49m\u001b[43mscorer\u001b[49m\u001b[43m}\u001b[49m\u001b[43m,\u001b[49m\n\u001b[1;32m    515\u001b[0m \u001b[43m    \u001b[49m\u001b[43mcv\u001b[49m\u001b[38;5;241;43m=\u001b[39;49m\u001b[43mcv\u001b[49m\u001b[43m,\u001b[49m\n\u001b[1;32m    516\u001b[0m \u001b[43m    \u001b[49m\u001b[43mn_jobs\u001b[49m\u001b[38;5;241;43m=\u001b[39;49m\u001b[43mn_jobs\u001b[49m\u001b[43m,\u001b[49m\n\u001b[1;32m    517\u001b[0m \u001b[43m    \u001b[49m\u001b[43mverbose\u001b[49m\u001b[38;5;241;43m=\u001b[39;49m\u001b[43mverbose\u001b[49m\u001b[43m,\u001b[49m\n\u001b[1;32m    518\u001b[0m \u001b[43m    \u001b[49m\u001b[43mfit_params\u001b[49m\u001b[38;5;241;43m=\u001b[39;49m\u001b[43mfit_params\u001b[49m\u001b[43m,\u001b[49m\n\u001b[1;32m    519\u001b[0m \u001b[43m    \u001b[49m\u001b[43mpre_dispatch\u001b[49m\u001b[38;5;241;43m=\u001b[39;49m\u001b[43mpre_dispatch\u001b[49m\u001b[43m,\u001b[49m\n\u001b[1;32m    520\u001b[0m \u001b[43m    \u001b[49m\u001b[43merror_score\u001b[49m\u001b[38;5;241;43m=\u001b[39;49m\u001b[43merror_score\u001b[49m\u001b[43m,\u001b[49m\n\u001b[1;32m    521\u001b[0m \u001b[43m\u001b[49m\u001b[43m)\u001b[49m\n\u001b[1;32m    522\u001b[0m \u001b[38;5;28;01mreturn\u001b[39;00m cv_results[\u001b[38;5;124m\"\u001b[39m\u001b[38;5;124mtest_score\u001b[39m\u001b[38;5;124m\"\u001b[39m]\n",
      "File \u001b[0;32m~/anaconda3/lib/python3.8/site-packages/sklearn/model_selection/_validation.py:267\u001b[0m, in \u001b[0;36mcross_validate\u001b[0;34m(estimator, X, y, groups, scoring, cv, n_jobs, verbose, fit_params, pre_dispatch, return_train_score, return_estimator, error_score)\u001b[0m\n\u001b[1;32m    264\u001b[0m \u001b[38;5;66;03m# We clone the estimator to make sure that all the folds are\u001b[39;00m\n\u001b[1;32m    265\u001b[0m \u001b[38;5;66;03m# independent, and that it is pickle-able.\u001b[39;00m\n\u001b[1;32m    266\u001b[0m parallel \u001b[38;5;241m=\u001b[39m Parallel(n_jobs\u001b[38;5;241m=\u001b[39mn_jobs, verbose\u001b[38;5;241m=\u001b[39mverbose, pre_dispatch\u001b[38;5;241m=\u001b[39mpre_dispatch)\n\u001b[0;32m--> 267\u001b[0m results \u001b[38;5;241m=\u001b[39m \u001b[43mparallel\u001b[49m\u001b[43m(\u001b[49m\n\u001b[1;32m    268\u001b[0m \u001b[43m    \u001b[49m\u001b[43mdelayed\u001b[49m\u001b[43m(\u001b[49m\u001b[43m_fit_and_score\u001b[49m\u001b[43m)\u001b[49m\u001b[43m(\u001b[49m\n\u001b[1;32m    269\u001b[0m \u001b[43m        \u001b[49m\u001b[43mclone\u001b[49m\u001b[43m(\u001b[49m\u001b[43mestimator\u001b[49m\u001b[43m)\u001b[49m\u001b[43m,\u001b[49m\n\u001b[1;32m    270\u001b[0m \u001b[43m        \u001b[49m\u001b[43mX\u001b[49m\u001b[43m,\u001b[49m\n\u001b[1;32m    271\u001b[0m \u001b[43m        \u001b[49m\u001b[43my\u001b[49m\u001b[43m,\u001b[49m\n\u001b[1;32m    272\u001b[0m \u001b[43m        \u001b[49m\u001b[43mscorers\u001b[49m\u001b[43m,\u001b[49m\n\u001b[1;32m    273\u001b[0m \u001b[43m        \u001b[49m\u001b[43mtrain\u001b[49m\u001b[43m,\u001b[49m\n\u001b[1;32m    274\u001b[0m \u001b[43m        \u001b[49m\u001b[43mtest\u001b[49m\u001b[43m,\u001b[49m\n\u001b[1;32m    275\u001b[0m \u001b[43m        \u001b[49m\u001b[43mverbose\u001b[49m\u001b[43m,\u001b[49m\n\u001b[1;32m    276\u001b[0m \u001b[43m        \u001b[49m\u001b[38;5;28;43;01mNone\u001b[39;49;00m\u001b[43m,\u001b[49m\n\u001b[1;32m    277\u001b[0m \u001b[43m        \u001b[49m\u001b[43mfit_params\u001b[49m\u001b[43m,\u001b[49m\n\u001b[1;32m    278\u001b[0m \u001b[43m        \u001b[49m\u001b[43mreturn_train_score\u001b[49m\u001b[38;5;241;43m=\u001b[39;49m\u001b[43mreturn_train_score\u001b[49m\u001b[43m,\u001b[49m\n\u001b[1;32m    279\u001b[0m \u001b[43m        \u001b[49m\u001b[43mreturn_times\u001b[49m\u001b[38;5;241;43m=\u001b[39;49m\u001b[38;5;28;43;01mTrue\u001b[39;49;00m\u001b[43m,\u001b[49m\n\u001b[1;32m    280\u001b[0m \u001b[43m        \u001b[49m\u001b[43mreturn_estimator\u001b[49m\u001b[38;5;241;43m=\u001b[39;49m\u001b[43mreturn_estimator\u001b[49m\u001b[43m,\u001b[49m\n\u001b[1;32m    281\u001b[0m \u001b[43m        \u001b[49m\u001b[43merror_score\u001b[49m\u001b[38;5;241;43m=\u001b[39;49m\u001b[43merror_score\u001b[49m\u001b[43m,\u001b[49m\n\u001b[1;32m    282\u001b[0m \u001b[43m    \u001b[49m\u001b[43m)\u001b[49m\n\u001b[1;32m    283\u001b[0m \u001b[43m    \u001b[49m\u001b[38;5;28;43;01mfor\u001b[39;49;00m\u001b[43m \u001b[49m\u001b[43mtrain\u001b[49m\u001b[43m,\u001b[49m\u001b[43m \u001b[49m\u001b[43mtest\u001b[49m\u001b[43m \u001b[49m\u001b[38;5;129;43;01min\u001b[39;49;00m\u001b[43m \u001b[49m\u001b[43mcv\u001b[49m\u001b[38;5;241;43m.\u001b[39;49m\u001b[43msplit\u001b[49m\u001b[43m(\u001b[49m\u001b[43mX\u001b[49m\u001b[43m,\u001b[49m\u001b[43m \u001b[49m\u001b[43my\u001b[49m\u001b[43m,\u001b[49m\u001b[43m \u001b[49m\u001b[43mgroups\u001b[49m\u001b[43m)\u001b[49m\n\u001b[1;32m    284\u001b[0m \u001b[43m\u001b[49m\u001b[43m)\u001b[49m\n\u001b[1;32m    286\u001b[0m _warn_about_fit_failures(results, error_score)\n\u001b[1;32m    288\u001b[0m \u001b[38;5;66;03m# For callabe scoring, the return type is only know after calling. If the\u001b[39;00m\n\u001b[1;32m    289\u001b[0m \u001b[38;5;66;03m# return type is a dictionary, the error scores can now be inserted with\u001b[39;00m\n\u001b[1;32m    290\u001b[0m \u001b[38;5;66;03m# the correct key.\u001b[39;00m\n",
      "File \u001b[0;32m~/anaconda3/lib/python3.8/site-packages/joblib/parallel.py:1056\u001b[0m, in \u001b[0;36mParallel.__call__\u001b[0;34m(self, iterable)\u001b[0m\n\u001b[1;32m   1053\u001b[0m     \u001b[38;5;28mself\u001b[39m\u001b[38;5;241m.\u001b[39m_iterating \u001b[38;5;241m=\u001b[39m \u001b[38;5;28;01mFalse\u001b[39;00m\n\u001b[1;32m   1055\u001b[0m \u001b[38;5;28;01mwith\u001b[39;00m \u001b[38;5;28mself\u001b[39m\u001b[38;5;241m.\u001b[39m_backend\u001b[38;5;241m.\u001b[39mretrieval_context():\n\u001b[0;32m-> 1056\u001b[0m     \u001b[38;5;28;43mself\u001b[39;49m\u001b[38;5;241;43m.\u001b[39;49m\u001b[43mretrieve\u001b[49m\u001b[43m(\u001b[49m\u001b[43m)\u001b[49m\n\u001b[1;32m   1057\u001b[0m \u001b[38;5;66;03m# Make sure that we get a last message telling us we are done\u001b[39;00m\n\u001b[1;32m   1058\u001b[0m elapsed_time \u001b[38;5;241m=\u001b[39m time\u001b[38;5;241m.\u001b[39mtime() \u001b[38;5;241m-\u001b[39m \u001b[38;5;28mself\u001b[39m\u001b[38;5;241m.\u001b[39m_start_time\n",
      "File \u001b[0;32m~/anaconda3/lib/python3.8/site-packages/joblib/parallel.py:935\u001b[0m, in \u001b[0;36mParallel.retrieve\u001b[0;34m(self)\u001b[0m\n\u001b[1;32m    933\u001b[0m \u001b[38;5;28;01mtry\u001b[39;00m:\n\u001b[1;32m    934\u001b[0m     \u001b[38;5;28;01mif\u001b[39;00m \u001b[38;5;28mgetattr\u001b[39m(\u001b[38;5;28mself\u001b[39m\u001b[38;5;241m.\u001b[39m_backend, \u001b[38;5;124m'\u001b[39m\u001b[38;5;124msupports_timeout\u001b[39m\u001b[38;5;124m'\u001b[39m, \u001b[38;5;28;01mFalse\u001b[39;00m):\n\u001b[0;32m--> 935\u001b[0m         \u001b[38;5;28mself\u001b[39m\u001b[38;5;241m.\u001b[39m_output\u001b[38;5;241m.\u001b[39mextend(\u001b[43mjob\u001b[49m\u001b[38;5;241;43m.\u001b[39;49m\u001b[43mget\u001b[49m\u001b[43m(\u001b[49m\u001b[43mtimeout\u001b[49m\u001b[38;5;241;43m=\u001b[39;49m\u001b[38;5;28;43mself\u001b[39;49m\u001b[38;5;241;43m.\u001b[39;49m\u001b[43mtimeout\u001b[49m\u001b[43m)\u001b[49m)\n\u001b[1;32m    936\u001b[0m     \u001b[38;5;28;01melse\u001b[39;00m:\n\u001b[1;32m    937\u001b[0m         \u001b[38;5;28mself\u001b[39m\u001b[38;5;241m.\u001b[39m_output\u001b[38;5;241m.\u001b[39mextend(job\u001b[38;5;241m.\u001b[39mget())\n",
      "File \u001b[0;32m~/anaconda3/lib/python3.8/site-packages/joblib/_parallel_backends.py:542\u001b[0m, in \u001b[0;36mLokyBackend.wrap_future_result\u001b[0;34m(future, timeout)\u001b[0m\n\u001b[1;32m    539\u001b[0m \u001b[38;5;124;03m\"\"\"Wrapper for Future.result to implement the same behaviour as\u001b[39;00m\n\u001b[1;32m    540\u001b[0m \u001b[38;5;124;03mAsyncResults.get from multiprocessing.\"\"\"\u001b[39;00m\n\u001b[1;32m    541\u001b[0m \u001b[38;5;28;01mtry\u001b[39;00m:\n\u001b[0;32m--> 542\u001b[0m     \u001b[38;5;28;01mreturn\u001b[39;00m \u001b[43mfuture\u001b[49m\u001b[38;5;241;43m.\u001b[39;49m\u001b[43mresult\u001b[49m\u001b[43m(\u001b[49m\u001b[43mtimeout\u001b[49m\u001b[38;5;241;43m=\u001b[39;49m\u001b[43mtimeout\u001b[49m\u001b[43m)\u001b[49m\n\u001b[1;32m    543\u001b[0m \u001b[38;5;28;01mexcept\u001b[39;00m CfTimeoutError \u001b[38;5;28;01mas\u001b[39;00m e:\n\u001b[1;32m    544\u001b[0m     \u001b[38;5;28;01mraise\u001b[39;00m \u001b[38;5;167;01mTimeoutError\u001b[39;00m \u001b[38;5;28;01mfrom\u001b[39;00m \u001b[38;5;21;01me\u001b[39;00m\n",
      "File \u001b[0;32m~/anaconda3/lib/python3.8/concurrent/futures/_base.py:439\u001b[0m, in \u001b[0;36mFuture.result\u001b[0;34m(self, timeout)\u001b[0m\n\u001b[1;32m    436\u001b[0m \u001b[38;5;28;01melif\u001b[39;00m \u001b[38;5;28mself\u001b[39m\u001b[38;5;241m.\u001b[39m_state \u001b[38;5;241m==\u001b[39m FINISHED:\n\u001b[1;32m    437\u001b[0m     \u001b[38;5;28;01mreturn\u001b[39;00m \u001b[38;5;28mself\u001b[39m\u001b[38;5;241m.\u001b[39m__get_result()\n\u001b[0;32m--> 439\u001b[0m \u001b[38;5;28;43mself\u001b[39;49m\u001b[38;5;241;43m.\u001b[39;49m\u001b[43m_condition\u001b[49m\u001b[38;5;241;43m.\u001b[39;49m\u001b[43mwait\u001b[49m\u001b[43m(\u001b[49m\u001b[43mtimeout\u001b[49m\u001b[43m)\u001b[49m\n\u001b[1;32m    441\u001b[0m \u001b[38;5;28;01mif\u001b[39;00m \u001b[38;5;28mself\u001b[39m\u001b[38;5;241m.\u001b[39m_state \u001b[38;5;129;01min\u001b[39;00m [CANCELLED, CANCELLED_AND_NOTIFIED]:\n\u001b[1;32m    442\u001b[0m     \u001b[38;5;28;01mraise\u001b[39;00m CancelledError()\n",
      "File \u001b[0;32m~/anaconda3/lib/python3.8/threading.py:302\u001b[0m, in \u001b[0;36mCondition.wait\u001b[0;34m(self, timeout)\u001b[0m\n\u001b[1;32m    300\u001b[0m \u001b[38;5;28;01mtry\u001b[39;00m:    \u001b[38;5;66;03m# restore state no matter what (e.g., KeyboardInterrupt)\u001b[39;00m\n\u001b[1;32m    301\u001b[0m     \u001b[38;5;28;01mif\u001b[39;00m timeout \u001b[38;5;129;01mis\u001b[39;00m \u001b[38;5;28;01mNone\u001b[39;00m:\n\u001b[0;32m--> 302\u001b[0m         \u001b[43mwaiter\u001b[49m\u001b[38;5;241;43m.\u001b[39;49m\u001b[43macquire\u001b[49m\u001b[43m(\u001b[49m\u001b[43m)\u001b[49m\n\u001b[1;32m    303\u001b[0m         gotit \u001b[38;5;241m=\u001b[39m \u001b[38;5;28;01mTrue\u001b[39;00m\n\u001b[1;32m    304\u001b[0m     \u001b[38;5;28;01melse\u001b[39;00m:\n",
      "\u001b[0;31mKeyboardInterrupt\u001b[0m: "
     ]
    }
   ],
   "source": [
    "# création d'un wrapper pour utiliser le modèle keras dans sklearn\n",
    "from keras.wrappers.scikit_learn import KerasClassifier\n",
    "from sklearn.model_selection import cross_val_score\n",
    "clf = KerasClassifier(build_fn=build_ann_clf, batch_size=10, epochs=100)\n",
    "acc = cross_val_score(estimator=clf, X=X_train_pp, y=y_train, cv=10, n_jobs=-1)\n",
    "acc"
   ]
  },
  {
   "cell_type": "code",
   "execution_count": 25,
   "metadata": {},
   "outputs": [
    {
     "data": {
      "text/plain": [
       "(0.8599999964237213, 0.008732134188685693)"
      ]
     },
     "execution_count": 25,
     "metadata": {},
     "output_type": "execute_result"
    }
   ],
   "source": [
    "acc.mean(), acc.std()"
   ]
  },
  {
   "cell_type": "code",
   "execution_count": 29,
   "metadata": {},
   "outputs": [
    {
     "ename": "KeyboardInterrupt",
     "evalue": "",
     "output_type": "error",
     "traceback": [
      "\u001b[0;31m---------------------------------------------------------------------------\u001b[0m",
      "\u001b[0;31mKeyboardInterrupt\u001b[0m                         Traceback (most recent call last)",
      "Input \u001b[0;32mIn [29]\u001b[0m, in \u001b[0;36m<module>\u001b[0;34m\u001b[0m\n\u001b[1;32m      5\u001b[0m parametres \u001b[38;5;241m=\u001b[39m {\n\u001b[1;32m      6\u001b[0m     \u001b[38;5;124m'\u001b[39m\u001b[38;5;124mbatch_size\u001b[39m\u001b[38;5;124m'\u001b[39m : [\u001b[38;5;241m5\u001b[39m, \u001b[38;5;241m10\u001b[39m, \u001b[38;5;241m25\u001b[39m],\n\u001b[1;32m      7\u001b[0m     \u001b[38;5;124m'\u001b[39m\u001b[38;5;124mepochs\u001b[39m\u001b[38;5;124m'\u001b[39m: [\u001b[38;5;241m100\u001b[39m, \u001b[38;5;241m150\u001b[39m],\n\u001b[1;32m      8\u001b[0m     \u001b[38;5;124m'\u001b[39m\u001b[38;5;124moptimizer\u001b[39m\u001b[38;5;124m'\u001b[39m : [\u001b[38;5;124m'\u001b[39m\u001b[38;5;124madam\u001b[39m\u001b[38;5;124m'\u001b[39m, \u001b[38;5;124m'\u001b[39m\u001b[38;5;124mrmsprop\u001b[39m\u001b[38;5;124m'\u001b[39m]\n\u001b[1;32m      9\u001b[0m }\n\u001b[1;32m     11\u001b[0m grid \u001b[38;5;241m=\u001b[39m GridSearchCV(estimator\u001b[38;5;241m=\u001b[39mclf, param_grid\u001b[38;5;241m=\u001b[39mparametres, scoring\u001b[38;5;241m=\u001b[39m\u001b[38;5;124m'\u001b[39m\u001b[38;5;124maccuracy\u001b[39m\u001b[38;5;124m'\u001b[39m, cv\u001b[38;5;241m=\u001b[39m\u001b[38;5;241m8\u001b[39m)\n\u001b[0;32m---> 12\u001b[0m grid \u001b[38;5;241m=\u001b[39m \u001b[43mgrid\u001b[49m\u001b[38;5;241;43m.\u001b[39;49m\u001b[43mfit\u001b[49m\u001b[43m(\u001b[49m\u001b[43mX_train_pp\u001b[49m\u001b[43m,\u001b[49m\u001b[43m \u001b[49m\u001b[43my_train\u001b[49m\u001b[43m,\u001b[49m\u001b[43m \u001b[49m\u001b[43mverbose\u001b[49m\u001b[38;5;241;43m=\u001b[39;49m\u001b[38;5;241;43m0\u001b[39;49m\u001b[43m)\u001b[49m\n\u001b[1;32m     13\u001b[0m grid\u001b[38;5;241m.\u001b[39mbest_params_, grid\u001b[38;5;241m.\u001b[39mbest_score_\n",
      "File \u001b[0;32m~/anaconda3/lib/python3.8/site-packages/sklearn/model_selection/_search.py:891\u001b[0m, in \u001b[0;36mBaseSearchCV.fit\u001b[0;34m(self, X, y, groups, **fit_params)\u001b[0m\n\u001b[1;32m    885\u001b[0m     results \u001b[38;5;241m=\u001b[39m \u001b[38;5;28mself\u001b[39m\u001b[38;5;241m.\u001b[39m_format_results(\n\u001b[1;32m    886\u001b[0m         all_candidate_params, n_splits, all_out, all_more_results\n\u001b[1;32m    887\u001b[0m     )\n\u001b[1;32m    889\u001b[0m     \u001b[38;5;28;01mreturn\u001b[39;00m results\n\u001b[0;32m--> 891\u001b[0m \u001b[38;5;28;43mself\u001b[39;49m\u001b[38;5;241;43m.\u001b[39;49m\u001b[43m_run_search\u001b[49m\u001b[43m(\u001b[49m\u001b[43mevaluate_candidates\u001b[49m\u001b[43m)\u001b[49m\n\u001b[1;32m    893\u001b[0m \u001b[38;5;66;03m# multimetric is determined here because in the case of a callable\u001b[39;00m\n\u001b[1;32m    894\u001b[0m \u001b[38;5;66;03m# self.scoring the return type is only known after calling\u001b[39;00m\n\u001b[1;32m    895\u001b[0m first_test_score \u001b[38;5;241m=\u001b[39m all_out[\u001b[38;5;241m0\u001b[39m][\u001b[38;5;124m\"\u001b[39m\u001b[38;5;124mtest_scores\u001b[39m\u001b[38;5;124m\"\u001b[39m]\n",
      "File \u001b[0;32m~/anaconda3/lib/python3.8/site-packages/sklearn/model_selection/_search.py:1392\u001b[0m, in \u001b[0;36mGridSearchCV._run_search\u001b[0;34m(self, evaluate_candidates)\u001b[0m\n\u001b[1;32m   1390\u001b[0m \u001b[38;5;28;01mdef\u001b[39;00m \u001b[38;5;21m_run_search\u001b[39m(\u001b[38;5;28mself\u001b[39m, evaluate_candidates):\n\u001b[1;32m   1391\u001b[0m     \u001b[38;5;124;03m\"\"\"Search all candidates in param_grid\"\"\"\u001b[39;00m\n\u001b[0;32m-> 1392\u001b[0m     \u001b[43mevaluate_candidates\u001b[49m\u001b[43m(\u001b[49m\u001b[43mParameterGrid\u001b[49m\u001b[43m(\u001b[49m\u001b[38;5;28;43mself\u001b[39;49m\u001b[38;5;241;43m.\u001b[39;49m\u001b[43mparam_grid\u001b[49m\u001b[43m)\u001b[49m\u001b[43m)\u001b[49m\n",
      "File \u001b[0;32m~/anaconda3/lib/python3.8/site-packages/sklearn/model_selection/_search.py:838\u001b[0m, in \u001b[0;36mBaseSearchCV.fit.<locals>.evaluate_candidates\u001b[0;34m(candidate_params, cv, more_results)\u001b[0m\n\u001b[1;32m    830\u001b[0m \u001b[38;5;28;01mif\u001b[39;00m \u001b[38;5;28mself\u001b[39m\u001b[38;5;241m.\u001b[39mverbose \u001b[38;5;241m>\u001b[39m \u001b[38;5;241m0\u001b[39m:\n\u001b[1;32m    831\u001b[0m     \u001b[38;5;28mprint\u001b[39m(\n\u001b[1;32m    832\u001b[0m         \u001b[38;5;124m\"\u001b[39m\u001b[38;5;124mFitting \u001b[39m\u001b[38;5;132;01m{0}\u001b[39;00m\u001b[38;5;124m folds for each of \u001b[39m\u001b[38;5;132;01m{1}\u001b[39;00m\u001b[38;5;124m candidates,\u001b[39m\u001b[38;5;124m\"\u001b[39m\n\u001b[1;32m    833\u001b[0m         \u001b[38;5;124m\"\u001b[39m\u001b[38;5;124m totalling \u001b[39m\u001b[38;5;132;01m{2}\u001b[39;00m\u001b[38;5;124m fits\u001b[39m\u001b[38;5;124m\"\u001b[39m\u001b[38;5;241m.\u001b[39mformat(\n\u001b[1;32m    834\u001b[0m             n_splits, n_candidates, n_candidates \u001b[38;5;241m*\u001b[39m n_splits\n\u001b[1;32m    835\u001b[0m         )\n\u001b[1;32m    836\u001b[0m     )\n\u001b[0;32m--> 838\u001b[0m out \u001b[38;5;241m=\u001b[39m \u001b[43mparallel\u001b[49m\u001b[43m(\u001b[49m\n\u001b[1;32m    839\u001b[0m \u001b[43m    \u001b[49m\u001b[43mdelayed\u001b[49m\u001b[43m(\u001b[49m\u001b[43m_fit_and_score\u001b[49m\u001b[43m)\u001b[49m\u001b[43m(\u001b[49m\n\u001b[1;32m    840\u001b[0m \u001b[43m        \u001b[49m\u001b[43mclone\u001b[49m\u001b[43m(\u001b[49m\u001b[43mbase_estimator\u001b[49m\u001b[43m)\u001b[49m\u001b[43m,\u001b[49m\n\u001b[1;32m    841\u001b[0m \u001b[43m        \u001b[49m\u001b[43mX\u001b[49m\u001b[43m,\u001b[49m\n\u001b[1;32m    842\u001b[0m \u001b[43m        \u001b[49m\u001b[43my\u001b[49m\u001b[43m,\u001b[49m\n\u001b[1;32m    843\u001b[0m \u001b[43m        \u001b[49m\u001b[43mtrain\u001b[49m\u001b[38;5;241;43m=\u001b[39;49m\u001b[43mtrain\u001b[49m\u001b[43m,\u001b[49m\n\u001b[1;32m    844\u001b[0m \u001b[43m        \u001b[49m\u001b[43mtest\u001b[49m\u001b[38;5;241;43m=\u001b[39;49m\u001b[43mtest\u001b[49m\u001b[43m,\u001b[49m\n\u001b[1;32m    845\u001b[0m \u001b[43m        \u001b[49m\u001b[43mparameters\u001b[49m\u001b[38;5;241;43m=\u001b[39;49m\u001b[43mparameters\u001b[49m\u001b[43m,\u001b[49m\n\u001b[1;32m    846\u001b[0m \u001b[43m        \u001b[49m\u001b[43msplit_progress\u001b[49m\u001b[38;5;241;43m=\u001b[39;49m\u001b[43m(\u001b[49m\u001b[43msplit_idx\u001b[49m\u001b[43m,\u001b[49m\u001b[43m \u001b[49m\u001b[43mn_splits\u001b[49m\u001b[43m)\u001b[49m\u001b[43m,\u001b[49m\n\u001b[1;32m    847\u001b[0m \u001b[43m        \u001b[49m\u001b[43mcandidate_progress\u001b[49m\u001b[38;5;241;43m=\u001b[39;49m\u001b[43m(\u001b[49m\u001b[43mcand_idx\u001b[49m\u001b[43m,\u001b[49m\u001b[43m \u001b[49m\u001b[43mn_candidates\u001b[49m\u001b[43m)\u001b[49m\u001b[43m,\u001b[49m\n\u001b[1;32m    848\u001b[0m \u001b[43m        \u001b[49m\u001b[38;5;241;43m*\u001b[39;49m\u001b[38;5;241;43m*\u001b[39;49m\u001b[43mfit_and_score_kwargs\u001b[49m\u001b[43m,\u001b[49m\n\u001b[1;32m    849\u001b[0m \u001b[43m    \u001b[49m\u001b[43m)\u001b[49m\n\u001b[1;32m    850\u001b[0m \u001b[43m    \u001b[49m\u001b[38;5;28;43;01mfor\u001b[39;49;00m\u001b[43m \u001b[49m\u001b[43m(\u001b[49m\u001b[43mcand_idx\u001b[49m\u001b[43m,\u001b[49m\u001b[43m \u001b[49m\u001b[43mparameters\u001b[49m\u001b[43m)\u001b[49m\u001b[43m,\u001b[49m\u001b[43m \u001b[49m\u001b[43m(\u001b[49m\u001b[43msplit_idx\u001b[49m\u001b[43m,\u001b[49m\u001b[43m \u001b[49m\u001b[43m(\u001b[49m\u001b[43mtrain\u001b[49m\u001b[43m,\u001b[49m\u001b[43m \u001b[49m\u001b[43mtest\u001b[49m\u001b[43m)\u001b[49m\u001b[43m)\u001b[49m\u001b[43m \u001b[49m\u001b[38;5;129;43;01min\u001b[39;49;00m\u001b[43m \u001b[49m\u001b[43mproduct\u001b[49m\u001b[43m(\u001b[49m\n\u001b[1;32m    851\u001b[0m \u001b[43m        \u001b[49m\u001b[38;5;28;43menumerate\u001b[39;49m\u001b[43m(\u001b[49m\u001b[43mcandidate_params\u001b[49m\u001b[43m)\u001b[49m\u001b[43m,\u001b[49m\u001b[43m \u001b[49m\u001b[38;5;28;43menumerate\u001b[39;49m\u001b[43m(\u001b[49m\u001b[43mcv\u001b[49m\u001b[38;5;241;43m.\u001b[39;49m\u001b[43msplit\u001b[49m\u001b[43m(\u001b[49m\u001b[43mX\u001b[49m\u001b[43m,\u001b[49m\u001b[43m \u001b[49m\u001b[43my\u001b[49m\u001b[43m,\u001b[49m\u001b[43m \u001b[49m\u001b[43mgroups\u001b[49m\u001b[43m)\u001b[49m\u001b[43m)\u001b[49m\n\u001b[1;32m    852\u001b[0m \u001b[43m    \u001b[49m\u001b[43m)\u001b[49m\n\u001b[1;32m    853\u001b[0m \u001b[43m\u001b[49m\u001b[43m)\u001b[49m\n\u001b[1;32m    855\u001b[0m \u001b[38;5;28;01mif\u001b[39;00m \u001b[38;5;28mlen\u001b[39m(out) \u001b[38;5;241m<\u001b[39m \u001b[38;5;241m1\u001b[39m:\n\u001b[1;32m    856\u001b[0m     \u001b[38;5;28;01mraise\u001b[39;00m \u001b[38;5;167;01mValueError\u001b[39;00m(\n\u001b[1;32m    857\u001b[0m         \u001b[38;5;124m\"\u001b[39m\u001b[38;5;124mNo fits were performed. \u001b[39m\u001b[38;5;124m\"\u001b[39m\n\u001b[1;32m    858\u001b[0m         \u001b[38;5;124m\"\u001b[39m\u001b[38;5;124mWas the CV iterator empty? \u001b[39m\u001b[38;5;124m\"\u001b[39m\n\u001b[1;32m    859\u001b[0m         \u001b[38;5;124m\"\u001b[39m\u001b[38;5;124mWere there no candidates?\u001b[39m\u001b[38;5;124m\"\u001b[39m\n\u001b[1;32m    860\u001b[0m     )\n",
      "File \u001b[0;32m~/anaconda3/lib/python3.8/site-packages/joblib/parallel.py:1043\u001b[0m, in \u001b[0;36mParallel.__call__\u001b[0;34m(self, iterable)\u001b[0m\n\u001b[1;32m   1034\u001b[0m \u001b[38;5;28;01mtry\u001b[39;00m:\n\u001b[1;32m   1035\u001b[0m     \u001b[38;5;66;03m# Only set self._iterating to True if at least a batch\u001b[39;00m\n\u001b[1;32m   1036\u001b[0m     \u001b[38;5;66;03m# was dispatched. In particular this covers the edge\u001b[39;00m\n\u001b[0;32m   (...)\u001b[0m\n\u001b[1;32m   1040\u001b[0m     \u001b[38;5;66;03m# was very quick and its callback already dispatched all the\u001b[39;00m\n\u001b[1;32m   1041\u001b[0m     \u001b[38;5;66;03m# remaining jobs.\u001b[39;00m\n\u001b[1;32m   1042\u001b[0m     \u001b[38;5;28mself\u001b[39m\u001b[38;5;241m.\u001b[39m_iterating \u001b[38;5;241m=\u001b[39m \u001b[38;5;28;01mFalse\u001b[39;00m\n\u001b[0;32m-> 1043\u001b[0m     \u001b[38;5;28;01mif\u001b[39;00m \u001b[38;5;28;43mself\u001b[39;49m\u001b[38;5;241;43m.\u001b[39;49m\u001b[43mdispatch_one_batch\u001b[49m\u001b[43m(\u001b[49m\u001b[43miterator\u001b[49m\u001b[43m)\u001b[49m:\n\u001b[1;32m   1044\u001b[0m         \u001b[38;5;28mself\u001b[39m\u001b[38;5;241m.\u001b[39m_iterating \u001b[38;5;241m=\u001b[39m \u001b[38;5;28mself\u001b[39m\u001b[38;5;241m.\u001b[39m_original_iterator \u001b[38;5;129;01mis\u001b[39;00m \u001b[38;5;129;01mnot\u001b[39;00m \u001b[38;5;28;01mNone\u001b[39;00m\n\u001b[1;32m   1046\u001b[0m     \u001b[38;5;28;01mwhile\u001b[39;00m \u001b[38;5;28mself\u001b[39m\u001b[38;5;241m.\u001b[39mdispatch_one_batch(iterator):\n",
      "File \u001b[0;32m~/anaconda3/lib/python3.8/site-packages/joblib/parallel.py:861\u001b[0m, in \u001b[0;36mParallel.dispatch_one_batch\u001b[0;34m(self, iterator)\u001b[0m\n\u001b[1;32m    859\u001b[0m     \u001b[38;5;28;01mreturn\u001b[39;00m \u001b[38;5;28;01mFalse\u001b[39;00m\n\u001b[1;32m    860\u001b[0m \u001b[38;5;28;01melse\u001b[39;00m:\n\u001b[0;32m--> 861\u001b[0m     \u001b[38;5;28;43mself\u001b[39;49m\u001b[38;5;241;43m.\u001b[39;49m\u001b[43m_dispatch\u001b[49m\u001b[43m(\u001b[49m\u001b[43mtasks\u001b[49m\u001b[43m)\u001b[49m\n\u001b[1;32m    862\u001b[0m     \u001b[38;5;28;01mreturn\u001b[39;00m \u001b[38;5;28;01mTrue\u001b[39;00m\n",
      "File \u001b[0;32m~/anaconda3/lib/python3.8/site-packages/joblib/parallel.py:779\u001b[0m, in \u001b[0;36mParallel._dispatch\u001b[0;34m(self, batch)\u001b[0m\n\u001b[1;32m    777\u001b[0m \u001b[38;5;28;01mwith\u001b[39;00m \u001b[38;5;28mself\u001b[39m\u001b[38;5;241m.\u001b[39m_lock:\n\u001b[1;32m    778\u001b[0m     job_idx \u001b[38;5;241m=\u001b[39m \u001b[38;5;28mlen\u001b[39m(\u001b[38;5;28mself\u001b[39m\u001b[38;5;241m.\u001b[39m_jobs)\n\u001b[0;32m--> 779\u001b[0m     job \u001b[38;5;241m=\u001b[39m \u001b[38;5;28;43mself\u001b[39;49m\u001b[38;5;241;43m.\u001b[39;49m\u001b[43m_backend\u001b[49m\u001b[38;5;241;43m.\u001b[39;49m\u001b[43mapply_async\u001b[49m\u001b[43m(\u001b[49m\u001b[43mbatch\u001b[49m\u001b[43m,\u001b[49m\u001b[43m \u001b[49m\u001b[43mcallback\u001b[49m\u001b[38;5;241;43m=\u001b[39;49m\u001b[43mcb\u001b[49m\u001b[43m)\u001b[49m\n\u001b[1;32m    780\u001b[0m     \u001b[38;5;66;03m# A job can complete so quickly than its callback is\u001b[39;00m\n\u001b[1;32m    781\u001b[0m     \u001b[38;5;66;03m# called before we get here, causing self._jobs to\u001b[39;00m\n\u001b[1;32m    782\u001b[0m     \u001b[38;5;66;03m# grow. To ensure correct results ordering, .insert is\u001b[39;00m\n\u001b[1;32m    783\u001b[0m     \u001b[38;5;66;03m# used (rather than .append) in the following line\u001b[39;00m\n\u001b[1;32m    784\u001b[0m     \u001b[38;5;28mself\u001b[39m\u001b[38;5;241m.\u001b[39m_jobs\u001b[38;5;241m.\u001b[39minsert(job_idx, job)\n",
      "File \u001b[0;32m~/anaconda3/lib/python3.8/site-packages/joblib/_parallel_backends.py:208\u001b[0m, in \u001b[0;36mSequentialBackend.apply_async\u001b[0;34m(self, func, callback)\u001b[0m\n\u001b[1;32m    206\u001b[0m \u001b[38;5;28;01mdef\u001b[39;00m \u001b[38;5;21mapply_async\u001b[39m(\u001b[38;5;28mself\u001b[39m, func, callback\u001b[38;5;241m=\u001b[39m\u001b[38;5;28;01mNone\u001b[39;00m):\n\u001b[1;32m    207\u001b[0m     \u001b[38;5;124;03m\"\"\"Schedule a func to be run\"\"\"\u001b[39;00m\n\u001b[0;32m--> 208\u001b[0m     result \u001b[38;5;241m=\u001b[39m \u001b[43mImmediateResult\u001b[49m\u001b[43m(\u001b[49m\u001b[43mfunc\u001b[49m\u001b[43m)\u001b[49m\n\u001b[1;32m    209\u001b[0m     \u001b[38;5;28;01mif\u001b[39;00m callback:\n\u001b[1;32m    210\u001b[0m         callback(result)\n",
      "File \u001b[0;32m~/anaconda3/lib/python3.8/site-packages/joblib/_parallel_backends.py:572\u001b[0m, in \u001b[0;36mImmediateResult.__init__\u001b[0;34m(self, batch)\u001b[0m\n\u001b[1;32m    569\u001b[0m \u001b[38;5;28;01mdef\u001b[39;00m \u001b[38;5;21m__init__\u001b[39m(\u001b[38;5;28mself\u001b[39m, batch):\n\u001b[1;32m    570\u001b[0m     \u001b[38;5;66;03m# Don't delay the application, to avoid keeping the input\u001b[39;00m\n\u001b[1;32m    571\u001b[0m     \u001b[38;5;66;03m# arguments in memory\u001b[39;00m\n\u001b[0;32m--> 572\u001b[0m     \u001b[38;5;28mself\u001b[39m\u001b[38;5;241m.\u001b[39mresults \u001b[38;5;241m=\u001b[39m \u001b[43mbatch\u001b[49m\u001b[43m(\u001b[49m\u001b[43m)\u001b[49m\n",
      "File \u001b[0;32m~/anaconda3/lib/python3.8/site-packages/joblib/parallel.py:262\u001b[0m, in \u001b[0;36mBatchedCalls.__call__\u001b[0;34m(self)\u001b[0m\n\u001b[1;32m    258\u001b[0m \u001b[38;5;28;01mdef\u001b[39;00m \u001b[38;5;21m__call__\u001b[39m(\u001b[38;5;28mself\u001b[39m):\n\u001b[1;32m    259\u001b[0m     \u001b[38;5;66;03m# Set the default nested backend to self._backend but do not set the\u001b[39;00m\n\u001b[1;32m    260\u001b[0m     \u001b[38;5;66;03m# change the default number of processes to -1\u001b[39;00m\n\u001b[1;32m    261\u001b[0m     \u001b[38;5;28;01mwith\u001b[39;00m parallel_backend(\u001b[38;5;28mself\u001b[39m\u001b[38;5;241m.\u001b[39m_backend, n_jobs\u001b[38;5;241m=\u001b[39m\u001b[38;5;28mself\u001b[39m\u001b[38;5;241m.\u001b[39m_n_jobs):\n\u001b[0;32m--> 262\u001b[0m         \u001b[38;5;28;01mreturn\u001b[39;00m [func(\u001b[38;5;241m*\u001b[39margs, \u001b[38;5;241m*\u001b[39m\u001b[38;5;241m*\u001b[39mkwargs)\n\u001b[1;32m    263\u001b[0m                 \u001b[38;5;28;01mfor\u001b[39;00m func, args, kwargs \u001b[38;5;129;01min\u001b[39;00m \u001b[38;5;28mself\u001b[39m\u001b[38;5;241m.\u001b[39mitems]\n",
      "File \u001b[0;32m~/anaconda3/lib/python3.8/site-packages/joblib/parallel.py:262\u001b[0m, in \u001b[0;36m<listcomp>\u001b[0;34m(.0)\u001b[0m\n\u001b[1;32m    258\u001b[0m \u001b[38;5;28;01mdef\u001b[39;00m \u001b[38;5;21m__call__\u001b[39m(\u001b[38;5;28mself\u001b[39m):\n\u001b[1;32m    259\u001b[0m     \u001b[38;5;66;03m# Set the default nested backend to self._backend but do not set the\u001b[39;00m\n\u001b[1;32m    260\u001b[0m     \u001b[38;5;66;03m# change the default number of processes to -1\u001b[39;00m\n\u001b[1;32m    261\u001b[0m     \u001b[38;5;28;01mwith\u001b[39;00m parallel_backend(\u001b[38;5;28mself\u001b[39m\u001b[38;5;241m.\u001b[39m_backend, n_jobs\u001b[38;5;241m=\u001b[39m\u001b[38;5;28mself\u001b[39m\u001b[38;5;241m.\u001b[39m_n_jobs):\n\u001b[0;32m--> 262\u001b[0m         \u001b[38;5;28;01mreturn\u001b[39;00m [\u001b[43mfunc\u001b[49m\u001b[43m(\u001b[49m\u001b[38;5;241;43m*\u001b[39;49m\u001b[43margs\u001b[49m\u001b[43m,\u001b[49m\u001b[43m \u001b[49m\u001b[38;5;241;43m*\u001b[39;49m\u001b[38;5;241;43m*\u001b[39;49m\u001b[43mkwargs\u001b[49m\u001b[43m)\u001b[49m\n\u001b[1;32m    263\u001b[0m                 \u001b[38;5;28;01mfor\u001b[39;00m func, args, kwargs \u001b[38;5;129;01min\u001b[39;00m \u001b[38;5;28mself\u001b[39m\u001b[38;5;241m.\u001b[39mitems]\n",
      "File \u001b[0;32m~/anaconda3/lib/python3.8/site-packages/sklearn/utils/fixes.py:216\u001b[0m, in \u001b[0;36m_FuncWrapper.__call__\u001b[0;34m(self, *args, **kwargs)\u001b[0m\n\u001b[1;32m    214\u001b[0m \u001b[38;5;28;01mdef\u001b[39;00m \u001b[38;5;21m__call__\u001b[39m(\u001b[38;5;28mself\u001b[39m, \u001b[38;5;241m*\u001b[39margs, \u001b[38;5;241m*\u001b[39m\u001b[38;5;241m*\u001b[39mkwargs):\n\u001b[1;32m    215\u001b[0m     \u001b[38;5;28;01mwith\u001b[39;00m config_context(\u001b[38;5;241m*\u001b[39m\u001b[38;5;241m*\u001b[39m\u001b[38;5;28mself\u001b[39m\u001b[38;5;241m.\u001b[39mconfig):\n\u001b[0;32m--> 216\u001b[0m         \u001b[38;5;28;01mreturn\u001b[39;00m \u001b[38;5;28;43mself\u001b[39;49m\u001b[38;5;241;43m.\u001b[39;49m\u001b[43mfunction\u001b[49m\u001b[43m(\u001b[49m\u001b[38;5;241;43m*\u001b[39;49m\u001b[43margs\u001b[49m\u001b[43m,\u001b[49m\u001b[43m \u001b[49m\u001b[38;5;241;43m*\u001b[39;49m\u001b[38;5;241;43m*\u001b[39;49m\u001b[43mkwargs\u001b[49m\u001b[43m)\u001b[49m\n",
      "File \u001b[0;32m~/anaconda3/lib/python3.8/site-packages/sklearn/model_selection/_validation.py:680\u001b[0m, in \u001b[0;36m_fit_and_score\u001b[0;34m(estimator, X, y, scorer, train, test, verbose, parameters, fit_params, return_train_score, return_parameters, return_n_test_samples, return_times, return_estimator, split_progress, candidate_progress, error_score)\u001b[0m\n\u001b[1;32m    678\u001b[0m         estimator\u001b[38;5;241m.\u001b[39mfit(X_train, \u001b[38;5;241m*\u001b[39m\u001b[38;5;241m*\u001b[39mfit_params)\n\u001b[1;32m    679\u001b[0m     \u001b[38;5;28;01melse\u001b[39;00m:\n\u001b[0;32m--> 680\u001b[0m         \u001b[43mestimator\u001b[49m\u001b[38;5;241;43m.\u001b[39;49m\u001b[43mfit\u001b[49m\u001b[43m(\u001b[49m\u001b[43mX_train\u001b[49m\u001b[43m,\u001b[49m\u001b[43m \u001b[49m\u001b[43my_train\u001b[49m\u001b[43m,\u001b[49m\u001b[43m \u001b[49m\u001b[38;5;241;43m*\u001b[39;49m\u001b[38;5;241;43m*\u001b[39;49m\u001b[43mfit_params\u001b[49m\u001b[43m)\u001b[49m\n\u001b[1;32m    682\u001b[0m \u001b[38;5;28;01mexcept\u001b[39;00m \u001b[38;5;167;01mException\u001b[39;00m:\n\u001b[1;32m    683\u001b[0m     \u001b[38;5;66;03m# Note fit time as time until error\u001b[39;00m\n\u001b[1;32m    684\u001b[0m     fit_time \u001b[38;5;241m=\u001b[39m time\u001b[38;5;241m.\u001b[39mtime() \u001b[38;5;241m-\u001b[39m start_time\n",
      "File \u001b[0;32m~/anaconda3/lib/python3.8/site-packages/tensorflow/python/keras/wrappers/scikit_learn.py:223\u001b[0m, in \u001b[0;36mKerasClassifier.fit\u001b[0;34m(self, x, y, **kwargs)\u001b[0m\n\u001b[1;32m    221\u001b[0m   \u001b[38;5;28;01mraise\u001b[39;00m \u001b[38;5;167;01mValueError\u001b[39;00m(\u001b[38;5;124m'\u001b[39m\u001b[38;5;124mInvalid shape for y: \u001b[39m\u001b[38;5;124m'\u001b[39m \u001b[38;5;241m+\u001b[39m \u001b[38;5;28mstr\u001b[39m(y\u001b[38;5;241m.\u001b[39mshape))\n\u001b[1;32m    222\u001b[0m \u001b[38;5;28mself\u001b[39m\u001b[38;5;241m.\u001b[39mn_classes_ \u001b[38;5;241m=\u001b[39m \u001b[38;5;28mlen\u001b[39m(\u001b[38;5;28mself\u001b[39m\u001b[38;5;241m.\u001b[39mclasses_)\n\u001b[0;32m--> 223\u001b[0m \u001b[38;5;28;01mreturn\u001b[39;00m \u001b[38;5;28;43msuper\u001b[39;49m\u001b[43m(\u001b[49m\u001b[43mKerasClassifier\u001b[49m\u001b[43m,\u001b[49m\u001b[43m \u001b[49m\u001b[38;5;28;43mself\u001b[39;49m\u001b[43m)\u001b[49m\u001b[38;5;241;43m.\u001b[39;49m\u001b[43mfit\u001b[49m\u001b[43m(\u001b[49m\u001b[43mx\u001b[49m\u001b[43m,\u001b[49m\u001b[43m \u001b[49m\u001b[43my\u001b[49m\u001b[43m,\u001b[49m\u001b[43m \u001b[49m\u001b[38;5;241;43m*\u001b[39;49m\u001b[38;5;241;43m*\u001b[39;49m\u001b[43mkwargs\u001b[49m\u001b[43m)\u001b[49m\n",
      "File \u001b[0;32m~/anaconda3/lib/python3.8/site-packages/tensorflow/python/keras/wrappers/scikit_learn.py:166\u001b[0m, in \u001b[0;36mBaseWrapper.fit\u001b[0;34m(self, x, y, **kwargs)\u001b[0m\n\u001b[1;32m    163\u001b[0m fit_args \u001b[38;5;241m=\u001b[39m copy\u001b[38;5;241m.\u001b[39mdeepcopy(\u001b[38;5;28mself\u001b[39m\u001b[38;5;241m.\u001b[39mfilter_sk_params(Sequential\u001b[38;5;241m.\u001b[39mfit))\n\u001b[1;32m    164\u001b[0m fit_args\u001b[38;5;241m.\u001b[39mupdate(kwargs)\n\u001b[0;32m--> 166\u001b[0m history \u001b[38;5;241m=\u001b[39m \u001b[38;5;28;43mself\u001b[39;49m\u001b[38;5;241;43m.\u001b[39;49m\u001b[43mmodel\u001b[49m\u001b[38;5;241;43m.\u001b[39;49m\u001b[43mfit\u001b[49m\u001b[43m(\u001b[49m\u001b[43mx\u001b[49m\u001b[43m,\u001b[49m\u001b[43m \u001b[49m\u001b[43my\u001b[49m\u001b[43m,\u001b[49m\u001b[43m \u001b[49m\u001b[38;5;241;43m*\u001b[39;49m\u001b[38;5;241;43m*\u001b[39;49m\u001b[43mfit_args\u001b[49m\u001b[43m)\u001b[49m\n\u001b[1;32m    168\u001b[0m \u001b[38;5;28;01mreturn\u001b[39;00m history\n",
      "File \u001b[0;32m~/anaconda3/lib/python3.8/site-packages/tensorflow/python/keras/engine/training.py:108\u001b[0m, in \u001b[0;36menable_multi_worker.<locals>._method_wrapper\u001b[0;34m(self, *args, **kwargs)\u001b[0m\n\u001b[1;32m    106\u001b[0m \u001b[38;5;28;01mdef\u001b[39;00m \u001b[38;5;21m_method_wrapper\u001b[39m(\u001b[38;5;28mself\u001b[39m, \u001b[38;5;241m*\u001b[39margs, \u001b[38;5;241m*\u001b[39m\u001b[38;5;241m*\u001b[39mkwargs):\n\u001b[1;32m    107\u001b[0m   \u001b[38;5;28;01mif\u001b[39;00m \u001b[38;5;129;01mnot\u001b[39;00m \u001b[38;5;28mself\u001b[39m\u001b[38;5;241m.\u001b[39m_in_multi_worker_mode():  \u001b[38;5;66;03m# pylint: disable=protected-access\u001b[39;00m\n\u001b[0;32m--> 108\u001b[0m     \u001b[38;5;28;01mreturn\u001b[39;00m \u001b[43mmethod\u001b[49m\u001b[43m(\u001b[49m\u001b[38;5;28;43mself\u001b[39;49m\u001b[43m,\u001b[49m\u001b[43m \u001b[49m\u001b[38;5;241;43m*\u001b[39;49m\u001b[43margs\u001b[49m\u001b[43m,\u001b[49m\u001b[43m \u001b[49m\u001b[38;5;241;43m*\u001b[39;49m\u001b[38;5;241;43m*\u001b[39;49m\u001b[43mkwargs\u001b[49m\u001b[43m)\u001b[49m\n\u001b[1;32m    110\u001b[0m   \u001b[38;5;66;03m# Running inside `run_distribute_coordinator` already.\u001b[39;00m\n\u001b[1;32m    111\u001b[0m   \u001b[38;5;28;01mif\u001b[39;00m dc_context\u001b[38;5;241m.\u001b[39mget_current_worker_context():\n",
      "File \u001b[0;32m~/anaconda3/lib/python3.8/site-packages/tensorflow/python/keras/engine/training.py:1098\u001b[0m, in \u001b[0;36mModel.fit\u001b[0;34m(self, x, y, batch_size, epochs, verbose, callbacks, validation_split, validation_data, shuffle, class_weight, sample_weight, initial_epoch, steps_per_epoch, validation_steps, validation_batch_size, validation_freq, max_queue_size, workers, use_multiprocessing)\u001b[0m\n\u001b[1;32m   1091\u001b[0m \u001b[38;5;28;01mwith\u001b[39;00m trace\u001b[38;5;241m.\u001b[39mTrace(\n\u001b[1;32m   1092\u001b[0m     \u001b[38;5;124m'\u001b[39m\u001b[38;5;124mTraceContext\u001b[39m\u001b[38;5;124m'\u001b[39m,\n\u001b[1;32m   1093\u001b[0m     graph_type\u001b[38;5;241m=\u001b[39m\u001b[38;5;124m'\u001b[39m\u001b[38;5;124mtrain\u001b[39m\u001b[38;5;124m'\u001b[39m,\n\u001b[1;32m   1094\u001b[0m     epoch_num\u001b[38;5;241m=\u001b[39mepoch,\n\u001b[1;32m   1095\u001b[0m     step_num\u001b[38;5;241m=\u001b[39mstep,\n\u001b[1;32m   1096\u001b[0m     batch_size\u001b[38;5;241m=\u001b[39mbatch_size):\n\u001b[1;32m   1097\u001b[0m   callbacks\u001b[38;5;241m.\u001b[39mon_train_batch_begin(step)\n\u001b[0;32m-> 1098\u001b[0m   tmp_logs \u001b[38;5;241m=\u001b[39m \u001b[43mtrain_function\u001b[49m\u001b[43m(\u001b[49m\u001b[43miterator\u001b[49m\u001b[43m)\u001b[49m\n\u001b[1;32m   1099\u001b[0m   \u001b[38;5;28;01mif\u001b[39;00m data_handler\u001b[38;5;241m.\u001b[39mshould_sync:\n\u001b[1;32m   1100\u001b[0m     context\u001b[38;5;241m.\u001b[39masync_wait()\n",
      "File \u001b[0;32m~/anaconda3/lib/python3.8/site-packages/tensorflow/python/eager/def_function.py:780\u001b[0m, in \u001b[0;36mFunction.__call__\u001b[0;34m(self, *args, **kwds)\u001b[0m\n\u001b[1;32m    778\u001b[0m \u001b[38;5;28;01melse\u001b[39;00m:\n\u001b[1;32m    779\u001b[0m   compiler \u001b[38;5;241m=\u001b[39m \u001b[38;5;124m\"\u001b[39m\u001b[38;5;124mnonXla\u001b[39m\u001b[38;5;124m\"\u001b[39m\n\u001b[0;32m--> 780\u001b[0m   result \u001b[38;5;241m=\u001b[39m \u001b[38;5;28;43mself\u001b[39;49m\u001b[38;5;241;43m.\u001b[39;49m\u001b[43m_call\u001b[49m\u001b[43m(\u001b[49m\u001b[38;5;241;43m*\u001b[39;49m\u001b[43margs\u001b[49m\u001b[43m,\u001b[49m\u001b[43m \u001b[49m\u001b[38;5;241;43m*\u001b[39;49m\u001b[38;5;241;43m*\u001b[39;49m\u001b[43mkwds\u001b[49m\u001b[43m)\u001b[49m\n\u001b[1;32m    782\u001b[0m new_tracing_count \u001b[38;5;241m=\u001b[39m \u001b[38;5;28mself\u001b[39m\u001b[38;5;241m.\u001b[39m_get_tracing_count()\n\u001b[1;32m    783\u001b[0m without_tracing \u001b[38;5;241m=\u001b[39m (tracing_count \u001b[38;5;241m==\u001b[39m new_tracing_count)\n",
      "File \u001b[0;32m~/anaconda3/lib/python3.8/site-packages/tensorflow/python/eager/def_function.py:807\u001b[0m, in \u001b[0;36mFunction._call\u001b[0;34m(self, *args, **kwds)\u001b[0m\n\u001b[1;32m    804\u001b[0m   \u001b[38;5;28mself\u001b[39m\u001b[38;5;241m.\u001b[39m_lock\u001b[38;5;241m.\u001b[39mrelease()\n\u001b[1;32m    805\u001b[0m   \u001b[38;5;66;03m# In this case we have created variables on the first call, so we run the\u001b[39;00m\n\u001b[1;32m    806\u001b[0m   \u001b[38;5;66;03m# defunned version which is guaranteed to never create variables.\u001b[39;00m\n\u001b[0;32m--> 807\u001b[0m   \u001b[38;5;28;01mreturn\u001b[39;00m \u001b[38;5;28;43mself\u001b[39;49m\u001b[38;5;241;43m.\u001b[39;49m\u001b[43m_stateless_fn\u001b[49m\u001b[43m(\u001b[49m\u001b[38;5;241;43m*\u001b[39;49m\u001b[43margs\u001b[49m\u001b[43m,\u001b[49m\u001b[43m \u001b[49m\u001b[38;5;241;43m*\u001b[39;49m\u001b[38;5;241;43m*\u001b[39;49m\u001b[43mkwds\u001b[49m\u001b[43m)\u001b[49m  \u001b[38;5;66;03m# pylint: disable=not-callable\u001b[39;00m\n\u001b[1;32m    808\u001b[0m \u001b[38;5;28;01melif\u001b[39;00m \u001b[38;5;28mself\u001b[39m\u001b[38;5;241m.\u001b[39m_stateful_fn \u001b[38;5;129;01mis\u001b[39;00m \u001b[38;5;129;01mnot\u001b[39;00m \u001b[38;5;28;01mNone\u001b[39;00m:\n\u001b[1;32m    809\u001b[0m   \u001b[38;5;66;03m# Release the lock early so that multiple threads can perform the call\u001b[39;00m\n\u001b[1;32m    810\u001b[0m   \u001b[38;5;66;03m# in parallel.\u001b[39;00m\n\u001b[1;32m    811\u001b[0m   \u001b[38;5;28mself\u001b[39m\u001b[38;5;241m.\u001b[39m_lock\u001b[38;5;241m.\u001b[39mrelease()\n",
      "File \u001b[0;32m~/anaconda3/lib/python3.8/site-packages/tensorflow/python/eager/function.py:2829\u001b[0m, in \u001b[0;36mFunction.__call__\u001b[0;34m(self, *args, **kwargs)\u001b[0m\n\u001b[1;32m   2827\u001b[0m \u001b[38;5;28;01mwith\u001b[39;00m \u001b[38;5;28mself\u001b[39m\u001b[38;5;241m.\u001b[39m_lock:\n\u001b[1;32m   2828\u001b[0m   graph_function, args, kwargs \u001b[38;5;241m=\u001b[39m \u001b[38;5;28mself\u001b[39m\u001b[38;5;241m.\u001b[39m_maybe_define_function(args, kwargs)\n\u001b[0;32m-> 2829\u001b[0m \u001b[38;5;28;01mreturn\u001b[39;00m \u001b[43mgraph_function\u001b[49m\u001b[38;5;241;43m.\u001b[39;49m\u001b[43m_filtered_call\u001b[49m\u001b[43m(\u001b[49m\u001b[43margs\u001b[49m\u001b[43m,\u001b[49m\u001b[43m \u001b[49m\u001b[43mkwargs\u001b[49m\u001b[43m)\u001b[49m\n",
      "File \u001b[0;32m~/anaconda3/lib/python3.8/site-packages/tensorflow/python/eager/function.py:1843\u001b[0m, in \u001b[0;36mConcreteFunction._filtered_call\u001b[0;34m(self, args, kwargs, cancellation_manager)\u001b[0m\n\u001b[1;32m   1827\u001b[0m \u001b[38;5;28;01mdef\u001b[39;00m \u001b[38;5;21m_filtered_call\u001b[39m(\u001b[38;5;28mself\u001b[39m, args, kwargs, cancellation_manager\u001b[38;5;241m=\u001b[39m\u001b[38;5;28;01mNone\u001b[39;00m):\n\u001b[1;32m   1828\u001b[0m   \u001b[38;5;124;03m\"\"\"Executes the function, filtering arguments from the Python function.\u001b[39;00m\n\u001b[1;32m   1829\u001b[0m \n\u001b[1;32m   1830\u001b[0m \u001b[38;5;124;03m  Objects aside from Tensors, CompositeTensors, and Variables are ignored.\u001b[39;00m\n\u001b[0;32m   (...)\u001b[0m\n\u001b[1;32m   1841\u001b[0m \u001b[38;5;124;03m    `args` and `kwargs`.\u001b[39;00m\n\u001b[1;32m   1842\u001b[0m \u001b[38;5;124;03m  \"\"\"\u001b[39;00m\n\u001b[0;32m-> 1843\u001b[0m   \u001b[38;5;28;01mreturn\u001b[39;00m \u001b[38;5;28;43mself\u001b[39;49m\u001b[38;5;241;43m.\u001b[39;49m\u001b[43m_call_flat\u001b[49m\u001b[43m(\u001b[49m\n\u001b[1;32m   1844\u001b[0m \u001b[43m      \u001b[49m\u001b[43m[\u001b[49m\u001b[43mt\u001b[49m\u001b[43m \u001b[49m\u001b[38;5;28;43;01mfor\u001b[39;49;00m\u001b[43m \u001b[49m\u001b[43mt\u001b[49m\u001b[43m \u001b[49m\u001b[38;5;129;43;01min\u001b[39;49;00m\u001b[43m \u001b[49m\u001b[43mnest\u001b[49m\u001b[38;5;241;43m.\u001b[39;49m\u001b[43mflatten\u001b[49m\u001b[43m(\u001b[49m\u001b[43m(\u001b[49m\u001b[43margs\u001b[49m\u001b[43m,\u001b[49m\u001b[43m \u001b[49m\u001b[43mkwargs\u001b[49m\u001b[43m)\u001b[49m\u001b[43m,\u001b[49m\u001b[43m \u001b[49m\u001b[43mexpand_composites\u001b[49m\u001b[38;5;241;43m=\u001b[39;49m\u001b[38;5;28;43;01mTrue\u001b[39;49;00m\u001b[43m)\u001b[49m\n\u001b[1;32m   1845\u001b[0m \u001b[43m       \u001b[49m\u001b[38;5;28;43;01mif\u001b[39;49;00m\u001b[43m \u001b[49m\u001b[38;5;28;43misinstance\u001b[39;49m\u001b[43m(\u001b[49m\u001b[43mt\u001b[49m\u001b[43m,\u001b[49m\u001b[43m \u001b[49m\u001b[43m(\u001b[49m\u001b[43mops\u001b[49m\u001b[38;5;241;43m.\u001b[39;49m\u001b[43mTensor\u001b[49m\u001b[43m,\u001b[49m\n\u001b[1;32m   1846\u001b[0m \u001b[43m                         \u001b[49m\u001b[43mresource_variable_ops\u001b[49m\u001b[38;5;241;43m.\u001b[39;49m\u001b[43mBaseResourceVariable\u001b[49m\u001b[43m)\u001b[49m\u001b[43m)\u001b[49m\u001b[43m]\u001b[49m\u001b[43m,\u001b[49m\n\u001b[1;32m   1847\u001b[0m \u001b[43m      \u001b[49m\u001b[43mcaptured_inputs\u001b[49m\u001b[38;5;241;43m=\u001b[39;49m\u001b[38;5;28;43mself\u001b[39;49m\u001b[38;5;241;43m.\u001b[39;49m\u001b[43mcaptured_inputs\u001b[49m\u001b[43m,\u001b[49m\n\u001b[1;32m   1848\u001b[0m \u001b[43m      \u001b[49m\u001b[43mcancellation_manager\u001b[49m\u001b[38;5;241;43m=\u001b[39;49m\u001b[43mcancellation_manager\u001b[49m\u001b[43m)\u001b[49m\n",
      "File \u001b[0;32m~/anaconda3/lib/python3.8/site-packages/tensorflow/python/eager/function.py:1923\u001b[0m, in \u001b[0;36mConcreteFunction._call_flat\u001b[0;34m(self, args, captured_inputs, cancellation_manager)\u001b[0m\n\u001b[1;32m   1918\u001b[0m possible_gradient_type \u001b[38;5;241m=\u001b[39m (\n\u001b[1;32m   1919\u001b[0m     pywrap_tfe\u001b[38;5;241m.\u001b[39mTFE_Py_TapeSetPossibleGradientTypes(args))\n\u001b[1;32m   1920\u001b[0m \u001b[38;5;28;01mif\u001b[39;00m (possible_gradient_type \u001b[38;5;241m==\u001b[39m _POSSIBLE_GRADIENT_TYPES_NONE\n\u001b[1;32m   1921\u001b[0m     \u001b[38;5;129;01mand\u001b[39;00m executing_eagerly):\n\u001b[1;32m   1922\u001b[0m   \u001b[38;5;66;03m# No tape is watching; skip to running the function.\u001b[39;00m\n\u001b[0;32m-> 1923\u001b[0m   \u001b[38;5;28;01mreturn\u001b[39;00m \u001b[38;5;28mself\u001b[39m\u001b[38;5;241m.\u001b[39m_build_call_outputs(\u001b[38;5;28;43mself\u001b[39;49m\u001b[38;5;241;43m.\u001b[39;49m\u001b[43m_inference_function\u001b[49m\u001b[38;5;241;43m.\u001b[39;49m\u001b[43mcall\u001b[49m\u001b[43m(\u001b[49m\n\u001b[1;32m   1924\u001b[0m \u001b[43m      \u001b[49m\u001b[43mctx\u001b[49m\u001b[43m,\u001b[49m\u001b[43m \u001b[49m\u001b[43margs\u001b[49m\u001b[43m,\u001b[49m\u001b[43m \u001b[49m\u001b[43mcancellation_manager\u001b[49m\u001b[38;5;241;43m=\u001b[39;49m\u001b[43mcancellation_manager\u001b[49m\u001b[43m)\u001b[49m)\n\u001b[1;32m   1925\u001b[0m forward_backward \u001b[38;5;241m=\u001b[39m \u001b[38;5;28mself\u001b[39m\u001b[38;5;241m.\u001b[39m_select_forward_and_backward_functions(\n\u001b[1;32m   1926\u001b[0m     args,\n\u001b[1;32m   1927\u001b[0m     possible_gradient_type,\n\u001b[1;32m   1928\u001b[0m     executing_eagerly)\n\u001b[1;32m   1929\u001b[0m forward_function, args_with_tangents \u001b[38;5;241m=\u001b[39m forward_backward\u001b[38;5;241m.\u001b[39mforward()\n",
      "File \u001b[0;32m~/anaconda3/lib/python3.8/site-packages/tensorflow/python/eager/function.py:545\u001b[0m, in \u001b[0;36m_EagerDefinedFunction.call\u001b[0;34m(self, ctx, args, cancellation_manager)\u001b[0m\n\u001b[1;32m    543\u001b[0m \u001b[38;5;28;01mwith\u001b[39;00m _InterpolateFunctionError(\u001b[38;5;28mself\u001b[39m):\n\u001b[1;32m    544\u001b[0m   \u001b[38;5;28;01mif\u001b[39;00m cancellation_manager \u001b[38;5;129;01mis\u001b[39;00m \u001b[38;5;28;01mNone\u001b[39;00m:\n\u001b[0;32m--> 545\u001b[0m     outputs \u001b[38;5;241m=\u001b[39m \u001b[43mexecute\u001b[49m\u001b[38;5;241;43m.\u001b[39;49m\u001b[43mexecute\u001b[49m\u001b[43m(\u001b[49m\n\u001b[1;32m    546\u001b[0m \u001b[43m        \u001b[49m\u001b[38;5;28;43mstr\u001b[39;49m\u001b[43m(\u001b[49m\u001b[38;5;28;43mself\u001b[39;49m\u001b[38;5;241;43m.\u001b[39;49m\u001b[43msignature\u001b[49m\u001b[38;5;241;43m.\u001b[39;49m\u001b[43mname\u001b[49m\u001b[43m)\u001b[49m\u001b[43m,\u001b[49m\n\u001b[1;32m    547\u001b[0m \u001b[43m        \u001b[49m\u001b[43mnum_outputs\u001b[49m\u001b[38;5;241;43m=\u001b[39;49m\u001b[38;5;28;43mself\u001b[39;49m\u001b[38;5;241;43m.\u001b[39;49m\u001b[43m_num_outputs\u001b[49m\u001b[43m,\u001b[49m\n\u001b[1;32m    548\u001b[0m \u001b[43m        \u001b[49m\u001b[43minputs\u001b[49m\u001b[38;5;241;43m=\u001b[39;49m\u001b[43margs\u001b[49m\u001b[43m,\u001b[49m\n\u001b[1;32m    549\u001b[0m \u001b[43m        \u001b[49m\u001b[43mattrs\u001b[49m\u001b[38;5;241;43m=\u001b[39;49m\u001b[43mattrs\u001b[49m\u001b[43m,\u001b[49m\n\u001b[1;32m    550\u001b[0m \u001b[43m        \u001b[49m\u001b[43mctx\u001b[49m\u001b[38;5;241;43m=\u001b[39;49m\u001b[43mctx\u001b[49m\u001b[43m)\u001b[49m\n\u001b[1;32m    551\u001b[0m   \u001b[38;5;28;01melse\u001b[39;00m:\n\u001b[1;32m    552\u001b[0m     outputs \u001b[38;5;241m=\u001b[39m execute\u001b[38;5;241m.\u001b[39mexecute_with_cancellation(\n\u001b[1;32m    553\u001b[0m         \u001b[38;5;28mstr\u001b[39m(\u001b[38;5;28mself\u001b[39m\u001b[38;5;241m.\u001b[39msignature\u001b[38;5;241m.\u001b[39mname),\n\u001b[1;32m    554\u001b[0m         num_outputs\u001b[38;5;241m=\u001b[39m\u001b[38;5;28mself\u001b[39m\u001b[38;5;241m.\u001b[39m_num_outputs,\n\u001b[0;32m   (...)\u001b[0m\n\u001b[1;32m    557\u001b[0m         ctx\u001b[38;5;241m=\u001b[39mctx,\n\u001b[1;32m    558\u001b[0m         cancellation_manager\u001b[38;5;241m=\u001b[39mcancellation_manager)\n",
      "File \u001b[0;32m~/anaconda3/lib/python3.8/site-packages/tensorflow/python/eager/execute.py:59\u001b[0m, in \u001b[0;36mquick_execute\u001b[0;34m(op_name, num_outputs, inputs, attrs, ctx, name)\u001b[0m\n\u001b[1;32m     57\u001b[0m \u001b[38;5;28;01mtry\u001b[39;00m:\n\u001b[1;32m     58\u001b[0m   ctx\u001b[38;5;241m.\u001b[39mensure_initialized()\n\u001b[0;32m---> 59\u001b[0m   tensors \u001b[38;5;241m=\u001b[39m \u001b[43mpywrap_tfe\u001b[49m\u001b[38;5;241;43m.\u001b[39;49m\u001b[43mTFE_Py_Execute\u001b[49m\u001b[43m(\u001b[49m\u001b[43mctx\u001b[49m\u001b[38;5;241;43m.\u001b[39;49m\u001b[43m_handle\u001b[49m\u001b[43m,\u001b[49m\u001b[43m \u001b[49m\u001b[43mdevice_name\u001b[49m\u001b[43m,\u001b[49m\u001b[43m \u001b[49m\u001b[43mop_name\u001b[49m\u001b[43m,\u001b[49m\n\u001b[1;32m     60\u001b[0m \u001b[43m                                      \u001b[49m\u001b[43minputs\u001b[49m\u001b[43m,\u001b[49m\u001b[43m \u001b[49m\u001b[43mattrs\u001b[49m\u001b[43m,\u001b[49m\u001b[43m \u001b[49m\u001b[43mnum_outputs\u001b[49m\u001b[43m)\u001b[49m\n\u001b[1;32m     61\u001b[0m \u001b[38;5;28;01mexcept\u001b[39;00m core\u001b[38;5;241m.\u001b[39m_NotOkStatusException \u001b[38;5;28;01mas\u001b[39;00m e:\n\u001b[1;32m     62\u001b[0m   \u001b[38;5;28;01mif\u001b[39;00m name \u001b[38;5;129;01mis\u001b[39;00m \u001b[38;5;129;01mnot\u001b[39;00m \u001b[38;5;28;01mNone\u001b[39;00m:\n",
      "\u001b[0;31mKeyboardInterrupt\u001b[0m: "
     ]
    }
   ],
   "source": [
    "# affinage des hyperparamètres par validation croisée : GridSearchCV\n",
    "from sklearn.model_selection import GridSearchCV\n",
    "clf = KerasClassifier(build_fn=build_ann_clf)\n",
    "\n",
    "parametres = {\n",
    "    'batch_size' : [5, 10, 25],\n",
    "    'epochs': [100, 150],\n",
    "    'optimizer' : ['adam', 'rmsprop']\n",
    "}\n",
    "\n",
    "grid = GridSearchCV(estimator=clf, param_grid=parametres, scoring='accuracy', cv=8)\n",
    "grid = grid.fit(X_train_pp, y_train, verbose=0)\n",
    "grid.best_params_, grid.best_score_"
   ]
  },
  {
   "cell_type": "markdown",
   "metadata": {},
   "source": [
    "## Sauvegarde et chargement des réseaux\n",
    "\n",
    "Regarder les méthodes `save` et `load_model` de la librairie `keras.models` pour la sauvegarde et le chargement des modèle. Quel format de fichier utiliser ?\n",
    "\n",
    "Si vous souhaitez ne sauvegarder que l'architecture du modèle (sans les poids ni la configuration d'entraînement), vous pouvez utiliser `to_json`.\n",
    "\n",
    "Enfin, pour ne sauvegarder que les poids, vous avez la méthode `save_weights`."
   ]
  },
  {
   "cell_type": "code",
   "execution_count": 34,
   "metadata": {},
   "outputs": [
    {
     "name": "stdout",
     "output_type": "stream",
     "text": [
      "Model: \"sequential\"\n",
      "_________________________________________________________________\n",
      "Layer (type)                 Output Shape              Param #   \n",
      "=================================================================\n",
      "dense (Dense)                (None, 8)                 96        \n",
      "_________________________________________________________________\n",
      "dense_1 (Dense)              (None, 6)                 54        \n",
      "_________________________________________________________________\n",
      "dense_2 (Dense)              (None, 1)                 7         \n",
      "=================================================================\n",
      "Total params: 157\n",
      "Trainable params: 157\n",
      "Non-trainable params: 0\n",
      "_________________________________________________________________\n"
     ]
    }
   ],
   "source": [
    "mlp.summary()"
   ]
  },
  {
   "cell_type": "markdown",
   "metadata": {},
   "source": [
    "### model.save()\n",
    "\n",
    "Cette fonction sauvegarde : \n",
    "- l'architecture du modèle : permet de le recréer si besoin\n",
    "- les poids du modèle\n",
    "- les paramètres d'apprentissage (loss, optimizer, metrics de l'étape `compile`)\n",
    "- l'état de l'optimisation ce qui permet de reprendre l'apprentissage où on l'avait laissé"
   ]
  },
  {
   "cell_type": "code",
   "execution_count": 36,
   "metadata": {},
   "outputs": [],
   "source": [
    "mlp.save('models/mlp_bank.h5')"
   ]
  },
  {
   "cell_type": "markdown",
   "metadata": {},
   "source": [
    "### model.load_model()\n",
    "charge un modèle enregistrés et l'ensemble des infos"
   ]
  },
  {
   "cell_type": "code",
   "execution_count": 37,
   "metadata": {},
   "outputs": [],
   "source": [
    "from keras.models import load_model\n",
    "new_model = load_model('models/mlp_bank.h5')"
   ]
  },
  {
   "cell_type": "code",
   "execution_count": 38,
   "metadata": {},
   "outputs": [
    {
     "name": "stdout",
     "output_type": "stream",
     "text": [
      "Model: \"sequential\"\n",
      "_________________________________________________________________\n",
      "Layer (type)                 Output Shape              Param #   \n",
      "=================================================================\n",
      "dense (Dense)                (None, 8)                 96        \n",
      "_________________________________________________________________\n",
      "dense_1 (Dense)              (None, 6)                 54        \n",
      "_________________________________________________________________\n",
      "dense_2 (Dense)              (None, 1)                 7         \n",
      "=================================================================\n",
      "Total params: 157\n",
      "Trainable params: 157\n",
      "Non-trainable params: 0\n",
      "_________________________________________________________________\n"
     ]
    }
   ],
   "source": [
    "new_model.summary()"
   ]
  },
  {
   "cell_type": "code",
   "execution_count": 41,
   "metadata": {},
   "outputs": [
    {
     "data": {
      "text/plain": [
       "(array([-0.40640736,  0.2504217 ,  1.0757139 ,  0.75616646,  1.1995943 ,\n",
       "         0.80780786, -0.11462856, -0.3914252 ], dtype=float32),\n",
       " array([-0.40640736,  0.2504217 ,  1.0757139 ,  0.75616646,  1.1995943 ,\n",
       "         0.80780786, -0.11462856, -0.3914252 ], dtype=float32))"
      ]
     },
     "execution_count": 41,
     "metadata": {},
     "output_type": "execute_result"
    }
   ],
   "source": [
    "new_model.get_weights()[1], mlp.get_weights()[1]"
   ]
  },
  {
   "cell_type": "code",
   "execution_count": 42,
   "metadata": {},
   "outputs": [
    {
     "data": {
      "text/plain": [
       "(<tensorflow.python.keras.optimizer_v2.adam.Adam at 0x7faf0c75eb20>,\n",
       " <function tensorflow.python.keras.losses.binary_crossentropy(y_true, y_pred, from_logits=False, label_smoothing=0)>)"
      ]
     },
     "execution_count": 42,
     "metadata": {},
     "output_type": "execute_result"
    }
   ],
   "source": [
    "new_model.optimizer, new_model.loss"
   ]
  },
  {
   "cell_type": "code",
   "execution_count": 44,
   "metadata": {},
   "outputs": [
    {
     "data": {
      "text/plain": [
       "array([[0.18816015],\n",
       "       [0.06006962],\n",
       "       [0.0058144 ],\n",
       "       ...,\n",
       "       [0.02872148],\n",
       "       [0.9914901 ],\n",
       "       [0.03783619]], dtype=float32)"
      ]
     },
     "execution_count": 44,
     "metadata": {},
     "output_type": "execute_result"
    }
   ],
   "source": [
    "new_model.predict(X_test_pp)"
   ]
  },
  {
   "cell_type": "code",
   "execution_count": 45,
   "metadata": {},
   "outputs": [
    {
     "name": "stdout",
     "output_type": "stream",
     "text": [
      "Epoch 1/5\n",
      "100/100 [==============================] - 0s 597us/step - loss: 0.3414 - accuracy: 0.8545\n",
      "Epoch 2/5\n",
      "100/100 [==============================] - 0s 612us/step - loss: 0.3387 - accuracy: 0.8555\n",
      "Epoch 3/5\n",
      "100/100 [==============================] - 0s 530us/step - loss: 0.3387 - accuracy: 0.8550\n",
      "Epoch 4/5\n",
      "100/100 [==============================] - 0s 585us/step - loss: 0.3367 - accuracy: 0.8605\n",
      "Epoch 5/5\n",
      "100/100 [==============================] - 0s 567us/step - loss: 0.3363 - accuracy: 0.8575\n"
     ]
    },
    {
     "data": {
      "text/plain": [
       "<tensorflow.python.keras.callbacks.History at 0x7fae9f3a9310>"
      ]
     },
     "execution_count": 45,
     "metadata": {},
     "output_type": "execute_result"
    }
   ],
   "source": [
    "new_model.fit(X_test_pp, y_test, batch_size=20, epochs=5)"
   ]
  },
  {
   "cell_type": "markdown",
   "metadata": {},
   "source": [
    "### model.to_json()\n",
    "\n",
    "Si on a juste besoin de sauvegarder **la structure d'un réseau, sans ses paramètres d'apprentissage ni ses poids**, on peut utiliser les 2 fonctions suivantes (pour sauvegarder et charger)."
   ]
  },
  {
   "cell_type": "code",
   "execution_count": 46,
   "metadata": {},
   "outputs": [
    {
     "data": {
      "text/plain": [
       "'{\"class_name\": \"Sequential\", \"config\": {\"name\": \"sequential\", \"layers\": [{\"class_name\": \"InputLayer\", \"config\": {\"batch_input_shape\": [null, 11], \"dtype\": \"float32\", \"sparse\": false, \"ragged\": false, \"name\": \"dense_input\"}}, {\"class_name\": \"Dense\", \"config\": {\"name\": \"dense\", \"trainable\": true, \"batch_input_shape\": [null, 11], \"dtype\": \"float32\", \"units\": 8, \"activation\": \"relu\", \"use_bias\": true, \"kernel_initializer\": {\"class_name\": \"GlorotUniform\", \"config\": {\"seed\": null}}, \"bias_initializer\": {\"class_name\": \"Zeros\", \"config\": {}}, \"kernel_regularizer\": null, \"bias_regularizer\": null, \"activity_regularizer\": null, \"kernel_constraint\": null, \"bias_constraint\": null}}, {\"class_name\": \"Dense\", \"config\": {\"name\": \"dense_1\", \"trainable\": true, \"dtype\": \"float32\", \"units\": 6, \"activation\": \"relu\", \"use_bias\": true, \"kernel_initializer\": {\"class_name\": \"GlorotUniform\", \"config\": {\"seed\": null}}, \"bias_initializer\": {\"class_name\": \"Zeros\", \"config\": {}}, \"kernel_regularizer\": null, \"bias_regularizer\": null, \"activity_regularizer\": null, \"kernel_constraint\": null, \"bias_constraint\": null}}, {\"class_name\": \"Dense\", \"config\": {\"name\": \"dense_2\", \"trainable\": true, \"dtype\": \"float32\", \"units\": 1, \"activation\": \"sigmoid\", \"use_bias\": true, \"kernel_initializer\": {\"class_name\": \"GlorotUniform\", \"config\": {\"seed\": null}}, \"bias_initializer\": {\"class_name\": \"Zeros\", \"config\": {}}, \"kernel_regularizer\": null, \"bias_regularizer\": null, \"activity_regularizer\": null, \"kernel_constraint\": null, \"bias_constraint\": null}}]}, \"keras_version\": \"2.4.0\", \"backend\": \"tensorflow\"}'"
      ]
     },
     "execution_count": 46,
     "metadata": {},
     "output_type": "execute_result"
    }
   ],
   "source": [
    "# sauvegarde en json\n",
    "json = mlp.to_json()\n",
    "json"
   ]
  },
  {
   "cell_type": "code",
   "execution_count": 47,
   "metadata": {},
   "outputs": [
    {
     "name": "stdout",
     "output_type": "stream",
     "text": [
      "Model: \"sequential\"\n",
      "_________________________________________________________________\n",
      "Layer (type)                 Output Shape              Param #   \n",
      "=================================================================\n",
      "dense (Dense)                (None, 8)                 96        \n",
      "_________________________________________________________________\n",
      "dense_1 (Dense)              (None, 6)                 54        \n",
      "_________________________________________________________________\n",
      "dense_2 (Dense)              (None, 1)                 7         \n",
      "=================================================================\n",
      "Total params: 157\n",
      "Trainable params: 157\n",
      "Non-trainable params: 0\n",
      "_________________________________________________________________\n"
     ]
    }
   ],
   "source": [
    "# reconstruire un modèle depuis une sauvegarde json\n",
    "from keras.models import model_from_json\n",
    "new_model2 = model_from_json(json)\n",
    "new_model2.summary()"
   ]
  },
  {
   "cell_type": "code",
   "execution_count": 55,
   "metadata": {},
   "outputs": [
    {
     "data": {
      "text/plain": [
       "[array([[-0.2851035 , -0.47825703,  0.26700902, -0.09673935,  0.3867796 ,\n",
       "          0.2644499 , -0.31293163,  0.39127475],\n",
       "        [ 0.19264537,  0.22873503,  0.342259  ,  0.5180369 ,  0.18809956,\n",
       "          0.40081382,  0.5525113 ,  0.0584442 ],\n",
       "        [ 0.25613844, -0.3675022 ,  0.5002273 , -0.0732854 ,  0.25263083,\n",
       "         -0.36980718, -0.5465233 ,  0.08018857],\n",
       "        [-0.4395377 , -0.5209357 , -0.4718772 ,  0.22666454, -0.35063618,\n",
       "          0.19318998, -0.188882  , -0.21800086],\n",
       "        [-0.3761191 ,  0.36368138, -0.17171249, -0.47624534,  0.05104798,\n",
       "          0.03966105, -0.47040206,  0.03478914],\n",
       "        [ 0.46323568,  0.4932924 ,  0.00163776, -0.07278833,  0.22610664,\n",
       "          0.02552593,  0.29678547, -0.32815465],\n",
       "        [-0.00625551, -0.33984882,  0.08233625,  0.07234365,  0.05499756,\n",
       "         -0.36217773,  0.517443  , -0.3457936 ],\n",
       "        [-0.42046544, -0.2563634 , -0.23070267, -0.33277187,  0.09513402,\n",
       "         -0.19241545, -0.2730787 , -0.23855108],\n",
       "        [-0.45270216, -0.46899688,  0.411956  ,  0.11913419,  0.40291035,\n",
       "         -0.00326872, -0.19056544, -0.35965568],\n",
       "        [ 0.13736492, -0.24546215, -0.34612602, -0.20443341,  0.02311134,\n",
       "         -0.5578876 ,  0.2968282 , -0.14867604],\n",
       "        [-0.3243069 , -0.09410906, -0.15149859, -0.36609608, -0.27983946,\n",
       "          0.52518004, -0.46847478,  0.39730746]], dtype=float32),\n",
       " array([0., 0., 0., 0., 0., 0., 0., 0.], dtype=float32),\n",
       " array([[ 0.06009203, -0.48808527,  0.24206412,  0.26392633, -0.3445286 ,\n",
       "          0.20405298],\n",
       "        [-0.6407426 , -0.414652  ,  0.17231297, -0.225898  ,  0.30259037,\n",
       "         -0.21934256],\n",
       "        [ 0.5805769 ,  0.3660059 , -0.35488087, -0.31783426,  0.0424214 ,\n",
       "          0.20140237],\n",
       "        [ 0.23429734, -0.54381514, -0.4936232 , -0.12706387,  0.38032508,\n",
       "         -0.07906955],\n",
       "        [-0.31078312,  0.64905584, -0.43868792, -0.20356974, -0.25210097,\n",
       "         -0.08128119],\n",
       "        [-0.43596697, -0.24732253, -0.60510117,  0.11889142,  0.01989102,\n",
       "          0.59096134],\n",
       "        [ 0.21918416, -0.42160743,  0.12580973,  0.4520471 ,  0.3066134 ,\n",
       "         -0.21848068],\n",
       "        [-0.27945676, -0.37524357, -0.5916262 , -0.17812577,  0.592224  ,\n",
       "          0.07584894]], dtype=float32),\n",
       " array([0., 0., 0., 0., 0., 0.], dtype=float32),\n",
       " array([[-0.18713939],\n",
       "        [-0.39037132],\n",
       "        [-0.12871784],\n",
       "        [ 0.00771701],\n",
       "        [-0.0117467 ],\n",
       "        [ 0.14741087]], dtype=float32),\n",
       " array([0.], dtype=float32)]"
      ]
     },
     "execution_count": 55,
     "metadata": {},
     "output_type": "execute_result"
    }
   ],
   "source": [
    "new_model2.get_weights()"
   ]
  },
  {
   "cell_type": "code",
   "execution_count": 51,
   "metadata": {},
   "outputs": [
    {
     "name": "stdout",
     "output_type": "stream",
     "text": [
      "None\n"
     ]
    }
   ],
   "source": [
    "print(new_model2.optimizer)"
   ]
  },
  {
   "cell_type": "markdown",
   "metadata": {},
   "source": [
    "### model.save_weights()\n",
    "\n",
    "Si jamais, on veut uniquement les poids d'un modèle."
   ]
  },
  {
   "cell_type": "code",
   "execution_count": 56,
   "metadata": {},
   "outputs": [],
   "source": [
    "mlp.save_weights('models/mes_poids.h5')"
   ]
  },
  {
   "cell_type": "code",
   "execution_count": 57,
   "metadata": {},
   "outputs": [
    {
     "name": "stdout",
     "output_type": "stream",
     "text": [
      "Model: \"sequential_3\"\n",
      "_________________________________________________________________\n",
      "Layer (type)                 Output Shape              Param #   \n",
      "=================================================================\n",
      "dense_9 (Dense)              (None, 8)                 96        \n",
      "_________________________________________________________________\n",
      "dense_10 (Dense)             (None, 6)                 54        \n",
      "_________________________________________________________________\n",
      "dense_11 (Dense)             (None, 1)                 7         \n",
      "=================================================================\n",
      "Total params: 157\n",
      "Trainable params: 157\n",
      "Non-trainable params: 0\n",
      "_________________________________________________________________\n"
     ]
    }
   ],
   "source": [
    "new_model3 = Sequential([\n",
    "    Dense(units=8, activation='relu', input_dim=11),\n",
    "    Dense(units=6, activation='relu'),\n",
    "    Dense(units=1, activation='sigmoid')\n",
    "])\n",
    "\n",
    "new_model3.summary()"
   ]
  },
  {
   "cell_type": "code",
   "execution_count": 62,
   "metadata": {},
   "outputs": [
    {
     "data": {
      "text/plain": [
       "[array([[-7.17370629e-01,  5.07246017e-01, -1.17547013e-01,\n",
       "         -5.76582789e-01,  2.72090524e-01,  8.54372382e-02,\n",
       "          5.11946082e-01,  7.85673037e-02],\n",
       "        [-4.05586660e-01,  5.56773320e-02, -2.26069480e-01,\n",
       "          5.48489213e-01, -1.66155174e-01, -3.34440405e-03,\n",
       "          4.98131305e-01, -2.88371116e-01],\n",
       "        [ 5.00869870e-01, -1.61655108e-03, -2.80214339e-01,\n",
       "          3.38897496e-01,  1.90462455e-01,  3.07290345e-01,\n",
       "         -1.20579086e-01,  5.49690351e-02],\n",
       "        [-6.69761956e-01,  1.84862018e-02, -1.79556474e-01,\n",
       "          8.84288996e-02, -7.96168693e-04,  4.62862216e-02,\n",
       "         -3.31855834e-01, -9.21989530e-02],\n",
       "        [-3.33012104e-01,  1.24566339e-01,  8.83827568e-04,\n",
       "         -1.38776675e-02, -2.96704262e-01, -5.40259123e-01,\n",
       "          1.09486556e+00,  1.14615083e+00],\n",
       "        [-4.67029184e-01,  3.70786004e-02, -7.59298131e-02,\n",
       "          1.16880007e-01,  8.35068300e-02, -1.80306762e-01,\n",
       "          1.50968000e-01, -5.23742847e-02],\n",
       "        [-3.39907497e-01, -4.70766187e-01, -2.31884062e-01,\n",
       "         -6.75925851e-01, -4.69468348e-02, -1.09980300e-01,\n",
       "         -6.37794256e-01,  8.55493918e-02],\n",
       "        [-2.99477398e-01, -1.50364769e+00, -3.65304261e-01,\n",
       "         -2.65665054e-01, -5.52230299e-01, -6.38082385e-01,\n",
       "          4.90548790e-01, -9.04193163e-01],\n",
       "        [-1.88633770e-01,  5.52422106e-02, -1.70366406e-01,\n",
       "          6.97211130e-03,  1.07166953e-01, -1.08499594e-01,\n",
       "          3.42704058e-01, -1.16468035e-01],\n",
       "        [ 6.78151026e-02, -2.86878437e-01, -2.68530011e-01,\n",
       "          8.07469934e-02,  3.78781781e-02,  3.67390305e-01,\n",
       "          2.36989334e-01,  8.18767786e-01],\n",
       "        [ 3.57470065e-01, -2.36342996e-02,  1.09217584e-01,\n",
       "         -2.10966855e-01, -2.05967389e-02,  3.23655337e-01,\n",
       "          6.31883740e-02,  1.59356773e-01]], dtype=float32),\n",
       " array([-0.40640736,  0.2504217 ,  1.0757139 ,  0.75616646,  1.1995943 ,\n",
       "         0.80780786, -0.11462856, -0.3914252 ], dtype=float32),\n",
       " array([[-1.4659486 ,  0.12368938,  0.24946356,  0.59056294, -0.53213876,\n",
       "         -0.43785313],\n",
       "        [ 0.29600817,  1.2997007 , -0.41298255, -0.05513765, -0.8257946 ,\n",
       "         -0.68926656],\n",
       "        [ 0.19863425,  0.44369504,  0.7979764 , -0.39800277, -0.6884757 ,\n",
       "          0.6402695 ],\n",
       "        [ 0.52723056,  0.0494524 ,  0.40323135, -0.87268895,  0.10105137,\n",
       "          0.77839214],\n",
       "        [-1.006006  , -0.2426775 ,  1.2690806 , -1.1940271 ,  0.0098621 ,\n",
       "          0.13683267],\n",
       "        [ 0.07996578,  0.4578341 ,  0.47519255, -0.7438689 ,  0.7968578 ,\n",
       "          0.27474445],\n",
       "        [ 0.04942411,  0.00447975, -0.6884146 ,  0.7522496 ,  1.1727343 ,\n",
       "         -0.09742638],\n",
       "        [-1.0394837 ,  0.30659893, -1.106717  , -0.49326232,  1.1171398 ,\n",
       "          0.0624347 ]], dtype=float32),\n",
       " array([ 0.30670604,  0.31412676,  0.58128124,  1.0136641 , -0.28967333,\n",
       "         0.15085848], dtype=float32),\n",
       " array([[ 1.237488  ],\n",
       "        [ 0.8509293 ],\n",
       "        [-0.92308795],\n",
       "        [ 1.867747  ],\n",
       "        [-0.8448795 ],\n",
       "        [-0.7524186 ]], dtype=float32),\n",
       " array([0.2680773], dtype=float32)]"
      ]
     },
     "execution_count": 62,
     "metadata": {},
     "output_type": "execute_result"
    }
   ],
   "source": [
    "# poids initialisés par défaut\n",
    "new_model3.get_weights()"
   ]
  },
  {
   "cell_type": "code",
   "execution_count": 61,
   "metadata": {},
   "outputs": [
    {
     "data": {
      "text/plain": [
       "[array([[-7.17370629e-01,  5.07246017e-01, -1.17547013e-01,\n",
       "         -5.76582789e-01,  2.72090524e-01,  8.54372382e-02,\n",
       "          5.11946082e-01,  7.85673037e-02],\n",
       "        [-4.05586660e-01,  5.56773320e-02, -2.26069480e-01,\n",
       "          5.48489213e-01, -1.66155174e-01, -3.34440405e-03,\n",
       "          4.98131305e-01, -2.88371116e-01],\n",
       "        [ 5.00869870e-01, -1.61655108e-03, -2.80214339e-01,\n",
       "          3.38897496e-01,  1.90462455e-01,  3.07290345e-01,\n",
       "         -1.20579086e-01,  5.49690351e-02],\n",
       "        [-6.69761956e-01,  1.84862018e-02, -1.79556474e-01,\n",
       "          8.84288996e-02, -7.96168693e-04,  4.62862216e-02,\n",
       "         -3.31855834e-01, -9.21989530e-02],\n",
       "        [-3.33012104e-01,  1.24566339e-01,  8.83827568e-04,\n",
       "         -1.38776675e-02, -2.96704262e-01, -5.40259123e-01,\n",
       "          1.09486556e+00,  1.14615083e+00],\n",
       "        [-4.67029184e-01,  3.70786004e-02, -7.59298131e-02,\n",
       "          1.16880007e-01,  8.35068300e-02, -1.80306762e-01,\n",
       "          1.50968000e-01, -5.23742847e-02],\n",
       "        [-3.39907497e-01, -4.70766187e-01, -2.31884062e-01,\n",
       "         -6.75925851e-01, -4.69468348e-02, -1.09980300e-01,\n",
       "         -6.37794256e-01,  8.55493918e-02],\n",
       "        [-2.99477398e-01, -1.50364769e+00, -3.65304261e-01,\n",
       "         -2.65665054e-01, -5.52230299e-01, -6.38082385e-01,\n",
       "          4.90548790e-01, -9.04193163e-01],\n",
       "        [-1.88633770e-01,  5.52422106e-02, -1.70366406e-01,\n",
       "          6.97211130e-03,  1.07166953e-01, -1.08499594e-01,\n",
       "          3.42704058e-01, -1.16468035e-01],\n",
       "        [ 6.78151026e-02, -2.86878437e-01, -2.68530011e-01,\n",
       "          8.07469934e-02,  3.78781781e-02,  3.67390305e-01,\n",
       "          2.36989334e-01,  8.18767786e-01],\n",
       "        [ 3.57470065e-01, -2.36342996e-02,  1.09217584e-01,\n",
       "         -2.10966855e-01, -2.05967389e-02,  3.23655337e-01,\n",
       "          6.31883740e-02,  1.59356773e-01]], dtype=float32),\n",
       " array([-0.40640736,  0.2504217 ,  1.0757139 ,  0.75616646,  1.1995943 ,\n",
       "         0.80780786, -0.11462856, -0.3914252 ], dtype=float32),\n",
       " array([[-1.4659486 ,  0.12368938,  0.24946356,  0.59056294, -0.53213876,\n",
       "         -0.43785313],\n",
       "        [ 0.29600817,  1.2997007 , -0.41298255, -0.05513765, -0.8257946 ,\n",
       "         -0.68926656],\n",
       "        [ 0.19863425,  0.44369504,  0.7979764 , -0.39800277, -0.6884757 ,\n",
       "          0.6402695 ],\n",
       "        [ 0.52723056,  0.0494524 ,  0.40323135, -0.87268895,  0.10105137,\n",
       "          0.77839214],\n",
       "        [-1.006006  , -0.2426775 ,  1.2690806 , -1.1940271 ,  0.0098621 ,\n",
       "          0.13683267],\n",
       "        [ 0.07996578,  0.4578341 ,  0.47519255, -0.7438689 ,  0.7968578 ,\n",
       "          0.27474445],\n",
       "        [ 0.04942411,  0.00447975, -0.6884146 ,  0.7522496 ,  1.1727343 ,\n",
       "         -0.09742638],\n",
       "        [-1.0394837 ,  0.30659893, -1.106717  , -0.49326232,  1.1171398 ,\n",
       "          0.0624347 ]], dtype=float32),\n",
       " array([ 0.30670604,  0.31412676,  0.58128124,  1.0136641 , -0.28967333,\n",
       "         0.15085848], dtype=float32),\n",
       " array([[ 1.237488  ],\n",
       "        [ 0.8509293 ],\n",
       "        [-0.92308795],\n",
       "        [ 1.867747  ],\n",
       "        [-0.8448795 ],\n",
       "        [-0.7524186 ]], dtype=float32),\n",
       " array([0.2680773], dtype=float32)]"
      ]
     },
     "execution_count": 61,
     "metadata": {},
     "output_type": "execute_result"
    }
   ],
   "source": [
    "# chargement des poids sauvegardés\n",
    "new_model3.load_weights('models/mes_poids.h5')\n",
    "new_model3.get_weights()"
   ]
  },
  {
   "cell_type": "markdown",
   "metadata": {},
   "source": [
    "## Complément sur l'overfitting\n",
    "\n",
    "Toujours sur les données de la banque, entrainer un réseau ayant une structure complexe avec beaucoup de neurones et de couches afin de générer une situation d'overfitting.  \n",
    "Comparer l'accuracy sur les échantillons train et test pour confirmer le cas de sur-apprentissage.\n",
    "\n",
    "Reprendre le même réseau en utilisant des layers `Dropout` pour réduire ce problème.  \n",
    "Comparer à nouveau l'accuracy pour voir l'effet des `Dropout` sur l'overfitting.\n",
    "\n",
    "Une autre méthode pour limiter le sur-apprentissage est la régularisation. Est-il possible d'en faire avec un réseau de neurones ? Si oui, allez-y"
   ]
  },
  {
   "cell_type": "code",
   "execution_count": null,
   "metadata": {},
   "outputs": [],
   "source": []
  }
 ],
 "metadata": {
  "kernelspec": {
   "display_name": "Python 3",
   "language": "python",
   "name": "python3"
  },
  "language_info": {
   "codemirror_mode": {
    "name": "ipython",
    "version": 3
   },
   "file_extension": ".py",
   "mimetype": "text/x-python",
   "name": "python",
   "nbconvert_exporter": "python",
   "pygments_lexer": "ipython3",
   "version": "3.8.12"
  }
 },
 "nbformat": 4,
 "nbformat_minor": 4
}
