{
 "cells": [
  {
   "cell_type": "markdown",
   "metadata": {},
   "source": [
    "# Exercice loi des grands nombres"
   ]
  },
  {
   "cell_type": "markdown",
   "metadata": {},
   "source": [
    "La notation mathématique peut paraître \"barbare\" $$\\lim\\limits_{n \\rightarrow +\\infty} \\hat{X}_n = E(X)$$\n",
    "En réalité, le principe est très simple : plus l'échantillon grandi, plus la moyenne de l'échantillon est proche de l'espérance c'est-à-dire la \"vraie\" moyenne.\n",
    "\n",
    "*Exemple \"pile ou face\" :*\n",
    "- sur 10 tirages on peut très bien avoir 7 piles/3 faces\n",
    "- sur 100 tirages, peu probable d'avoir 70 piles/ 30 faces, on sera plus proche de 55 piles / 45 faces par exemple\n",
    "- sur 1000 tirages, c'est quasi impossible d'avoir 700 faces et 300 piles à moins que la pièce soit pipée...on sera plus autour de 520/480 par exemple"
   ]
  },
  {
   "cell_type": "markdown",
   "metadata": {},
   "source": [
    "La loi normale centrée réduite (c'est à dire une loi normale d'espérance 0 et de variance 1)\n",
    "\n",
    "<img src=\"normale_0_1.png\">"
   ]
  },
  {
   "cell_type": "markdown",
   "metadata": {},
   "source": [
    "On va tester la loi des grands nombre pour un échantillon de taille *n* suivant une loi normale centrée réduite :\n",
    "- créer une échantillon de taille n qui suit une loi normale centrée réduite *indication: on utilisera la fonction randn()*\n",
    "- calculer le nombre d'éléments de l'échantillon compris entre -1 et 1 diviser ce nombre par n (cela donne donc la probabilité empirique d'être compris entre -1 et 1)\n",
    "- selon la distribution de la loi normale centrée réduite, on sait que l'espérance est de 68,3% et selon la loi des grands nombre notre moyenne doit tendre vers cette espérance lorsque n augmente : vérifier ce dernier point"
   ]
  },
  {
   "cell_type": "code",
   "execution_count": 34,
   "metadata": {},
   "outputs": [],
   "source": [
    "import numpy as np"
   ]
  },
  {
   "cell_type": "code",
   "execution_count": 39,
   "metadata": {},
   "outputs": [],
   "source": [
    "def lgn(n):\n",
    "    echantillon = np.random.randn(n)\n",
    "    cpt1 = 0\n",
    "    cpt2 = 0\n",
    "    for nb in echantillon:\n",
    "        if -1<=nb<=1:\n",
    "            cpt1 += 1\n",
    "\n",
    "        if -2<=nb<=2:\n",
    "            cpt2 += 1\n",
    "\n",
    "    p1 = cpt1/n\n",
    "    p2 = cpt2/n\n",
    "    moy = sum(echantillon)/n\n",
    "\n",
    "    return moy, p1, p2"
   ]
  },
  {
   "cell_type": "code",
   "execution_count": 67,
   "metadata": {},
   "outputs": [
    {
     "name": "stdout",
     "output_type": "stream",
     "text": [
      "pour n=1 : moyenne = 2.063642602357856, P([-1,1]) = 0.0, P([-2,2]) = 0.0\n",
      "pour n=2 : moyenne = 0.10452961139295347, P([-1,1]) = 0.0, P([-2,2]) = 1.0\n",
      "pour n=5 : moyenne = 0.5599398862155638, P([-1,1]) = 0.8, P([-2,2]) = 0.8\n",
      "pour n=10 : moyenne = -0.3100425127098724, P([-1,1]) = 0.6, P([-2,2]) = 1.0\n",
      "pour n=20 : moyenne = -0.4074527142178249, P([-1,1]) = 0.6, P([-2,2]) = 0.95\n",
      "pour n=50 : moyenne = 0.06446139214556475, P([-1,1]) = 0.82, P([-2,2]) = 0.96\n",
      "pour n=100 : moyenne = 0.13714361010959922, P([-1,1]) = 0.7, P([-2,2]) = 0.94\n",
      "pour n=200 : moyenne = 0.07688009600134121, P([-1,1]) = 0.675, P([-2,2]) = 0.965\n",
      "pour n=500 : moyenne = 0.008147239451371073, P([-1,1]) = 0.664, P([-2,2]) = 0.96\n",
      "pour n=1000 : moyenne = -0.03267768042007409, P([-1,1]) = 0.693, P([-2,2]) = 0.962\n",
      "pour n=2000 : moyenne = 0.014883493346882774, P([-1,1]) = 0.686, P([-2,2]) = 0.962\n",
      "pour n=5000 : moyenne = -0.0212994979657367, P([-1,1]) = 0.6914, P([-2,2]) = 0.9522\n",
      "pour n=10000 : moyenne = -0.008118275275703553, P([-1,1]) = 0.6899, P([-2,2]) = 0.9578\n",
      "pour n=20000 : moyenne = 0.0033861103993435295, P([-1,1]) = 0.68165, P([-2,2]) = 0.9527\n",
      "pour n=50000 : moyenne = -0.0038764173838518722, P([-1,1]) = 0.67926, P([-2,2]) = 0.95426\n"
     ]
    }
   ],
   "source": [
    "for i in range(5):\n",
    "    for k in [1,2,5]:\n",
    "        n = k *10**i\n",
    "        res = lgn(n)\n",
    "        print(f\"pour n={n} : moyenne = {res[0]}, P([-1,1]) = {res[1]}, P([-2,2]) = {res[2]}\")"
   ]
  },
  {
   "cell_type": "code",
   "execution_count": null,
   "metadata": {},
   "outputs": [],
   "source": []
  }
 ],
 "metadata": {
  "kernelspec": {
   "display_name": "Python 3",
   "language": "python",
   "name": "python3"
  },
  "language_info": {
   "codemirror_mode": {
    "name": "ipython",
    "version": 3
   },
   "file_extension": ".py",
   "mimetype": "text/x-python",
   "name": "python",
   "nbconvert_exporter": "python",
   "pygments_lexer": "ipython3",
   "version": "3.8.11"
  }
 },
 "nbformat": 4,
 "nbformat_minor": 4
}
