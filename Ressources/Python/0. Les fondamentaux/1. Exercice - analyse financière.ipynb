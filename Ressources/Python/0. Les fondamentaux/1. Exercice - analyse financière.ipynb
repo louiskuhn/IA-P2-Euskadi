{
 "cells": [
  {
   "cell_type": "markdown",
   "metadata": {},
   "source": [
    "# Exercice analyse financière"
   ]
  },
  {
   "cell_type": "markdown",
   "metadata": {},
   "source": [
    "*__Scénario :__*  \n",
    "Vous travaillez pour une boîte de conseil et un de vos collègue du département d'audit vous demande de l'aider à mesurer la situation financière de l'entreprise ABC.  \n",
    "Pour cela, vous disposez de 2 listes de données : le revenu mensuel de l'année 2018 et les dépenses mensuelles de l'année 2018.\n",
    "\n",
    "*__Votre tâche :__*  \n",
    "Vous devez calculer les mesures suivantes :\n",
    "- le bénéfice mensuel\n",
    "- le bénéfice mensuel net (avec un taux d'imposition de 30%)\n",
    "- la marge bénéficiaire nette\n",
    "- les \"bons\" mois : ceux où le bénéfice est supérieur au bénéfice mensuel moyen\n",
    "- les \"mauvais\" mois : ceux où le bénéfice est inférieur au bénéfice mensuel moyen\n",
    "- le \"meilleur\" mois\n",
    "- le \"pire\" mois\n",
    "\n",
    "*__Vos contraintes :__*  \n",
    "Les résultats doivent être présentés sous une certaine forme :\n",
    "- les résultats doivent être présentés sous forme de listes\n",
    "- les résultats monnétaires en euro doivent être calculés avec une précision de 0,01€ mais doivent être présentés en unités de 1000€ (k€) sans nombre décimal\n",
    "- la marge bénéficiaire nette doit être présentée % arrondi à l'unité\n",
    "\n",
    "**Note :** les taxes de certains mois peuvent tout à fait être négatives"
   ]
  },
  {
   "cell_type": "code",
   "execution_count": 1,
   "metadata": {},
   "outputs": [],
   "source": [
    "# données \n",
    "rev = [14574.49, 7606.46, 8611.41, 9175.41, 8058.65, 8105.44, 11496.28, 9766.09, 10305.32, 14379.96, 10713.97, 15433.50]\n",
    "dep = [12051.82, 5695.07, 12319.20, 12089.72, 8658.57, 840.20, 3285.73, 5821.12, 6976.93, 16618.61, 10054.37, 3803.96]"
   ]
  },
  {
   "cell_type": "code",
   "execution_count": 2,
   "metadata": {},
   "outputs": [
    {
     "data": {
      "text/plain": [
       "(12, 12)"
      ]
     },
     "execution_count": 2,
     "metadata": {},
     "output_type": "execute_result"
    }
   ],
   "source": [
    "len(rev), len(dep)"
   ]
  },
  {
   "cell_type": "markdown",
   "metadata": {},
   "source": [
    "## Bénéfice mensuel"
   ]
  },
  {
   "cell_type": "code",
   "execution_count": 3,
   "metadata": {},
   "outputs": [
    {
     "data": {
      "text/plain": [
       "[2522.67,\n",
       " 1911.3900000000003,\n",
       " -3707.790000000001,\n",
       " -2914.3099999999995,\n",
       " -599.9200000000001,\n",
       " 7265.24,\n",
       " 8210.550000000001,\n",
       " 3944.9700000000003,\n",
       " 3328.3899999999994,\n",
       " -2238.6500000000015,\n",
       " 659.5999999999985,\n",
       " 11629.54]"
      ]
     },
     "execution_count": 3,
     "metadata": {},
     "output_type": "execute_result"
    }
   ],
   "source": [
    "bm = [round(rev[i]-dep[i],2) for i in range(len(rev))]\n",
    "bm\n",
    "\n",
    "#bm = [round(rev_el-dep_el,2) for rev_el, dep_el in zip(rev, dep)]\n",
    "\n",
    "#bm=[]\n",
    "#for i in range(len(rev)):\n",
    "#    bm.append(round(rev[i]-dep[i],2))"
   ]
  },
  {
   "cell_type": "markdown",
   "metadata": {},
   "source": [
    "## Bénéfice mensuel net"
   ]
  },
  {
   "cell_type": "code",
   "execution_count": 5,
   "metadata": {},
   "outputs": [
    {
     "data": {
      "text/plain": [
       "[1765.87,\n",
       " 1337.97,\n",
       " -2595.45,\n",
       " -2040.02,\n",
       " -419.94,\n",
       " 5085.67,\n",
       " 5747.39,\n",
       " 2761.48,\n",
       " 2329.87,\n",
       " -1567.06,\n",
       " 461.72,\n",
       " 8140.68]"
      ]
     },
     "execution_count": 5,
     "metadata": {},
     "output_type": "execute_result"
    }
   ],
   "source": [
    "bmn = [round(bm_element*0.7,2) for bm_element in bm]\n",
    "bmn"
   ]
  },
  {
   "cell_type": "markdown",
   "metadata": {},
   "source": [
    "## Marge bénéficiaire nette"
   ]
  },
  {
   "cell_type": "code",
   "execution_count": 8,
   "metadata": {},
   "outputs": [
    {
     "data": {
      "text/plain": [
       "16"
      ]
     },
     "execution_count": 8,
     "metadata": {},
     "output_type": "execute_result"
    }
   ],
   "source": [
    "# Marge bénéficiaire nette annuelle\n",
    "mbn = round(sum(bmn)/sum(rev)*100)\n",
    "mbn"
   ]
  },
  {
   "cell_type": "code",
   "execution_count": 6,
   "metadata": {},
   "outputs": [
    {
     "data": {
      "text/plain": [
       "[12, 18, -30, -22, -5, 63, 50, 28, 23, -11, 4, 53]"
      ]
     },
     "execution_count": 6,
     "metadata": {},
     "output_type": "execute_result"
    }
   ],
   "source": [
    "# Marges bénéficiaires nettes mensuelles\n",
    "mbnm = [round(bmn[i]/rev[i]*100) for i in range(len(bmn))]\n",
    "mbnm"
   ]
  },
  {
   "cell_type": "markdown",
   "metadata": {},
   "source": [
    "## Bons mois / mauvais mois"
   ]
  },
  {
   "cell_type": "code",
   "execution_count": 13,
   "metadata": {},
   "outputs": [
    {
     "data": {
      "text/plain": [
       "1750.68"
      ]
     },
     "execution_count": 13,
     "metadata": {},
     "output_type": "execute_result"
    }
   ],
   "source": [
    "bmm = round(sum(bmn)/len(bmn),2)\n",
    "bmm"
   ]
  },
  {
   "cell_type": "code",
   "execution_count": 16,
   "metadata": {},
   "outputs": [
    {
     "data": {
      "text/plain": [
       "[(1, 1765.87),\n",
       " (6, 5085.67),\n",
       " (7, 5747.39),\n",
       " (8, 2761.48),\n",
       " (9, 2329.87),\n",
       " (12, 8140.68)]"
      ]
     },
     "execution_count": 16,
     "metadata": {},
     "output_type": "execute_result"
    }
   ],
   "source": [
    "bons = [(mois+1, element) for mois,element in enumerate(bmn) if element >= bmm]\n",
    "bons"
   ]
  },
  {
   "cell_type": "code",
   "execution_count": 20,
   "metadata": {},
   "outputs": [
    {
     "data": {
      "text/plain": [
       "[(2, 1337.97),\n",
       " (3, -2595.45),\n",
       " (4, -2040.02),\n",
       " (5, -419.94),\n",
       " (10, -1567.06),\n",
       " (11, 461.72)]"
      ]
     },
     "execution_count": 20,
     "metadata": {},
     "output_type": "execute_result"
    }
   ],
   "source": [
    "mauvais = []\n",
    "for mois,element in enumerate(bmn):\n",
    "    if element < bmm:\n",
    "        mauvais.append((mois+1, element))\n",
    "mauvais"
   ]
  },
  {
   "cell_type": "markdown",
   "metadata": {},
   "source": [
    "## Meilleur mois /pire mois"
   ]
  },
  {
   "cell_type": "code",
   "execution_count": 29,
   "metadata": {},
   "outputs": [
    {
     "data": {
      "text/plain": [
       "(12, 8140.68)"
      ]
     },
     "execution_count": 29,
     "metadata": {},
     "output_type": "execute_result"
    }
   ],
   "source": [
    "meilleur = max(bmn)\n",
    "bmn.index(meilleur)+1, meilleur"
   ]
  },
  {
   "cell_type": "code",
   "execution_count": 30,
   "metadata": {},
   "outputs": [
    {
     "data": {
      "text/plain": [
       "(3, -2595.45)"
      ]
     },
     "execution_count": 30,
     "metadata": {},
     "output_type": "execute_result"
    }
   ],
   "source": [
    "pire = min(bmn)\n",
    "bmn.index(pire)+1, pire"
   ]
  },
  {
   "cell_type": "code",
   "execution_count": 31,
   "metadata": {},
   "outputs": [
    {
     "data": {
      "text/plain": [
       "[(12, 8140.68)]"
      ]
     },
     "execution_count": 31,
     "metadata": {},
     "output_type": "execute_result"
    }
   ],
   "source": [
    "meilleur = [(idx+1, val) for idx,val in enumerate(bmn) if val==max(bmn)]\n",
    "meilleur"
   ]
  },
  {
   "cell_type": "code",
   "execution_count": 32,
   "metadata": {},
   "outputs": [
    {
     "data": {
      "text/plain": [
       "[(3, -2595.45)]"
      ]
     },
     "execution_count": 32,
     "metadata": {},
     "output_type": "execute_result"
    }
   ],
   "source": [
    "pire = [(idx+1, val) for idx,val in enumerate(bmn) if val==min(bmn)]\n",
    "pire"
   ]
  },
  {
   "cell_type": "code",
   "execution_count": null,
   "metadata": {},
   "outputs": [],
   "source": []
  }
 ],
 "metadata": {
  "kernelspec": {
   "display_name": "Python 3",
   "language": "python",
   "name": "python3"
  },
  "language_info": {
   "codemirror_mode": {
    "name": "ipython",
    "version": 3
   },
   "file_extension": ".py",
   "mimetype": "text/x-python",
   "name": "python",
   "nbconvert_exporter": "python",
   "pygments_lexer": "ipython3",
   "version": "3.8.11"
  }
 },
 "nbformat": 4,
 "nbformat_minor": 4
}
