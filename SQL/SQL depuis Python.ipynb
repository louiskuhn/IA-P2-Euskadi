{
 "cells": [
  {
   "cell_type": "markdown",
   "id": "57d03461-c071-4a85-9f00-eb45911c6553",
   "metadata": {},
   "source": [
    "# Connexion à MariaDB depuis Python\n",
    "\n",
    "## Import des librairies"
   ]
  },
  {
   "cell_type": "code",
   "execution_count": 4,
   "id": "8dafb2f5-1c1c-415d-bd8d-342e3f552d00",
   "metadata": {},
   "outputs": [],
   "source": [
    "import mysql.connector as mariadb\n",
    "import os"
   ]
  },
  {
   "cell_type": "markdown",
   "id": "320687b6-505f-40d7-9de2-f8ecefa68f2f",
   "metadata": {},
   "source": [
    "## Informations de connexion"
   ]
  },
  {
   "cell_type": "code",
   "execution_count": 5,
   "id": "377bd942-ddaf-43e1-8df4-5bb566e54296",
   "metadata": {},
   "outputs": [],
   "source": [
    "mariadb_usr = os.getenv('mariadb_usr')\n",
    "mariadb_pwd = os.getenv('mariadb_pwd')"
   ]
  },
  {
   "cell_type": "markdown",
   "id": "95145290-16b8-4e60-96cb-6fd3acb76daa",
   "metadata": {
    "tags": []
   },
   "source": [
    "## Connexion au SGBDR MariaDB"
   ]
  },
  {
   "cell_type": "code",
   "execution_count": 6,
   "id": "581faf81-1e3a-4f0a-859a-830d16eef080",
   "metadata": {},
   "outputs": [],
   "source": [
    "db = mariadb.connect(host='localhost', user=mariadb_usr, password=mariadb_pwd)"
   ]
  },
  {
   "cell_type": "markdown",
   "id": "f22c7251-cb31-42b4-907d-6192f462c8fe",
   "metadata": {},
   "source": [
    "## Instanciation d'un curseur"
   ]
  },
  {
   "cell_type": "code",
   "execution_count": 7,
   "id": "94e48ab7-d4cf-40b0-be54-966202d2c336",
   "metadata": {},
   "outputs": [],
   "source": [
    "curseur = db.cursor()"
   ]
  },
  {
   "cell_type": "markdown",
   "id": "1f8de1ff-0593-4eff-9b4f-0b7bdd50bea3",
   "metadata": {},
   "source": [
    "## Requetage SQL "
   ]
  },
  {
   "cell_type": "code",
   "execution_count": 8,
   "id": "a625589d-d300-4bf5-9563-b852aedc212f",
   "metadata": {},
   "outputs": [],
   "source": [
    "curseur.execute(\"CREATE DATABASE IF NOT EXISTS test\")\n",
    "curseur.execute(\"USE test\")\n",
    "curseur.execute(\"CREATE TABLE IF NOT EXISTS test_table (nom VARCHAR(255), prenom VARCHAR(255))\")\n",
    "curseur.execute(\"INSERT INTO test_table VALUES (f'Snow', 'John')\")\n",
    "db.commit()"
   ]
  },
  {
   "cell_type": "markdown",
   "id": "48181c89-0815-45ce-a1ba-2dc497b72910",
   "metadata": {},
   "source": [
    "## Fermeture du curseur et de la connection"
   ]
  },
  {
   "cell_type": "code",
   "execution_count": 9,
   "id": "f386120e-95f9-4a09-8aff-739c6c35590f",
   "metadata": {},
   "outputs": [],
   "source": [
    "curseur.close()\n",
    "db.close()"
   ]
  },
  {
   "cell_type": "code",
   "execution_count": null,
   "id": "c36de13e-273b-4f76-87cb-cc4ca5ad4406",
   "metadata": {},
   "outputs": [],
   "source": []
  }
 ],
 "metadata": {
  "kernelspec": {
   "display_name": "Python 3",
   "language": "python",
   "name": "python3"
  },
  "language_info": {
   "codemirror_mode": {
    "name": "ipython",
    "version": 3
   },
   "file_extension": ".py",
   "mimetype": "text/x-python",
   "name": "python",
   "nbconvert_exporter": "python",
   "pygments_lexer": "ipython3",
   "version": "3.8.12"
  }
 },
 "nbformat": 4,
 "nbformat_minor": 5
}
