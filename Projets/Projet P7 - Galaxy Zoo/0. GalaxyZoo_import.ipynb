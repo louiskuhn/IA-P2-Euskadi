{
 "cells": [
  {
   "cell_type": "markdown",
   "metadata": {},
   "source": [
    "# Chargement des id et des probas"
   ]
  },
  {
   "cell_type": "code",
   "execution_count": 1,
   "metadata": {},
   "outputs": [
    {
     "data": {
      "text/html": [
       "<div>\n",
       "<style scoped>\n",
       "    .dataframe tbody tr th:only-of-type {\n",
       "        vertical-align: middle;\n",
       "    }\n",
       "\n",
       "    .dataframe tbody tr th {\n",
       "        vertical-align: top;\n",
       "    }\n",
       "\n",
       "    .dataframe thead th {\n",
       "        text-align: right;\n",
       "    }\n",
       "</style>\n",
       "<table border=\"1\" class=\"dataframe\">\n",
       "  <thead>\n",
       "    <tr style=\"text-align: right;\">\n",
       "      <th></th>\n",
       "      <th>GalaxyID</th>\n",
       "      <th>Class1.1</th>\n",
       "      <th>Class1.2</th>\n",
       "      <th>Class1.3</th>\n",
       "    </tr>\n",
       "  </thead>\n",
       "  <tbody>\n",
       "    <tr>\n",
       "      <th>0</th>\n",
       "      <td>100008</td>\n",
       "      <td>0.383147</td>\n",
       "      <td>0.616853</td>\n",
       "      <td>0.000000</td>\n",
       "    </tr>\n",
       "    <tr>\n",
       "      <th>1</th>\n",
       "      <td>100023</td>\n",
       "      <td>0.327001</td>\n",
       "      <td>0.663777</td>\n",
       "      <td>0.009222</td>\n",
       "    </tr>\n",
       "    <tr>\n",
       "      <th>2</th>\n",
       "      <td>100053</td>\n",
       "      <td>0.765717</td>\n",
       "      <td>0.177352</td>\n",
       "      <td>0.056931</td>\n",
       "    </tr>\n",
       "    <tr>\n",
       "      <th>3</th>\n",
       "      <td>100078</td>\n",
       "      <td>0.693377</td>\n",
       "      <td>0.238564</td>\n",
       "      <td>0.068059</td>\n",
       "    </tr>\n",
       "    <tr>\n",
       "      <th>4</th>\n",
       "      <td>100090</td>\n",
       "      <td>0.933839</td>\n",
       "      <td>0.000000</td>\n",
       "      <td>0.066161</td>\n",
       "    </tr>\n",
       "    <tr>\n",
       "      <th>...</th>\n",
       "      <td>...</td>\n",
       "      <td>...</td>\n",
       "      <td>...</td>\n",
       "      <td>...</td>\n",
       "    </tr>\n",
       "    <tr>\n",
       "      <th>61573</th>\n",
       "      <td>999948</td>\n",
       "      <td>0.510379</td>\n",
       "      <td>0.489621</td>\n",
       "      <td>0.000000</td>\n",
       "    </tr>\n",
       "    <tr>\n",
       "      <th>61574</th>\n",
       "      <td>999950</td>\n",
       "      <td>0.901216</td>\n",
       "      <td>0.098784</td>\n",
       "      <td>0.000000</td>\n",
       "    </tr>\n",
       "    <tr>\n",
       "      <th>61575</th>\n",
       "      <td>999958</td>\n",
       "      <td>0.202841</td>\n",
       "      <td>0.777376</td>\n",
       "      <td>0.019783</td>\n",
       "    </tr>\n",
       "    <tr>\n",
       "      <th>61576</th>\n",
       "      <td>999964</td>\n",
       "      <td>0.091000</td>\n",
       "      <td>0.909000</td>\n",
       "      <td>0.000000</td>\n",
       "    </tr>\n",
       "    <tr>\n",
       "      <th>61577</th>\n",
       "      <td>999967</td>\n",
       "      <td>0.767000</td>\n",
       "      <td>0.140000</td>\n",
       "      <td>0.093000</td>\n",
       "    </tr>\n",
       "  </tbody>\n",
       "</table>\n",
       "<p>61578 rows × 4 columns</p>\n",
       "</div>"
      ],
      "text/plain": [
       "       GalaxyID  Class1.1  Class1.2  Class1.3\n",
       "0        100008  0.383147  0.616853  0.000000\n",
       "1        100023  0.327001  0.663777  0.009222\n",
       "2        100053  0.765717  0.177352  0.056931\n",
       "3        100078  0.693377  0.238564  0.068059\n",
       "4        100090  0.933839  0.000000  0.066161\n",
       "...         ...       ...       ...       ...\n",
       "61573    999948  0.510379  0.489621  0.000000\n",
       "61574    999950  0.901216  0.098784  0.000000\n",
       "61575    999958  0.202841  0.777376  0.019783\n",
       "61576    999964  0.091000  0.909000  0.000000\n",
       "61577    999967  0.767000  0.140000  0.093000\n",
       "\n",
       "[61578 rows x 4 columns]"
      ]
     },
     "execution_count": 1,
     "metadata": {},
     "output_type": "execute_result"
    }
   ],
   "source": [
    "import pandas as pd\n",
    "df = pd.read_csv(\"data/training_solutions_rev1.csv\", usecols=[0,1,2,3])\n",
    "df"
   ]
  },
  {
   "cell_type": "markdown",
   "metadata": {},
   "source": [
    "# Suppression de la classe 3 qui n'a que 59 images..."
   ]
  },
  {
   "cell_type": "code",
   "execution_count": 2,
   "metadata": {},
   "outputs": [
    {
     "data": {
      "text/plain": [
       "(61519, 3)"
      ]
     },
     "execution_count": 2,
     "metadata": {},
     "output_type": "execute_result"
    }
   ],
   "source": [
    "df = df.drop(df[(df['Class1.3'] > df['Class1.2']) & (df['Class1.3'] > df['Class1.1'])].index)\n",
    "df = df.drop(['Class1.3'], axis=1)\n",
    "df.shape"
   ]
  },
  {
   "cell_type": "markdown",
   "metadata": {},
   "source": [
    "# Échantillons test et d'entraînement"
   ]
  },
  {
   "cell_type": "code",
   "execution_count": 3,
   "metadata": {},
   "outputs": [
    {
     "data": {
      "text/plain": [
       "((39987, 3), (21532, 3))"
      ]
     },
     "execution_count": 3,
     "metadata": {},
     "output_type": "execute_result"
    }
   ],
   "source": [
    "from sklearn.model_selection import train_test_split\n",
    "df_train, df_test = train_test_split(df, test_size=.35)\n",
    "df_train.shape, df_test.shape"
   ]
  },
  {
   "cell_type": "markdown",
   "metadata": {},
   "source": [
    "# Chargement des images, crop, resize et normalisation"
   ]
  },
  {
   "cell_type": "code",
   "execution_count": 4,
   "metadata": {},
   "outputs": [],
   "source": [
    "import cv2\n",
    "from tqdm import tqdm\n",
    "import numpy as np\n",
    "\n",
    "shape_in =  (424,424)\n",
    "crop =      (256,256)\n",
    "shape_out = (64,64)\n",
    "    \n",
    "def get_crop_resize_images(df, shape_out=shape_out, crop=crop):\n",
    "    x_start = (shape_in[0] - crop[0])//2\n",
    "    y_start = (shape_in[1] - crop[1])//2\n",
    "    \n",
    "    x_end = x_start + crop[0]\n",
    "    y_end = y_start + crop[1]\n",
    "   \n",
    "    val = df.values\n",
    "    ids = val[:,0].astype(int).astype(str)\n",
    "    y = val[:,1:]\n",
    "    X = []\n",
    "    \n",
    "    for i in tqdm(ids):\n",
    "        x = cv2.imread(f'data/images_training_rev1/{i}.jpg')\n",
    "        x = x[x_start:x_end, y_start:y_end]\n",
    "        x = cv2.resize(x, shape_out)\n",
    "        x = x/255.\n",
    "        X.append(x)        \n",
    "    X = np.array(X)\n",
    "    return X, y"
   ]
  },
  {
   "cell_type": "code",
   "execution_count": 5,
   "metadata": {},
   "outputs": [],
   "source": [
    "#X_train, y_train = get_crop_resize_images(df_train)"
   ]
  },
  {
   "cell_type": "code",
   "execution_count": 6,
   "metadata": {},
   "outputs": [],
   "source": [
    "#X_test, y_test = get_crop_resize_images(df_test)"
   ]
  },
  {
   "cell_type": "code",
   "execution_count": 7,
   "metadata": {},
   "outputs": [
    {
     "name": "stderr",
     "output_type": "stream",
     "text": [
      "100%|█████████████████████████████████████████████████████████████████████████████████████████████████████████| 3999/3999 [00:12<00:00, 315.60it/s]\n",
      "100%|█████████████████████████████████████████████████████████████████████████████████████████████████████████| 3999/3999 [00:12<00:00, 309.17it/s]\n",
      "100%|█████████████████████████████████████████████████████████████████████████████████████████████████████████| 3999/3999 [00:13<00:00, 307.51it/s]\n",
      "100%|█████████████████████████████████████████████████████████████████████████████████████████████████████████| 3999/3999 [00:13<00:00, 304.25it/s]\n",
      "100%|█████████████████████████████████████████████████████████████████████████████████████████████████████████| 3999/3999 [00:13<00:00, 302.16it/s]\n",
      "100%|█████████████████████████████████████████████████████████████████████████████████████████████████████████| 3999/3999 [00:12<00:00, 322.17it/s]\n",
      "100%|█████████████████████████████████████████████████████████████████████████████████████████████████████████| 3999/3999 [00:12<00:00, 322.62it/s]\n",
      "100%|█████████████████████████████████████████████████████████████████████████████████████████████████████████| 3998/3998 [00:13<00:00, 306.49it/s]\n",
      "100%|█████████████████████████████████████████████████████████████████████████████████████████████████████████| 3998/3998 [00:12<00:00, 311.58it/s]\n",
      "100%|█████████████████████████████████████████████████████████████████████████████████████████████████████████| 3998/3998 [00:12<00:00, 315.93it/s]\n"
     ]
    }
   ],
   "source": [
    "# plus compliqué mais plus rapide : version en parallélisant les calculs\n",
    "from multiprocessing import Pool\n",
    "\n",
    "with Pool(5) as p:\n",
    "    res_train = p.map(get_crop_resize_images, np.array_split(df_train, 10))"
   ]
  },
  {
   "cell_type": "code",
   "execution_count": 8,
   "metadata": {},
   "outputs": [
    {
     "name": "stderr",
     "output_type": "stream",
     "text": [
      "100%|█████████████████████████████████████████████████████████████████████████████████████████████████████████| 2153/2153 [00:06<00:00, 312.73it/s]\n",
      "100%|█████████████████████████████████████████████████████████████████████████████████████████████████████████| 2154/2154 [00:07<00:00, 307.65it/s]\n",
      "100%|█████████████████████████████████████████████████████████████████████████████████████████████████████████| 2154/2154 [00:07<00:00, 307.42it/s]\n",
      "100%|█████████████████████████████████████████████████████████████████████████████████████████████████████████| 2153/2153 [00:07<00:00, 304.60it/s]\n",
      "100%|█████████████████████████████████████████████████████████████████████████████████████████████████████████| 2153/2153 [00:07<00:00, 302.00it/s]\n",
      "100%|█████████████████████████████████████████████████████████████████████████████████████████████████████████| 2153/2153 [00:06<00:00, 326.51it/s]\n",
      "100%|█████████████████████████████████████████████████████████████████████████████████████████████████████████| 2153/2153 [00:07<00:00, 300.72it/s]\n",
      "100%|█████████████████████████████████████████████████████████████████████████████████████████████████████████| 2153/2153 [00:07<00:00, 303.46it/s]\n",
      "100%|█████████████████████████████████████████████████████████████████████████████████████████████████████████| 2153/2153 [00:07<00:00, 304.82it/s]\n",
      "100%|█████████████████████████████████████████████████████████████████████████████████████████████████████████| 2153/2153 [00:07<00:00, 306.56it/s]\n"
     ]
    }
   ],
   "source": [
    "with Pool(5) as p:\n",
    "    res_test = p.map(get_crop_resize_images, np.array_split(df_test, 10))"
   ]
  },
  {
   "cell_type": "code",
   "execution_count": 9,
   "metadata": {},
   "outputs": [],
   "source": [
    "X_train = np.vstack([res_train[k][0] for k in range(len(res_train))])"
   ]
  },
  {
   "cell_type": "code",
   "execution_count": 10,
   "metadata": {},
   "outputs": [],
   "source": [
    "X_test = np.vstack([res_test[k][0] for k in range(len(res_test))])"
   ]
  },
  {
   "cell_type": "code",
   "execution_count": 11,
   "metadata": {},
   "outputs": [],
   "source": [
    "y_train = np.vstack([res_train[k][1] for k in range(len(res_train))])"
   ]
  },
  {
   "cell_type": "code",
   "execution_count": 12,
   "metadata": {},
   "outputs": [],
   "source": [
    "y_test = np.vstack([res_test[k][1] for k in range(len(res_test))])"
   ]
  },
  {
   "cell_type": "code",
   "execution_count": 13,
   "metadata": {},
   "outputs": [
    {
     "name": "stdout",
     "output_type": "stream",
     "text": [
      "X_train (39987, 64, 64, 3)\n",
      "y_train (39987, 2)\n",
      "X_test (21532, 64, 64, 3)\n",
      "y_test (21532, 2)\n"
     ]
    }
   ],
   "source": [
    "print('X_train', X_train.shape)\n",
    "print('y_train', y_train.shape)\n",
    "print('X_test', X_test.shape)\n",
    "print('y_test', y_test.shape)"
   ]
  },
  {
   "cell_type": "markdown",
   "metadata": {},
   "source": [
    "# Sauvegarde des array"
   ]
  },
  {
   "cell_type": "code",
   "execution_count": 15,
   "metadata": {},
   "outputs": [],
   "source": [
    "np.save('arrays/X_train', X_train)\n",
    "np.save('arrays/y_train', y_train)\n",
    "np.save('arrays/X_test', X_test)\n",
    "np.save('arrays/y_test', y_test)"
   ]
  }
 ],
 "metadata": {
  "kernelspec": {
   "display_name": "Python 3",
   "language": "python",
   "name": "python3"
  },
  "language_info": {
   "codemirror_mode": {
    "name": "ipython",
    "version": 3
   },
   "file_extension": ".py",
   "mimetype": "text/x-python",
   "name": "python",
   "nbconvert_exporter": "python",
   "pygments_lexer": "ipython3",
   "version": "3.8.12"
  },
  "toc": {
   "base_numbering": 1,
   "nav_menu": {},
   "number_sections": true,
   "sideBar": true,
   "skip_h1_title": false,
   "title_cell": "Table of Contents",
   "title_sidebar": "Contents",
   "toc_cell": false,
   "toc_position": {},
   "toc_section_display": true,
   "toc_window_display": false
  }
 },
 "nbformat": 4,
 "nbformat_minor": 4
}
