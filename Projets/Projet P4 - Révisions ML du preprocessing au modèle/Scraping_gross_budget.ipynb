{
 "cells": [
  {
   "cell_type": "markdown",
   "metadata": {},
   "source": [
    "**Dans le dataset initial (5000_movies.csv)**, il y a beaucoup de valeurs manquantes dans `gross` et dans `budget` donc imputation délicate mais comme on veut garder ces variables, on va alors supprimer les lignes. Avant cette suppression on peut essayer de scraper IMDB pour obtenir des informations supplémentaires. Pour cela, un petit notebook séparé dans le même dossier permet de récupérer les données supplémentaires éventuelles, de les ajouter dans les colonnes `gross` et `budget` du dataframe `data`. Comme l'éxecution est un peu longue, on va sauvegarder ce dataframe dans un nouveau csv pour ne pas avoir à le refaire à chaque fois."
   ]
  },
  {
   "cell_type": "code",
   "execution_count": 1,
   "metadata": {
    "colab": {},
    "colab_type": "code",
    "id": "O_h3GW7YI3SY"
   },
   "outputs": [],
   "source": [
    "import numpy as np\n",
    "import pandas as pd\n",
    "\n",
    "from urllib.request import urlopen\n",
    "from bs4 import BeautifulSoup"
   ]
  },
  {
   "cell_type": "code",
   "execution_count": 2,
   "metadata": {},
   "outputs": [],
   "source": [
    "data = pd.read_csv('5000_movies.csv')"
   ]
  },
  {
   "cell_type": "code",
   "execution_count": 3,
   "metadata": {},
   "outputs": [],
   "source": [
    "# scraping des données 'gross' et 'budget'\n",
    "def scrap_gross_budget(row):\n",
    "    link = row['movie_imdb_link']\n",
    "    \n",
    "    # si une des valeurs est manquante on va tenter d'aller les chercher\n",
    "    if (np.isnan(row['gross'])) | (np.isnan(row['budget'])) :\n",
    "        try :\n",
    "            # on récupère la page web\n",
    "            page = urlopen(link).read()\n",
    "            soup = BeautifulSoup(page)\n",
    "\n",
    "            # on récupère dans la page le Domestic Gross\n",
    "            scrap_gross = soup.find('li', {'data-testid':'title-boxoffice-grossdomestic'}).find('span', {'class':\"ipc-metadata-list-item__list-content-item\"})\n",
    "            scrap_gross = float(''.join(c for c in scrap_gross.contents[0] if c.isdigit()))\n",
    "\n",
    "            # on récupère dans la page le Budget\n",
    "            scrap_budget = soup.find('li', {'data-testid':'title-boxoffice-budget'}).find('span', {'class':\"ipc-metadata-list-item__list-content-item\"})\n",
    "            scrap_budget = float(''.join(c for c in scrap_budget.contents[0] if c.isdigit()))\n",
    "                    \n",
    "        except AttributeError as err:\n",
    "            return row[['gross', 'budget']]\n",
    "    \n",
    "    if (np.isnan(row['gross'])) & (np.isnan(row['budget'])) :\n",
    "        return scrap_gross, scrap_budget\n",
    "    \n",
    "    elif (np.isnan(row['gross'])) :\n",
    "        return scrap_gross, row['budget']\n",
    "    \n",
    "    elif (np.isnan(row['budget'])) :\n",
    "        return row['gross'], scrap_budget\n",
    "    \n",
    "    else:\n",
    "        return row[['gross', 'budget']]"
   ]
  },
  {
   "cell_type": "code",
   "execution_count": 4,
   "metadata": {},
   "outputs": [
    {
     "name": "stderr",
     "output_type": "stream",
     "text": [
      "100%|███████████████████████████████████████| 5043/5043 [54:46<00:00,  1.53it/s]\n"
     ]
    }
   ],
   "source": [
    "from tqdm import tqdm\n",
    "tqdm.pandas()\n",
    "data[['gross', 'budget']] = data.progress_apply(scrap_gross_budget, axis=1)"
   ]
  },
  {
   "cell_type": "code",
   "execution_count": 5,
   "metadata": {},
   "outputs": [],
   "source": [
    "# enregistrement du dataframe en csv\n",
    "data.to_csv('5000_movies_bis.csv', index=False)"
   ]
  }
 ],
 "metadata": {
  "kernelspec": {
   "display_name": "Python 3.7.6 64-bit",
   "language": "python",
   "name": "python37664bita52171538b9a4ca5b21bfc37812f360f"
  },
  "language_info": {
   "codemirror_mode": {
    "name": "ipython",
    "version": 3
   },
   "file_extension": ".py",
   "mimetype": "text/x-python",
   "name": "python",
   "nbconvert_exporter": "python",
   "pygments_lexer": "ipython3",
   "version": "3.8.12"
  }
 },
 "nbformat": 4,
 "nbformat_minor": 4
}
