{
 "cells": [
  {
   "cell_type": "markdown",
   "metadata": {},
   "source": [
    "# Validation croisée (cross-validation)"
   ]
  },
  {
   "cell_type": "code",
   "execution_count": 1,
   "metadata": {},
   "outputs": [],
   "source": [
    "import pandas as pd\n",
    "import numpy as np\n",
    "import matplotlib.pyplot as plt\n",
    "import seaborn as sns"
   ]
  },
  {
   "cell_type": "code",
   "execution_count": 2,
   "metadata": {},
   "outputs": [
    {
     "data": {
      "text/html": [
       "<div>\n",
       "<style scoped>\n",
       "    .dataframe tbody tr th:only-of-type {\n",
       "        vertical-align: middle;\n",
       "    }\n",
       "\n",
       "    .dataframe tbody tr th {\n",
       "        vertical-align: top;\n",
       "    }\n",
       "\n",
       "    .dataframe thead th {\n",
       "        text-align: right;\n",
       "    }\n",
       "</style>\n",
       "<table border=\"1\" class=\"dataframe\">\n",
       "  <thead>\n",
       "    <tr style=\"text-align: right;\">\n",
       "      <th></th>\n",
       "      <th>fixed acidity</th>\n",
       "      <th>volatile acidity</th>\n",
       "      <th>citric acid</th>\n",
       "      <th>residual sugar</th>\n",
       "      <th>chlorides</th>\n",
       "      <th>free sulfur dioxide</th>\n",
       "      <th>total sulfur dioxide</th>\n",
       "      <th>density</th>\n",
       "      <th>pH</th>\n",
       "      <th>sulphates</th>\n",
       "      <th>alcohol</th>\n",
       "      <th>quality</th>\n",
       "      <th>color</th>\n",
       "    </tr>\n",
       "  </thead>\n",
       "  <tbody>\n",
       "    <tr>\n",
       "      <th>0</th>\n",
       "      <td>7.4</td>\n",
       "      <td>0.70</td>\n",
       "      <td>0.00</td>\n",
       "      <td>1.9</td>\n",
       "      <td>0.076</td>\n",
       "      <td>11.0</td>\n",
       "      <td>34.0</td>\n",
       "      <td>0.9978</td>\n",
       "      <td>3.51</td>\n",
       "      <td>0.56</td>\n",
       "      <td>9.4</td>\n",
       "      <td>5</td>\n",
       "      <td>red</td>\n",
       "    </tr>\n",
       "    <tr>\n",
       "      <th>1</th>\n",
       "      <td>7.8</td>\n",
       "      <td>0.88</td>\n",
       "      <td>0.00</td>\n",
       "      <td>2.6</td>\n",
       "      <td>0.098</td>\n",
       "      <td>25.0</td>\n",
       "      <td>67.0</td>\n",
       "      <td>0.9968</td>\n",
       "      <td>3.20</td>\n",
       "      <td>0.68</td>\n",
       "      <td>9.8</td>\n",
       "      <td>5</td>\n",
       "      <td>red</td>\n",
       "    </tr>\n",
       "    <tr>\n",
       "      <th>2</th>\n",
       "      <td>7.8</td>\n",
       "      <td>0.76</td>\n",
       "      <td>0.04</td>\n",
       "      <td>2.3</td>\n",
       "      <td>0.092</td>\n",
       "      <td>15.0</td>\n",
       "      <td>54.0</td>\n",
       "      <td>0.9970</td>\n",
       "      <td>3.26</td>\n",
       "      <td>0.65</td>\n",
       "      <td>9.8</td>\n",
       "      <td>5</td>\n",
       "      <td>red</td>\n",
       "    </tr>\n",
       "    <tr>\n",
       "      <th>3</th>\n",
       "      <td>11.2</td>\n",
       "      <td>0.28</td>\n",
       "      <td>0.56</td>\n",
       "      <td>1.9</td>\n",
       "      <td>0.075</td>\n",
       "      <td>17.0</td>\n",
       "      <td>60.0</td>\n",
       "      <td>0.9980</td>\n",
       "      <td>3.16</td>\n",
       "      <td>0.58</td>\n",
       "      <td>9.8</td>\n",
       "      <td>6</td>\n",
       "      <td>red</td>\n",
       "    </tr>\n",
       "    <tr>\n",
       "      <th>4</th>\n",
       "      <td>7.4</td>\n",
       "      <td>0.70</td>\n",
       "      <td>0.00</td>\n",
       "      <td>1.9</td>\n",
       "      <td>0.076</td>\n",
       "      <td>11.0</td>\n",
       "      <td>34.0</td>\n",
       "      <td>0.9978</td>\n",
       "      <td>3.51</td>\n",
       "      <td>0.56</td>\n",
       "      <td>9.4</td>\n",
       "      <td>5</td>\n",
       "      <td>red</td>\n",
       "    </tr>\n",
       "  </tbody>\n",
       "</table>\n",
       "</div>"
      ],
      "text/plain": [
       "   fixed acidity  volatile acidity  citric acid  residual sugar  chlorides  \\\n",
       "0            7.4              0.70         0.00             1.9      0.076   \n",
       "1            7.8              0.88         0.00             2.6      0.098   \n",
       "2            7.8              0.76         0.04             2.3      0.092   \n",
       "3           11.2              0.28         0.56             1.9      0.075   \n",
       "4            7.4              0.70         0.00             1.9      0.076   \n",
       "\n",
       "   free sulfur dioxide  total sulfur dioxide  density    pH  sulphates  \\\n",
       "0                 11.0                  34.0   0.9978  3.51       0.56   \n",
       "1                 25.0                  67.0   0.9968  3.20       0.68   \n",
       "2                 15.0                  54.0   0.9970  3.26       0.65   \n",
       "3                 17.0                  60.0   0.9980  3.16       0.58   \n",
       "4                 11.0                  34.0   0.9978  3.51       0.56   \n",
       "\n",
       "   alcohol  quality color  \n",
       "0      9.4        5   red  \n",
       "1      9.8        5   red  \n",
       "2      9.8        5   red  \n",
       "3      9.8        6   red  \n",
       "4      9.4        5   red  "
      ]
     },
     "execution_count": 2,
     "metadata": {},
     "output_type": "execute_result"
    }
   ],
   "source": [
    "# Import des bases sur le vin\n",
    "reds = pd.read_csv('winequality-red.csv',sep=\";\")\n",
    "reds[\"color\"]='red'\n",
    "whites = pd.read_csv('winequality-white.csv', sep=\";\")\n",
    "whites[\"color\"] = 'white'\n",
    "wines = pd.concat([reds,whites],axis=0)\n",
    "wines.reset_index(drop=True, inplace=True)\n",
    "wines.head()"
   ]
  },
  {
   "cell_type": "code",
   "execution_count": 3,
   "metadata": {},
   "outputs": [],
   "source": [
    "# Matrice X et vecteur y : on va essayer de prédire la qualité d'un vin\n",
    "X = wines.drop(['quality', 'color'], axis=1)\n",
    "y = wines['quality']"
   ]
  },
  {
   "cell_type": "code",
   "execution_count": 4,
   "metadata": {},
   "outputs": [
    {
     "data": {
      "image/png": "[encoded data removed]",
      "text/plain": [
       "<Figure size 1152x864 with 11 Axes>"
      ]
     },
     "metadata": {
      "needs_background": "light"
     },
     "output_type": "display_data"
    }
   ],
   "source": [
    "# Affichage des histogrammes des variables\n",
    "fig = plt.figure(figsize=(16, 12))\n",
    "for i in range(X.shape[1]):\n",
    "    ax = fig.add_subplot(3,4, (i+1))\n",
    "    ax.hist(X.iloc[:, i], bins=50, color='steelblue', density=True, edgecolor='none')\n",
    "    ax.set_title(wines.columns[i], fontsize=14)"
   ]
  },
  {
   "cell_type": "markdown",
   "metadata": {},
   "source": [
    "On va discrétiser la variable Y pour avoir un problème de classification : les vins classés \"bons\", \"biens\" et ceux classés \"bofs\"."
   ]
  },
  {
   "cell_type": "code",
   "execution_count": 5,
   "metadata": {},
   "outputs": [
    {
     "data": {
      "image/png": "[encoded data removed]",
      "text/plain": [
       "<Figure size 432x288 with 1 Axes>"
      ]
     },
     "metadata": {
      "needs_background": "light"
     },
     "output_type": "display_data"
    }
   ],
   "source": [
    "vals = wines[\"quality\"].value_counts()\n",
    "vals\n",
    "plt.bar(vals.index,vals);"
   ]
  },
  {
   "cell_type": "markdown",
   "metadata": {},
   "source": [
    "Vu la répartition, on va faire 3 classes :\n",
    "- bons : notes 7, 8 et 9\n",
    "- biens : note 6\n",
    "- bofs : notes 3, 4 et 5"
   ]
  },
  {
   "cell_type": "code",
   "execution_count": 6,
   "metadata": {},
   "outputs": [
    {
     "name": "stdout",
     "output_type": "stream",
     "text": [
      "0 2384\n",
      "1 2836\n",
      "2 1277\n"
     ]
    }
   ],
   "source": [
    "y_class = np.where(y==6,1,0)\n",
    "y_class[np.where(y>6)] = 2\n",
    "\n",
    "for k in range(3):\n",
    "    print(k , (y_class==k).sum())\n"
   ]
  },
  {
   "cell_type": "code",
   "execution_count": 7,
   "metadata": {},
   "outputs": [],
   "source": [
    "#Train/test sets\n",
    "from sklearn.model_selection import train_test_split\n",
    "X_train, X_test, y_train, y_test = train_test_split(X, y_class,test_size=0.3)"
   ]
  },
  {
   "cell_type": "code",
   "execution_count": 8,
   "metadata": {},
   "outputs": [],
   "source": [
    "# Standardisation\n",
    "from sklearn.preprocessing import StandardScaler\n",
    "sc = StandardScaler()\n",
    "X_train = sc.fit_transform(X_train)\n",
    "X_test = sc.transform(X_test)"
   ]
  },
  {
   "cell_type": "code",
   "execution_count": 9,
   "metadata": {},
   "outputs": [
    {
     "data": {
      "text/plain": [
       "{'mean_fit_time': array([0.00337238, 0.00277324, 0.00296512, 0.00308232, 0.00325403,\n",
       "        0.00314922, 0.00297341, 0.00294523, 0.00312719, 0.00323648,\n",
       "        0.00291939, 0.00339751, 0.00316048, 0.00300641, 0.0032371 ,\n",
       "        0.00293684, 0.00292044, 0.00312667, 0.00290437, 0.00305738,\n",
       "        0.00314264]),\n",
       " 'std_fit_time': array([1.09080690e-03, 4.56017901e-05, 2.97917027e-04, 2.15201285e-04,\n",
       "        4.49199398e-04, 1.77783182e-04, 2.22117873e-04, 1.54085514e-04,\n",
       "        3.31911361e-04, 3.88994898e-04, 1.23030770e-04, 4.75972474e-04,\n",
       "        3.72094064e-04, 2.85147919e-04, 2.48457080e-04, 1.26807758e-04,\n",
       "        1.24995419e-04, 4.06563687e-04, 7.88813769e-05, 2.56272252e-04,\n",
       "        3.62328736e-04]),\n",
       " 'mean_score_time': array([0.04446101, 0.02934241, 0.13258533, 0.05575213, 0.04652667,\n",
       "        0.18826861, 0.05824003, 0.03898325, 0.2054635 , 0.06214337,\n",
       "        0.04132023, 0.21585317, 0.06144543, 0.04203219, 0.23793464,\n",
       "        0.06265569, 0.04473062, 0.24362831, 0.06719599, 0.04720764,\n",
       "        0.25899558]),\n",
       " 'std_score_time': array([0.00382106, 0.00050613, 0.0091598 , 0.00262255, 0.00754812,\n",
       "        0.00714194, 0.00097459, 0.00077769, 0.00604997, 0.00356093,\n",
       "        0.00068106, 0.00633021, 0.00187584, 0.00075082, 0.02472519,\n",
       "        0.00195854, 0.00158317, 0.00384391, 0.00368014, 0.00105088,\n",
       "        0.00983319]),\n",
       " 'param_n_neighbors': masked_array(data=[1, 1, 1, 2, 2, 2, 3, 3, 3, 4, 4, 4, 5, 5, 5, 6, 6, 6,\n",
       "                    7, 7, 7],\n",
       "              mask=[False, False, False, False, False, False, False, False,\n",
       "                    False, False, False, False, False, False, False, False,\n",
       "                    False, False, False, False, False],\n",
       "        fill_value='?',\n",
       "             dtype=object),\n",
       " 'param_p': masked_array(data=[1, 2, 3, 1, 2, 3, 1, 2, 3, 1, 2, 3, 1, 2, 3, 1, 2, 3,\n",
       "                    1, 2, 3],\n",
       "              mask=[False, False, False, False, False, False, False, False,\n",
       "                    False, False, False, False, False, False, False, False,\n",
       "                    False, False, False, False, False],\n",
       "        fill_value='?',\n",
       "             dtype=object),\n",
       " 'params': [{'n_neighbors': 1, 'p': 1},\n",
       "  {'n_neighbors': 1, 'p': 2},\n",
       "  {'n_neighbors': 1, 'p': 3},\n",
       "  {'n_neighbors': 2, 'p': 1},\n",
       "  {'n_neighbors': 2, 'p': 2},\n",
       "  {'n_neighbors': 2, 'p': 3},\n",
       "  {'n_neighbors': 3, 'p': 1},\n",
       "  {'n_neighbors': 3, 'p': 2},\n",
       "  {'n_neighbors': 3, 'p': 3},\n",
       "  {'n_neighbors': 4, 'p': 1},\n",
       "  {'n_neighbors': 4, 'p': 2},\n",
       "  {'n_neighbors': 4, 'p': 3},\n",
       "  {'n_neighbors': 5, 'p': 1},\n",
       "  {'n_neighbors': 5, 'p': 2},\n",
       "  {'n_neighbors': 5, 'p': 3},\n",
       "  {'n_neighbors': 6, 'p': 1},\n",
       "  {'n_neighbors': 6, 'p': 2},\n",
       "  {'n_neighbors': 6, 'p': 3},\n",
       "  {'n_neighbors': 7, 'p': 1},\n",
       "  {'n_neighbors': 7, 'p': 2},\n",
       "  {'n_neighbors': 7, 'p': 3}],\n",
       " 'split0_test_score': array([0.64615385, 0.62747253, 0.62857143, 0.6021978 , 0.5967033 ,\n",
       "        0.5956044 , 0.60659341, 0.61098901, 0.61318681, 0.6021978 ,\n",
       "        0.60989011, 0.61648352, 0.5956044 , 0.60879121, 0.61868132,\n",
       "        0.5956044 , 0.5989011 , 0.61428571, 0.58681319, 0.58681319,\n",
       "        0.6043956 ]),\n",
       " 'split1_test_score': array([0.63186813, 0.61538462, 0.61978022, 0.5967033 , 0.5956044 ,\n",
       "        0.5956044 , 0.56923077, 0.58131868, 0.58461538, 0.59450549,\n",
       "        0.59230769, 0.5956044 , 0.58131868, 0.57802198, 0.57912088,\n",
       "        0.58681319, 0.6021978 , 0.58681319, 0.58461538, 0.56923077,\n",
       "        0.56923077]),\n",
       " 'split2_test_score': array([0.64576458, 0.62266227, 0.63146315, 0.60616062, 0.59075908,\n",
       "        0.58855886, 0.57755776, 0.5709571 , 0.57645765, 0.62376238,\n",
       "        0.60506051, 0.59735974, 0.58635864, 0.58635864, 0.58085809,\n",
       "        0.58635864, 0.58415842, 0.58415842, 0.58855886, 0.60066007,\n",
       "        0.59405941]),\n",
       " 'split3_test_score': array([0.64026403, 0.6259626 , 0.62376238, 0.59405941, 0.59515952,\n",
       "        0.60066007, 0.59185919, 0.60286029, 0.58745875, 0.57425743,\n",
       "        0.59625963, 0.60176018, 0.57645765, 0.58635864, 0.59405941,\n",
       "        0.56985699, 0.58525853, 0.59185919, 0.57205721, 0.58415842,\n",
       "        0.59075908]),\n",
       " 'split4_test_score': array([0.6479648 , 0.65676568, 0.64356436, 0.61386139, 0.62486249,\n",
       "        0.61276128, 0.61056106, 0.60726073, 0.60176018, 0.62376238,\n",
       "        0.63256326, 0.61166117, 0.61606161, 0.6259626 , 0.60946095,\n",
       "        0.63916392, 0.62486249, 0.61386139, 0.63256326, 0.62706271,\n",
       "        0.60946095]),\n",
       " 'mean_test_score': array([0.64240308, 0.62964954, 0.62942831, 0.6025965 , 0.60061775,\n",
       "        0.5986378 , 0.59116043, 0.59467716, 0.59269575, 0.60369709,\n",
       "        0.60721624, 0.6045738 , 0.59116019, 0.59709861, 0.59643613,\n",
       "        0.59555942, 0.59907567, 0.59819558, 0.59292158, 0.59358503,\n",
       "        0.59358116]),\n",
       " 'std_test_score': array([0.00586279, 0.01418399, 0.0081227 , 0.0070338 , 0.01229024,\n",
       "        0.00804426, 0.0160062 , 0.01570017, 0.01310299, 0.01875451,\n",
       "        0.01411793, 0.00815453, 0.01397073, 0.01768875, 0.01557329,\n",
       "        0.02333718, 0.01475246, 0.01319894, 0.02065005, 0.01948671,\n",
       "        0.01393021]),\n",
       " 'rank_test_score': array([ 1,  2,  3,  7,  8, 10, 20, 15, 19,  6,  4,  5, 21, 12, 13, 14,  9,\n",
       "        11, 18, 16, 17], dtype=int32)}"
      ]
     },
     "execution_count": 9,
     "metadata": {},
     "output_type": "execute_result"
    }
   ],
   "source": [
    "from sklearn.model_selection import GridSearchCV\n",
    "from sklearn.neighbors import KNeighborsClassifier\n",
    "\n",
    "# Fixer les valeurs des hyperparamètres à tester\n",
    "param_grid = {'n_neighbors': list(range(1,8)), 'p':[1,2,3]}\n",
    "\n",
    "\n",
    "# GridSearchCV : création de modèle avec recherche d'hyperparamètre par validation croisée\n",
    "knn = GridSearchCV(KNeighborsClassifier(), param_grid, cv=5, scoring='accuracy')\n",
    "knn.fit(X_train, y_train)\n",
    "\n",
    "knn.cv_results_"
   ]
  },
  {
   "cell_type": "code",
   "execution_count": 10,
   "metadata": {},
   "outputs": [
    {
     "name": "stdout",
     "output_type": "stream",
     "text": [
      "Meilleur(s) hyperparamètre(s) sur le jeu d'entraînement:\n",
      "{'n_neighbors': 1, 'p': 1}\n",
      "Résultats de la validation croisée :\n",
      "'accuracy' = 0.642 (+/-0.012) for {'n_neighbors': 1, 'p': 1}\n",
      "'accuracy' = 0.630 (+/-0.028) for {'n_neighbors': 1, 'p': 2}\n",
      "'accuracy' = 0.629 (+/-0.016) for {'n_neighbors': 1, 'p': 3}\n",
      "'accuracy' = 0.603 (+/-0.014) for {'n_neighbors': 2, 'p': 1}\n",
      "'accuracy' = 0.601 (+/-0.025) for {'n_neighbors': 2, 'p': 2}\n",
      "'accuracy' = 0.599 (+/-0.016) for {'n_neighbors': 2, 'p': 3}\n",
      "'accuracy' = 0.591 (+/-0.032) for {'n_neighbors': 3, 'p': 1}\n",
      "'accuracy' = 0.595 (+/-0.031) for {'n_neighbors': 3, 'p': 2}\n",
      "'accuracy' = 0.593 (+/-0.026) for {'n_neighbors': 3, 'p': 3}\n",
      "'accuracy' = 0.604 (+/-0.038) for {'n_neighbors': 4, 'p': 1}\n",
      "'accuracy' = 0.607 (+/-0.028) for {'n_neighbors': 4, 'p': 2}\n",
      "'accuracy' = 0.605 (+/-0.016) for {'n_neighbors': 4, 'p': 3}\n",
      "'accuracy' = 0.591 (+/-0.028) for {'n_neighbors': 5, 'p': 1}\n",
      "'accuracy' = 0.597 (+/-0.035) for {'n_neighbors': 5, 'p': 2}\n",
      "'accuracy' = 0.596 (+/-0.031) for {'n_neighbors': 5, 'p': 3}\n",
      "'accuracy' = 0.596 (+/-0.047) for {'n_neighbors': 6, 'p': 1}\n",
      "'accuracy' = 0.599 (+/-0.030) for {'n_neighbors': 6, 'p': 2}\n",
      "'accuracy' = 0.598 (+/-0.026) for {'n_neighbors': 6, 'p': 3}\n",
      "'accuracy' = 0.593 (+/-0.041) for {'n_neighbors': 7, 'p': 1}\n",
      "'accuracy' = 0.594 (+/-0.039) for {'n_neighbors': 7, 'p': 2}\n",
      "'accuracy' = 0.594 (+/-0.028) for {'n_neighbors': 7, 'p': 3}\n"
     ]
    }
   ],
   "source": [
    "# Afficher le(s) hyperparamètre(s) optimaux\n",
    "print(\"Meilleur(s) hyperparamètre(s) sur le jeu d'entraînement:\")\n",
    "print(knn.best_params_)\n",
    "\n",
    "# Afficher les performances correspondantes\n",
    "print(\"Résultats de la validation croisée :\")\n",
    "for mean, std, params in zip(\n",
    "        knn.cv_results_['mean_test_score'], # score moyen\n",
    "        knn.cv_results_['std_test_score'],  # écart-type du score\n",
    "        knn.cv_results_['params']           # valeur de l'hyperparamètre\n",
    "    ):\n",
    "\n",
    "    print(\"'accuracy' = {:.3f} (+/-{:.03f}) for {}\".format(mean,std*2,params))"
   ]
  },
  {
   "cell_type": "code",
   "execution_count": 11,
   "metadata": {},
   "outputs": [
    {
     "data": {
      "text/plain": [
       "KNeighborsClassifier(n_neighbors=1, p=1)"
      ]
     },
     "execution_count": 11,
     "metadata": {},
     "output_type": "execute_result"
    }
   ],
   "source": [
    "knn.best_estimator_"
   ]
  },
  {
   "cell_type": "code",
   "execution_count": 12,
   "metadata": {},
   "outputs": [
    {
     "name": "stdout",
     "output_type": "stream",
     "text": [
      "\n",
      "Sur le jeu de test : 0.656\n"
     ]
    }
   ],
   "source": [
    "y_pred = knn.predict(X_test)\n",
    "\n",
    "from sklearn.metrics import accuracy_score\n",
    "print(\"\\nSur le jeu de test : {:.3f}\".format(accuracy_score(y_test, y_pred)))"
   ]
  },
  {
   "cell_type": "code",
   "execution_count": null,
   "metadata": {},
   "outputs": [],
   "source": []
  }
 ],
 "metadata": {
  "kernelspec": {
   "display_name": "Python 3",
   "language": "python",
   "name": "python3"
  },
  "language_info": {
   "codemirror_mode": {
    "name": "ipython",
    "version": 3
   },
   "file_extension": ".py",
   "mimetype": "text/x-python",
   "name": "python",
   "nbconvert_exporter": "python",
   "pygments_lexer": "ipython3",
   "version": "3.8.12"
  }
 },
 "nbformat": 4,
 "nbformat_minor": 4
}
