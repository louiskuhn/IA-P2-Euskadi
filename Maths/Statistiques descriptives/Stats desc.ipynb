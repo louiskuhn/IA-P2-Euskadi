{
 "cells": [
  {
   "cell_type": "markdown",
   "id": "95f3f17e",
   "metadata": {},
   "source": [
    "# Principales statistiques descriptives"
   ]
  },
  {
   "cell_type": "markdown",
   "id": "dd27fcdb",
   "metadata": {},
   "source": [
    "On va récupérer le fichier `world-alcohol.csv` dans `Python/1. Analyse de données/Data`"
   ]
  },
  {
   "cell_type": "code",
   "execution_count": 5,
   "id": "909175ab",
   "metadata": {},
   "outputs": [
    {
     "name": "stdout",
     "output_type": "stream",
     "text": [
      "/home/elka/IA-P2-Euskadi/Maths/Statistiques descriptives\r\n"
     ]
    }
   ],
   "source": [
    "!pwd"
   ]
  },
  {
   "cell_type": "code",
   "execution_count": 7,
   "id": "0f63f4dd",
   "metadata": {},
   "outputs": [
    {
     "data": {
      "text/plain": [
       "array([['1986', 'Western Pacific', 'Viet Nam', 'Wine', '0'],\n",
       "       ['1986', 'Americas', 'Uruguay', 'Other', '0.5'],\n",
       "       ['1985', 'Africa', \"Cte d'Ivoire\", 'Wine', '1.62'],\n",
       "       ['1986', 'Americas', 'Colombia', 'Beer', '4.27'],\n",
       "       ['1987', 'Americas', 'Saint Kitts and Nevis', 'Beer', '1.98'],\n",
       "       ['1987', 'Americas', 'Guatemala', 'Other', '0'],\n",
       "       ['1987', 'Africa', 'Mauritius', 'Wine', '0.13'],\n",
       "       ['1985', 'Africa', 'Angola', 'Spirits', '0.39']], dtype='<U75')"
      ]
     },
     "execution_count": 7,
     "metadata": {},
     "output_type": "execute_result"
    }
   ],
   "source": [
    "import numpy as np\n",
    "data = np.genfromtxt('../../Python/1. Analyse de données/Data/world-alcohol.csv', delimiter=',', dtype='U75', skip_header=1)\n",
    "data[:8,:]"
   ]
  },
  {
   "cell_type": "code",
   "execution_count": 8,
   "id": "66a5be38",
   "metadata": {},
   "outputs": [
    {
     "data": {
      "text/plain": [
       "(3257, 5)"
      ]
     },
     "execution_count": 8,
     "metadata": {},
     "output_type": "execute_result"
    }
   ],
   "source": [
    "data.shape"
   ]
  },
  {
   "cell_type": "markdown",
   "id": "bcee68b2",
   "metadata": {},
   "source": [
    "## 1. Variables quantitatives\n",
    "\n",
    "On va regarder les variables quantitatives : ici, c'est la consommation."
   ]
  },
  {
   "cell_type": "markdown",
   "id": "2cc13694",
   "metadata": {},
   "source": [
    "### 1.1 Valeurs manquantes"
   ]
  },
  {
   "cell_type": "code",
   "execution_count": 15,
   "id": "9471d26c",
   "metadata": {},
   "outputs": [
    {
     "data": {
      "text/plain": [
       "222"
      ]
     },
     "execution_count": 15,
     "metadata": {},
     "output_type": "execute_result"
    }
   ],
   "source": [
    "# nombre de valeurs manquantes\n",
    "filtre_na = data[:,-1]==''\n",
    "filtre_na.sum()"
   ]
  },
  {
   "cell_type": "code",
   "execution_count": 16,
   "id": "9943d469",
   "metadata": {},
   "outputs": [
    {
     "data": {
      "text/plain": [
       "0.06816088424930918"
      ]
     },
     "execution_count": 16,
     "metadata": {},
     "output_type": "execute_result"
    }
   ],
   "source": [
    "222/3257"
   ]
  },
  {
   "cell_type": "code",
   "execution_count": 21,
   "id": "403ab87a",
   "metadata": {},
   "outputs": [
    {
     "data": {
      "text/plain": [
       "(3035, 5)"
      ]
     },
     "execution_count": 21,
     "metadata": {},
     "output_type": "execute_result"
    }
   ],
   "source": [
    "# pour l'instant on va supprimer les lignes correspondantes\n",
    "data2 = data[~filtre_na]\n",
    "data2.shape"
   ]
  },
  {
   "cell_type": "code",
   "execution_count": 26,
   "id": "348f0d6c",
   "metadata": {},
   "outputs": [
    {
     "data": {
      "text/plain": [
       "array([0.  , 0.5 , 1.62, ..., 2.54, 0.  , 5.15])"
      ]
     },
     "execution_count": 26,
     "metadata": {},
     "output_type": "execute_result"
    }
   ],
   "source": [
    "# récupération et conversion de la consommation\n",
    "consommation = data2[:,-1].astype(float)\n",
    "consommation"
   ]
  },
  {
   "cell_type": "markdown",
   "id": "79e18489",
   "metadata": {},
   "source": [
    "### 1.2 Moyenne"
   ]
  },
  {
   "cell_type": "code",
   "execution_count": 27,
   "id": "349377b4",
   "metadata": {},
   "outputs": [
    {
     "data": {
      "text/plain": [
       "1.2879604612850082"
      ]
     },
     "execution_count": 27,
     "metadata": {},
     "output_type": "execute_result"
    }
   ],
   "source": [
    "consommation.mean()"
   ]
  },
  {
   "cell_type": "code",
   "execution_count": 28,
   "id": "8d578888",
   "metadata": {},
   "outputs": [
    {
     "data": {
      "text/plain": [
       "1.2879604612850082"
      ]
     },
     "execution_count": 28,
     "metadata": {},
     "output_type": "execute_result"
    }
   ],
   "source": [
    "np.mean(consommation)"
   ]
  },
  {
   "cell_type": "code",
   "execution_count": 29,
   "id": "e92af609",
   "metadata": {},
   "outputs": [
    {
     "data": {
      "text/plain": [
       "1.2879604612850082"
      ]
     },
     "execution_count": 29,
     "metadata": {},
     "output_type": "execute_result"
    }
   ],
   "source": [
    "np.average(consommation)"
   ]
  },
  {
   "cell_type": "code",
   "execution_count": 30,
   "id": "c3c06829",
   "metadata": {},
   "outputs": [
    {
     "data": {
      "text/plain": [
       "['T',\n",
       " '__abs__',\n",
       " '__add__',\n",
       " '__and__',\n",
       " '__array__',\n",
       " '__array_finalize__',\n",
       " '__array_function__',\n",
       " '__array_interface__',\n",
       " '__array_prepare__',\n",
       " '__array_priority__',\n",
       " '__array_struct__',\n",
       " '__array_ufunc__',\n",
       " '__array_wrap__',\n",
       " '__bool__',\n",
       " '__class__',\n",
       " '__complex__',\n",
       " '__contains__',\n",
       " '__copy__',\n",
       " '__deepcopy__',\n",
       " '__delattr__',\n",
       " '__delitem__',\n",
       " '__dir__',\n",
       " '__divmod__',\n",
       " '__doc__',\n",
       " '__eq__',\n",
       " '__float__',\n",
       " '__floordiv__',\n",
       " '__format__',\n",
       " '__ge__',\n",
       " '__getattribute__',\n",
       " '__getitem__',\n",
       " '__gt__',\n",
       " '__hash__',\n",
       " '__iadd__',\n",
       " '__iand__',\n",
       " '__ifloordiv__',\n",
       " '__ilshift__',\n",
       " '__imatmul__',\n",
       " '__imod__',\n",
       " '__imul__',\n",
       " '__index__',\n",
       " '__init__',\n",
       " '__init_subclass__',\n",
       " '__int__',\n",
       " '__invert__',\n",
       " '__ior__',\n",
       " '__ipow__',\n",
       " '__irshift__',\n",
       " '__isub__',\n",
       " '__iter__',\n",
       " '__itruediv__',\n",
       " '__ixor__',\n",
       " '__le__',\n",
       " '__len__',\n",
       " '__lshift__',\n",
       " '__lt__',\n",
       " '__matmul__',\n",
       " '__mod__',\n",
       " '__mul__',\n",
       " '__ne__',\n",
       " '__neg__',\n",
       " '__new__',\n",
       " '__or__',\n",
       " '__pos__',\n",
       " '__pow__',\n",
       " '__radd__',\n",
       " '__rand__',\n",
       " '__rdivmod__',\n",
       " '__reduce__',\n",
       " '__reduce_ex__',\n",
       " '__repr__',\n",
       " '__rfloordiv__',\n",
       " '__rlshift__',\n",
       " '__rmatmul__',\n",
       " '__rmod__',\n",
       " '__rmul__',\n",
       " '__ror__',\n",
       " '__rpow__',\n",
       " '__rrshift__',\n",
       " '__rshift__',\n",
       " '__rsub__',\n",
       " '__rtruediv__',\n",
       " '__rxor__',\n",
       " '__setattr__',\n",
       " '__setitem__',\n",
       " '__setstate__',\n",
       " '__sizeof__',\n",
       " '__str__',\n",
       " '__sub__',\n",
       " '__subclasshook__',\n",
       " '__truediv__',\n",
       " '__xor__',\n",
       " 'all',\n",
       " 'any',\n",
       " 'argmax',\n",
       " 'argmin',\n",
       " 'argpartition',\n",
       " 'argsort',\n",
       " 'astype',\n",
       " 'base',\n",
       " 'byteswap',\n",
       " 'choose',\n",
       " 'clip',\n",
       " 'compress',\n",
       " 'conj',\n",
       " 'conjugate',\n",
       " 'copy',\n",
       " 'ctypes',\n",
       " 'cumprod',\n",
       " 'cumsum',\n",
       " 'data',\n",
       " 'diagonal',\n",
       " 'dot',\n",
       " 'dtype',\n",
       " 'dump',\n",
       " 'dumps',\n",
       " 'fill',\n",
       " 'flags',\n",
       " 'flat',\n",
       " 'flatten',\n",
       " 'getfield',\n",
       " 'imag',\n",
       " 'item',\n",
       " 'itemset',\n",
       " 'itemsize',\n",
       " 'max',\n",
       " 'mean',\n",
       " 'min',\n",
       " 'nbytes',\n",
       " 'ndim',\n",
       " 'newbyteorder',\n",
       " 'nonzero',\n",
       " 'partition',\n",
       " 'prod',\n",
       " 'ptp',\n",
       " 'put',\n",
       " 'ravel',\n",
       " 'real',\n",
       " 'repeat',\n",
       " 'reshape',\n",
       " 'resize',\n",
       " 'round',\n",
       " 'searchsorted',\n",
       " 'setfield',\n",
       " 'setflags',\n",
       " 'shape',\n",
       " 'size',\n",
       " 'sort',\n",
       " 'squeeze',\n",
       " 'std',\n",
       " 'strides',\n",
       " 'sum',\n",
       " 'swapaxes',\n",
       " 'take',\n",
       " 'tobytes',\n",
       " 'tofile',\n",
       " 'tolist',\n",
       " 'tostring',\n",
       " 'trace',\n",
       " 'transpose',\n",
       " 'var',\n",
       " 'view']"
      ]
     },
     "execution_count": 30,
     "metadata": {},
     "output_type": "execute_result"
    }
   ],
   "source": [
    "# pour lister les méthodes d'un objet\n",
    "dir(consommation)"
   ]
  },
  {
   "cell_type": "markdown",
   "id": "4fc0cc71",
   "metadata": {},
   "source": [
    "### 1.3 Médiane"
   ]
  },
  {
   "cell_type": "code",
   "execution_count": 31,
   "id": "05fa3b16",
   "metadata": {},
   "outputs": [
    {
     "data": {
      "text/plain": [
       "0.31"
      ]
     },
     "execution_count": 31,
     "metadata": {},
     "output_type": "execute_result"
    }
   ],
   "source": [
    "np.median(consommation)"
   ]
  },
  {
   "cell_type": "markdown",
   "id": "7a94635c",
   "metadata": {},
   "source": [
    "### 1.4 Maximum et minimum"
   ]
  },
  {
   "cell_type": "code",
   "execution_count": 33,
   "id": "3caf28bf",
   "metadata": {},
   "outputs": [
    {
     "name": "stdout",
     "output_type": "stream",
     "text": [
      "13.5  et  0.0\n"
     ]
    }
   ],
   "source": [
    "print(consommation.max(), ' et ', consommation.min())"
   ]
  },
  {
   "cell_type": "markdown",
   "id": "2736ba44",
   "metadata": {},
   "source": [
    "### 1.5 Mode"
   ]
  },
  {
   "cell_type": "code",
   "execution_count": 34,
   "id": "59b3b61d",
   "metadata": {},
   "outputs": [],
   "source": [
    "# import de la librairie stats\n",
    "import scipy.stats as stat"
   ]
  },
  {
   "cell_type": "code",
   "execution_count": 35,
   "id": "ece4781f",
   "metadata": {},
   "outputs": [
    {
     "data": {
      "text/plain": [
       "ModeResult(mode=array([0.]), count=array([713]))"
      ]
     },
     "execution_count": 35,
     "metadata": {},
     "output_type": "execute_result"
    }
   ],
   "source": [
    "stat.mode(consommation)"
   ]
  },
  {
   "cell_type": "code",
   "execution_count": 36,
   "id": "e332d2d6",
   "metadata": {},
   "outputs": [
    {
     "data": {
      "text/plain": [
       "ModeResult(mode=array([0.01]), count=array([163]))"
      ]
     },
     "execution_count": 36,
     "metadata": {},
     "output_type": "execute_result"
    }
   ],
   "source": [
    "filtre = consommation>0\n",
    "conso2 = consommation[filtre]\n",
    "stat.mode(conso2)"
   ]
  },
  {
   "cell_type": "markdown",
   "id": "856d8ec0",
   "metadata": {},
   "source": [
    "### 1.6 Statistiques de dispersion"
   ]
  },
  {
   "cell_type": "code",
   "execution_count": 49,
   "id": "ce5e2ad5",
   "metadata": {
    "scrolled": true
   },
   "outputs": [
    {
     "data": {
      "image/png": "[encoded data removed]",
      "text/plain": [
       "<Figure size 432x288 with 3 Axes>"
      ]
     },
     "metadata": {
      "needs_background": "light"
     },
     "output_type": "display_data"
    }
   ],
   "source": [
    "# illustration de la dispersion\n",
    "import matplotlib.pyplot as plt\n",
    "fig, ax = plt.subplots(3, 1, sharex=True)\n",
    "ax[0].hist(np.random.normal(0,1,8000), bins=80)\n",
    "ax[1].hist(np.random.normal(0,2,8000), bins=80)\n",
    "ax[2].hist(np.random.normal(0,0.5,8000), bins=80);"
   ]
  },
  {
   "cell_type": "code",
   "execution_count": 50,
   "id": "7ce3f5c7",
   "metadata": {},
   "outputs": [
    {
     "data": {
      "text/plain": [
       "1.9637479274729108"
      ]
     },
     "execution_count": 50,
     "metadata": {},
     "output_type": "execute_result"
    }
   ],
   "source": [
    "np.std(consommation)"
   ]
  },
  {
   "cell_type": "code",
   "execution_count": 51,
   "id": "2291a1bb",
   "metadata": {},
   "outputs": [
    {
     "data": {
      "text/plain": [
       "3.8563059226541525"
      ]
     },
     "execution_count": 51,
     "metadata": {},
     "output_type": "execute_result"
    }
   ],
   "source": [
    "np.var(consommation)"
   ]
  },
  {
   "cell_type": "code",
   "execution_count": 52,
   "id": "435ab591",
   "metadata": {},
   "outputs": [
    {
     "data": {
      "text/plain": [
       "0.0"
      ]
     },
     "execution_count": 52,
     "metadata": {},
     "output_type": "execute_result"
    }
   ],
   "source": [
    "np.var(consommation) - np.std(consommation)**2"
   ]
  },
  {
   "cell_type": "markdown",
   "id": "290992c5",
   "metadata": {},
   "source": [
    "### 1.7 Quantiles"
   ]
  },
  {
   "cell_type": "code",
   "execution_count": null,
   "id": "7b4140d1",
   "metadata": {},
   "outputs": [],
   "source": [
    "# médiane\n",
    "np.quantile(consommation, 0.5)"
   ]
  },
  {
   "cell_type": "code",
   "execution_count": 55,
   "id": "f3411b72",
   "metadata": {},
   "outputs": [
    {
     "data": {
      "text/plain": [
       "array([0.01, 0.31, 1.89])"
      ]
     },
     "execution_count": 55,
     "metadata": {},
     "output_type": "execute_result"
    }
   ],
   "source": [
    "# quartile\n",
    "np.quantile(consommation, [0.25,0.5,0.75])"
   ]
  },
  {
   "cell_type": "code",
   "execution_count": 65,
   "id": "2b80e301",
   "metadata": {},
   "outputs": [
    {
     "data": {
      "text/plain": [
       "array([0.01, 0.31, 1.89])"
      ]
     },
     "execution_count": 65,
     "metadata": {},
     "output_type": "execute_result"
    }
   ],
   "source": [
    "#ou\n",
    "np.percentile(consommation, [25, 50, 75])"
   ]
  },
  {
   "cell_type": "code",
   "execution_count": 60,
   "id": "686f263e",
   "metadata": {},
   "outputs": [
    {
     "data": {
      "text/plain": [
       "array([0.   , 0.   , 0.02 , 0.106, 0.31 , 0.81 , 1.508, 2.32 , 3.762])"
      ]
     },
     "execution_count": 60,
     "metadata": {},
     "output_type": "execute_result"
    }
   ],
   "source": [
    "# déciles\n",
    "np.quantile(consommation, np.linspace(0.1,0.9,9))"
   ]
  },
  {
   "cell_type": "code",
   "execution_count": 61,
   "id": "c3eca76b",
   "metadata": {},
   "outputs": [
    {
     "data": {
      "text/plain": [
       "array([0.    , 0.    , 0.    , 0.    , 0.    , 0.    , 0.    , 0.    ,\n",
       "       0.    , 0.    , 0.    , 0.    , 0.    , 0.    , 0.    , 0.    ,\n",
       "       0.    , 0.    , 0.    , 0.    , 0.    , 0.    , 0.    , 0.01  ,\n",
       "       0.01  , 0.01  , 0.01  , 0.01  , 0.02  , 0.02  , 0.02  , 0.03  ,\n",
       "       0.04  , 0.04  , 0.05  , 0.06  , 0.07  , 0.08  , 0.09  , 0.106 ,\n",
       "       0.12  , 0.13  , 0.14  , 0.16  , 0.183 , 0.2   , 0.24  , 0.26  ,\n",
       "       0.28  , 0.31  , 0.34  , 0.37  , 0.4102, 0.46  , 0.5   , 0.56  ,\n",
       "       0.6   , 0.65  , 0.74  , 0.81  , 0.86  , 0.92  , 0.9742, 1.02  ,\n",
       "       1.12  , 1.19  , 1.2678, 1.34  , 1.4246, 1.508 , 1.61  , 1.67  ,\n",
       "       1.74  , 1.8   , 1.89  , 1.95  , 2.04  , 2.1252, 2.22  , 2.32  ,\n",
       "       2.43  , 2.5588, 2.65  , 2.7756, 2.91  , 3.0324, 3.15  , 3.3692,\n",
       "       3.5926, 3.762 , 4.1294, 4.3828, 4.8062, 5.2088, 5.735 , 6.54  ,\n",
       "       6.9998, 7.5   , 8.3498])"
      ]
     },
     "execution_count": 61,
     "metadata": {},
     "output_type": "execute_result"
    }
   ],
   "source": [
    "# percentiles\n",
    "np.quantile(consommation, np.linspace(0.01,0.99,99))"
   ]
  },
  {
   "cell_type": "code",
   "execution_count": 63,
   "id": "156f3b81",
   "metadata": {},
   "outputs": [
    {
     "data": {
      "image/png": "[encoded data removed]",
      "text/plain": [
       "<Figure size 432x288 with 1 Axes>"
      ]
     },
     "metadata": {
      "needs_background": "light"
     },
     "output_type": "display_data"
    }
   ],
   "source": [
    "plt.hist(consommation, bins=50);"
   ]
  }
 ],
 "metadata": {
  "kernelspec": {
   "display_name": "Python 3.8.11 64-bit ('base': conda)",
   "language": "python",
   "name": "python3811jvsc74a57bd0addda3f63a324b7a38ec870d79a82ab21d33100c2675b6c03c06d4beeb089079"
  },
  "language_info": {
   "codemirror_mode": {
    "name": "ipython",
    "version": 3
   },
   "file_extension": ".py",
   "mimetype": "text/x-python",
   "name": "python",
   "nbconvert_exporter": "python",
   "pygments_lexer": "ipython3",
   "version": "3.8.11"
  }
 },
 "nbformat": 4,
 "nbformat_minor": 5
}
